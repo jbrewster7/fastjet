{
 "cells": [
  {
   "cell_type": "code",
   "execution_count": 1,
   "metadata": {},
   "outputs": [],
   "source": [
    "import os\n",
    "import tensorflow as tf\n",
    "from tensorflow import keras\n",
    "from keras import layers\n",
    "import keras.backend as K\n",
    "import math\n",
    "import numpy as np\n",
    "import glob\n",
    "import csv\n",
    "import sys\n",
    "import matplotlib.pyplot as plt\n",
    "sys.path.append('/home/jbrewster/start_tf/jess_python_scripts/python_scripts')\n",
    "from pnet_models_updated import pnet_part_seg_no_tnets, pnet_part_seg\n",
    "from numpy import genfromtxt"
   ]
  },
  {
   "cell_type": "code",
   "execution_count": 2,
   "metadata": {
    "tags": []
   },
   "outputs": [],
   "source": [
    "# set GPU\n",
    "os.environ['CUDA_VISIBLE_DEVICES'] = \"3\"\n",
    "\n",
    "# disable eager execution with tensorflow (since can't execute lambda functions with eager execution)\n",
    "from tensorflow.python.framework.ops import disable_eager_execution\n",
    "disable_eager_execution()"
   ]
  },
  {
   "cell_type": "code",
   "execution_count": 3,
   "metadata": {},
   "outputs": [],
   "source": [
    "# DATA AND OUTPUT DIRS\n",
    "data_dir = '/fast_scratch_1/jbrewster/dihiggs_ML' # parent directory that holds train, val, and test files\n",
    "train_data_dir = data_dir + '/train/'\n",
    "val_data_dir = data_dir + '/val/'\n",
    "test_data_dir = data_dir + '/test/'\n",
    "\n",
    "output_dir = '/fast_scratch_1/jbrewster/dihiggs_ML/results' # save model and predictions to this dir\n",
    "max_points_file = '/max_points.txt' # load the max number of points in a sample\n",
    "\n",
    "num_train_files = 14\n",
    "num_val_files = 2\n",
    "num_test_files = 4\n",
    "events_per_file = 6000 # approx number of samples in a file\n",
    "start_at_epoch = 0 # to load a pre trained model from this epoch\n",
    "\n",
    "num_feat = 4 # number of features\n",
    "num_classes = 3 # number of classes \n",
    "\n",
    "EPOCHS = 100\n",
    "BATCH_SIZE = 100 # as large as can be with GPU??\n",
    "LEARNING_RATE = 2e-4 # play with this\n",
    "# LEARNING_RATE = 30000000"
   ]
  },
  {
   "cell_type": "code",
   "execution_count": 4,
   "metadata": {},
   "outputs": [],
   "source": [
    "# DATA GENERATORS\n",
    "def batched_data_generator(file_names, batch_size, max_num_points, loop_infinite=True):\n",
    "    while True:\n",
    "        for file in file_names:\n",
    "            point_net_data = np.load(file)\n",
    "            event_data = point_net_data['X']\n",
    "            Y = point_net_data['Y']\n",
    "\n",
    "            # pad X and Y data to have y dimension of max_num_points\n",
    "            # X_padded = np.zeros((event_data.shape[0], max_num_points, event_data.shape[2])) # pad with zeros\n",
    "            # Y_padded = np.negative(np.ones(((event_data.shape[0], max_num_points, 1)))) # pad with -1s\n",
    "            X_padded = event_data\n",
    "            Y_padded = Y\n",
    "            \n",
    "            # for i, event in enumerate(event_data):                \n",
    "            #     X_padded[i, :len(event), :5] = event\n",
    "            #     Y_padded[i, :len(event), :] = Y[i]\n",
    "    \n",
    "            # split into batch_size groups of events\n",
    "            for i in range(1, math.ceil(event_data.shape[0]/batch_size)):\n",
    "                yield X_padded[(i-1)*batch_size:i*batch_size], Y_padded[(i-1)*batch_size:i*batch_size]\n",
    "\n",
    "        if not loop_infinite:\n",
    "            break"
   ]
  },
  {
   "cell_type": "code",
   "execution_count": 5,
   "metadata": {},
   "outputs": [],
   "source": [
    "# y_true = np.load(train_data_dir + 'dihiggs0.npz')['Y']\n",
    "# y_pred = y_true\n",
    "# masked_ce_pointwise_loss(y_true, y_pred).numpy()\n",
    "\n",
    "# np.load(train_data_dir + 'dihiggs2.npz')['X']"
   ]
  },
  {
   "cell_type": "code",
   "execution_count": 6,
   "metadata": {},
   "outputs": [],
   "source": [
    "# LOSS\n",
    "def masked_cce_pointwise_loss_jos(y_true, y_pred):\n",
    "    '''\n",
    "    this function is broken \n",
    "    '''\n",
    "    cce = tf.keras.losses.CategoricalCrossentropy()\n",
    "    \n",
    "    y_true = tf.cast(y_true,tf.float32)\n",
    "    y_pred = tf.cast(y_pred,tf.float32)\n",
    "    \n",
    "    mask = tf.cast(tf.not_equal(y_true, [-1,-1,-1]), tf.float32)\n",
    "    \n",
    "    # return K.sum(K.binary_crossentropy(tf.multiply(y_pred, mask), tf.multiply(y_true, mask)), axis=None) / K.sum(mask, axis=None)\n",
    "    return K.sum(cce(tf.multiply(y_pred, mask), tf.multiply(y_true, mask)), axis=None) / K.sum(mask, axis=None)\n",
    "\n",
    "# def masked_ce_pointwise_loss(y_true, y_pred):\n",
    "#     y_true = tf.cast(y_true,tf.float32)\n",
    "#     y_pred = tf.cast(y_pred,tf.float32)\n",
    "#     mask = tf.cast(tf.math.logical_not(tf.reduce_all(tf.equal(y_true, 0), axis=2)), tf.float32)\n",
    "#     cell_ce = K.categorical_crossentropy(y_pred, y_true, axis=2)\n",
    "#     return K.sum(tf.where(tf.math.is_nan(mask), tf.zeros_like(cell_ce), cell_ce)) / K.sum(mask, axis=None)\n",
    "\n",
    "def masked_ce_pointwise_loss(y_true, y_pred):\n",
    "    y_true = tf.cast(y_true,tf.float32)\n",
    "    y_pred = tf.cast(y_pred,tf.float32)\n",
    "    mask = tf.reduce_all(tf.equal(y_true, -1), axis=2)\n",
    "    cell_ce = K.categorical_crossentropy(y_pred, y_true, axis=2)\n",
    "    return K.sum(tf.where(mask, tf.zeros_like(cell_ce), cell_ce)) / K.sum(tf.cast(tf.logical_not(mask), tf.float32), axis=None)\n",
    "\n"
   ]
  },
  {
   "cell_type": "code",
   "execution_count": 7,
   "metadata": {
    "tags": []
   },
   "outputs": [],
   "source": [
    "# y_true = [[[0, 1, 0], [0, 0, 1],[-1,-1,-1]],[[0, 1, 0], [0, 0, 1],[-1,-1,-1]]]\n",
    "# y_pred = [[[0.05, 0.95, 0], [0.1, 0.1, 0.8],[-1,0,-1]],[[0.05, 0.95, 0], [0.1, 0.1, 0.8],[-2,-1,4]]]\n",
    "# # y_pred = y_true\n",
    "# masked_ce_pointwise_loss(y_true, y_pred).numpy()"
   ]
  },
  {
   "cell_type": "code",
   "execution_count": 8,
   "metadata": {},
   "outputs": [],
   "source": [
    "# SETUP TRAIN, VAL, AND TEST GENERATORS\n",
    "train_files = np.sort(glob.glob(train_data_dir+'*.npz'))[:num_train_files]\n",
    "val_files = np.sort(glob.glob(val_data_dir+'*.npz'))[:num_val_files]\n",
    "test_files = np.sort(glob.glob(test_data_dir+'*.npz'))[:num_test_files]\n",
    "\n",
    "num_batches_train = (len(train_files) * events_per_file) / BATCH_SIZE \n",
    "num_batches_val = (len(val_files) * events_per_file) / BATCH_SIZE\n",
    "num_batches_test = (len(test_files) * events_per_file) / BATCH_SIZE\n",
    "\n",
    "# load the max number of points (N) - saved to data dir\n",
    "with open(data_dir + max_points_file) as f:\n",
    "    N = int(f.readline())\n",
    "\n",
    "train_generator = batched_data_generator(train_files, BATCH_SIZE, N)\n",
    "val_generator = batched_data_generator(val_files, BATCH_SIZE, N)\n",
    "test_generator = batched_data_generator(test_files, BATCH_SIZE, N, loop_infinite=False)\n"
   ]
  },
  {
   "cell_type": "code",
   "execution_count": 9,
   "metadata": {},
   "outputs": [
    {
     "name": "stderr",
     "output_type": "stream",
     "text": [
      "2023-08-28 16:34:25.183418: I tensorflow/core/common_runtime/gpu/gpu_device.cc:1510] Created device /job:localhost/replica:0/task:0/device:GPU:0 with 9469 MB memory:  -> device: 0, name: NVIDIA GeForce RTX 2080 Ti, pci bus id: 0000:3e:00.0, compute capability: 7.5\n"
     ]
    },
    {
     "name": "stdout",
     "output_type": "stream",
     "text": [
      "Model: \"model\"\n",
      "__________________________________________________________________________________________________\n",
      "Layer (type)                    Output Shape         Param #     Connected to                     \n",
      "==================================================================================================\n",
      "input_1 (InputLayer)            [(None, None, 4)]    0                                            \n",
      "__________________________________________________________________________________________________\n",
      "features_64_tdist (TimeDistribu (None, None, 64)     320         input_1[0][0]                    \n",
      "__________________________________________________________________________________________________\n",
      "batchNorm_features_64 (MaskedBa (None, None, 64)     128         features_64_tdist[0][0]          \n",
      "__________________________________________________________________________________________________\n",
      "features_64_relu (Activation)   (None, None, 64)     0           batchNorm_features_64[0][0]      \n",
      "__________________________________________________________________________________________________\n",
      "features_128_1_tdist (TimeDistr (None, None, 128)    8320        features_64_relu[0][0]           \n",
      "__________________________________________________________________________________________________\n",
      "batchNorm_features_128_1 (Maske (None, None, 128)    256         features_128_1_tdist[0][0]       \n",
      "__________________________________________________________________________________________________\n",
      "features_128_1_relu (Activation (None, None, 128)    0           batchNorm_features_128_1[0][0]   \n",
      "__________________________________________________________________________________________________\n",
      "features_128_2_tdist (TimeDistr (None, None, 128)    16512       features_128_1_relu[0][0]        \n",
      "__________________________________________________________________________________________________\n",
      "batchNorm_features_128_2 (Maske (None, None, 128)    256         features_128_2_tdist[0][0]       \n",
      "__________________________________________________________________________________________________\n",
      "features_128_2_relu (Activation (None, None, 128)    0           batchNorm_features_128_2[0][0]   \n",
      "__________________________________________________________________________________________________\n",
      "features_512_tdist (TimeDistrib (None, None, 512)    66048       features_128_2_relu[0][0]        \n",
      "__________________________________________________________________________________________________\n",
      "batchNorm_features_512 (MaskedB (None, None, 512)    1024        features_512_tdist[0][0]         \n",
      "__________________________________________________________________________________________________\n",
      "features_512_relu (Activation)  (None, None, 512)    0           batchNorm_features_512[0][0]     \n",
      "__________________________________________________________________________________________________\n",
      "pre_maxpool_block_tdist (TimeDi (None, None, 2048)   1050624     features_512_relu[0][0]          \n",
      "__________________________________________________________________________________________________\n",
      "batchNorm_pre_maxpool_block (Ma (None, None, 2048)   4096        pre_maxpool_block_tdist[0][0]    \n",
      "__________________________________________________________________________________________________\n",
      "pre_maxpool_block_relu (Activat (None, None, 2048)   0           batchNorm_pre_maxpool_block[0][0]\n",
      "__________________________________________________________________________________________________\n",
      "pre_maxpool_block_masked (Lambd (None, None, 2048)   0           pre_maxpool_block_relu[0][0]     \n",
      "                                                                 input_1[0][0]                    \n",
      "__________________________________________________________________________________________________\n",
      "global_features (MaxPooling1D)  (None, None, 2048)   0           pre_maxpool_block_masked[0][0]   \n",
      "__________________________________________________________________________________________________\n",
      "tf_op_layer_Tile (TensorFlowOpL [(None, None, 2048)] 0           global_features[0][0]            \n",
      "__________________________________________________________________________________________________\n",
      "segmentation_input (Concatenate (None, None, 2880)   0           features_64_relu[0][0]           \n",
      "                                                                 features_128_1_relu[0][0]        \n",
      "                                                                 features_128_2_relu[0][0]        \n",
      "                                                                 features_512_relu[0][0]          \n",
      "                                                                 tf_op_layer_Tile[0][0]           \n",
      "__________________________________________________________________________________________________\n",
      "segmentation_features_tdist (Ti (None, None, 128)    368768      segmentation_input[0][0]         \n",
      "__________________________________________________________________________________________________\n",
      "batchNorm_segmentation_features (None, None, 128)    256         segmentation_features_tdist[0][0]\n",
      "__________________________________________________________________________________________________\n",
      "segmentation_features_relu (Act (None, None, 128)    0           batchNorm_segmentation_features[0\n",
      "__________________________________________________________________________________________________\n",
      "last_tdist (TimeDistributed)    (None, None, 3)      387         segmentation_features_relu[0][0] \n",
      "__________________________________________________________________________________________________\n",
      "last_act (Activation)           (None, None, 3)      0           last_tdist[0][0]                 \n",
      "==================================================================================================\n",
      "Total params: 1,516,995\n",
      "Trainable params: 1,516,995\n",
      "Non-trainable params: 0\n",
      "__________________________________________________________________________________________________\n"
     ]
    }
   ],
   "source": [
    "# COMPILE MODEL\n",
    "model = pnet_part_seg_no_tnets(N,num_feat,num_classes)\n",
    "model.compile(loss=masked_ce_pointwise_loss, optimizer=keras.optimizers.Adam(learning_rate=LEARNING_RATE))\n",
    "model.summary()"
   ]
  },
  {
   "cell_type": "code",
   "execution_count": 10,
   "metadata": {},
   "outputs": [],
   "source": [
    "# can add other stuff here to save\n",
    "# CALLBACKS\n",
    "# make directories if not present\n",
    "if not os.path.exists(output_dir):\n",
    "    os.makedirs(output_dir)\n",
    "if not os.path.exists(output_dir + \"/weights\"):\n",
    "    os.makedirs(output_dir + \"/weights\")\n",
    "if not os.path.exists(output_dir + \"/tests\"):\n",
    "    os.makedirs(output_dir + \"/tests\")\n",
    "\n",
    "# save preds, model weights, and train/val loss after each epoch\n",
    "class SaveEpoch(tf.keras.callbacks.Callback):\n",
    "    def on_epoch_end(self, epoch, logs={}):\n",
    "        # save preds on new test file\n",
    "        per_epoch_test_generator = batched_data_generator(test_files, BATCH_SIZE, N, loop_infinite=False)\n",
    "\n",
    "        predictions = []\n",
    "        labels = []\n",
    "        for X_test, Y_test in per_epoch_test_generator:\n",
    "            predictions.extend(model.predict(X_test))\n",
    "            labels.extend(Y_test)\n",
    "        np.save(output_dir + \"/tests/preds_\" + str(start_at_epoch + epoch) + \".npy\", predictions)\n",
    "        if epoch == 0:\n",
    "            # save the labels for up to 5 test files\n",
    "            np.save(output_dir + \"/tests/labels.npy\", labels)\n",
    "\n",
    "        # save model weights\n",
    "        model.save_weights(output_dir + \"/weights/weights_\" + str(start_at_epoch + epoch) + \".h5\")\n",
    "        # save loss\n",
    "        with open(output_dir + \"/log_loss.csv\" ,'a') as file:\n",
    "            writer = csv.writer(file)\n",
    "            writer.writerow([start_at_epoch + epoch , logs[\"loss\"], logs[\"val_loss\"]])"
   ]
  },
  {
   "cell_type": "code",
   "execution_count": null,
   "metadata": {
    "tags": []
   },
   "outputs": [
    {
     "name": "stdout",
     "output_type": "stream",
     "text": [
      "Epoch 1/100\n",
      "  1/840 [..............................] - ETA: 59:06 - batch: 0.0000e+00 - size: 100.0000 - loss: 10.6512"
     ]
    },
    {
     "name": "stderr",
     "output_type": "stream",
     "text": [
      "2023-08-28 16:34:30.052122: I tensorflow/stream_executor/cuda/cuda_dnn.cc:381] Loaded cuDNN version 8204\n"
     ]
    },
    {
     "name": "stdout",
     "output_type": "stream",
     "text": [
      "840/840 [==============================] - ETA: 0s - batch: 419.5000 - size: 100.0000 - loss: 8.6553"
     ]
    },
    {
     "name": "stderr",
     "output_type": "stream",
     "text": [
      "/usr/local/lib/python3.8/dist-packages/keras/engine/training.py:2470: UserWarning: `Model.state_updates` will be removed in a future version. This property should not be used in TensorFlow 2.0, as `updates` are applied automatically.\n",
      "  warnings.warn('`Model.state_updates` will be removed in a future version. '\n"
     ]
    },
    {
     "name": "stdout",
     "output_type": "stream",
     "text": [
      "840/840 [==============================] - 106s 121ms/step - batch: 419.5000 - size: 100.0000 - loss: 8.6553 - val_loss: 8.8593\n",
      "Epoch 2/100\n",
      "840/840 [==============================] - 100s 119ms/step - batch: 419.5000 - size: 100.0000 - loss: 8.2279 - val_loss: 8.2765\n",
      "Epoch 3/100\n",
      "840/840 [==============================] - 100s 119ms/step - batch: 419.5000 - size: 100.0000 - loss: 8.1339 - val_loss: 8.1794\n",
      "Epoch 4/100\n",
      "840/840 [==============================] - 100s 119ms/step - batch: 419.5000 - size: 100.0000 - loss: 8.1156 - val_loss: 8.1561\n",
      "Epoch 5/100\n",
      "840/840 [==============================] - 100s 119ms/step - batch: 419.5000 - size: 100.0000 - loss: 8.1108 - val_loss: 8.1503\n",
      "Epoch 6/100\n",
      "768/840 [==========================>...] - ETA: 7s - batch: 383.5000 - size: 100.0000 - loss: 8.0924"
     ]
    }
   ],
   "source": [
    "history = model.fit(train_generator,\n",
    "    epochs=EPOCHS,\n",
    "    validation_data=val_generator,\n",
    "    verbose=1,\n",
    "    steps_per_epoch=num_batches_train,\n",
    "    validation_steps=num_batches_val,\n",
    "    callbacks=[SaveEpoch()])"
   ]
  },
  {
   "cell_type": "code",
   "execution_count": 45,
   "metadata": {},
   "outputs": [
    {
     "data": {
      "image/png": "[encoded data removed]",
      "text/plain": [
       "<Figure size 432x288 with 1 Axes>"
      ]
     },
     "metadata": {},
     "output_type": "display_data"
    },
    {
     "data": {
      "image/png": "[encoded data removed]",
      "text/plain": [
       "<Figure size 432x288 with 1 Axes>"
      ]
     },
     "metadata": {},
     "output_type": "display_data"
    }
   ],
   "source": [
    "# analysis \n",
    "def get_accuracy(preds, labels):\n",
    "    correct = (np.array(preds) > 0.5) == np.array(labels)\n",
    "    return np.count_nonzero(correct)/len(correct)\n",
    "\n",
    "# plot train and val loss over epoch\n",
    "def plot_train_and_val_loss(train_loss, val_loss):\n",
    "    fig = plt.figure()\n",
    "    fig.patch.set_facecolor('white')\n",
    "    plt.plot(train_loss[-100:], label=\"train\", color=\"#009fdf\")\n",
    "    plt.plot(val_loss[-100:], label=\"tal\", color=\"#F2705D\")\n",
    "    plt.xlabel(\"Epoch\")\n",
    "    plt.ylabel(\"Loss\")\n",
    "    plt.legend()\n",
    "    plt.title(\"Training loss\")\n",
    "    plt.show()\n",
    "\n",
    "def plot_accuracy(preds, labels):\n",
    "    accuracy = []\n",
    "    for epoch_preds in preds:\n",
    "        accuracy.append(get_accuracy(epoch_preds, labels))\n",
    "    fig = plt.figure()\n",
    "    fig.patch.set_facecolor('white')\n",
    "    plt.plot(accuracy, color=\"#009fdf\")\n",
    "    plt.xlabel(\"Epoch\")\n",
    "    plt.ylabel(\"Accuracy\")\n",
    "    plt.title(\"Classification accuracy\")\n",
    "    plt.show()\n",
    "\n",
    "num_epoch = 100\n",
    "model_file_path = output_dir + \"/\"# \"/fast_scratch_1/jbohm/cell_particle_deposit_learning/train_dirs/pnet_train_1/tr_50_val_5_tst_5_lr_1e-2_BS_100_no_tnets_1_track_add_min_dist/\"\n",
    "\n",
    "# plot train and val loss\n",
    "loss_data = genfromtxt(model_file_path + \"log_loss.csv\", delimiter=',').transpose()\n",
    "loss = loss_data[1]\n",
    "val_loss = loss_data[2]\n",
    "plot_train_and_val_loss(loss, val_loss)\n",
    "\n",
    "# plot test accuracy\n",
    "labels_unmasked = np.load(model_file_path + \"/tests/labels.npy\")\n",
    "labels = labels_unmasked[labels_unmasked != -1]\n",
    "preds = []\n",
    "for epoch in range(num_epoch):\n",
    "    preds_unmasked = np.load(model_file_path + \"/tests/preds_\" + str(epoch) + \".npy\")\n",
    "    preds.append(preds_unmasked[labels_unmasked != -1])\n",
    "\n",
    "plot_accuracy(preds, labels)"
   ]
  },
  {
   "cell_type": "code",
   "execution_count": null,
   "metadata": {},
   "outputs": [],
   "source": []
  }
 ],
 "metadata": {
  "kernelspec": {
   "display_name": "Python 3 (ipykernel)",
   "language": "python",
   "name": "python3"
  },
  "language_info": {
   "codemirror_mode": {
    "name": "ipython",
    "version": 3
   },
   "file_extension": ".py",
   "mimetype": "text/x-python",
   "name": "python",
   "nbconvert_exporter": "python",
   "pygments_lexer": "ipython3",
   "version": "3.8.10"
  }
 },
 "nbformat": 4,
 "nbformat_minor": 4
}
