{
 "cells": [
  {
   "cell_type": "markdown",
   "id": "497f9a87",
   "metadata": {},
   "source": [
    "## fastjet -> coffea demo for C$^3$ meeting\n",
    "June 23, 2023"
   ]
  },
  {
   "cell_type": "code",
   "execution_count": 1,
   "id": "3a5af1bb",
   "metadata": {},
   "outputs": [],
   "source": [
    "import awkward as ak \n",
    "import numpy as np\n",
    "import matplotlib.pyplot as plt\n",
    "import fastjet\n",
    "from coffea.nanoevents import NanoEventsFactory, EDM4HEPSchema\n",
    "import dask_awkward as dak\n",
    "import hist.dask as hda"
   ]
  },
  {
   "cell_type": "markdown",
   "id": "153b28c0",
   "metadata": {},
   "source": [
    "Import events from root file into coffea:"
   ]
  },
  {
   "cell_type": "code",
   "execution_count": 2,
   "id": "c9e747ab",
   "metadata": {},
   "outputs": [
    {
     "name": "stderr",
     "output_type": "stream",
     "text": [
      "/Users/josephinebrewster/TRIUMF-Summer-2023/coffea_dev/coffea/src/coffea/nanoevents/factory.py:63: UserWarning: Skipping PARAMETERS as it is it cannot be interpreted by Uproot\n",
      "  warnings.warn(\n",
      "/Users/josephinebrewster/TRIUMF-Summer-2023/coffea_dev/coffea/src/coffea/nanoevents/factory.py:45: UserWarning: Skipping _intMap as it is not interpretable by Uproot\n",
      "  warnings.warn(\n",
      "/Users/josephinebrewster/TRIUMF-Summer-2023/coffea_dev/coffea/src/coffea/nanoevents/factory.py:52: UserWarning: Skipping _intMap.first as it is not interpretable by Uproot\n",
      "  warnings.warn(f\"Skipping {branch.name} as it is not interpretable by Uproot\")\n",
      "/Users/josephinebrewster/TRIUMF-Summer-2023/coffea_dev/coffea/src/coffea/nanoevents/factory.py:52: UserWarning: Skipping _intMap.second as it is not interpretable by Uproot\n",
      "  warnings.warn(f\"Skipping {branch.name} as it is not interpretable by Uproot\")\n",
      "/Users/josephinebrewster/TRIUMF-Summer-2023/coffea_dev/coffea/src/coffea/nanoevents/factory.py:45: UserWarning: Skipping _floatMap as it is not interpretable by Uproot\n",
      "  warnings.warn(\n",
      "/Users/josephinebrewster/TRIUMF-Summer-2023/coffea_dev/coffea/src/coffea/nanoevents/factory.py:52: UserWarning: Skipping _floatMap.first as it is not interpretable by Uproot\n",
      "  warnings.warn(f\"Skipping {branch.name} as it is not interpretable by Uproot\")\n",
      "/Users/josephinebrewster/TRIUMF-Summer-2023/coffea_dev/coffea/src/coffea/nanoevents/factory.py:52: UserWarning: Skipping _floatMap.second as it is not interpretable by Uproot\n",
      "  warnings.warn(f\"Skipping {branch.name} as it is not interpretable by Uproot\")\n",
      "/Users/josephinebrewster/TRIUMF-Summer-2023/coffea_dev/coffea/src/coffea/nanoevents/factory.py:45: UserWarning: Skipping _stringMap as it is not interpretable by Uproot\n",
      "  warnings.warn(\n",
      "/Users/josephinebrewster/TRIUMF-Summer-2023/coffea_dev/coffea/src/coffea/nanoevents/factory.py:52: UserWarning: Skipping _stringMap.first as it is not interpretable by Uproot\n",
      "  warnings.warn(f\"Skipping {branch.name} as it is not interpretable by Uproot\")\n",
      "/Users/josephinebrewster/TRIUMF-Summer-2023/coffea_dev/coffea/src/coffea/nanoevents/factory.py:52: UserWarning: Skipping _stringMap.second as it is not interpretable by Uproot\n",
      "  warnings.warn(f\"Skipping {branch.name} as it is not interpretable by Uproot\")\n",
      "/Users/josephinebrewster/TRIUMF-Summer-2023/coffea_dev/coffea/src/coffea/nanoevents/factory.py:45: UserWarning: Skipping _doubleMap as it is not interpretable by Uproot\n",
      "  warnings.warn(\n",
      "/Users/josephinebrewster/TRIUMF-Summer-2023/coffea_dev/coffea/src/coffea/nanoevents/factory.py:52: UserWarning: Skipping _doubleMap.first as it is not interpretable by Uproot\n",
      "  warnings.warn(f\"Skipping {branch.name} as it is not interpretable by Uproot\")\n",
      "/Users/josephinebrewster/TRIUMF-Summer-2023/coffea_dev/coffea/src/coffea/nanoevents/factory.py:52: UserWarning: Skipping _doubleMap.second as it is not interpretable by Uproot\n",
      "  warnings.warn(f\"Skipping {branch.name} as it is not interpretable by Uproot\")\n"
     ]
    }
   ],
   "source": [
    "events = NanoEventsFactory.from_root( \n",
    "    {\"../../coffea_dev/root_files_may18/rv02-02.sv02-02.mILD_l5_o1_v02.E250-SetA.I402004\" \n",
    "    \".Pe2e2h.eR.pL.n000.d_dstm_15090_*.slcio.edm4hep.root\"\n",
    "    :\"events\"},\n",
    "    schemaclass=EDM4HEPSchema,\n",
    "    permit_dask=True,\n",
    "    metadata = {'b_field':5},\n",
    ").events()"
   ]
  },
  {
   "cell_type": "code",
   "execution_count": 3,
   "id": "59740aa1",
   "metadata": {},
   "outputs": [],
   "source": [
    "jetdef = fastjet.JetDefinition(fastjet.kt_algorithm,1) # define jets with kt algorithm with R=1"
   ]
  },
  {
   "cell_type": "code",
   "execution_count": 4,
   "id": "692fc065",
   "metadata": {},
   "outputs": [
    {
     "name": "stderr",
     "output_type": "stream",
     "text": [
      "UserWarning: dcut and exclusive jets for jet-finders other than kt, C/A or genkt with p>=0 should be interpreted with care.\n"
     ]
    }
   ],
   "source": [
    "cluster = fastjet.ClusterSequence(events.PandoraPFOs, jetdef).exclusive_jets(n_jets=2) # create jets"
   ]
  },
  {
   "cell_type": "markdown",
   "id": "0eea0844",
   "metadata": {},
   "source": [
    "Select only the events without a muon pair with an invariant mass between 80 and 100 GeV:"
   ]
  },
  {
   "cell_type": "code",
   "execution_count": 5,
   "id": "d7c4d4ac",
   "metadata": {},
   "outputs": [],
   "source": [
    "mupair = dak.combinations(events.PandoraPFOs[abs(events.PandoraPFOs.pdgId) == 13], 2, fields=[\"mu1\", \"mu2\"])\n",
    "pairmass = (mupair.mu1 + mupair.mu2).mass\n",
    "muonsevent = dak.any(\n",
    "    (pairmass > 80)\n",
    "    & (pairmass < 100)\n",
    "    & (mupair.mu1.charge == -mupair.mu2.charge),\n",
    "    axis=1,\n",
    ")\n",
    "\n",
    "\n",
    "# bit of a sketchy way of masking but it works and is quick\n",
    "truth_arr = dak.ones_like(dak.num(events.PandoraPFOs)) == dak.ones_like(dak.num(events.PandoraPFOs)) \n",
    "no_muons = muonsevent != truth_arr\n",
    "select_clst = cluster[no_muons]"
   ]
  },
  {
   "cell_type": "markdown",
   "id": "fb907540",
   "metadata": {},
   "source": [
    "Set up the jets as 4-vectors in coffea"
   ]
  },
  {
   "cell_type": "code",
   "execution_count": 6,
   "id": "588e9b84",
   "metadata": {},
   "outputs": [],
   "source": [
    "jets = dak.zip(\n",
    "    {\n",
    "        'x': select_clst[\"px\"],\n",
    "        'y': select_clst[\"py\"],\n",
    "        'z': select_clst[\"pz\"],\n",
    "        't': select_clst[\"E\"],\n",
    "    },\n",
    "    with_name=\"LorentzVector\",\n",
    "    behavior=events.PandoraPFOs.behavior,\n",
    ")"
   ]
  },
  {
   "cell_type": "code",
   "execution_count": 7,
   "id": "e0f64f30",
   "metadata": {},
   "outputs": [
    {
     "name": "stderr",
     "output_type": "stream",
     "text": [
      "UserWarning: dcut and exclusive jets for jet-finders other than kt, C/A or genkt with p>=0 should be interpreted with care.\n"
     ]
    },
    {
     "name": "stdout",
     "output_type": "stream",
     "text": [
      "#--------------------------------------------------------------------------\n",
      "#                         FastJet release 3.4.1\n",
      "#                 M. Cacciari, G.P. Salam and G. Soyez                  \n",
      "#     A software package for jet finding and analysis at colliders      \n",
      "#                           http://fastjet.fr                           \n",
      "#\t                                                                      \n",
      "# Please cite EPJC72(2012)1896 [arXiv:1111.6097] if you use this package\n",
      "# for scientific work and optionally PLB641(2006)57 [hep-ph/0512210].   \n",
      "#                                                                       \n",
      "# FastJet is provided without warranty under the GNU GPL v2 or higher.  \n",
      "# It uses T. Chan's closest pair algorithm, S. Fortune's Voronoi code,\n",
      "# CGAL and 3rd party plugin jet algorithms. See COPYING file for details.\n",
      "#--------------------------------------------------------------------------\n"
     ]
    },
    {
     "name": "stderr",
     "output_type": "stream",
     "text": [
      "UserWarning: dcut and exclusive jets for jet-finders other than kt, C/A or genkt with p>=0 should be interpreted with care.\n"
     ]
    },
    {
     "data": {
      "text/plain": [
       "{'from-uproot-a1e72b8a1fbbf6253d88f62d6d171056': ['PandoraPFOs.x',\n",
       "  'PandoraPFOs.charge',\n",
       "  'PandoraPFOs.t',\n",
       "  'PandoraPFOs.y',\n",
       "  'PandoraPFOs.pdgId',\n",
       "  'PandoraPFOs.z']}"
      ]
     },
     "execution_count": 7,
     "metadata": {},
     "output_type": "execute_result"
    },
    {
     "data": {
      "image/png": "[encoded data removed]",
      "text/plain": [
       "<Figure size 640x480 with 1 Axes>"
      ]
     },
     "metadata": {},
     "output_type": "display_data"
    }
   ],
   "source": [
    "jetpair = dak.combinations(jets, 2, fields=[\"jet1\", \"jet2\"],axis=1) \n",
    "\n",
    "\n",
    "hist_jets = (\n",
    "    hda.Hist.new.Reg(250, 0, 300, name=\"jet mass\", label=\"Jet Invariant Mass [GeV]\") \n",
    "    .Double()\n",
    "    .fill(dak.flatten((jetpair.jet1 + jetpair.jet2).mass))\n",
    ")\n",
    "\n",
    "hist_jets.compute().plot1d(label='Jets')\n",
    "dak.necessary_columns(hist_jets)"
   ]
  },
  {
   "cell_type": "markdown",
   "id": "06983c99",
   "metadata": {},
   "source": [
    "Grab the indices of the particles that went into the jets"
   ]
  },
  {
   "cell_type": "code",
   "execution_count": 8,
   "id": "a2838272",
   "metadata": {},
   "outputs": [],
   "source": [
    "pfo_index = fastjet.ClusterSequence(events.PandoraPFOs, jetdef).exclusive_jets_constituent_index(njets=2)"
   ]
  },
  {
   "cell_type": "markdown",
   "id": "c0e0939d",
   "metadata": {},
   "source": [
    "Get the PDG IDs of the linked MC particles to the PFOs that went into the jets (slice for the events we're looking at above)"
   ]
  },
  {
   "cell_type": "code",
   "execution_count": 23,
   "id": "07b9423e",
   "metadata": {},
   "outputs": [],
   "source": [
    "linked_gen = events.PandoraPFOs.matched_gen # grab the generator particled linked to the PFOs\n",
    "\n",
    "linked_pdg = linked_gen.pdgId[dak.flatten(pfo_index,axis=2)][no_muons]"
   ]
  },
  {
   "cell_type": "code",
   "execution_count": 28,
   "id": "be2622d0",
   "metadata": {},
   "outputs": [
    {
     "data": {
      "image/png": "[encoded data removed]",
      "text/plain": [
       "<Figure size 900x300 with 3 Axes>"
      ]
     },
     "metadata": {},
     "output_type": "display_data"
    }
   ],
   "source": [
    "# having to not use dask plotting because of flattening problem\n",
    "# with matched particles having different shape \n",
    "linked_pdg_a = linked_pdg.compute() \n",
    "\n",
    "fig,axs = plt.subplots(1,3,sharey=True, figsize=(9, 3))\n",
    "\n",
    "axs[0].hist(ak.flatten(ak.flatten(linked_pdg_a,axis=2),axis=1),range=(-3000,3000),bins=200)\n",
    "axs[1].hist(ak.flatten(ak.flatten(linked_pdg_a,axis=2),axis=1),range=(-300,300),bins=200)\n",
    "axs[2].hist(ak.flatten(ak.flatten(linked_pdg_a,axis=2),axis=1),range=(-30,30),bins=200)\n",
    "\n",
    "for n in range(len(axs)): axs[n].set_xlabel('pdgId')"
   ]
  },
  {
   "cell_type": "markdown",
   "id": "e9b01083",
   "metadata": {},
   "source": [
    "### A Problem I Ran Into \n",
    "(possibly a bug in fastjet?)\n",
    "\n",
    "Originally, I tried to select the events I wanted before running them through fastjet and it produced some errors and weird results."
   ]
  },
  {
   "cell_type": "code",
   "execution_count": 41,
   "id": "019935a5",
   "metadata": {},
   "outputs": [],
   "source": [
    "# selecting the events I want \n",
    "mupair = dak.combinations(events.PandoraPFOs[abs(events.PandoraPFOs.pdgId) == 13], 2, fields=[\"mu1\", \"mu2\"])\n",
    "pairmass = (mupair.mu1 + mupair.mu2).mass\n",
    "muonsevent = dak.any(\n",
    "    (pairmass > 80)\n",
    "    & (pairmass < 100)\n",
    "    & (mupair.mu1.charge == -mupair.mu2.charge),\n",
    "    axis=1,\n",
    ")\n",
    "\n",
    "truth_arr = dak.ones_like(dak.num(events.PandoraPFOs)) == dak.ones_like(dak.num(events.PandoraPFOs)) \n",
    "no_muons = muonsevent != truth_arr\n",
    "\n",
    "select_pfos = events.PandoraPFOs[no_muons]\n",
    "\n",
    "# running this through fastjet and setting up with coffea\n",
    "\n",
    "jetdef = fastjet.JetDefinition(fastjet.kt_algorithm,1)\n",
    "cluster = fastjet.ClusterSequence(select_pfos, jetdef).exclusive_jets(n_jets=2)\n",
    "\n",
    "jets = dak.zip(\n",
    "    {\n",
    "        'x': cluster[\"px\"],\n",
    "        'y': cluster[\"py\"],\n",
    "        'z': cluster[\"pz\"],\n",
    "        't': cluster[\"E\"],\n",
    "    },\n",
    "    with_name=\"LorentzVector\",\n",
    "    behavior=events.PandoraPFOs.behavior,\n",
    ")"
   ]
  },
  {
   "cell_type": "markdown",
   "id": "8d62e8d6",
   "metadata": {},
   "source": [
    "Different plot than above:"
   ]
  },
  {
   "cell_type": "code",
   "execution_count": 50,
   "id": "aac5a183",
   "metadata": {},
   "outputs": [
    {
     "name": "stderr",
     "output_type": "stream",
     "text": [
      "UserWarning: dcut and exclusive jets for jet-finders other than kt, C/A or genkt with p>=0 should be interpreted with care.\n"
     ]
    },
    {
     "data": {
      "text/plain": [
       "[<matplotlib.lines.Line2D at 0x7fb1494cfa90>]"
      ]
     },
     "execution_count": 50,
     "metadata": {},
     "output_type": "execute_result"
    },
    {
     "data": {
      "image/png": "[encoded data removed]",
      "text/plain": [
       "<Figure size 640x480 with 1 Axes>"
      ]
     },
     "metadata": {},
     "output_type": "display_data"
    }
   ],
   "source": [
    "jetpair = dak.combinations(jets, 2, fields=[\"jet1\", \"jet2\"],axis=1) # all jet pairs\n",
    "\n",
    "\n",
    "hist_clusters = (\n",
    "    hda.Hist.new.Reg(250, 0, 300, name=\"energy\", label=\"Jet Invariant Mass [GeV]\") \n",
    "    .Double()\n",
    "    .fill(dak.flatten((jetpair.jet1 + jetpair.jet2).mass))\n",
    ")\n",
    "\n",
    "hist_clusters.compute().plot1d(label='Jets')\n",
    "dak.necessary_columns(hist_clusters)\n",
    "\n",
    "plt.plot([125,125],[0,15],'darkgrey')"
   ]
  },
  {
   "cell_type": "markdown",
   "id": "ca24e8cd",
   "metadata": {},
   "source": [
    "Indices out of range when trying to return constituents:"
   ]
  },
  {
   "cell_type": "code",
   "execution_count": 44,
   "id": "cdbe44f2",
   "metadata": {},
   "outputs": [
    {
     "data": {
      "text/html": [
       "<pre>[[107, 163, 177, 215, 223, 224, 228, ..., 2430, 2511, 2512, 2544, 2582, 2583],\n",
       " [43, 44, 48, 55, 61, 62, 63, ..., 2473, 2481, 2482, 2496, 2509, 2515, 2543]]\n",
       "------------------------------------------------------------------------------\n",
       "type: 2 * var * int32</pre>"
      ],
      "text/plain": [
       "<Array [[107, 163, 177, ..., 2544, 2582, 2583], ...] type='2 * var * int32'>"
      ]
     },
     "execution_count": 44,
     "metadata": {},
     "output_type": "execute_result"
    }
   ],
   "source": [
    "fastjet.ClusterSequence(select_pfos, jetdef).exclusive_jets_constituent_index(njets=2)[5].compute() # show example"
   ]
  },
  {
   "cell_type": "code",
   "execution_count": 47,
   "id": "94796442",
   "metadata": {},
   "outputs": [
    {
     "data": {
      "text/plain": [
       "43"
      ]
     },
     "execution_count": 47,
     "metadata": {},
     "output_type": "execute_result"
    }
   ],
   "source": [
    "dak.num(select_pfos)[5].compute() # should be the max index "
   ]
  },
  {
   "cell_type": "markdown",
   "id": "dd9b3ecc",
   "metadata": {},
   "source": [
    "(also there are two functions and `exclusive_jets_consituents_index()` does not work)\n",
    "\n",
    "Constituents not being able to be returned either:"
   ]
  },
  {
   "cell_type": "code",
   "execution_count": 49,
   "id": "035db3c5",
   "metadata": {},
   "outputs": [
    {
     "ename": "IndexError",
     "evalue": "cannot slice ListArray (of length 2314) with [[20, 25, 32, 34, 40, 41, 42, 62, ..., 87, 91, 105, 113, 114, 116, 117], ...]: index out of range while attempting to get index 62 (in compiled code: https://github.com/scikit-hep/awkward/blob/awkward-cpp-17/awkward-cpp/src/cpu-kernels/awkward_ListArray_getitem_jagged_apply.cpp#L43)\n\nThis error occurred while attempting to slice\n\n    <RecoParticleArray [[[{x: 0.29, ...}, ...], ...], ...] type='1157 * var...'>\n\nwith\n\n    <Array [[[20, 25, ..., 116, 117], ...], ...] type='1157 * var * var * int32'>",
     "output_type": "error",
     "traceback": [
      "\u001b[0;31m---------------------------------------------------------------------------\u001b[0m",
      "\u001b[0;31mIndexError\u001b[0m                                Traceback (most recent call last)",
      "File \u001b[0;32m~/anaconda3/lib/python3.10/site-packages/awkward/highlevel.py:950\u001b[0m, in \u001b[0;36mArray.__getitem__\u001b[0;34m(self, where)\u001b[0m\n\u001b[1;32m    949\u001b[0m \u001b[38;5;28;01mwith\u001b[39;00m ak\u001b[38;5;241m.\u001b[39m_errors\u001b[38;5;241m.\u001b[39mSlicingErrorContext(\u001b[38;5;28mself\u001b[39m, where):\n\u001b[0;32m--> 950\u001b[0m     out \u001b[38;5;241m=\u001b[39m \u001b[38;5;28;43mself\u001b[39;49m\u001b[38;5;241;43m.\u001b[39;49m\u001b[43m_layout\u001b[49m\u001b[43m[\u001b[49m\u001b[43mwhere\u001b[49m\u001b[43m]\u001b[49m\n\u001b[1;32m    951\u001b[0m     \u001b[38;5;28;01mif\u001b[39;00m \u001b[38;5;28misinstance\u001b[39m(out, ak\u001b[38;5;241m.\u001b[39mcontents\u001b[38;5;241m.\u001b[39mNumpyArray):\n",
      "File \u001b[0;32m~/anaconda3/lib/python3.10/site-packages/awkward/contents/content.py:510\u001b[0m, in \u001b[0;36mContent.__getitem__\u001b[0;34m(self, where)\u001b[0m\n\u001b[1;32m    509\u001b[0m \u001b[38;5;28;01mdef\u001b[39;00m \u001b[38;5;21m__getitem__\u001b[39m(\u001b[38;5;28mself\u001b[39m, where):\n\u001b[0;32m--> 510\u001b[0m     \u001b[38;5;28;01mreturn\u001b[39;00m \u001b[38;5;28;43mself\u001b[39;49m\u001b[38;5;241;43m.\u001b[39;49m\u001b[43m_getitem\u001b[49m\u001b[43m(\u001b[49m\u001b[43mwhere\u001b[49m\u001b[43m)\u001b[49m\n",
      "File \u001b[0;32m~/anaconda3/lib/python3.10/site-packages/awkward/contents/content.py:563\u001b[0m, in \u001b[0;36mContent._getitem\u001b[0;34m(self, where)\u001b[0m\n\u001b[1;32m    562\u001b[0m \u001b[38;5;28;01melif\u001b[39;00m \u001b[38;5;28misinstance\u001b[39m(where, ak\u001b[38;5;241m.\u001b[39mhighlevel\u001b[38;5;241m.\u001b[39mArray):\n\u001b[0;32m--> 563\u001b[0m     \u001b[38;5;28;01mreturn\u001b[39;00m \u001b[38;5;28;43mself\u001b[39;49m\u001b[38;5;241;43m.\u001b[39;49m\u001b[43m_getitem\u001b[49m\u001b[43m(\u001b[49m\u001b[43mwhere\u001b[49m\u001b[38;5;241;43m.\u001b[39;49m\u001b[43mlayout\u001b[49m\u001b[43m)\u001b[49m\n\u001b[1;32m    565\u001b[0m \u001b[38;5;66;03m# Convert between nplikes of different backends\u001b[39;00m\n",
      "File \u001b[0;32m~/anaconda3/lib/python3.10/site-packages/awkward/contents/content.py:638\u001b[0m, in \u001b[0;36mContent._getitem\u001b[0;34m(self, where)\u001b[0m\n\u001b[1;32m    637\u001b[0m \u001b[38;5;28;01melif\u001b[39;00m \u001b[38;5;28misinstance\u001b[39m(where, Content):\n\u001b[0;32m--> 638\u001b[0m     \u001b[38;5;28;01mreturn\u001b[39;00m \u001b[38;5;28;43mself\u001b[39;49m\u001b[38;5;241;43m.\u001b[39;49m\u001b[43m_getitem\u001b[49m\u001b[43m(\u001b[49m\u001b[43m(\u001b[49m\u001b[43mwhere\u001b[49m\u001b[43m,\u001b[49m\u001b[43m)\u001b[49m\u001b[43m)\u001b[49m\n\u001b[1;32m    640\u001b[0m \u001b[38;5;28;01melif\u001b[39;00m is_sized_iterable(where):\n\u001b[1;32m    641\u001b[0m     \u001b[38;5;66;03m# Do we have an array\u001b[39;00m\n",
      "File \u001b[0;32m~/anaconda3/lib/python3.10/site-packages/awkward/contents/content.py:555\u001b[0m, in \u001b[0;36mContent._getitem\u001b[0;34m(self, where)\u001b[0m\n\u001b[1;32m    548\u001b[0m \u001b[38;5;28mnext\u001b[39m \u001b[38;5;241m=\u001b[39m ak\u001b[38;5;241m.\u001b[39mcontents\u001b[38;5;241m.\u001b[39mRegularArray(\n\u001b[1;32m    549\u001b[0m     this,\n\u001b[1;32m    550\u001b[0m     this\u001b[38;5;241m.\u001b[39mlength,\n\u001b[1;32m    551\u001b[0m     \u001b[38;5;241m1\u001b[39m,\n\u001b[1;32m    552\u001b[0m     parameters\u001b[38;5;241m=\u001b[39m\u001b[38;5;28;01mNone\u001b[39;00m,\n\u001b[1;32m    553\u001b[0m )\n\u001b[0;32m--> 555\u001b[0m out \u001b[38;5;241m=\u001b[39m \u001b[38;5;28;43mnext\u001b[39;49m\u001b[38;5;241;43m.\u001b[39;49m\u001b[43m_getitem_next\u001b[49m\u001b[43m(\u001b[49m\u001b[43mnextwhere\u001b[49m\u001b[43m[\u001b[49m\u001b[38;5;241;43m0\u001b[39;49m\u001b[43m]\u001b[49m\u001b[43m,\u001b[49m\u001b[43m \u001b[49m\u001b[43mnextwhere\u001b[49m\u001b[43m[\u001b[49m\u001b[38;5;241;43m1\u001b[39;49m\u001b[43m:\u001b[49m\u001b[43m]\u001b[49m\u001b[43m,\u001b[49m\u001b[43m \u001b[49m\u001b[38;5;28;43;01mNone\u001b[39;49;00m\u001b[43m)\u001b[49m\n\u001b[1;32m    557\u001b[0m \u001b[38;5;28;01mif\u001b[39;00m out\u001b[38;5;241m.\u001b[39mlength \u001b[38;5;129;01mis\u001b[39;00m \u001b[38;5;129;01mnot\u001b[39;00m unknown_length \u001b[38;5;129;01mand\u001b[39;00m out\u001b[38;5;241m.\u001b[39mlength \u001b[38;5;241m==\u001b[39m \u001b[38;5;241m0\u001b[39m:\n",
      "File \u001b[0;32m~/anaconda3/lib/python3.10/site-packages/awkward/contents/regulararray.py:708\u001b[0m, in \u001b[0;36mRegularArray._getitem_next\u001b[0;34m(self, head, tail, advanced)\u001b[0m\n\u001b[1;32m    693\u001b[0m \u001b[38;5;28mself\u001b[39m\u001b[38;5;241m.\u001b[39m_maybe_index_error(\n\u001b[1;32m    694\u001b[0m     \u001b[38;5;28mself\u001b[39m\u001b[38;5;241m.\u001b[39m_backend[\n\u001b[1;32m    695\u001b[0m         \u001b[38;5;124m\"\u001b[39m\u001b[38;5;124mawkward_RegularArray_getitem_jagged_expand\u001b[39m\u001b[38;5;124m\"\u001b[39m,\n\u001b[0;32m   (...)\u001b[0m\n\u001b[1;32m    706\u001b[0m     slicer\u001b[38;5;241m=\u001b[39mhead,\n\u001b[1;32m    707\u001b[0m )\n\u001b[0;32m--> 708\u001b[0m down \u001b[38;5;241m=\u001b[39m \u001b[38;5;28;43mself\u001b[39;49m\u001b[38;5;241;43m.\u001b[39;49m\u001b[43m_content\u001b[49m\u001b[38;5;241;43m.\u001b[39;49m\u001b[43m_getitem_next_jagged\u001b[49m\u001b[43m(\u001b[49m\n\u001b[1;32m    709\u001b[0m \u001b[43m    \u001b[49m\u001b[43mmultistarts\u001b[49m\u001b[43m,\u001b[49m\u001b[43m \u001b[49m\u001b[43mmultistops\u001b[49m\u001b[43m,\u001b[49m\u001b[43m \u001b[49m\u001b[43mhead\u001b[49m\u001b[38;5;241;43m.\u001b[39;49m\u001b[43m_content\u001b[49m\u001b[43m,\u001b[49m\u001b[43m \u001b[49m\u001b[43mtail\u001b[49m\n\u001b[1;32m    710\u001b[0m \u001b[43m\u001b[49m\u001b[43m)\u001b[49m\n\u001b[1;32m    712\u001b[0m \u001b[38;5;28;01mreturn\u001b[39;00m RegularArray(\n\u001b[1;32m    713\u001b[0m     down, headlength, \u001b[38;5;28mself\u001b[39m\u001b[38;5;241m.\u001b[39m_length, parameters\u001b[38;5;241m=\u001b[39m\u001b[38;5;28mself\u001b[39m\u001b[38;5;241m.\u001b[39m_parameters\n\u001b[1;32m    714\u001b[0m )\n",
      "File \u001b[0;32m~/anaconda3/lib/python3.10/site-packages/awkward/contents/listoffsetarray.py:409\u001b[0m, in \u001b[0;36mListOffsetArray._getitem_next_jagged\u001b[0;34m(self, slicestarts, slicestops, slicecontent, tail)\u001b[0m\n\u001b[1;32m    406\u001b[0m out \u001b[38;5;241m=\u001b[39m ak\u001b[38;5;241m.\u001b[39mcontents\u001b[38;5;241m.\u001b[39mListArray(\n\u001b[1;32m    407\u001b[0m     \u001b[38;5;28mself\u001b[39m\u001b[38;5;241m.\u001b[39mstarts, \u001b[38;5;28mself\u001b[39m\u001b[38;5;241m.\u001b[39mstops, \u001b[38;5;28mself\u001b[39m\u001b[38;5;241m.\u001b[39m_content, parameters\u001b[38;5;241m=\u001b[39m\u001b[38;5;28mself\u001b[39m\u001b[38;5;241m.\u001b[39m_parameters\n\u001b[1;32m    408\u001b[0m )\n\u001b[0;32m--> 409\u001b[0m \u001b[38;5;28;01mreturn\u001b[39;00m \u001b[43mout\u001b[49m\u001b[38;5;241;43m.\u001b[39;49m\u001b[43m_getitem_next_jagged\u001b[49m\u001b[43m(\u001b[49m\u001b[43mslicestarts\u001b[49m\u001b[43m,\u001b[49m\u001b[43m \u001b[49m\u001b[43mslicestops\u001b[49m\u001b[43m,\u001b[49m\u001b[43m \u001b[49m\u001b[43mslicecontent\u001b[49m\u001b[43m,\u001b[49m\u001b[43m \u001b[49m\u001b[43mtail\u001b[49m\u001b[43m)\u001b[49m\n",
      "File \u001b[0;32m~/anaconda3/lib/python3.10/site-packages/awkward/contents/listarray.py:497\u001b[0m, in \u001b[0;36mListArray._getitem_next_jagged\u001b[0;34m(self, slicestarts, slicestops, slicecontent, tail)\u001b[0m\n\u001b[1;32m    495\u001b[0m sliceoffsets \u001b[38;5;241m=\u001b[39m slicecontent\u001b[38;5;241m.\u001b[39m_offsets\n\u001b[0;32m--> 497\u001b[0m outcontent \u001b[38;5;241m=\u001b[39m \u001b[43mnext_content\u001b[49m\u001b[38;5;241;43m.\u001b[39;49m\u001b[43m_getitem_next_jagged\u001b[49m\u001b[43m(\u001b[49m\n\u001b[1;32m    498\u001b[0m \u001b[43m    \u001b[49m\u001b[43msliceoffsets\u001b[49m\u001b[43m[\u001b[49m\u001b[43m:\u001b[49m\u001b[38;5;241;43m-\u001b[39;49m\u001b[38;5;241;43m1\u001b[39;49m\u001b[43m]\u001b[49m\u001b[43m,\u001b[49m\u001b[43m \u001b[49m\u001b[43msliceoffsets\u001b[49m\u001b[43m[\u001b[49m\u001b[38;5;241;43m1\u001b[39;49m\u001b[43m:\u001b[49m\u001b[43m]\u001b[49m\u001b[43m,\u001b[49m\u001b[43m \u001b[49m\u001b[43mslicecontent\u001b[49m\u001b[38;5;241;43m.\u001b[39;49m\u001b[43m_content\u001b[49m\u001b[43m,\u001b[49m\u001b[43m \u001b[49m\u001b[43mtail\u001b[49m\n\u001b[1;32m    499\u001b[0m \u001b[43m\u001b[49m\u001b[43m)\u001b[49m\n\u001b[1;32m    501\u001b[0m \u001b[38;5;28;01mreturn\u001b[39;00m ak\u001b[38;5;241m.\u001b[39mcontents\u001b[38;5;241m.\u001b[39mListOffsetArray(\n\u001b[1;32m    502\u001b[0m     outoffsets, outcontent, parameters\u001b[38;5;241m=\u001b[39m\u001b[38;5;28mself\u001b[39m\u001b[38;5;241m.\u001b[39m_parameters\n\u001b[1;32m    503\u001b[0m )\n",
      "File \u001b[0;32m~/anaconda3/lib/python3.10/site-packages/awkward/contents/listarray.py:544\u001b[0m, in \u001b[0;36mListArray._getitem_next_jagged\u001b[0;34m(self, slicestarts, slicestops, slicecontent, tail)\u001b[0m\n\u001b[1;32m    535\u001b[0m \u001b[38;5;28;01massert\u001b[39;00m (\n\u001b[1;32m    536\u001b[0m     outoffsets\u001b[38;5;241m.\u001b[39mnplike \u001b[38;5;129;01mis\u001b[39;00m \u001b[38;5;28mself\u001b[39m\u001b[38;5;241m.\u001b[39m_backend\u001b[38;5;241m.\u001b[39mindex_nplike\n\u001b[1;32m    537\u001b[0m     \u001b[38;5;129;01mand\u001b[39;00m nextcarry\u001b[38;5;241m.\u001b[39mnplike \u001b[38;5;129;01mis\u001b[39;00m \u001b[38;5;28mself\u001b[39m\u001b[38;5;241m.\u001b[39m_backend\u001b[38;5;241m.\u001b[39mindex_nplike\n\u001b[0;32m   (...)\u001b[0m\n\u001b[1;32m    542\u001b[0m     \u001b[38;5;129;01mand\u001b[39;00m \u001b[38;5;28mself\u001b[39m\u001b[38;5;241m.\u001b[39m_stops\u001b[38;5;241m.\u001b[39mnplike \u001b[38;5;129;01mis\u001b[39;00m \u001b[38;5;28mself\u001b[39m\u001b[38;5;241m.\u001b[39m_backend\u001b[38;5;241m.\u001b[39mindex_nplike\n\u001b[1;32m    543\u001b[0m )\n\u001b[0;32m--> 544\u001b[0m \u001b[38;5;28;43mself\u001b[39;49m\u001b[38;5;241;43m.\u001b[39;49m\u001b[43m_maybe_index_error\u001b[49m\u001b[43m(\u001b[49m\n\u001b[1;32m    545\u001b[0m \u001b[43m    \u001b[49m\u001b[38;5;28;43mself\u001b[39;49m\u001b[38;5;241;43m.\u001b[39;49m\u001b[43m_backend\u001b[49m\u001b[43m[\u001b[49m\n\u001b[1;32m    546\u001b[0m \u001b[43m        \u001b[49m\u001b[38;5;124;43m\"\u001b[39;49m\u001b[38;5;124;43mawkward_ListArray_getitem_jagged_apply\u001b[39;49m\u001b[38;5;124;43m\"\u001b[39;49m\u001b[43m,\u001b[49m\n\u001b[1;32m    547\u001b[0m \u001b[43m        \u001b[49m\u001b[43moutoffsets\u001b[49m\u001b[38;5;241;43m.\u001b[39;49m\u001b[43mdtype\u001b[49m\u001b[38;5;241;43m.\u001b[39;49m\u001b[43mtype\u001b[49m\u001b[43m,\u001b[49m\n\u001b[1;32m    548\u001b[0m \u001b[43m        \u001b[49m\u001b[43mnextcarry\u001b[49m\u001b[38;5;241;43m.\u001b[39;49m\u001b[43mdtype\u001b[49m\u001b[38;5;241;43m.\u001b[39;49m\u001b[43mtype\u001b[49m\u001b[43m,\u001b[49m\n\u001b[1;32m    549\u001b[0m \u001b[43m        \u001b[49m\u001b[43mslicestarts\u001b[49m\u001b[38;5;241;43m.\u001b[39;49m\u001b[43mdtype\u001b[49m\u001b[38;5;241;43m.\u001b[39;49m\u001b[43mtype\u001b[49m\u001b[43m,\u001b[49m\n\u001b[1;32m    550\u001b[0m \u001b[43m        \u001b[49m\u001b[43mslicestops\u001b[49m\u001b[38;5;241;43m.\u001b[39;49m\u001b[43mdtype\u001b[49m\u001b[38;5;241;43m.\u001b[39;49m\u001b[43mtype\u001b[49m\u001b[43m,\u001b[49m\n\u001b[1;32m    551\u001b[0m \u001b[43m        \u001b[49m\u001b[43msliceindex\u001b[49m\u001b[38;5;241;43m.\u001b[39;49m\u001b[43mdtype\u001b[49m\u001b[38;5;241;43m.\u001b[39;49m\u001b[43mtype\u001b[49m\u001b[43m,\u001b[49m\n\u001b[1;32m    552\u001b[0m \u001b[43m        \u001b[49m\u001b[38;5;28;43mself\u001b[39;49m\u001b[38;5;241;43m.\u001b[39;49m\u001b[43m_starts\u001b[49m\u001b[38;5;241;43m.\u001b[39;49m\u001b[43mdtype\u001b[49m\u001b[38;5;241;43m.\u001b[39;49m\u001b[43mtype\u001b[49m\u001b[43m,\u001b[49m\n\u001b[1;32m    553\u001b[0m \u001b[43m        \u001b[49m\u001b[38;5;28;43mself\u001b[39;49m\u001b[38;5;241;43m.\u001b[39;49m\u001b[43m_stops\u001b[49m\u001b[38;5;241;43m.\u001b[39;49m\u001b[43mdtype\u001b[49m\u001b[38;5;241;43m.\u001b[39;49m\u001b[43mtype\u001b[49m\u001b[43m,\u001b[49m\n\u001b[1;32m    554\u001b[0m \u001b[43m    \u001b[49m\u001b[43m]\u001b[49m\u001b[43m(\u001b[49m\n\u001b[1;32m    555\u001b[0m \u001b[43m        \u001b[49m\u001b[43moutoffsets\u001b[49m\u001b[38;5;241;43m.\u001b[39;49m\u001b[43mdata\u001b[49m\u001b[43m,\u001b[49m\n\u001b[1;32m    556\u001b[0m \u001b[43m        \u001b[49m\u001b[43mnextcarry\u001b[49m\u001b[38;5;241;43m.\u001b[39;49m\u001b[43mdata\u001b[49m\u001b[43m,\u001b[49m\n\u001b[1;32m    557\u001b[0m \u001b[43m        \u001b[49m\u001b[43mslicestarts\u001b[49m\u001b[38;5;241;43m.\u001b[39;49m\u001b[43mdata\u001b[49m\u001b[43m,\u001b[49m\n\u001b[1;32m    558\u001b[0m \u001b[43m        \u001b[49m\u001b[43mslicestops\u001b[49m\u001b[38;5;241;43m.\u001b[39;49m\u001b[43mdata\u001b[49m\u001b[43m,\u001b[49m\n\u001b[1;32m    559\u001b[0m \u001b[43m        \u001b[49m\u001b[43mslicestarts\u001b[49m\u001b[38;5;241;43m.\u001b[39;49m\u001b[43mlength\u001b[49m\u001b[43m,\u001b[49m\n\u001b[1;32m    560\u001b[0m \u001b[43m        \u001b[49m\u001b[43msliceindex\u001b[49m\u001b[38;5;241;43m.\u001b[39;49m\u001b[43mdata\u001b[49m\u001b[43m,\u001b[49m\n\u001b[1;32m    561\u001b[0m \u001b[43m        \u001b[49m\u001b[43msliceindex\u001b[49m\u001b[38;5;241;43m.\u001b[39;49m\u001b[43mlength\u001b[49m\u001b[43m,\u001b[49m\n\u001b[1;32m    562\u001b[0m \u001b[43m        \u001b[49m\u001b[38;5;28;43mself\u001b[39;49m\u001b[38;5;241;43m.\u001b[39;49m\u001b[43m_starts\u001b[49m\u001b[38;5;241;43m.\u001b[39;49m\u001b[43mdata\u001b[49m\u001b[43m,\u001b[49m\n\u001b[1;32m    563\u001b[0m \u001b[43m        \u001b[49m\u001b[38;5;28;43mself\u001b[39;49m\u001b[38;5;241;43m.\u001b[39;49m\u001b[43m_stops\u001b[49m\u001b[38;5;241;43m.\u001b[39;49m\u001b[43mdata\u001b[49m\u001b[43m,\u001b[49m\n\u001b[1;32m    564\u001b[0m \u001b[43m        \u001b[49m\u001b[38;5;28;43mself\u001b[39;49m\u001b[38;5;241;43m.\u001b[39;49m\u001b[43m_content\u001b[49m\u001b[38;5;241;43m.\u001b[39;49m\u001b[43mlength\u001b[49m\u001b[43m,\u001b[49m\n\u001b[1;32m    565\u001b[0m \u001b[43m    \u001b[49m\u001b[43m)\u001b[49m\u001b[43m,\u001b[49m\n\u001b[1;32m    566\u001b[0m \u001b[43m    \u001b[49m\u001b[43mslicer\u001b[49m\u001b[38;5;241;43m=\u001b[39;49m\u001b[43mak\u001b[49m\u001b[38;5;241;43m.\u001b[39;49m\u001b[43mcontents\u001b[49m\u001b[38;5;241;43m.\u001b[39;49m\u001b[43mListArray\u001b[49m\u001b[43m(\u001b[49m\u001b[43mslicestarts\u001b[49m\u001b[43m,\u001b[49m\u001b[43m \u001b[49m\u001b[43mslicestops\u001b[49m\u001b[43m,\u001b[49m\u001b[43m \u001b[49m\u001b[43mslicecontent\u001b[49m\u001b[43m)\u001b[49m\u001b[43m,\u001b[49m\n\u001b[1;32m    567\u001b[0m \u001b[43m\u001b[49m\u001b[43m)\u001b[49m\n\u001b[1;32m    568\u001b[0m nextcontent \u001b[38;5;241m=\u001b[39m \u001b[38;5;28mself\u001b[39m\u001b[38;5;241m.\u001b[39m_content\u001b[38;5;241m.\u001b[39m_carry(nextcarry, \u001b[38;5;28;01mTrue\u001b[39;00m)\n",
      "File \u001b[0;32m~/anaconda3/lib/python3.10/site-packages/awkward/contents/content.py:271\u001b[0m, in \u001b[0;36mContent._maybe_index_error\u001b[0;34m(self, error, slicer)\u001b[0m\n\u001b[1;32m    270\u001b[0m message \u001b[38;5;241m=\u001b[39m \u001b[38;5;28mself\u001b[39m\u001b[38;5;241m.\u001b[39m_backend\u001b[38;5;241m.\u001b[39mformat_kernel_error(error)\n\u001b[0;32m--> 271\u001b[0m \u001b[38;5;28;01mraise\u001b[39;00m ak\u001b[38;5;241m.\u001b[39m_errors\u001b[38;5;241m.\u001b[39mindex_error(\u001b[38;5;28mself\u001b[39m, slicer, message)\n",
      "\u001b[0;31mIndexError\u001b[0m: cannot slice ListArray (of length 2314) with [[20, 25, 32, 34, 40, 41, 42, 62, ..., 87, 91, 105, 113, 114, 116, 117], ...]: index out of range while attempting to get index 62 (in compiled code: https://github.com/scikit-hep/awkward/blob/awkward-cpp-17/awkward-cpp/src/cpu-kernels/awkward_ListArray_getitem_jagged_apply.cpp#L43)",
      "\nThe above exception was the direct cause of the following exception:\n",
      "\u001b[0;31mIndexError\u001b[0m                                Traceback (most recent call last)",
      "Cell \u001b[0;32mIn[49], line 1\u001b[0m\n\u001b[0;32m----> 1\u001b[0m \u001b[43mfastjet\u001b[49m\u001b[38;5;241;43m.\u001b[39;49m\u001b[43mClusterSequence\u001b[49m\u001b[43m(\u001b[49m\u001b[43mselect_pfos\u001b[49m\u001b[43m,\u001b[49m\u001b[43m \u001b[49m\u001b[43mjetdef\u001b[49m\u001b[43m)\u001b[49m\u001b[38;5;241;43m.\u001b[39;49m\u001b[43mexclusive_jets_constituents\u001b[49m\u001b[43m(\u001b[49m\u001b[43mnjets\u001b[49m\u001b[38;5;241;43m=\u001b[39;49m\u001b[38;5;241;43m2\u001b[39;49m\u001b[43m)\u001b[49m\u001b[38;5;241;43m.\u001b[39;49m\u001b[43mcompute\u001b[49m\u001b[43m(\u001b[49m\u001b[43m)\u001b[49m\n",
      "File \u001b[0;32m~/anaconda3/lib/python3.10/site-packages/dask/base.py:314\u001b[0m, in \u001b[0;36mDaskMethodsMixin.compute\u001b[0;34m(self, **kwargs)\u001b[0m\n\u001b[1;32m    290\u001b[0m \u001b[38;5;28;01mdef\u001b[39;00m \u001b[38;5;21mcompute\u001b[39m(\u001b[38;5;28mself\u001b[39m, \u001b[38;5;241m*\u001b[39m\u001b[38;5;241m*\u001b[39mkwargs):\n\u001b[1;32m    291\u001b[0m \u001b[38;5;250m    \u001b[39m\u001b[38;5;124;03m\"\"\"Compute this dask collection\u001b[39;00m\n\u001b[1;32m    292\u001b[0m \n\u001b[1;32m    293\u001b[0m \u001b[38;5;124;03m    This turns a lazy Dask collection into its in-memory equivalent.\u001b[39;00m\n\u001b[0;32m   (...)\u001b[0m\n\u001b[1;32m    312\u001b[0m \u001b[38;5;124;03m    dask.compute\u001b[39;00m\n\u001b[1;32m    313\u001b[0m \u001b[38;5;124;03m    \"\"\"\u001b[39;00m\n\u001b[0;32m--> 314\u001b[0m     (result,) \u001b[38;5;241m=\u001b[39m \u001b[43mcompute\u001b[49m\u001b[43m(\u001b[49m\u001b[38;5;28;43mself\u001b[39;49m\u001b[43m,\u001b[49m\u001b[43m \u001b[49m\u001b[43mtraverse\u001b[49m\u001b[38;5;241;43m=\u001b[39;49m\u001b[38;5;28;43;01mFalse\u001b[39;49;00m\u001b[43m,\u001b[49m\u001b[43m \u001b[49m\u001b[38;5;241;43m*\u001b[39;49m\u001b[38;5;241;43m*\u001b[39;49m\u001b[43mkwargs\u001b[49m\u001b[43m)\u001b[49m\n\u001b[1;32m    315\u001b[0m     \u001b[38;5;28;01mreturn\u001b[39;00m result\n",
      "File \u001b[0;32m~/anaconda3/lib/python3.10/site-packages/dask/base.py:599\u001b[0m, in \u001b[0;36mcompute\u001b[0;34m(traverse, optimize_graph, scheduler, get, *args, **kwargs)\u001b[0m\n\u001b[1;32m    596\u001b[0m     keys\u001b[38;5;241m.\u001b[39mappend(x\u001b[38;5;241m.\u001b[39m__dask_keys__())\n\u001b[1;32m    597\u001b[0m     postcomputes\u001b[38;5;241m.\u001b[39mappend(x\u001b[38;5;241m.\u001b[39m__dask_postcompute__())\n\u001b[0;32m--> 599\u001b[0m results \u001b[38;5;241m=\u001b[39m \u001b[43mschedule\u001b[49m\u001b[43m(\u001b[49m\u001b[43mdsk\u001b[49m\u001b[43m,\u001b[49m\u001b[43m \u001b[49m\u001b[43mkeys\u001b[49m\u001b[43m,\u001b[49m\u001b[43m \u001b[49m\u001b[38;5;241;43m*\u001b[39;49m\u001b[38;5;241;43m*\u001b[39;49m\u001b[43mkwargs\u001b[49m\u001b[43m)\u001b[49m\n\u001b[1;32m    600\u001b[0m \u001b[38;5;28;01mreturn\u001b[39;00m repack([f(r, \u001b[38;5;241m*\u001b[39ma) \u001b[38;5;28;01mfor\u001b[39;00m r, (f, a) \u001b[38;5;129;01min\u001b[39;00m \u001b[38;5;28mzip\u001b[39m(results, postcomputes)])\n",
      "File \u001b[0;32m~/anaconda3/lib/python3.10/site-packages/dask/threaded.py:89\u001b[0m, in \u001b[0;36mget\u001b[0;34m(dsk, keys, cache, num_workers, pool, **kwargs)\u001b[0m\n\u001b[1;32m     86\u001b[0m     \u001b[38;5;28;01melif\u001b[39;00m \u001b[38;5;28misinstance\u001b[39m(pool, multiprocessing\u001b[38;5;241m.\u001b[39mpool\u001b[38;5;241m.\u001b[39mPool):\n\u001b[1;32m     87\u001b[0m         pool \u001b[38;5;241m=\u001b[39m MultiprocessingPoolExecutor(pool)\n\u001b[0;32m---> 89\u001b[0m results \u001b[38;5;241m=\u001b[39m \u001b[43mget_async\u001b[49m\u001b[43m(\u001b[49m\n\u001b[1;32m     90\u001b[0m \u001b[43m    \u001b[49m\u001b[43mpool\u001b[49m\u001b[38;5;241;43m.\u001b[39;49m\u001b[43msubmit\u001b[49m\u001b[43m,\u001b[49m\n\u001b[1;32m     91\u001b[0m \u001b[43m    \u001b[49m\u001b[43mpool\u001b[49m\u001b[38;5;241;43m.\u001b[39;49m\u001b[43m_max_workers\u001b[49m\u001b[43m,\u001b[49m\n\u001b[1;32m     92\u001b[0m \u001b[43m    \u001b[49m\u001b[43mdsk\u001b[49m\u001b[43m,\u001b[49m\n\u001b[1;32m     93\u001b[0m \u001b[43m    \u001b[49m\u001b[43mkeys\u001b[49m\u001b[43m,\u001b[49m\n\u001b[1;32m     94\u001b[0m \u001b[43m    \u001b[49m\u001b[43mcache\u001b[49m\u001b[38;5;241;43m=\u001b[39;49m\u001b[43mcache\u001b[49m\u001b[43m,\u001b[49m\n\u001b[1;32m     95\u001b[0m \u001b[43m    \u001b[49m\u001b[43mget_id\u001b[49m\u001b[38;5;241;43m=\u001b[39;49m\u001b[43m_thread_get_id\u001b[49m\u001b[43m,\u001b[49m\n\u001b[1;32m     96\u001b[0m \u001b[43m    \u001b[49m\u001b[43mpack_exception\u001b[49m\u001b[38;5;241;43m=\u001b[39;49m\u001b[43mpack_exception\u001b[49m\u001b[43m,\u001b[49m\n\u001b[1;32m     97\u001b[0m \u001b[43m    \u001b[49m\u001b[38;5;241;43m*\u001b[39;49m\u001b[38;5;241;43m*\u001b[39;49m\u001b[43mkwargs\u001b[49m\u001b[43m,\u001b[49m\n\u001b[1;32m     98\u001b[0m \u001b[43m\u001b[49m\u001b[43m)\u001b[49m\n\u001b[1;32m    100\u001b[0m \u001b[38;5;66;03m# Cleanup pools associated to dead threads\u001b[39;00m\n\u001b[1;32m    101\u001b[0m \u001b[38;5;28;01mwith\u001b[39;00m pools_lock:\n",
      "File \u001b[0;32m~/anaconda3/lib/python3.10/site-packages/dask/local.py:511\u001b[0m, in \u001b[0;36mget_async\u001b[0;34m(submit, num_workers, dsk, result, cache, get_id, rerun_exceptions_locally, pack_exception, raise_exception, callbacks, dumps, loads, chunksize, **kwargs)\u001b[0m\n\u001b[1;32m    509\u001b[0m         _execute_task(task, data)  \u001b[38;5;66;03m# Re-execute locally\u001b[39;00m\n\u001b[1;32m    510\u001b[0m     \u001b[38;5;28;01melse\u001b[39;00m:\n\u001b[0;32m--> 511\u001b[0m         \u001b[43mraise_exception\u001b[49m\u001b[43m(\u001b[49m\u001b[43mexc\u001b[49m\u001b[43m,\u001b[49m\u001b[43m \u001b[49m\u001b[43mtb\u001b[49m\u001b[43m)\u001b[49m\n\u001b[1;32m    512\u001b[0m res, worker_id \u001b[38;5;241m=\u001b[39m loads(res_info)\n\u001b[1;32m    513\u001b[0m state[\u001b[38;5;124m\"\u001b[39m\u001b[38;5;124mcache\u001b[39m\u001b[38;5;124m\"\u001b[39m][key] \u001b[38;5;241m=\u001b[39m res\n",
      "File \u001b[0;32m~/anaconda3/lib/python3.10/site-packages/dask/local.py:319\u001b[0m, in \u001b[0;36mreraise\u001b[0;34m(exc, tb)\u001b[0m\n\u001b[1;32m    317\u001b[0m \u001b[38;5;28;01mif\u001b[39;00m exc\u001b[38;5;241m.\u001b[39m__traceback__ \u001b[38;5;129;01mis\u001b[39;00m \u001b[38;5;129;01mnot\u001b[39;00m tb:\n\u001b[1;32m    318\u001b[0m     \u001b[38;5;28;01mraise\u001b[39;00m exc\u001b[38;5;241m.\u001b[39mwith_traceback(tb)\n\u001b[0;32m--> 319\u001b[0m \u001b[38;5;28;01mraise\u001b[39;00m exc\n",
      "File \u001b[0;32m~/anaconda3/lib/python3.10/site-packages/dask/local.py:224\u001b[0m, in \u001b[0;36mexecute_task\u001b[0;34m(key, task_info, dumps, loads, get_id, pack_exception)\u001b[0m\n\u001b[1;32m    222\u001b[0m \u001b[38;5;28;01mtry\u001b[39;00m:\n\u001b[1;32m    223\u001b[0m     task, data \u001b[38;5;241m=\u001b[39m loads(task_info)\n\u001b[0;32m--> 224\u001b[0m     result \u001b[38;5;241m=\u001b[39m \u001b[43m_execute_task\u001b[49m\u001b[43m(\u001b[49m\u001b[43mtask\u001b[49m\u001b[43m,\u001b[49m\u001b[43m \u001b[49m\u001b[43mdata\u001b[49m\u001b[43m)\u001b[49m\n\u001b[1;32m    225\u001b[0m     \u001b[38;5;28mid\u001b[39m \u001b[38;5;241m=\u001b[39m get_id()\n\u001b[1;32m    226\u001b[0m     result \u001b[38;5;241m=\u001b[39m dumps((result, \u001b[38;5;28mid\u001b[39m))\n",
      "File \u001b[0;32m~/anaconda3/lib/python3.10/site-packages/dask/core.py:119\u001b[0m, in \u001b[0;36m_execute_task\u001b[0;34m(arg, cache, dsk)\u001b[0m\n\u001b[1;32m    115\u001b[0m     func, args \u001b[38;5;241m=\u001b[39m arg[\u001b[38;5;241m0\u001b[39m], arg[\u001b[38;5;241m1\u001b[39m:]\n\u001b[1;32m    116\u001b[0m     \u001b[38;5;66;03m# Note: Don't assign the subtask results to a variable. numpy detects\u001b[39;00m\n\u001b[1;32m    117\u001b[0m     \u001b[38;5;66;03m# temporaries by their reference count and can execute certain\u001b[39;00m\n\u001b[1;32m    118\u001b[0m     \u001b[38;5;66;03m# operations in-place.\u001b[39;00m\n\u001b[0;32m--> 119\u001b[0m     \u001b[38;5;28;01mreturn\u001b[39;00m \u001b[43mfunc\u001b[49m\u001b[43m(\u001b[49m\u001b[38;5;241;43m*\u001b[39;49m\u001b[43m(\u001b[49m\u001b[43m_execute_task\u001b[49m\u001b[43m(\u001b[49m\u001b[43ma\u001b[49m\u001b[43m,\u001b[49m\u001b[43m \u001b[49m\u001b[43mcache\u001b[49m\u001b[43m)\u001b[49m\u001b[43m \u001b[49m\u001b[38;5;28;43;01mfor\u001b[39;49;00m\u001b[43m \u001b[49m\u001b[43ma\u001b[49m\u001b[43m \u001b[49m\u001b[38;5;129;43;01min\u001b[39;49;00m\u001b[43m \u001b[49m\u001b[43margs\u001b[49m\u001b[43m)\u001b[49m\u001b[43m)\u001b[49m\n\u001b[1;32m    120\u001b[0m \u001b[38;5;28;01melif\u001b[39;00m \u001b[38;5;129;01mnot\u001b[39;00m ishashable(arg):\n\u001b[1;32m    121\u001b[0m     \u001b[38;5;28;01mreturn\u001b[39;00m arg\n",
      "File \u001b[0;32m~/anaconda3/lib/python3.10/site-packages/dask/optimization.py:990\u001b[0m, in \u001b[0;36mSubgraphCallable.__call__\u001b[0;34m(self, *args)\u001b[0m\n\u001b[1;32m    988\u001b[0m \u001b[38;5;28;01mif\u001b[39;00m \u001b[38;5;129;01mnot\u001b[39;00m \u001b[38;5;28mlen\u001b[39m(args) \u001b[38;5;241m==\u001b[39m \u001b[38;5;28mlen\u001b[39m(\u001b[38;5;28mself\u001b[39m\u001b[38;5;241m.\u001b[39minkeys):\n\u001b[1;32m    989\u001b[0m     \u001b[38;5;28;01mraise\u001b[39;00m \u001b[38;5;167;01mValueError\u001b[39;00m(\u001b[38;5;124m\"\u001b[39m\u001b[38;5;124mExpected \u001b[39m\u001b[38;5;132;01m%d\u001b[39;00m\u001b[38;5;124m args, got \u001b[39m\u001b[38;5;132;01m%d\u001b[39;00m\u001b[38;5;124m\"\u001b[39m \u001b[38;5;241m%\u001b[39m (\u001b[38;5;28mlen\u001b[39m(\u001b[38;5;28mself\u001b[39m\u001b[38;5;241m.\u001b[39minkeys), \u001b[38;5;28mlen\u001b[39m(args)))\n\u001b[0;32m--> 990\u001b[0m \u001b[38;5;28;01mreturn\u001b[39;00m \u001b[43mcore\u001b[49m\u001b[38;5;241;43m.\u001b[39;49m\u001b[43mget\u001b[49m\u001b[43m(\u001b[49m\u001b[38;5;28;43mself\u001b[39;49m\u001b[38;5;241;43m.\u001b[39;49m\u001b[43mdsk\u001b[49m\u001b[43m,\u001b[49m\u001b[43m \u001b[49m\u001b[38;5;28;43mself\u001b[39;49m\u001b[38;5;241;43m.\u001b[39;49m\u001b[43moutkey\u001b[49m\u001b[43m,\u001b[49m\u001b[43m \u001b[49m\u001b[38;5;28;43mdict\u001b[39;49m\u001b[43m(\u001b[49m\u001b[38;5;28;43mzip\u001b[39;49m\u001b[43m(\u001b[49m\u001b[38;5;28;43mself\u001b[39;49m\u001b[38;5;241;43m.\u001b[39;49m\u001b[43minkeys\u001b[49m\u001b[43m,\u001b[49m\u001b[43m \u001b[49m\u001b[43margs\u001b[49m\u001b[43m)\u001b[49m\u001b[43m)\u001b[49m\u001b[43m)\u001b[49m\n",
      "File \u001b[0;32m~/anaconda3/lib/python3.10/site-packages/dask/core.py:149\u001b[0m, in \u001b[0;36mget\u001b[0;34m(dsk, out, cache)\u001b[0m\n\u001b[1;32m    147\u001b[0m \u001b[38;5;28;01mfor\u001b[39;00m key \u001b[38;5;129;01min\u001b[39;00m toposort(dsk):\n\u001b[1;32m    148\u001b[0m     task \u001b[38;5;241m=\u001b[39m dsk[key]\n\u001b[0;32m--> 149\u001b[0m     result \u001b[38;5;241m=\u001b[39m \u001b[43m_execute_task\u001b[49m\u001b[43m(\u001b[49m\u001b[43mtask\u001b[49m\u001b[43m,\u001b[49m\u001b[43m \u001b[49m\u001b[43mcache\u001b[49m\u001b[43m)\u001b[49m\n\u001b[1;32m    150\u001b[0m     cache[key] \u001b[38;5;241m=\u001b[39m result\n\u001b[1;32m    151\u001b[0m result \u001b[38;5;241m=\u001b[39m _execute_task(out, cache)\n",
      "File \u001b[0;32m~/anaconda3/lib/python3.10/site-packages/dask/core.py:119\u001b[0m, in \u001b[0;36m_execute_task\u001b[0;34m(arg, cache, dsk)\u001b[0m\n\u001b[1;32m    115\u001b[0m     func, args \u001b[38;5;241m=\u001b[39m arg[\u001b[38;5;241m0\u001b[39m], arg[\u001b[38;5;241m1\u001b[39m:]\n\u001b[1;32m    116\u001b[0m     \u001b[38;5;66;03m# Note: Don't assign the subtask results to a variable. numpy detects\u001b[39;00m\n\u001b[1;32m    117\u001b[0m     \u001b[38;5;66;03m# temporaries by their reference count and can execute certain\u001b[39;00m\n\u001b[1;32m    118\u001b[0m     \u001b[38;5;66;03m# operations in-place.\u001b[39;00m\n\u001b[0;32m--> 119\u001b[0m     \u001b[38;5;28;01mreturn\u001b[39;00m \u001b[43mfunc\u001b[49m\u001b[43m(\u001b[49m\u001b[38;5;241;43m*\u001b[39;49m\u001b[43m(\u001b[49m\u001b[43m_execute_task\u001b[49m\u001b[43m(\u001b[49m\u001b[43ma\u001b[49m\u001b[43m,\u001b[49m\u001b[43m \u001b[49m\u001b[43mcache\u001b[49m\u001b[43m)\u001b[49m\u001b[43m \u001b[49m\u001b[38;5;28;43;01mfor\u001b[39;49;00m\u001b[43m \u001b[49m\u001b[43ma\u001b[49m\u001b[43m \u001b[49m\u001b[38;5;129;43;01min\u001b[39;49;00m\u001b[43m \u001b[49m\u001b[43margs\u001b[49m\u001b[43m)\u001b[49m\u001b[43m)\u001b[49m\n\u001b[1;32m    120\u001b[0m \u001b[38;5;28;01melif\u001b[39;00m \u001b[38;5;129;01mnot\u001b[39;00m ishashable(arg):\n\u001b[1;32m    121\u001b[0m     \u001b[38;5;28;01mreturn\u001b[39;00m arg\n",
      "File \u001b[0;32m~/anaconda3/lib/python3.10/site-packages/fastjet/_pyjet.py:274\u001b[0m, in \u001b[0;36m_FnDelayedInternalRepCaller.__call__\u001b[0;34m(self, array, *arrays)\u001b[0m\n\u001b[1;32m    269\u001b[0m     \u001b[38;5;28;01mreturn\u001b[39;00m ak\u001b[38;5;241m.\u001b[39mArray(\n\u001b[1;32m    270\u001b[0m         out\u001b[38;5;241m.\u001b[39mlayout\u001b[38;5;241m.\u001b[39mto_typetracer(forget_length\u001b[38;5;241m=\u001b[39m\u001b[38;5;28;01mTrue\u001b[39;00m),\n\u001b[1;32m    271\u001b[0m         behavior\u001b[38;5;241m=\u001b[39mout\u001b[38;5;241m.\u001b[39mbehavior,\n\u001b[1;32m    272\u001b[0m     )\n\u001b[1;32m    273\u001b[0m seq \u001b[38;5;241m=\u001b[39m AwkwardClusterSequence(array, \u001b[38;5;28mself\u001b[39m\u001b[38;5;241m.\u001b[39mjetdef)\n\u001b[0;32m--> 274\u001b[0m \u001b[38;5;28;01mreturn\u001b[39;00m \u001b[38;5;28;43mgetattr\u001b[39;49m\u001b[43m(\u001b[49m\u001b[43mseq\u001b[49m\u001b[43m,\u001b[49m\u001b[43m \u001b[49m\u001b[38;5;28;43mself\u001b[39;49m\u001b[38;5;241;43m.\u001b[39;49m\u001b[43mname\u001b[49m\u001b[43m)\u001b[49m\u001b[43m(\u001b[49m\u001b[38;5;241;43m*\u001b[39;49m\u001b[43marrays\u001b[49m\u001b[43m,\u001b[49m\u001b[43m \u001b[49m\u001b[38;5;241;43m*\u001b[39;49m\u001b[38;5;241;43m*\u001b[39;49m\u001b[38;5;28;43mself\u001b[39;49m\u001b[38;5;241;43m.\u001b[39;49m\u001b[43mkwargs\u001b[49m\u001b[43m)\u001b[49m\n",
      "File \u001b[0;32m~/anaconda3/lib/python3.10/site-packages/fastjet/_pyjet.py:144\u001b[0m, in \u001b[0;36mAwkwardClusterSequence.exclusive_jets_constituents\u001b[0;34m(self, njets)\u001b[0m\n\u001b[1;32m    143\u001b[0m \u001b[38;5;28;01mdef\u001b[39;00m \u001b[38;5;21mexclusive_jets_constituents\u001b[39m(\u001b[38;5;28mself\u001b[39m, njets\u001b[38;5;241m=\u001b[39m\u001b[38;5;241m10\u001b[39m):\n\u001b[0;32m--> 144\u001b[0m     \u001b[38;5;28;01mreturn\u001b[39;00m \u001b[38;5;28;43mself\u001b[39;49m\u001b[38;5;241;43m.\u001b[39;49m\u001b[43m_internalrep\u001b[49m\u001b[38;5;241;43m.\u001b[39;49m\u001b[43mexclusive_jets_constituents\u001b[49m\u001b[43m(\u001b[49m\u001b[43mnjets\u001b[49m\u001b[43m)\u001b[49m\n",
      "File \u001b[0;32m~/anaconda3/lib/python3.10/site-packages/fastjet/_multievent.py:284\u001b[0m, in \u001b[0;36m_classmultievent.exclusive_jets_constituents\u001b[0;34m(self, njets)\u001b[0m\n\u001b[1;32m    282\u001b[0m duplicate \u001b[38;5;241m=\u001b[39m ak\u001b[38;5;241m.\u001b[39munflatten(np\u001b[38;5;241m.\u001b[39mzeros(total, np\u001b[38;5;241m.\u001b[39mint64), shape)\n\u001b[1;32m    283\u001b[0m prepared \u001b[38;5;241m=\u001b[39m \u001b[38;5;28mself\u001b[39m\u001b[38;5;241m.\u001b[39mdata[:, np\u001b[38;5;241m.\u001b[39mnewaxis][duplicate]\n\u001b[0;32m--> 284\u001b[0m \u001b[38;5;28;01mreturn\u001b[39;00m \u001b[43mprepared\u001b[49m\u001b[43m[\u001b[49m\u001b[43moutputs_to_inputs\u001b[49m\u001b[43m]\u001b[49m\n",
      "File \u001b[0;32m~/anaconda3/lib/python3.10/site-packages/awkward/highlevel.py:949\u001b[0m, in \u001b[0;36mArray.__getitem__\u001b[0;34m(self, where)\u001b[0m\n\u001b[1;32m    520\u001b[0m \u001b[38;5;28;01mdef\u001b[39;00m \u001b[38;5;21m__getitem__\u001b[39m(\u001b[38;5;28mself\u001b[39m, where):\n\u001b[1;32m    521\u001b[0m \u001b[38;5;250m    \u001b[39m\u001b[38;5;124;03m\"\"\"\u001b[39;00m\n\u001b[1;32m    522\u001b[0m \u001b[38;5;124;03m    Args:\u001b[39;00m\n\u001b[1;32m    523\u001b[0m \u001b[38;5;124;03m        where (many types supported; see below): Index of positions to\u001b[39;00m\n\u001b[0;32m   (...)\u001b[0m\n\u001b[1;32m    947\u001b[0m \u001b[38;5;124;03m    have the same dimension as the array being indexed.\u001b[39;00m\n\u001b[1;32m    948\u001b[0m \u001b[38;5;124;03m    \"\"\"\u001b[39;00m\n\u001b[0;32m--> 949\u001b[0m     \u001b[38;5;28;01mwith\u001b[39;00m ak\u001b[38;5;241m.\u001b[39m_errors\u001b[38;5;241m.\u001b[39mSlicingErrorContext(\u001b[38;5;28mself\u001b[39m, where):\n\u001b[1;32m    950\u001b[0m         out \u001b[38;5;241m=\u001b[39m \u001b[38;5;28mself\u001b[39m\u001b[38;5;241m.\u001b[39m_layout[where]\n\u001b[1;32m    951\u001b[0m         \u001b[38;5;28;01mif\u001b[39;00m \u001b[38;5;28misinstance\u001b[39m(out, ak\u001b[38;5;241m.\u001b[39mcontents\u001b[38;5;241m.\u001b[39mNumpyArray):\n",
      "File \u001b[0;32m~/anaconda3/lib/python3.10/site-packages/awkward/_errors.py:62\u001b[0m, in \u001b[0;36mErrorContext.__exit__\u001b[0;34m(self, exception_type, exception_value, traceback)\u001b[0m\n\u001b[1;32m     59\u001b[0m \u001b[38;5;28;01mtry\u001b[39;00m:\n\u001b[1;32m     60\u001b[0m     \u001b[38;5;66;03m# Handle caught exception\u001b[39;00m\n\u001b[1;32m     61\u001b[0m     \u001b[38;5;28;01mif\u001b[39;00m exception_type \u001b[38;5;129;01mis\u001b[39;00m \u001b[38;5;129;01mnot\u001b[39;00m \u001b[38;5;28;01mNone\u001b[39;00m \u001b[38;5;129;01mand\u001b[39;00m \u001b[38;5;28mself\u001b[39m\u001b[38;5;241m.\u001b[39mprimary() \u001b[38;5;129;01mis\u001b[39;00m \u001b[38;5;28mself\u001b[39m:\n\u001b[0;32m---> 62\u001b[0m         \u001b[38;5;28;43mself\u001b[39;49m\u001b[38;5;241;43m.\u001b[39;49m\u001b[43mhandle_exception\u001b[49m\u001b[43m(\u001b[49m\u001b[43mexception_type\u001b[49m\u001b[43m,\u001b[49m\u001b[43m \u001b[49m\u001b[43mexception_value\u001b[49m\u001b[43m)\u001b[49m\n\u001b[1;32m     63\u001b[0m \u001b[38;5;28;01mfinally\u001b[39;00m:\n\u001b[1;32m     64\u001b[0m     \u001b[38;5;66;03m# `_kwargs` may hold cyclic references, that we really want to avoid\u001b[39;00m\n\u001b[1;32m     65\u001b[0m     \u001b[38;5;66;03m# as this can lead to large buffers remaining in memory for longer than absolutely necessary\u001b[39;00m\n\u001b[1;32m     66\u001b[0m     \u001b[38;5;66;03m# Let's just clear this, now.\u001b[39;00m\n\u001b[1;32m     67\u001b[0m     \u001b[38;5;28mself\u001b[39m\u001b[38;5;241m.\u001b[39m_kwargs\u001b[38;5;241m.\u001b[39mclear()\n",
      "File \u001b[0;32m~/anaconda3/lib/python3.10/site-packages/awkward/_errors.py:77\u001b[0m, in \u001b[0;36mErrorContext.handle_exception\u001b[0;34m(self, cls, exception)\u001b[0m\n\u001b[1;32m     75\u001b[0m     \u001b[38;5;28mself\u001b[39m\u001b[38;5;241m.\u001b[39mdecorate_exception(\u001b[38;5;28mcls\u001b[39m, exception)\n\u001b[1;32m     76\u001b[0m \u001b[38;5;28;01melse\u001b[39;00m:\n\u001b[0;32m---> 77\u001b[0m     \u001b[38;5;28;01mraise\u001b[39;00m \u001b[38;5;28mself\u001b[39m\u001b[38;5;241m.\u001b[39mdecorate_exception(\u001b[38;5;28mcls\u001b[39m, exception)\n",
      "\u001b[0;31mIndexError\u001b[0m: cannot slice ListArray (of length 2314) with [[20, 25, 32, 34, 40, 41, 42, 62, ..., 87, 91, 105, 113, 114, 116, 117], ...]: index out of range while attempting to get index 62 (in compiled code: https://github.com/scikit-hep/awkward/blob/awkward-cpp-17/awkward-cpp/src/cpu-kernels/awkward_ListArray_getitem_jagged_apply.cpp#L43)\n\nThis error occurred while attempting to slice\n\n    <RecoParticleArray [[[{x: 0.29, ...}, ...], ...], ...] type='1157 * var...'>\n\nwith\n\n    <Array [[[20, 25, ..., 116, 117], ...], ...] type='1157 * var * var * int32'>"
     ]
    }
   ],
   "source": [
    "fastjet.ClusterSequence(select_pfos, jetdef).exclusive_jets_constituents(njets=2).compute()"
   ]
  }
 ],
 "metadata": {
  "kernelspec": {
   "display_name": "Python 3 (ipykernel)",
   "language": "python",
   "name": "python3"
  },
  "language_info": {
   "codemirror_mode": {
    "name": "ipython",
    "version": 3
   },
   "file_extension": ".py",
   "mimetype": "text/x-python",
   "name": "python",
   "nbconvert_exporter": "python",
   "pygments_lexer": "ipython3",
   "version": "3.10.9"
  }
 },
 "nbformat": 4,
 "nbformat_minor": 5
}
