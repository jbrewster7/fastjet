{
 "cells": [
  {
   "cell_type": "code",
   "execution_count": 57,
   "id": "77360d4d",
   "metadata": {},
   "outputs": [],
   "source": [
    "import awkward as ak \n",
    "import numpy as np\n",
    "import matplotlib.pyplot as plt\n",
    "import fastjet\n",
    "from coffea.nanoevents import NanoEventsFactory, EDM4HEPSchema\n",
    "import dask_awkward as dak\n",
    "import hist.dask as hda\n",
    "import uproot\n",
    "from tabulate import tabulate"
   ]
  },
  {
   "cell_type": "code",
   "execution_count": 2,
   "id": "2ae15ec1",
   "metadata": {},
   "outputs": [
    {
     "name": "stderr",
     "output_type": "stream",
     "text": [
      "/Users/josephinebrewster/TRIUMF-Summer-2023/coffea_dev/coffea/src/coffea/nanoevents/factory.py:63: UserWarning: Skipping PARAMETERS as it is it cannot be interpreted by Uproot\n",
      "  warnings.warn(\n",
      "/Users/josephinebrewster/TRIUMF-Summer-2023/coffea_dev/coffea/src/coffea/nanoevents/factory.py:45: UserWarning: Skipping _intMap as it is not interpretable by Uproot\n",
      "  warnings.warn(\n",
      "/Users/josephinebrewster/TRIUMF-Summer-2023/coffea_dev/coffea/src/coffea/nanoevents/factory.py:52: UserWarning: Skipping _intMap.first as it is not interpretable by Uproot\n",
      "  warnings.warn(f\"Skipping {branch.name} as it is not interpretable by Uproot\")\n",
      "/Users/josephinebrewster/TRIUMF-Summer-2023/coffea_dev/coffea/src/coffea/nanoevents/factory.py:52: UserWarning: Skipping _intMap.second as it is not interpretable by Uproot\n",
      "  warnings.warn(f\"Skipping {branch.name} as it is not interpretable by Uproot\")\n",
      "/Users/josephinebrewster/TRIUMF-Summer-2023/coffea_dev/coffea/src/coffea/nanoevents/factory.py:45: UserWarning: Skipping _floatMap as it is not interpretable by Uproot\n",
      "  warnings.warn(\n",
      "/Users/josephinebrewster/TRIUMF-Summer-2023/coffea_dev/coffea/src/coffea/nanoevents/factory.py:52: UserWarning: Skipping _floatMap.first as it is not interpretable by Uproot\n",
      "  warnings.warn(f\"Skipping {branch.name} as it is not interpretable by Uproot\")\n",
      "/Users/josephinebrewster/TRIUMF-Summer-2023/coffea_dev/coffea/src/coffea/nanoevents/factory.py:52: UserWarning: Skipping _floatMap.second as it is not interpretable by Uproot\n",
      "  warnings.warn(f\"Skipping {branch.name} as it is not interpretable by Uproot\")\n",
      "/Users/josephinebrewster/TRIUMF-Summer-2023/coffea_dev/coffea/src/coffea/nanoevents/factory.py:45: UserWarning: Skipping _stringMap as it is not interpretable by Uproot\n",
      "  warnings.warn(\n",
      "/Users/josephinebrewster/TRIUMF-Summer-2023/coffea_dev/coffea/src/coffea/nanoevents/factory.py:52: UserWarning: Skipping _stringMap.first as it is not interpretable by Uproot\n",
      "  warnings.warn(f\"Skipping {branch.name} as it is not interpretable by Uproot\")\n",
      "/Users/josephinebrewster/TRIUMF-Summer-2023/coffea_dev/coffea/src/coffea/nanoevents/factory.py:52: UserWarning: Skipping _stringMap.second as it is not interpretable by Uproot\n",
      "  warnings.warn(f\"Skipping {branch.name} as it is not interpretable by Uproot\")\n",
      "/Users/josephinebrewster/TRIUMF-Summer-2023/coffea_dev/coffea/src/coffea/nanoevents/factory.py:45: UserWarning: Skipping _doubleMap as it is not interpretable by Uproot\n",
      "  warnings.warn(\n",
      "/Users/josephinebrewster/TRIUMF-Summer-2023/coffea_dev/coffea/src/coffea/nanoevents/factory.py:52: UserWarning: Skipping _doubleMap.first as it is not interpretable by Uproot\n",
      "  warnings.warn(f\"Skipping {branch.name} as it is not interpretable by Uproot\")\n",
      "/Users/josephinebrewster/TRIUMF-Summer-2023/coffea_dev/coffea/src/coffea/nanoevents/factory.py:52: UserWarning: Skipping _doubleMap.second as it is not interpretable by Uproot\n",
      "  warnings.warn(f\"Skipping {branch.name} as it is not interpretable by Uproot\")\n"
     ]
    }
   ],
   "source": [
    "events = NanoEventsFactory.from_root( \n",
    "    {\"../../coffea_dev/root_files_may18/rv02-02.sv02-02.mILD_l5_o1_v02.E250-SetA.I402004\" \n",
    "    \".Pe2e2h.eR.pL.n000.d_dstm_15090_*.slcio.edm4hep.root\"\n",
    "#      \".Pe2e2h.eR.pL.n000.d_dstm_15090_2.slcio.edm4hep.root\"\n",
    "    :\"events\"},\n",
    "    schemaclass=EDM4HEPSchema,\n",
    "    permit_dask=True,\n",
    "    metadata = {'b_field':5},\n",
    ").events()"
   ]
  },
  {
   "cell_type": "markdown",
   "id": "7f447f1a",
   "metadata": {},
   "source": [
    "## Big Picture "
   ]
  },
  {
   "cell_type": "code",
   "execution_count": 35,
   "id": "10cfc650",
   "metadata": {},
   "outputs": [],
   "source": [
    "pfos = events.MCParticlesSkimmed.matched_pfos.compute()\n",
    "num_pfos_linked = ak.fill_none(ak.num(pfos.p,axis=2),0)"
   ]
  },
  {
   "cell_type": "code",
   "execution_count": 36,
   "id": "f421bc8c",
   "metadata": {
    "scrolled": false
   },
   "outputs": [
    {
     "data": {
      "text/plain": [
       "Text(0.5, 0, 'number of pfos linked to a mc particle')"
      ]
     },
     "execution_count": 36,
     "metadata": {},
     "output_type": "execute_result"
    },
    {
     "data": {
      "image/png": "[encoded data removed]",
      "text/plain": [
       "<Figure size 640x480 with 1 Axes>"
      ]
     },
     "metadata": {},
     "output_type": "display_data"
    }
   ],
   "source": [
    "plt.close(1);plt.figure(1)\n",
    "\n",
    "mini = 0\n",
    "maxi = np.max(num_pfos_linked)\n",
    "# maxi = 4 \n",
    "\n",
    "nbins = 2*(maxi - mini)\n",
    "\n",
    "plt.hist(ak.flatten(num_pfos_linked),\n",
    "         bins=nbins,\n",
    "         range=(mini,maxi))\n",
    "\n",
    "plt.xlabel('number of pfos linked to a mc particle')"
   ]
  },
  {
   "cell_type": "code",
   "execution_count": 37,
   "id": "b6cf9019",
   "metadata": {},
   "outputs": [],
   "source": [
    "gen = events.PandoraPFOs.matched_gen.compute()\n",
    "num_gen_linked = ak.fill_none(ak.num(gen.p,axis=2),0)"
   ]
  },
  {
   "cell_type": "code",
   "execution_count": 40,
   "id": "19e507b5",
   "metadata": {
    "scrolled": false
   },
   "outputs": [
    {
     "data": {
      "text/plain": [
       "Text(0.5, 0, 'number of mc particles linked to a pfo')"
      ]
     },
     "execution_count": 40,
     "metadata": {},
     "output_type": "execute_result"
    },
    {
     "data": {
      "image/png": "[encoded data removed]",
      "text/plain": [
       "<Figure size 640x480 with 1 Axes>"
      ]
     },
     "metadata": {},
     "output_type": "display_data"
    }
   ],
   "source": [
    "plt.close(1);plt.figure(1)\n",
    "\n",
    "mini = 0\n",
    "maxi = np.max(num_gen_linked)\n",
    "# maxi = 10\n",
    "\n",
    "nbins = 2*(maxi - mini)\n",
    "\n",
    "plt.hist(ak.flatten(num_gen_linked),\n",
    "         bins=nbins,\n",
    "         range=(mini,maxi))\n",
    "\n",
    "plt.xlabel('number of mc particles linked to a pfo')"
   ]
  },
  {
   "cell_type": "markdown",
   "id": "1a2ae09f",
   "metadata": {},
   "source": [
    "## Close Up"
   ]
  },
  {
   "cell_type": "markdown",
   "id": "84d03566",
   "metadata": {},
   "source": [
    "**From https://github.com/iLCSoft/MarlinReco/blob/master/Analysis/RecoMCTruthLink/include/RecoMCTruthLinker.h**:\n",
    "\n",
    "This relation is based on the number of hits for tracks, for hits weighted with the SimHit-energy for clusters and calorimeter hits. For tracks and clusters, the weight is the sum of hits from the considered true particle divided by the sum of all hits, for calorimter hits, it's simply the simHit energy of the hit.\n",
    "\n",
    "For the reconstructed particles, the relation could either be only to the true particle having the largest weight, or to all contributing true particles. In the former case, the pointer (and weight) will concern the true particle creating hits in the tracker, if there are any. Only for track-less seen particles would it point to the main contributor to the cluster. In the latter case, pointers are set up to all contributing true particles, and the weight is given as (fractional contribution to track) + 10000* (fractional contribution to cluster), with fractions given in permil (int). Hence: trackwgt = (int(wgt)%10000)/1000. and  clusterwgt = (int(wgt)/10000)/1000. Which of the two is used is selected by the processor flag \"FullRecoRelation\" (default=true).\n",
    "\n",
    "For example a weight of 0.95 for a charged particle link implies that 95 percent of the SimTrackerHits used in the particles' track fit have been caused by the linked MCParticle. If a neutral particle with one cluster has no MC contribution assigned the MCParticle pointing closest to the cluster is assigned and the weight is set to the negative scalar product of the MCParticle's momentum direction and the direction to the Cluster position. (This fixes a bug in the Mokka LCal driver ov mokka-v06-06-p03).\n",
    "\n",
    "A skimmed MCParticle subset collection is created. It containes all particles created by the generator program and all particles that have been reconstructed including all their parents. Additionally, the daughters of all decays in flight of particles specified in 'KeepDaughtersPDG' (default: gamma, K0s and pi0) are kept in the skimmed list if the original particle is in the skim ( either from the generator or from  reconstruction)."
   ]
  },
  {
   "cell_type": "code",
   "execution_count": 179,
   "id": "95fdfb32",
   "metadata": {},
   "outputs": [],
   "source": [
    "reco_index = events.RecoMCTruthLink.reco_index.compute()\n",
    "mc_index = events.RecoMCTruthLink.mc_index.compute()\n",
    "\n",
    "mcreco_weights = (events.RecoMCTruthLink.weight_mc_reco.compute())\n",
    "recomc_weights = (events.RecoMCTruthLink.weight_reco_mc.compute())\n",
    "\n",
    "mc_p = events.MCParticlesSkimmed.p.compute()\n",
    "reco_p = events.PandoraPFOs.p.compute()\n",
    "\n",
    "mc_pdg = events.MCParticlesSkimmed.pdgId.compute()\n",
    "reco_pdg = events.PandoraPFOs.pdgId.compute()"
   ]
  },
  {
   "cell_type": "code",
   "execution_count": 167,
   "id": "22426ef8",
   "metadata": {},
   "outputs": [
    {
     "name": "stdout",
     "output_type": "stream",
     "text": [
      "╒════╤═════════════════╤═══════════════╤═══════════════════╤═══════════════════╤══════════════╤════════════╕\n",
      "│    │   reco momentum │   mc momentum │   reco->mc weight │   mc->reco weight │   reco pdgId │   mc pdgId │\n",
      "╞════╪═════════════════╪═══════════════╪═══════════════════╪═══════════════════╪══════════════╪════════════╡\n",
      "│  0 │        0.254448 │      0.258442 │     1000          │     500           │          211 │        -11 │\n",
      "├────┼─────────────────┼───────────────┼───────────────────┼───────────────────┼──────────────┼────────────┤\n",
      "│  1 │        0.182691 │      0.182409 │     1000          │     875           │         -211 │       -211 │\n",
      "├────┼─────────────────┼───────────────┼───────────────────┼───────────────────┼──────────────┼────────────┤\n",
      "│  2 │        0.345824 │      0.346603 │        1.0001e+07 │     295           │          211 │        -13 │\n",
      "├────┼─────────────────┼───────────────┼───────────────────┼───────────────────┼──────────────┼────────────┤\n",
      "│  3 │        0.369764 │      0.369599 │        1.0001e+07 │     145           │         -211 │       -211 │\n",
      "├────┼─────────────────┼───────────────┼───────────────────┼───────────────────┼──────────────┼────────────┤\n",
      "│  4 │       34.7977   │     34.802    │     1000          │       9.81097e+06 │           13 │         13 │\n",
      "├────┼─────────────────┼───────────────┼───────────────────┼───────────────────┼──────────────┼────────────┤\n",
      "│  5 │       73.7639   │     73.8565   │     1000          │       1.0001e+07  │          -13 │        -13 │\n",
      "╘════╧═════════════════╧═══════════════╧═══════════════════╧═══════════════════╧══════════════╧════════════╛\n"
     ]
    }
   ],
   "source": [
    "event=1\n",
    "\n",
    "arrx = np.array([\n",
    "                 reco_index[event][ak.argsort(reco_index,axis=1)[event]],\n",
    "                 reco_p[event][reco_index[event]][ak.argsort(reco_index,axis=1)[event]],\n",
    "                 mc_p[event][mc_index[event]][ak.argsort(reco_index,axis=1)[event]],\n",
    "                 recomc_weights[event][ak.argsort(reco_index,axis=1)[event]],\n",
    "                 mcreco_weights[event][ak.argsort(reco_index,axis=1)[event]],\n",
    "                 reco_pdg[event][reco_index[event]][ak.argsort(reco_index,axis=1)[event]],\n",
    "                 mc_pdg[event][mc_index[event]][ak.argsort(reco_index,axis=1)[event]]])\n",
    "\n",
    "title_arr = np.array(['reco momentum',\n",
    "                      'mc momentum',\n",
    "                      'reco->mc weight',\n",
    "                      'mc->reco weight',\n",
    "                      'reco pdgId',\n",
    "                      'mc pdgId'])\n",
    "\n",
    "table = tabulate(arrx.T, title_arr.T, tablefmt=\"fancy_grid\",floatfmt=('g','g','g','g','g','g'))\n",
    "\n",
    "print(table)"
   ]
  },
  {
   "cell_type": "code",
   "execution_count": 164,
   "id": "20f54200",
   "metadata": {},
   "outputs": [
    {
     "data": {
      "text/html": [
       "<pre>[77,\n",
       " 26,\n",
       " 36,\n",
       " 34,\n",
       " 20,\n",
       " 18]\n",
       "--------------------------------------------------------------------\n",
       "type: 6 * int32[parameters={&quot;__doc__&quot;: &quot;index[MCTruthRecoLink#1_]&quot;}]</pre>"
      ],
      "text/plain": [
       "<Array [77, 26, 36, 34, 20, 18] type='6 * int32[parameters={\"__doc__\": \"ind...'>"
      ]
     },
     "execution_count": 164,
     "metadata": {},
     "output_type": "execute_result"
    }
   ],
   "source": [
    "mc_index[event]"
   ]
  },
  {
   "cell_type": "code",
   "execution_count": 163,
   "id": "f379f0c3",
   "metadata": {},
   "outputs": [
    {
     "data": {
      "text/html": [
       "<pre>[0.254,\n",
       " 0.183,\n",
       " 0.346,\n",
       " 0.37,\n",
       " 34.8,\n",
       " 73.8]\n",
       "-----------------\n",
       "type: 6 * float32</pre>"
      ],
      "text/plain": [
       "<Array [0.254, 0.183, 0.346, 0.37, 34.8, 73.8] type='6 * float32'>"
      ]
     },
     "execution_count": 163,
     "metadata": {},
     "output_type": "execute_result"
    }
   ],
   "source": [
    "reco_p[event][reco_index[event]]"
   ]
  },
  {
   "cell_type": "code",
   "execution_count": 236,
   "id": "102661f4",
   "metadata": {
    "scrolled": false
   },
   "outputs": [
    {
     "name": "stdout",
     "output_type": "stream",
     "text": [
      "╒════╤═════╤══════════════╤══════════════╤═════════════╤══════════════╤═══════════╤═══════════╕\n",
      "│    │     │   r momentum │   m momentum │   r trk wgt │   r clst wgt │   r pdgId │   m pdgId │\n",
      "╞════╪═════╪══════════════╪══════════════╪═════════════╪══════════════╪═══════════╪═══════════╡\n",
      "│  0 │  69 │     1.0465   │   1.04784    │       0     │        0.009 │       211 │       211 │\n",
      "├────┼─────┼──────────────┼──────────────┼─────────────┼──────────────┼───────────┼───────────┤\n",
      "│  1 │  91 │     0.40131  │   0.401963   │       0     │        1     │      -211 │      -211 │\n",
      "├────┼─────┼──────────────┼──────────────┼─────────────┼──────────────┼───────────┼───────────┤\n",
      "│  2 │  67 │     0.84516  │   0.845991   │       0     │        0.02  │      -211 │      -211 │\n",
      "├────┼─────┼──────────────┼──────────────┼─────────────┼──────────────┼───────────┼───────────┤\n",
      "│  3 │ 173 │     0.265972 │   0.266181   │       0     │        0.011 │      -211 │      -211 │\n",
      "├────┼─────┼──────────────┼──────────────┼─────────────┼──────────────┼───────────┼───────────┤\n",
      "│  4 │ 135 │     0.466829 │   0.468396   │       0     │        0.06  │       -11 │       -11 │\n",
      "├────┼─────┼──────────────┼──────────────┼─────────────┼──────────────┼───────────┼───────────┤\n",
      "│  5 │  96 │     5.99649  │   5.99763    │       0     │        0.983 │       211 │       211 │\n",
      "├────┼─────┼──────────────┼──────────────┼─────────────┼──────────────┼───────────┼───────────┤\n",
      "│  6 │ 124 │     1.70502  │   1.70733    │       0     │        0.933 │       -11 │       211 │\n",
      "├────┼─────┼──────────────┼──────────────┼─────────────┼──────────────┼───────────┼───────────┤\n",
      "│  7 │ 122 │    14.8169   │  27.7162     │       0     │        0.022 │      -211 │       130 │\n",
      "├────┼─────┼──────────────┼──────────────┼─────────────┼──────────────┼───────────┼───────────┤\n",
      "│  7 │ 123 │    14.8169   │  14.7918     │       0     │        0.004 │      -211 │      -211 │\n",
      "├────┼─────┼──────────────┼──────────────┼─────────────┼──────────────┼───────────┼───────────┤\n",
      "│  7 │ 126 │    14.8169   │   2.01273    │       0.778 │        1     │      -211 │        22 │\n",
      "├────┼─────┼──────────────┼──────────────┼─────────────┼──────────────┼───────────┼───────────┤\n",
      "│  8 │  52 │     3.90929  │   3.90758    │       0     │        0.958 │      -211 │      -321 │\n",
      "├────┼─────┼──────────────┼──────────────┼─────────────┼──────────────┼───────────┼───────────┤\n",
      "│  8 │ 110 │     3.90929  │   3.10193    │       0     │        0.739 │      -211 │      -321 │\n",
      "├────┼─────┼──────────────┼──────────────┼─────────────┼──────────────┼───────────┼───────────┤\n",
      "│  9 │ 101 │     1.69019  │   1.68988    │       0     │        0.957 │       211 │       211 │\n",
      "├────┼─────┼──────────────┼──────────────┼─────────────┼──────────────┼───────────┼───────────┤\n",
      "│ 10 │ 110 │     3.09994  │   3.10193    │       0     │        0.078 │      -211 │      -321 │\n",
      "├────┼─────┼──────────────┼──────────────┼─────────────┼──────────────┼───────────┼───────────┤\n",
      "│ 11 │ 153 │     1.56722  │   0.246115   │       1     │        0     │        22 │        11 │\n",
      "├────┼─────┼──────────────┼──────────────┼─────────────┼──────────────┼───────────┼───────────┤\n",
      "│ 11 │ 154 │     1.56722  │   1.20898    │       1     │        1     │        22 │       -11 │\n",
      "├────┼─────┼──────────────┼──────────────┼─────────────┼──────────────┼───────────┼───────────┤\n",
      "│ 12 │ 112 │    12.0676   │  12.0646     │       1     │        0.996 │       211 │       211 │\n",
      "├────┼─────┼──────────────┼──────────────┼─────────────┼──────────────┼───────────┼───────────┤\n",
      "│ 12 │ 119 │    12.0676   │   2.04245    │       0     │        0.947 │       211 │        22 │\n",
      "├────┼─────┼──────────────┼──────────────┼─────────────┼──────────────┼───────────┼───────────┤\n",
      "│ 12 │ 120 │    12.0676   │   3.2248     │       0     │        0.013 │       211 │        22 │\n",
      "├────┼─────┼──────────────┼──────────────┼─────────────┼──────────────┼───────────┼───────────┤\n",
      "│ 13 │  76 │     2.01829  │   2.01719    │       0     │        0.01  │       211 │       211 │\n",
      "├────┼─────┼──────────────┼──────────────┼─────────────┼──────────────┼───────────┼───────────┤\n",
      "│ 14 │  55 │     1.42444  │   1.42576    │       0     │        0.008 │       211 │       211 │\n",
      "├────┼─────┼──────────────┼──────────────┼─────────────┼──────────────┼───────────┼───────────┤\n",
      "│ 15 │  58 │     3.91695  │   0.639603   │       0     │        0.998 │     -3122 │      -211 │\n",
      "├────┼─────┼──────────────┼──────────────┼─────────────┼──────────────┼───────────┼───────────┤\n",
      "│ 15 │  80 │     3.91695  │   3.4553     │       1     │        0.982 │     -3122 │     -2212 │\n",
      "├────┼─────┼──────────────┼──────────────┼─────────────┼──────────────┼───────────┼───────────┤\n",
      "│ 15 │  81 │     3.91695  │   0.47679    │       0     │        0.01  │     -3122 │       211 │\n",
      "├────┼─────┼──────────────┼──────────────┼─────────────┼──────────────┼───────────┼───────────┤\n",
      "│ 16 │  41 │     1.57     │   2.76503    │       1     │        1     │       211 │      2212 │\n",
      "├────┼─────┼──────────────┼──────────────┼─────────────┼──────────────┼───────────┼───────────┤\n",
      "│ 16 │  80 │     1.57     │   3.4553     │       0     │        0.008 │       211 │     -2212 │\n",
      "├────┼─────┼──────────────┼──────────────┼─────────────┼──────────────┼───────────┼───────────┤\n",
      "│ 16 │  83 │     1.57     │   1.56715    │       0     │        0.012 │       211 │       211 │\n",
      "├────┼─────┼──────────────┼──────────────┼─────────────┼──────────────┼───────────┼───────────┤\n",
      "│ 17 │  41 │     2.76074  │   2.76503    │       0     │        0.025 │       -11 │      2212 │\n",
      "├────┼─────┼──────────────┼──────────────┼─────────────┼──────────────┼───────────┼───────────┤\n",
      "│ 18 │ 136 │     0.99711  │   0.998036   │       0     │        0.94  │       211 │       -11 │\n",
      "├────┼─────┼──────────────┼──────────────┼─────────────┼──────────────┼───────────┼───────────┤\n",
      "│ 18 │ 137 │     0.99711  │   0.161372   │       0     │        0.993 │       211 │        22 │\n",
      "├────┼─────┼──────────────┼──────────────┼─────────────┼──────────────┼───────────┼───────────┤\n",
      "│ 18 │ 138 │     0.99711  │   0.392294   │       0     │        0.004 │       211 │        22 │\n",
      "├────┼─────┼──────────────┼──────────────┼─────────────┼──────────────┼───────────┼───────────┤\n",
      "│ 18 │ 139 │     0.99711  │   0.0324148  │       1     │        0     │       211 │        22 │\n",
      "├────┼─────┼──────────────┼──────────────┼─────────────┼──────────────┼───────────┼───────────┤\n",
      "│ 18 │ 140 │     0.99711  │   0.0269853  │       1     │        0     │       211 │        22 │\n",
      "├────┼─────┼──────────────┼──────────────┼─────────────┼──────────────┼───────────┼───────────┤\n",
      "│ 18 │ 141 │     0.99711  │   0.166972   │       1     │        0.997 │       211 │        22 │\n",
      "├────┼─────┼──────────────┼──────────────┼─────────────┼──────────────┼───────────┼───────────┤\n",
      "│ 19 │ 165 │     0.945604 │   1.10467    │       0     │        0.968 │       211 │      -211 │\n",
      "├────┼─────┼──────────────┼──────────────┼─────────────┼──────────────┼───────────┼───────────┤\n",
      "│ 19 │ 166 │     0.945604 │   0.94777    │       0     │        0.447 │       211 │       211 │\n",
      "├────┼─────┼──────────────┼──────────────┼─────────────┼──────────────┼───────────┼───────────┤\n",
      "│ 19 │  83 │     0.945604 │   1.56715    │       0     │        0.959 │       211 │       211 │\n",
      "├────┼─────┼──────────────┼──────────────┼─────────────┼──────────────┼───────────┼───────────┤\n",
      "│ 20 │ 165 │     1.10431  │   1.10467    │       0     │        0.04  │        11 │      -211 │\n",
      "├────┼─────┼──────────────┼──────────────┼─────────────┼──────────────┼───────────┼───────────┤\n",
      "│ 21 │ 187 │     0.241467 │   0.257574   │       0     │        0.006 │       211 │       -11 │\n",
      "├────┼─────┼──────────────┼──────────────┼─────────────┼──────────────┼───────────┼───────────┤\n",
      "│ 22 │ 182 │     0.833856 │   0.126258   │       0     │        0.019 │      -211 │        11 │\n",
      "├────┼─────┼──────────────┼──────────────┼─────────────┼──────────────┼───────────┼───────────┤\n",
      "│ 22 │  54 │     0.833856 │   0.794108   │       1     │        1     │      -211 │      -211 │\n",
      "├────┼─────┼──────────────┼──────────────┼─────────────┼──────────────┼───────────┼───────────┤\n",
      "│ 22 │  58 │     0.833856 │   0.639603   │       0     │        0.993 │      -211 │      -211 │\n",
      "├────┼─────┼──────────────┼──────────────┼─────────────┼──────────────┼───────────┼───────────┤\n",
      "│ 22 │  60 │     0.833856 │   0.833637   │       0.987 │        0     │      -211 │      -211 │\n",
      "├────┼─────┼──────────────┼──────────────┼─────────────┼──────────────┼───────────┼───────────┤\n",
      "│ 22 │ 164 │     0.833856 │   0.374172   │       0     │        0.981 │      -211 │        13 │\n",
      "├────┼─────┼──────────────┼──────────────┼─────────────┼──────────────┼───────────┼───────────┤\n",
      "│ 23 │  58 │     0.639318 │   0.639603   │       0     │        1     │      -211 │      -211 │\n",
      "├────┼─────┼──────────────┼──────────────┼─────────────┼──────────────┼───────────┼───────────┤\n",
      "│ 24 │  54 │     0.794142 │   0.794108   │       0     │        0.982 │      -211 │      -211 │\n",
      "├────┼─────┼──────────────┼──────────────┼─────────────┼──────────────┼───────────┼───────────┤\n",
      "│ 25 │  60 │     0.436977 │   0.833637   │       0.013 │        0     │      -211 │      -211 │\n",
      "├────┼─────┼──────────────┼──────────────┼─────────────┼──────────────┼───────────┼───────────┤\n",
      "│ 25 │ 100 │     0.436977 │   0.438717   │       0     │        0.001 │      -211 │      -211 │\n",
      "├────┼─────┼──────────────┼──────────────┼─────────────┼──────────────┼───────────┼───────────┤\n",
      "│ 25 │ 162 │     0.436977 │   0.00184372 │       0     │        0.019 │      -211 │        11 │\n",
      "├────┼─────┼──────────────┼──────────────┼─────────────┼──────────────┼───────────┼───────────┤\n",
      "│ 26 │  63 │     0.166751 │   0.167425   │       0     │        0.16  │       211 │       211 │\n",
      "├────┼─────┼──────────────┼──────────────┼─────────────┼──────────────┼───────────┼───────────┤\n",
      "│ 27 │ 174 │     0.342744 │   0.341423   │       0     │        0.013 │       211 │       211 │\n",
      "├────┼─────┼──────────────┼──────────────┼─────────────┼──────────────┼───────────┼───────────┤\n",
      "│ 28 │ 232 │     0.16669  │   0.167862   │       1     │        0.994 │      -211 │        11 │\n",
      "├────┼─────┼──────────────┼──────────────┼─────────────┼──────────────┼───────────┼───────────┤\n",
      "│ 29 │  62 │     0.353704 │   0.353513   │       1     │        0     │      -211 │      -211 │\n",
      "├────┼─────┼──────────────┼──────────────┼─────────────┼──────────────┼───────────┼───────────┤\n",
      "│ 30 │  17 │     0.201165 │   0.311894   │       0     │        0.081 │        22 │        22 │\n",
      "├────┼─────┼──────────────┼──────────────┼─────────────┼──────────────┼───────────┼───────────┤\n",
      "│ 30 │  20 │     0.201165 │  29.2534     │       1     │        0.99  │        22 │       -13 │\n",
      "├────┼─────┼──────────────┼──────────────┼─────────────┼──────────────┼───────────┼───────────┤\n",
      "│ 31 │  94 │     0.203637 │   0.151046   │       0     │        0.001 │        22 │        22 │\n",
      "├────┼─────┼──────────────┼──────────────┼─────────────┼──────────────┼───────────┼───────────┤\n",
      "│ 32 │ 116 │     1.09859  │   0.826435   │       0     │        0.002 │        22 │        22 │\n",
      "├────┼─────┼──────────────┼──────────────┼─────────────┼──────────────┼───────────┼───────────┤\n",
      "│ 32 │ 122 │     1.09859  │  27.7162     │       0     │        1     │        22 │       130 │\n",
      "├────┼─────┼──────────────┼──────────────┼─────────────┼──────────────┼───────────┼───────────┤\n",
      "│ 33 │ 118 │     2.21895  │   2.53042    │       0     │        0.898 │        22 │        22 │\n",
      "├────┼─────┼──────────────┼──────────────┼─────────────┼──────────────┼───────────┼───────────┤\n",
      "│ 34 │ 142 │     0.719262 │   0.573324   │       0     │        1     │        22 │        11 │\n",
      "├────┼─────┼──────────────┼──────────────┼─────────────┼──────────────┼───────────┼───────────┤\n",
      "│ 35 │  86 │     1.22486  │   0.783592   │       1     │        1     │      2112 │        22 │\n",
      "├────┼─────┼──────────────┼──────────────┼─────────────┼──────────────┼───────────┼───────────┤\n",
      "│ 35 │ 124 │     1.22486  │   1.70733    │       0     │        0.067 │      2112 │       211 │\n",
      "├────┼─────┼──────────────┼──────────────┼─────────────┼──────────────┼───────────┼───────────┤\n",
      "│ 35 │ 143 │     1.22486  │   0.695075   │       1     │        1     │      2112 │       -13 │\n",
      "├────┼─────┼──────────────┼──────────────┼─────────────┼──────────────┼───────────┼───────────┤\n",
      "│ 36 │ 144 │     0.612233 │   0.555453   │       0     │        0     │      2112 │      -211 │\n",
      "├────┼─────┼──────────────┼──────────────┼─────────────┼──────────────┼───────────┼───────────┤\n",
      "│ 36 │ 156 │     0.612233 │   0.669095   │       1     │        1     │      2112 │      2212 │\n",
      "├────┼─────┼──────────────┼──────────────┼─────────────┼──────────────┼───────────┼───────────┤\n",
      "│ 37 │  87 │     0.160615 │   0.229258   │       1     │        0     │        22 │        22 │\n",
      "├────┼─────┼──────────────┼──────────────┼─────────────┼──────────────┼───────────┼───────────┤\n",
      "│ 37 │ 108 │     0.160615 │  16.3085     │       0     │        0.423 │        22 │        22 │\n",
      "├────┼─────┼──────────────┼──────────────┼─────────────┼──────────────┼───────────┼───────────┤\n",
      "│ 38 │ 104 │     2.84055  │   3.002      │       1     │        0     │        22 │        22 │\n",
      "├────┼─────┼──────────────┼──────────────┼─────────────┼──────────────┼───────────┼───────────┤\n",
      "│ 38 │ 105 │     2.84055  │   1.37185    │       0     │        0.08  │        22 │        22 │\n",
      "├────┼─────┼──────────────┼──────────────┼─────────────┼──────────────┼───────────┼───────────┤\n",
      "│ 39 │  66 │     0.624468 │   0.665793   │       0     │        0.524 │        22 │        22 │\n",
      "├────┼─────┼──────────────┼──────────────┼─────────────┼──────────────┼───────────┼───────────┤\n",
      "│ 40 │ 112 │     0.414185 │  12.0646     │       0     │        0.002 │        22 │       211 │\n",
      "├────┼─────┼──────────────┼──────────────┼─────────────┼──────────────┼───────────┼───────────┤\n",
      "│ 40 │ 151 │     0.414185 │   0.40269    │       0     │        0.98  │        22 │        11 │\n",
      "├────┼─────┼──────────────┼──────────────┼─────────────┼──────────────┼───────────┼───────────┤\n",
      "│ 40 │ 152 │     0.414185 │   0.103268   │       0     │        0.002 │        22 │       -11 │\n",
      "├────┼─────┼──────────────┼──────────────┼─────────────┼──────────────┼───────────┼───────────┤\n",
      "│ 41 │ 184 │     0.147222 │   0.00306651 │       0     │        0.253 │        22 │        22 │\n",
      "├────┼─────┼──────────────┼──────────────┼─────────────┼──────────────┼───────────┼───────────┤\n",
      "│ 41 │  85 │     0.147222 │   0.176378   │       0     │        0.003 │        22 │        22 │\n",
      "├────┼─────┼──────────────┼──────────────┼─────────────┼──────────────┼───────────┼───────────┤\n",
      "│ 41 │ 144 │     0.147222 │   0.555453   │       0     │        0.003 │        22 │      -211 │\n",
      "├────┼─────┼──────────────┼──────────────┼─────────────┼──────────────┼───────────┼───────────┤\n",
      "│ 42 │ 185 │     0.276226 │   0.387833   │       1     │        0.976 │        22 │        22 │\n",
      "├────┼─────┼──────────────┼──────────────┼─────────────┼──────────────┼───────────┼───────────┤\n",
      "│ 43 │  96 │     1.02456  │   5.99763    │       0     │        0     │        22 │       211 │\n",
      "├────┼─────┼──────────────┼──────────────┼─────────────┼──────────────┼───────────┼───────────┤\n",
      "│ 43 │ 124 │     1.02456  │   1.70733    │       0.003 │        0     │        22 │       211 │\n",
      "├────┼─────┼──────────────┼──────────────┼─────────────┼──────────────┼───────────┼───────────┤\n",
      "│ 44 │  41 │     0.921872 │   2.76503    │       0     │        0.015 │        22 │      2212 │\n",
      "├────┼─────┼──────────────┼──────────────┼─────────────┼──────────────┼───────────┼───────────┤\n",
      "│ 44 │  86 │     0.921872 │   0.783592   │       1     │        0     │        22 │        22 │\n",
      "├────┼─────┼──────────────┼──────────────┼─────────────┼──────────────┼───────────┼───────────┤\n",
      "│ 45 │ 109 │     2.53724  │   2.6968     │       0     │        0.08  │        22 │        22 │\n",
      "├────┼─────┼──────────────┼──────────────┼─────────────┼──────────────┼───────────┼───────────┤\n",
      "│ 45 │ 122 │     2.53724  │  27.7162     │       0     │        0.904 │        22 │       130 │\n",
      "├────┼─────┼──────────────┼──────────────┼─────────────┼──────────────┼───────────┼───────────┤\n",
      "│ 46 │ 105 │     1.45682  │   1.37185    │       0     │        0.577 │        22 │        22 │\n",
      "├────┼─────┼──────────────┼──────────────┼─────────────┼──────────────┼───────────┼───────────┤\n",
      "│ 47 │ 120 │     2.76969  │   3.2248     │       0     │        0.978 │        22 │        22 │\n",
      "├────┼─────┼──────────────┼──────────────┼─────────────┼──────────────┼───────────┼───────────┤\n",
      "│ 48 │  80 │     2.21441  │   3.4553     │       0     │        0.005 │        22 │     -2212 │\n",
      "├────┼─────┼──────────────┼──────────────┼─────────────┼──────────────┼───────────┼───────────┤\n",
      "│ 49 │ 122 │     0.314903 │  27.7162     │       0     │        0.096 │        22 │       130 │\n",
      "├────┼─────┼──────────────┼──────────────┼─────────────┼──────────────┼───────────┼───────────┤\n",
      "│ 49 │ 127 │     0.314903 │   0.507229   │       1     │        0     │        22 │        22 │\n",
      "├────┼─────┼──────────────┼──────────────┼─────────────┼──────────────┼───────────┼───────────┤\n",
      "│ 50 │  74 │    28.4023   │   1.14978    │       0     │        0.287 │      2112 │        22 │\n",
      "├────┼─────┼──────────────┼──────────────┼─────────────┼──────────────┼───────────┼───────────┤\n",
      "│ 50 │ 116 │    28.4023   │   0.826435   │       1     │        1     │      2112 │        22 │\n",
      "├────┼─────┼──────────────┼──────────────┼─────────────┼──────────────┼───────────┼───────────┤\n",
      "│ 50 │ 122 │    28.4023   │  27.7162     │       0     │        0.018 │      2112 │       130 │\n",
      "├────┼─────┼──────────────┼──────────────┼─────────────┼──────────────┼───────────┼───────────┤\n",
      "│ 50 │ 123 │    28.4023   │  14.7918     │       0     │        0.116 │      2112 │      -211 │\n",
      "├────┼─────┼──────────────┼──────────────┼─────────────┼──────────────┼───────────┼───────────┤\n",
      "│ 51 │ 119 │     2.13357  │   2.04245    │       0     │        0.034 │        22 │        22 │\n",
      "├────┼─────┼──────────────┼──────────────┼─────────────┼──────────────┼───────────┼───────────┤\n",
      "│ 52 │ 117 │     2.2644   │   2.72982    │       1     │        0     │        22 │        22 │\n",
      "├────┼─────┼──────────────┼──────────────┼─────────────┼──────────────┼───────────┼───────────┤\n",
      "│ 52 │ 123 │     2.2644   │  14.7918     │       0     │        0.884 │        22 │      -211 │\n",
      "├────┼─────┼──────────────┼──────────────┼─────────────┼──────────────┼───────────┼───────────┤\n",
      "│ 52 │ 126 │     2.2644   │   2.01273    │       0.222 │        0     │        22 │        22 │\n",
      "├────┼─────┼──────────────┼──────────────┼─────────────┼──────────────┼───────────┼───────────┤\n",
      "│ 53 │ 130 │     1.29243  │   0.727965   │       1     │        1     │        22 │        11 │\n",
      "├────┼─────┼──────────────┼──────────────┼─────────────┼──────────────┼───────────┼───────────┤\n",
      "│ 53 │ 131 │     1.29243  │   1.29531    │       1     │        1     │        22 │       -11 │\n",
      "├────┼─────┼──────────────┼──────────────┼─────────────┼──────────────┼───────────┼───────────┤\n",
      "│ 54 │ 104 │     1.01182  │   3.002      │       0     │        0.92  │        22 │        22 │\n",
      "├────┼─────┼──────────────┼──────────────┼─────────────┼──────────────┼───────────┼───────────┤\n",
      "│ 54 │ 130 │     1.01182  │   0.727965   │       0     │        1     │        22 │        11 │\n",
      "├────┼─────┼──────────────┼──────────────┼─────────────┼──────────────┼───────────┼───────────┤\n",
      "│ 55 │  74 │     3.16027  │   1.14978    │       0.085 │        0     │        22 │        22 │\n",
      "├────┼─────┼──────────────┼──────────────┼─────────────┼──────────────┼───────────┼───────────┤\n",
      "│ 55 │  87 │     3.16027  │   0.229258   │       0     │        1     │        22 │        22 │\n",
      "├────┼─────┼──────────────┼──────────────┼─────────────┼──────────────┼───────────┼───────────┤\n",
      "│ 55 │ 108 │     3.16027  │  16.3085     │       0     │        0.996 │        22 │        22 │\n",
      "├────┼─────┼──────────────┼──────────────┼─────────────┼──────────────┼───────────┼───────────┤\n",
      "│ 55 │ 117 │     3.16027  │   2.72982    │       0     │        0.027 │        22 │        22 │\n",
      "├────┼─────┼──────────────┼──────────────┼─────────────┼──────────────┼───────────┼───────────┤\n",
      "│ 55 │ 123 │     3.16027  │  14.7918     │       1     │        0     │        22 │      -211 │\n",
      "├────┼─────┼──────────────┼──────────────┼─────────────┼──────────────┼───────────┼───────────┤\n",
      "│ 56 │  74 │    16.226    │   1.14978    │       0.915 │        1     │        22 │        22 │\n",
      "├────┼─────┼──────────────┼──────────────┼─────────────┼──────────────┼───────────┼───────────┤\n",
      "│ 56 │ 108 │    16.226    │  16.3085     │       0     │        0.071 │        22 │        22 │\n",
      "├────┼─────┼──────────────┼──────────────┼─────────────┼──────────────┼───────────┼───────────┤\n",
      "│ 56 │ 109 │    16.226    │   2.6968     │       0     │        0.183 │        22 │        22 │\n",
      "├────┼─────┼──────────────┼──────────────┼─────────────┼──────────────┼───────────┼───────────┤\n",
      "│ 56 │ 122 │    16.226    │  27.7162     │       1     │        0.97  │        22 │       130 │\n",
      "├────┼─────┼──────────────┼──────────────┼─────────────┼──────────────┼───────────┼───────────┤\n",
      "│ 57 │  74 │     1.15794  │   1.14978    │       1     │        0     │        22 │        22 │\n",
      "├────┼─────┼──────────────┼──────────────┼─────────────┼──────────────┼───────────┼───────────┤\n",
      "│ 57 │ 108 │     1.15794  │  16.3085     │       0     │        0.85  │        22 │        22 │\n",
      "├────┼─────┼──────────────┼──────────────┼─────────────┼──────────────┼───────────┼───────────┤\n",
      "│ 57 │ 117 │     1.15794  │   2.72982    │       0     │        0.074 │        22 │        22 │\n",
      "├────┼─────┼──────────────┼──────────────┼─────────────┼──────────────┼───────────┼───────────┤\n",
      "│ 58 │  17 │    29.3089   │   0.311894   │       0     │        0.01  │       -13 │        22 │\n",
      "├────┼─────┼──────────────┼──────────────┼─────────────┼──────────────┼───────────┼───────────┤\n",
      "│ 58 │  20 │    29.3089   │  29.2534     │       1     │        1     │       -13 │       -13 │\n",
      "├────┼─────┼──────────────┼──────────────┼─────────────┼──────────────┼───────────┼───────────┤\n",
      "│ 59 │  14 │    75.9099   │  75.8235     │       1     │        0.179 │        13 │        13 │\n",
      "╘════╧═════╧══════════════╧══════════════╧═════════════╧══════════════╧═══════════╧═══════════╛\n"
     ]
    }
   ],
   "source": [
    "event=0\n",
    "\n",
    "arrx = np.array([\n",
    "                 reco_index[event][ak.argsort(reco_index,axis=1)[event]],\n",
    "                 mc_index[event][ak.argsort(reco_index,axis=1)[event]],\n",
    "                 reco_p[event][reco_index[event]][ak.argsort(reco_index,axis=1)[event]],\n",
    "                 mc_p[event][mc_index[event]][ak.argsort(reco_index,axis=1)[event]],\n",
    "                 (np.floor(recomc_weights[event]%10000)/1000)[ak.argsort(reco_index,axis=1)[event]],\n",
    "                 (np.floor(recomc_weights[event]/10000)/1000)[ak.argsort(reco_index,axis=1)[event]],\n",
    "#                  (np.floor(mcreco_weights[event]%10000)/1000)[ak.argsort(reco_index,axis=1)[event]],\n",
    "#                  (np.floor(mcreco_weights[event]/10000)/1000)[ak.argsort(reco_index,axis=1)[event]],\n",
    "                 reco_pdg[event][reco_index[event]][ak.argsort(reco_index,axis=1)[event]],\n",
    "                 mc_pdg[event][mc_index[event]][ak.argsort(reco_index,axis=1)[event]]])\n",
    "\n",
    "title_arr = np.array(['r momentum',\n",
    "                      'm momentum',\n",
    "                      'r trk wgt',\n",
    "                      'r clst wgt',\n",
    "#                       'm trk wgt',\n",
    "#                       'm clst wgt',\n",
    "                      'r pdgId',\n",
    "                      'm pdgId'])\n",
    "\n",
    "table = tabulate(arrx.T, title_arr.T, tablefmt=\"fancy_grid\",floatfmt=('g','g','g','g','g','g'))\n",
    "\n",
    "print(table)"
   ]
  },
  {
   "cell_type": "code",
   "execution_count": 254,
   "id": "568ab8ec",
   "metadata": {},
   "outputs": [
    {
     "name": "stdout",
     "output_type": "stream",
     "text": [
      "K⁰ long\r\n"
     ]
    }
   ],
   "source": [
    "! pdgid 130"
   ]
  }
 ],
 "metadata": {
  "kernelspec": {
   "display_name": "Python 3 (ipykernel)",
   "language": "python",
   "name": "python3"
  },
  "language_info": {
   "codemirror_mode": {
    "name": "ipython",
    "version": 3
   },
   "file_extension": ".py",
   "mimetype": "text/x-python",
   "name": "python",
   "nbconvert_exporter": "python",
   "pygments_lexer": "ipython3",
   "version": "3.10.9"
  }
 },
 "nbformat": 4,
 "nbformat_minor": 5
}
