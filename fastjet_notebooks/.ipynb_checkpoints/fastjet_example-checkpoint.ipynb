{
 "cells": [
  {
   "cell_type": "code",
   "execution_count": 1,
   "id": "15f4dd35",
   "metadata": {},
   "outputs": [],
   "source": [
    "%load_ext autoreload\n",
    "%autoreload 2"
   ]
  },
  {
   "cell_type": "code",
   "execution_count": 2,
   "id": "e843c2cd",
   "metadata": {},
   "outputs": [],
   "source": [
    "import awkward as ak \n",
    "import numpy as np\n",
    "import matplotlib.pyplot as plt\n",
    "import fastjet\n",
    "from coffea.nanoevents import NanoEventsFactory, EDM4HEPSchema\n",
    "import dask_awkward as dak\n",
    "import hist.dask as hda\n",
    "from ak_tools import ak_equals"
   ]
  },
  {
   "cell_type": "code",
   "execution_count": 3,
   "id": "b256baa4",
   "metadata": {},
   "outputs": [
    {
     "name": "stderr",
     "output_type": "stream",
     "text": [
      "/Users/josephinebrewster/TRIUMF-Summer-2023/coffea_dev/coffea/src/coffea/nanoevents/factory.py:63: UserWarning: Skipping PARAMETERS as it is it cannot be interpreted by Uproot\n",
      "  warnings.warn(\n",
      "/Users/josephinebrewster/TRIUMF-Summer-2023/coffea_dev/coffea/src/coffea/nanoevents/factory.py:45: UserWarning: Skipping _intMap as it is not interpretable by Uproot\n",
      "  warnings.warn(\n",
      "/Users/josephinebrewster/TRIUMF-Summer-2023/coffea_dev/coffea/src/coffea/nanoevents/factory.py:52: UserWarning: Skipping _intMap.first as it is not interpretable by Uproot\n",
      "  warnings.warn(f\"Skipping {branch.name} as it is not interpretable by Uproot\")\n",
      "/Users/josephinebrewster/TRIUMF-Summer-2023/coffea_dev/coffea/src/coffea/nanoevents/factory.py:52: UserWarning: Skipping _intMap.second as it is not interpretable by Uproot\n",
      "  warnings.warn(f\"Skipping {branch.name} as it is not interpretable by Uproot\")\n",
      "/Users/josephinebrewster/TRIUMF-Summer-2023/coffea_dev/coffea/src/coffea/nanoevents/factory.py:45: UserWarning: Skipping _floatMap as it is not interpretable by Uproot\n",
      "  warnings.warn(\n",
      "/Users/josephinebrewster/TRIUMF-Summer-2023/coffea_dev/coffea/src/coffea/nanoevents/factory.py:52: UserWarning: Skipping _floatMap.first as it is not interpretable by Uproot\n",
      "  warnings.warn(f\"Skipping {branch.name} as it is not interpretable by Uproot\")\n",
      "/Users/josephinebrewster/TRIUMF-Summer-2023/coffea_dev/coffea/src/coffea/nanoevents/factory.py:52: UserWarning: Skipping _floatMap.second as it is not interpretable by Uproot\n",
      "  warnings.warn(f\"Skipping {branch.name} as it is not interpretable by Uproot\")\n",
      "/Users/josephinebrewster/TRIUMF-Summer-2023/coffea_dev/coffea/src/coffea/nanoevents/factory.py:45: UserWarning: Skipping _stringMap as it is not interpretable by Uproot\n",
      "  warnings.warn(\n",
      "/Users/josephinebrewster/TRIUMF-Summer-2023/coffea_dev/coffea/src/coffea/nanoevents/factory.py:52: UserWarning: Skipping _stringMap.first as it is not interpretable by Uproot\n",
      "  warnings.warn(f\"Skipping {branch.name} as it is not interpretable by Uproot\")\n",
      "/Users/josephinebrewster/TRIUMF-Summer-2023/coffea_dev/coffea/src/coffea/nanoevents/factory.py:52: UserWarning: Skipping _stringMap.second as it is not interpretable by Uproot\n",
      "  warnings.warn(f\"Skipping {branch.name} as it is not interpretable by Uproot\")\n",
      "/Users/josephinebrewster/TRIUMF-Summer-2023/coffea_dev/coffea/src/coffea/nanoevents/factory.py:45: UserWarning: Skipping _doubleMap as it is not interpretable by Uproot\n",
      "  warnings.warn(\n",
      "/Users/josephinebrewster/TRIUMF-Summer-2023/coffea_dev/coffea/src/coffea/nanoevents/factory.py:52: UserWarning: Skipping _doubleMap.first as it is not interpretable by Uproot\n",
      "  warnings.warn(f\"Skipping {branch.name} as it is not interpretable by Uproot\")\n",
      "/Users/josephinebrewster/TRIUMF-Summer-2023/coffea_dev/coffea/src/coffea/nanoevents/factory.py:52: UserWarning: Skipping _doubleMap.second as it is not interpretable by Uproot\n",
      "  warnings.warn(f\"Skipping {branch.name} as it is not interpretable by Uproot\")\n"
     ]
    }
   ],
   "source": [
    "# this is the old edm4hep file... needs to be changed to the new edm4hep structure to be able to run with coffea\n",
    "events = NanoEventsFactory.from_root( \n",
    "    {\"../../../coffea_dev/root_files_may18/rv02-02.sv02-02.mILD_l5_o1_v02.E250-SetA.I402004\" \n",
    "    \".Pe2e2h.eR.pL.n000.d_dstm_15090_*.slcio.edm4hep.root\"\n",
    "    :\"events\"},\n",
    "    schemaclass=EDM4HEPSchema,\n",
    "    permit_dask=True,\n",
    "    metadata = {'b_field':5},\n",
    ").events()"
   ]
  },
  {
   "cell_type": "markdown",
   "id": "ecc023f8",
   "metadata": {},
   "source": [
    "The two steps below could be combined, but it's a good example of event level and inner event slicing"
   ]
  },
  {
   "cell_type": "code",
   "execution_count": 4,
   "id": "76f1369d",
   "metadata": {},
   "outputs": [],
   "source": [
    "# finds all events with a muon pair with invariant mass between 80 and 100 GeV\n",
    "mupair = dak.combinations(events.PandoraPFOs[abs(events.PandoraPFOs.pdgId) == 13], 2, fields=[\"mu1\", \"mu2\"])\n",
    "pairmass = (mupair.mu1 + mupair.mu2).mass\n",
    "muonsevent = dak.any(\n",
    "    (pairmass > 80)\n",
    "    & (pairmass < 100)\n",
    "    & (mupair.mu1.charge == -mupair.mu2.charge),\n",
    "    axis=1,\n",
    ")\n",
    "\n",
    "# finds indices of all pairs of muons between 80 and 100 GeV\n",
    "pfopair = dak.argcombinations(events.PandoraPFOs, 2, fields=[\"p1\", \"p2\"])\n",
    "all_muons_mask = (abs(events.PandoraPFOs[pfopair.p1].pdgId) == 13) & (abs(events.PandoraPFOs[pfopair.p2].pdgId) == 13)\n",
    "invmass = (events.PandoraPFOs[pfopair.p1][all_muons_mask] + events.PandoraPFOs[pfopair.p2][all_muons_mask]).mass\n",
    "\n",
    "inds = dak.singletons(dak.argmin(abs(invmass - 91.2), axis=1))\n",
    "\n",
    "mu1ind = pfopair.p1[all_muons_mask][inds]\n",
    "mu2ind = pfopair.p2[all_muons_mask][inds]"
   ]
  },
  {
   "cell_type": "markdown",
   "id": "0beb05dd",
   "metadata": {},
   "source": [
    "### Before fastjet Bug is Fixed\n",
    "The next two cells are to get around the fastjet masking problem. If it is fixed, this should produce the same results as the cells below the plot."
   ]
  },
  {
   "cell_type": "code",
   "execution_count": 5,
   "id": "bb282f03",
   "metadata": {},
   "outputs": [],
   "source": [
    "m1 = mu1ind[muonsevent].compute()\n",
    "m2 = mu2ind[muonsevent].compute()\n",
    "p = events.PandoraPFOs[muonsevent].compute()"
   ]
  },
  {
   "cell_type": "code",
   "execution_count": 6,
   "id": "e6612eca",
   "metadata": {},
   "outputs": [
    {
     "name": "stdout",
     "output_type": "stream",
     "text": [
      "CPU times: user 2min 3s, sys: 2.49 s, total: 2min 6s\n",
      "Wall time: 2min 40s\n"
     ]
    }
   ],
   "source": [
    "%%time\n",
    "x = []\n",
    "y = []\n",
    "z = []\n",
    "E = []\n",
    "\n",
    "local_inds = ak.local_index(p)\n",
    "total_mask = ((ak_equals(local_inds, m1)) | (ak_equals(local_inds, m2))) != True\n",
    "\n",
    "for n in range(len(p)):\n",
    "    x.append(np.array(p.x[n][total_mask[n]]))\n",
    "    y.append(np.array(p.y[n][total_mask[n]]))\n",
    "    z.append(np.array(p.z[n][total_mask[n]]))\n",
    "    E.append(np.array(p.E[n][total_mask[n]]))\n",
    "\n",
    "x = ak.Array(x)\n",
    "y = ak.Array(y)\n",
    "z = ak.Array(z)\n",
    "E = ak.Array(E)"
   ]
  },
  {
   "cell_type": "code",
   "execution_count": 7,
   "id": "f161702f",
   "metadata": {},
   "outputs": [],
   "source": [
    "select_pfos = ak.zip(\n",
    "    {\n",
    "        'px': x,\n",
    "        'py': y,\n",
    "        'pz': z,\n",
    "        'E': E,\n",
    "    },\n",
    "    with_name=\"LorentzVector\",\n",
    ")"
   ]
  },
  {
   "cell_type": "code",
   "execution_count": 8,
   "id": "21349024",
   "metadata": {},
   "outputs": [
    {
     "name": "stdout",
     "output_type": "stream",
     "text": [
      "#--------------------------------------------------------------------------\n",
      "#                         FastJet release 3.4.1\n",
      "#                 M. Cacciari, G.P. Salam and G. Soyez                  \n",
      "#     A software package for jet finding and analysis at colliders      \n",
      "#                           http://fastjet.fr                           \n",
      "#\t                                                                      \n",
      "# Please cite EPJC72(2012)1896 [arXiv:1111.6097] if you use this package\n",
      "# for scientific work and optionally PLB641(2006)57 [hep-ph/0512210].   \n",
      "#                                                                       \n",
      "# FastJet is provided without warranty under the GNU GPL v2 or higher.  \n",
      "# It uses T. Chan's closest pair algorithm, S. Fortune's Voronoi code,\n",
      "# CGAL and 3rd party plugin jet algorithms. See COPYING file for details.\n",
      "#--------------------------------------------------------------------------\n"
     ]
    },
    {
     "name": "stderr",
     "output_type": "stream",
     "text": [
      "UserWarning: dcut and exclusive jets for jet-finders other than kt, C/A or genkt with p>=0 should be interpreted with care.\n"
     ]
    }
   ],
   "source": [
    "jetdef = fastjet.JetDefinition(fastjet.kt_algorithm,1)\n",
    "\n",
    "# if this every throws the error 'Caught an unknown exception!', it means there are fewer particles in an event \n",
    "# than the number of jets you want to make\n",
    "select_clst = fastjet.ClusterSequence(select_pfos, jetdef).exclusive_jets(n_jets=2)\n",
    "\n",
    "# sets up jets with same functionality as pfos using coffea \n",
    "jets = ak.zip(\n",
    "    {\n",
    "        'x': select_clst[\"px\"],\n",
    "        'y': select_clst[\"py\"],\n",
    "        'z': select_clst[\"pz\"],\n",
    "        't': select_clst[\"E\"],\n",
    "    },\n",
    "    with_name=\"LorentzVector\",\n",
    "    behavior=events.PandoraPFOs.behavior,\n",
    ")"
   ]
  },
  {
   "cell_type": "code",
   "execution_count": 10,
   "id": "912ae0b9",
   "metadata": {},
   "outputs": [
    {
     "data": {
      "text/plain": [
       "Text(0.5, 0, 'Invariant Mass of Jets [GeV]')"
      ]
     },
     "execution_count": 10,
     "metadata": {},
     "output_type": "execute_result"
    },
    {
     "data": {
      "image/png": "[encoded data removed]",
      "text/plain": [
       "<Figure size 640x480 with 1 Axes>"
      ]
     },
     "metadata": {},
     "output_type": "display_data"
    }
   ],
   "source": [
    "jetpair = ak.combinations(jets, 2, fields=[\"jet1\", \"jet2\"],axis=1) # all jet pairs\n",
    "\n",
    "nbins = 250\n",
    "mini = 0 \n",
    "maxi = 250\n",
    "\n",
    "plt.close(1);plt.figure(1)\n",
    "plt.hist(ak.flatten((jetpair.jet1 + jetpair.jet2).mass),\n",
    "         bins=nbins,\n",
    "         range=(mini,maxi),\n",
    "         histtype='step',\n",
    "         linewidth=1.5,)\n",
    "\n",
    "plt.xlabel('Invariant Mass of Jets [GeV]')"
   ]
  },
  {
   "cell_type": "markdown",
   "id": "284fa21c",
   "metadata": {},
   "source": [
    "### After fastjet Bug is Fixed\n",
    "The below should be the same as the above after the fastjet masking bug is fixed. Right now this does not work!"
   ]
  },
  {
   "cell_type": "code",
   "execution_count": 5,
   "id": "c6989fe4",
   "metadata": {},
   "outputs": [],
   "source": [
    "m1 = mu1ind[muonsevent]\n",
    "m2 = mu2ind[muonsevent]\n",
    "\n",
    "local_inds = dak.local_index(events.PandoraPFOs[muonsevent])\n",
    "\n",
    "# need to flatten the array that you're comparing to for '=='\n",
    "total_mask = ((ak.flatten(m1) == local_inds) | (ak.flatten(m2) == local_inds)) != True\n",
    "\n",
    "select_pfos = events.PandoraPFOs[muonsevent][total_mask] "
   ]
  },
  {
   "cell_type": "code",
   "execution_count": 6,
   "id": "f416ff9b",
   "metadata": {},
   "outputs": [
    {
     "name": "stderr",
     "output_type": "stream",
     "text": [
      "UserWarning: dcut and exclusive jets for jet-finders other than kt, C/A or genkt with p>=0 should be interpreted with care.\n"
     ]
    }
   ],
   "source": [
    "jetdef = fastjet.JetDefinition(fastjet.kt_algorithm,1)\n",
    "select_clst = fastjet.ClusterSequence(select_pfos, jetdef).exclusive_jets(n_jets=2)\n",
    "\n",
    "jets = ak.zip(\n",
    "    {\n",
    "        'x': select_clst[\"px\"],\n",
    "        'y': select_clst[\"py\"],\n",
    "        'z': select_clst[\"pz\"],\n",
    "        't': select_clst[\"E\"],\n",
    "    },\n",
    "    with_name=\"LorentzVector\",\n",
    "    behavior=events.PandoraPFOs.behavior,\n",
    ")"
   ]
  },
  {
   "cell_type": "code",
   "execution_count": null,
   "id": "497a73ce",
   "metadata": {},
   "outputs": [
    {
     "name": "stderr",
     "output_type": "stream",
     "text": [
      "UserWarning: dcut and exclusive jets for jet-finders other than kt, C/A or genkt with p>=0 should be interpreted with care.\n"
     ]
    }
   ],
   "source": [
    "jetpair = ak.combinations(jets, 2, fields=[\"jet1\", \"jet2\"],axis=1) # all jet pairs\n",
    "\n",
    "nbins = 250\n",
    "mini = 0 \n",
    "maxi = 250\n",
    "\n",
    "energy_hist_clusters = (\n",
    "    hda.Hist.new.Reg(nbins, mini, maxi, name=\"pt\", label=\"Jet Invariant Mass [GeV]\")\n",
    "    .Double()\n",
    "    .fill(ak.flatten((jetpair.jet1 + jetpair.jet2).mass))\n",
    ")\n",
    "\n",
    "energy_hist_clusters.compute().plot1d(label='PandoraClusters')\n",
    "dak.necessary_columns(energy_hist_clusters)"
   ]
  },
  {
   "cell_type": "markdown",
   "id": "fa4c290a",
   "metadata": {},
   "source": [
    "Right now the bug in fastjet makes this a flat line. Hopefully once it's fixed this will work!!"
   ]
  }
 ],
 "metadata": {
  "kernelspec": {
   "display_name": "Python 3 (ipykernel)",
   "language": "python",
   "name": "python3"
  },
  "language_info": {
   "codemirror_mode": {
    "name": "ipython",
    "version": 3
   },
   "file_extension": ".py",
   "mimetype": "text/x-python",
   "name": "python",
   "nbconvert_exporter": "python",
   "pygments_lexer": "ipython3",
   "version": "3.10.9"
  }
 },
 "nbformat": 4,
 "nbformat_minor": 5
}
