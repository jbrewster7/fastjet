{
 "cells": [
  {
   "cell_type": "markdown",
   "id": "d947b4d2-4181-4194-99c7-6b9b81b21838",
   "metadata": {},
   "source": [
    "### Testing imports"
   ]
  },
  {
   "cell_type": "code",
   "execution_count": 1,
   "id": "5c3eec5a-75ce-49ce-a5ea-ba9cd6345d43",
   "metadata": {},
   "outputs": [],
   "source": [
    "import fastjet\n",
    "import coffea"
   ]
  }
 ],
 "metadata": {
  "kernelspec": {
   "display_name": "Python 3 (ipykernel)",
   "language": "python",
   "name": "python3"
  },
  "language_info": {
   "codemirror_mode": {
    "name": "ipython",
    "version": 3
   },
   "file_extension": ".py",
   "mimetype": "text/x-python",
   "name": "python",
   "nbconvert_exporter": "python",
   "pygments_lexer": "ipython3",
   "version": "3.8.10"
  }
 },
 "nbformat": 4,
 "nbformat_minor": 5
}
