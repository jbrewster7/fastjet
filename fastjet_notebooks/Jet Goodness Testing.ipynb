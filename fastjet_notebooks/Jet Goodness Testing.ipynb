{
 "cells": [
  {
   "cell_type": "code",
   "execution_count": 30,
   "id": "d6b712e3",
   "metadata": {},
   "outputs": [],
   "source": [
    "import awkward as ak \n",
    "import numpy as np\n",
    "import matplotlib.pyplot as plt\n",
    "import fastjet\n",
    "from coffea.nanoevents import NanoEventsFactory, EDM4HEPSchema\n",
    "import dask_awkward as dak\n",
    "import hist.dask as hda\n",
    "import uproot\n",
    "from ak_tools import ak_equals\n",
    "import pickle"
   ]
  },
  {
   "cell_type": "code",
   "execution_count": 2,
   "id": "e57089ca",
   "metadata": {},
   "outputs": [
    {
     "name": "stderr",
     "output_type": "stream",
     "text": [
      "/Users/josephinebrewster/TRIUMF-Summer-2023/coffea_dev/coffea/src/coffea/nanoevents/factory.py:63: UserWarning: Skipping PARAMETERS as it is it cannot be interpreted by Uproot\n",
      "  warnings.warn(\n",
      "/Users/josephinebrewster/TRIUMF-Summer-2023/coffea_dev/coffea/src/coffea/nanoevents/factory.py:45: UserWarning: Skipping _intMap as it is not interpretable by Uproot\n",
      "  warnings.warn(\n",
      "/Users/josephinebrewster/TRIUMF-Summer-2023/coffea_dev/coffea/src/coffea/nanoevents/factory.py:52: UserWarning: Skipping _intMap.first as it is not interpretable by Uproot\n",
      "  warnings.warn(f\"Skipping {branch.name} as it is not interpretable by Uproot\")\n",
      "/Users/josephinebrewster/TRIUMF-Summer-2023/coffea_dev/coffea/src/coffea/nanoevents/factory.py:52: UserWarning: Skipping _intMap.second as it is not interpretable by Uproot\n",
      "  warnings.warn(f\"Skipping {branch.name} as it is not interpretable by Uproot\")\n",
      "/Users/josephinebrewster/TRIUMF-Summer-2023/coffea_dev/coffea/src/coffea/nanoevents/factory.py:45: UserWarning: Skipping _floatMap as it is not interpretable by Uproot\n",
      "  warnings.warn(\n",
      "/Users/josephinebrewster/TRIUMF-Summer-2023/coffea_dev/coffea/src/coffea/nanoevents/factory.py:52: UserWarning: Skipping _floatMap.first as it is not interpretable by Uproot\n",
      "  warnings.warn(f\"Skipping {branch.name} as it is not interpretable by Uproot\")\n",
      "/Users/josephinebrewster/TRIUMF-Summer-2023/coffea_dev/coffea/src/coffea/nanoevents/factory.py:52: UserWarning: Skipping _floatMap.second as it is not interpretable by Uproot\n",
      "  warnings.warn(f\"Skipping {branch.name} as it is not interpretable by Uproot\")\n",
      "/Users/josephinebrewster/TRIUMF-Summer-2023/coffea_dev/coffea/src/coffea/nanoevents/factory.py:45: UserWarning: Skipping _stringMap as it is not interpretable by Uproot\n",
      "  warnings.warn(\n",
      "/Users/josephinebrewster/TRIUMF-Summer-2023/coffea_dev/coffea/src/coffea/nanoevents/factory.py:52: UserWarning: Skipping _stringMap.first as it is not interpretable by Uproot\n",
      "  warnings.warn(f\"Skipping {branch.name} as it is not interpretable by Uproot\")\n",
      "/Users/josephinebrewster/TRIUMF-Summer-2023/coffea_dev/coffea/src/coffea/nanoevents/factory.py:52: UserWarning: Skipping _stringMap.second as it is not interpretable by Uproot\n",
      "  warnings.warn(f\"Skipping {branch.name} as it is not interpretable by Uproot\")\n",
      "/Users/josephinebrewster/TRIUMF-Summer-2023/coffea_dev/coffea/src/coffea/nanoevents/factory.py:45: UserWarning: Skipping _doubleMap as it is not interpretable by Uproot\n",
      "  warnings.warn(\n",
      "/Users/josephinebrewster/TRIUMF-Summer-2023/coffea_dev/coffea/src/coffea/nanoevents/factory.py:52: UserWarning: Skipping _doubleMap.first as it is not interpretable by Uproot\n",
      "  warnings.warn(f\"Skipping {branch.name} as it is not interpretable by Uproot\")\n",
      "/Users/josephinebrewster/TRIUMF-Summer-2023/coffea_dev/coffea/src/coffea/nanoevents/factory.py:52: UserWarning: Skipping _doubleMap.second as it is not interpretable by Uproot\n",
      "  warnings.warn(f\"Skipping {branch.name} as it is not interpretable by Uproot\")\n"
     ]
    }
   ],
   "source": [
    "events = NanoEventsFactory.from_root( \n",
    "    {\"../../coffea_dev/root_files_may18/rv02-02.sv02-02.mILD_l5_o1_v02.E250-SetA.I402004\" \n",
    "    \".Pe2e2h.eR.pL.n000.d_dstm_15090_*.slcio.edm4hep.root\"\n",
    "    :\"events\"},\n",
    "    schemaclass=EDM4HEPSchema,\n",
    "    permit_dask=True,\n",
    "    metadata = {'b_field':5},\n",
    ").events()"
   ]
  },
  {
   "cell_type": "code",
   "execution_count": 46,
   "id": "5690426c",
   "metadata": {},
   "outputs": [],
   "source": [
    "def jet_truehiggs(reco_particles,mc_particles,true_higgs,reco_mc_index,jet_constits_index,condition='pR',pcrit=(50,5)):\n",
    "    '''\n",
    "    compares jet constituents to true higgs products \n",
    "    \n",
    "    Parameters:\n",
    "    ----------\n",
    "    reco_particles :: array\n",
    "        array with all the reco particles\n",
    "    \n",
    "    mc_particles :: array\n",
    "        array with all the mc particles\n",
    "    \n",
    "    true_higgs :: array \n",
    "        array containing the mc indices of all the children of the higgs in each event \n",
    "    \n",
    "    reco_mc_index :: array \n",
    "        array containing a list of mc indices for each reco index\n",
    "    \n",
    "    jet_constits_index :: array \n",
    "        indices of the pfos contained in the jets in the reco particle array\n",
    "    \n",
    "    condition :: str (optional)\n",
    "        'pR' - the link with the closest momentum match is from the true higgs, to within 50% of the reco momentum \n",
    "               or 5 GeV, otherwise the closest \\Delta R between the two closest momentum matches\n",
    "               (criteria can be changed with pcrit)\n",
    "        'p' - the link with the closest momentum match is from the true higgs\n",
    "        'any' - any of one of the links from reco particles to mc particles is from the true higgs \n",
    "        'all' - all of the links from reco particles to mc particles is from the true higgs \n",
    "    \n",
    "    pcrit :: tuple (optional)\n",
    "        tuple defining the criteria for using momentum when condition = 'pR' as \n",
    "        (percent,absolute) FINISH DESCRIPTION\n",
    "        \n",
    "    Returns:\n",
    "    -------\n",
    "    \n",
    "    '''\n",
    "    matrix = False\n",
    "    \n",
    "    # throw error if any of the things are not the right lengths\n",
    "    if not (len(reco_particles) == len(mc_particles) and len(mc_particles) == len(true_higgs) and len(true_higgs) == len(reco_mc_index) and len(reco_mc_index) == len(jet_constits_index)):\n",
    "        raise ValueError('first 5 arrays must have the same number of events')\n",
    "    \n",
    "    jet_mcindices = reco_mc_index[jet_constits_index]\n",
    "    jet_con_in_higgs = []\n",
    "    \n",
    "    if condition == 'pR':\n",
    "        # complete (right now this is the same as 'p')\n",
    "        matched_gen = ak.unflatten(mc_particles[ak.flatten(reco_mc_index,axis=2)],ak.flatten(ak.num(reco_mc_index,axis=2)),axis=1)\n",
    "        \n",
    "        mc_reco_cartesian = ak.argcartesian({'mc':matched_gen.p,'reco':ak.singletons(reco_particles.p,axis=1)},axis=2)\n",
    "        mc_p_argmin = ak.singletons(ak.argmin(abs(matched_gen.p[mc_reco_cartesian['mc']] - ak.singletons(reco_particles.p,axis=1)[mc_reco_cartesian['reco']]),axis=2),axis=1)\n",
    "        \n",
    "        all_jet_inds = ak.flatten(reco_mc_index[mc_p_argmin],axis=2)[jet_constits_index]\n",
    "        \n",
    "        for n in range(len(all_jet_inds)):\n",
    "            jet_con_in_higgs.append(np.isin(all_jet_inds[n],true_higgs[n]))\n",
    "\n",
    "        jet_con_in_higgs = ak.Array(jet_con_in_higgs)\n",
    "        \n",
    "    elif condition == 'any' or condition == 'all':\n",
    "        all_jet_inds = ak.flatten(jet_mcindices,axis=2)\n",
    "        \n",
    "        jet_con_in_higgs = []\n",
    "\n",
    "        for n in range(len(all_jet_inds)):\n",
    "            jet_con_in_higgs.append(np.isin(all_jet_inds[n],true_higgs[n]))\n",
    "\n",
    "        jet_con_in_higgs = ak.Array(jet_con_in_higgs)\n",
    "        \n",
    "        if condition == 'any':\n",
    "            jet_con_in_higgs = ak.any(ak.unflatten(jet_con_in_higgs,ak.flatten(ak.num(jet_mcindices,axis=2)),axis=1),axis=2)\n",
    "        else:\n",
    "            jet_con_in_higgs = ak.all(ak.unflatten(jet_con_in_higgs,ak.flatten(ak.num(jet_mcindices,axis=2)),axis=1),axis=2)\n",
    "        \n",
    "    elif condition == 'p':\n",
    "        matched_gen = ak.unflatten(mc_particles[ak.flatten(reco_mc_index,axis=2)],ak.flatten(ak.num(reco_mc_index,axis=2)),axis=1)\n",
    "        \n",
    "        mc_reco_cartesian = ak.argcartesian({'mc':matched_gen.p,'reco':ak.singletons(reco_particles.p,axis=1)},axis=2)\n",
    "        mc_p_argmin = ak.singletons(ak.argmin(abs(matched_gen.p[mc_reco_cartesian['mc']] - ak.singletons(reco_particles.p,axis=1)[mc_reco_cartesian['reco']]),axis=2),axis=1)\n",
    "        \n",
    "        all_jet_inds = ak.flatten(reco_mc_index[mc_p_argmin],axis=2)[jet_constits_index]\n",
    "        \n",
    "        if matrix:\n",
    "            jet_con_in_higgs = ak_equals(all_jet_inds,true_higgs)\n",
    "        else:\n",
    "            for n in range(len(all_jet_inds)):\n",
    "                jet_con_in_higgs.append(np.isin(all_jet_inds[n],true_higgs[n]))\n",
    "\n",
    "            jet_con_in_higgs = ak.Array(jet_con_in_higgs)\n",
    "        \n",
    "    else:\n",
    "        raise ValueError('condition must be \\'p\\', \\'any\\', or \\'all\\'')\n",
    "    \n",
    "    \n",
    "    return jet_con_in_higgs"
   ]
  },
  {
   "cell_type": "markdown",
   "id": "61228b10",
   "metadata": {},
   "source": [
    "## Trying this technique for inner-event slicing\n",
    "events with a z boson decaying to mu mu with the two mus removed"
   ]
  },
  {
   "cell_type": "code",
   "execution_count": 3,
   "id": "a807ef69",
   "metadata": {},
   "outputs": [],
   "source": [
    "mupair = dak.combinations(events.PandoraPFOs[abs(events.PandoraPFOs.pdgId) == 13], 2, fields=[\"mu1\", \"mu2\"])\n",
    "pairmass = (mupair.mu1 + mupair.mu2).mass\n",
    "muonsevent = dak.any(\n",
    "    (pairmass > 80)\n",
    "    & (pairmass < 100)\n",
    "    & (mupair.mu1.charge == -mupair.mu2.charge),\n",
    "    axis=1,\n",
    ")\n",
    "\n",
    "jetdef = fastjet.JetDefinition(fastjet.kt_algorithm,1)\n",
    "\n",
    "pfopair = dak.argcombinations(events.PandoraPFOs, 2, fields=[\"p1\", \"p2\"])\n",
    "\n",
    "all_muons_mask = (abs(events.PandoraPFOs[pfopair.p1].pdgId) == 13) & (abs(events.PandoraPFOs[pfopair.p2].pdgId) == 13)\n",
    "\n",
    "invmass = (events.PandoraPFOs[pfopair.p1][all_muons_mask] + events.PandoraPFOs[pfopair.p2][all_muons_mask]).mass\n",
    "\n",
    "inds = dak.singletons(dak.argmin(abs(invmass - 91.2), axis=1))\n",
    "\n",
    "\n",
    "mu1ind = pfopair.p1[all_muons_mask][inds]\n",
    "mu2ind = pfopair.p2[all_muons_mask][inds]"
   ]
  },
  {
   "cell_type": "code",
   "execution_count": 4,
   "id": "0910293c",
   "metadata": {},
   "outputs": [],
   "source": [
    "m1 = mu1ind[muonsevent].compute()\n",
    "m2 = mu2ind[muonsevent].compute()\n",
    "\n",
    "p = events.PandoraPFOs[muonsevent].compute()"
   ]
  },
  {
   "cell_type": "code",
   "execution_count": 10,
   "id": "5c957b94",
   "metadata": {},
   "outputs": [],
   "source": [
    "# what is faster, binary or, or concat?"
   ]
  },
  {
   "cell_type": "code",
   "execution_count": 12,
   "id": "bc4f6352",
   "metadata": {},
   "outputs": [
    {
     "name": "stdout",
     "output_type": "stream",
     "text": [
      "CPU times: user 1min 31s, sys: 775 ms, total: 1min 31s\n",
      "Wall time: 1min 35s\n"
     ]
    }
   ],
   "source": [
    "%%time\n",
    "x = []\n",
    "y = []\n",
    "z = []\n",
    "E = []\n",
    "\n",
    "local_inds = ak.local_index(p)\n",
    "total_mask = ((ak_equals(local_inds, m1)) | (ak_equals(local_inds, m2))) != True\n",
    "\n",
    "for n in range(len(p)):\n",
    "    x.append(np.array(p.x[n][total_mask[n]]))\n",
    "    y.append(np.array(p.y[n][total_mask[n]]))\n",
    "    z.append(np.array(p.z[n][total_mask[n]]))\n",
    "    E.append(np.array(p.E[n][total_mask[n]]))\n",
    "\n",
    "x = ak.Array(x)\n",
    "y = ak.Array(y)\n",
    "z = ak.Array(z)\n",
    "E = ak.Array(E)\n",
    "\n",
    "# time 56.3 s"
   ]
  },
  {
   "cell_type": "code",
   "execution_count": 13,
   "id": "62511ced",
   "metadata": {},
   "outputs": [],
   "source": [
    "select_pfos = ak.zip(\n",
    "    {\n",
    "        'px': x,\n",
    "        'py': y,\n",
    "        'pz': z,\n",
    "        'E': E,\n",
    "    },\n",
    "    with_name=\"LorentzVector\",\n",
    ")"
   ]
  },
  {
   "cell_type": "code",
   "execution_count": 14,
   "id": "8d5326b7",
   "metadata": {},
   "outputs": [],
   "source": [
    "select_clst = fastjet.ClusterSequence(select_pfos, jetdef).exclusive_jets(n_jets=2)\n",
    "\n",
    "\n",
    "jets = ak.zip(\n",
    "    {\n",
    "        'x': select_clst[\"px\"],\n",
    "        'y': select_clst[\"py\"],\n",
    "        'z': select_clst[\"pz\"],\n",
    "        't': select_clst[\"E\"],\n",
    "    },\n",
    "    with_name=\"LorentzVector\",\n",
    "    behavior=events.PandoraPFOs.behavior,\n",
    ")"
   ]
  },
  {
   "cell_type": "code",
   "execution_count": 15,
   "id": "5707af97",
   "metadata": {},
   "outputs": [
    {
     "data": {
      "text/plain": [
       "<matplotlib.legend.Legend at 0x7fbf4a538160>"
      ]
     },
     "execution_count": 15,
     "metadata": {},
     "output_type": "execute_result"
    },
    {
     "data": {
      "image/png": "[encoded data removed]",
      "text/plain": [
       "<Figure size 640x480 with 1 Axes>"
      ]
     },
     "metadata": {},
     "output_type": "display_data"
    }
   ],
   "source": [
    "jetpair = ak.combinations(jets, 2, fields=[\"jet1\", \"jet2\"],axis=1) # all jet pairs\n",
    "\n",
    "nbins = 250\n",
    "mini = 0 \n",
    "maxi = 300\n",
    "\n",
    "plt.close(1);plt.figure(1)\n",
    "plt.hist(ak.flatten((jetpair.jet1 + jetpair.jet2).mass),\n",
    "         bins=nbins,\n",
    "         range=(mini,maxi),\n",
    "         histtype='step',\n",
    "         linewidth=1.5,\n",
    "         label='Pre-Jet Slicing, Forced Copy')\n",
    "\n",
    "\n",
    "# hist_clusters_2 = (\n",
    "#     hda.Hist.new.Reg(250, 0, 300, name=\"energy\", label=\"Jet Invariant Mass [GeV]\") \n",
    "#     .Double()\n",
    "#     .fill(dak.flatten((jetpair.jet1 + jetpair.jet2).mass))\n",
    "# )\n",
    "\n",
    "# hist_clusters_2.compute().plot1d(label='Pre-Jet Slicing, Masking')\n",
    "# dak.necessary_columns(hist_clusters_2)\n",
    "\n",
    "plt.legend()"
   ]
  },
  {
   "cell_type": "code",
   "execution_count": 16,
   "id": "f77d590c",
   "metadata": {},
   "outputs": [],
   "source": [
    "pfo_index = fastjet.ClusterSequence(select_pfos, jetdef).exclusive_jets_constituent_index(njets=2)"
   ]
  },
  {
   "cell_type": "code",
   "execution_count": 11,
   "id": "99e5c3c2",
   "metadata": {},
   "outputs": [],
   "source": [
    "# linked_gen = events.PandoraPFOs.matched_gen\n",
    "# linked_pdg = linked_gen.pdgId[muonsevent].compute()[total_mask][ak.flatten(pfo_index,axis=2)]"
   ]
  },
  {
   "cell_type": "markdown",
   "id": "3f3295ca",
   "metadata": {},
   "source": [
    "## Comparing Jets to True Higgs"
   ]
  },
  {
   "cell_type": "code",
   "execution_count": 17,
   "id": "6c357cf8",
   "metadata": {},
   "outputs": [],
   "source": [
    "file = [uproot.open(\"../../coffea_dev/root_files_may18/rv02-02.sv02-02.mILD_l5_o1_v02.E250-SetA.I402004.Pe2e2h.eR.pL.n000.d_dstm_15090_0.slcio.edm4hep.root\"),\n",
    "        uproot.open(\"../../coffea_dev/root_files_may18/rv02-02.sv02-02.mILD_l5_o1_v02.E250-SetA.I402004.Pe2e2h.eR.pL.n000.d_dstm_15090_1.slcio.edm4hep.root\"),\n",
    "        uproot.open(\"../../coffea_dev/root_files_may18/rv02-02.sv02-02.mILD_l5_o1_v02.E250-SetA.I402004.Pe2e2h.eR.pL.n000.d_dstm_15090_2.slcio.edm4hep.root\")]\n",
    "\n",
    "evs = [file[n]['events'] for n in range(3)]\n",
    "\n",
    "uproot_parinds_lst = [(evs[n][f'MCParticlesSkimmed#{0}/MCParticlesSkimmed#{0}.index']).array() for n in range(2,-1,-1)]\n",
    "uproot_parinds = ak.concatenate(uproot_parinds_lst,axis=0)\n",
    "\n",
    "uproot_daughinds_lst = [(evs[n][f'MCParticlesSkimmed#{1}/MCParticlesSkimmed#{1}.index']).array() for n in range(2,-1,-1)]\n",
    "uproot_daughinds = ak.concatenate(uproot_daughinds_lst,axis=0)\n",
    "\n",
    "uproot_mcstatus_lst = [(evs[n][f'MCParticlesSkimmed/MCParticlesSkimmed.generatorStatus']).array() for n in range(2,-1,-1)]\n",
    "uproot_mcstatus = ak.concatenate(uproot_mcstatus_lst,axis=0)\n"
   ]
  },
  {
   "cell_type": "code",
   "execution_count": 18,
   "id": "ed8d6ef2",
   "metadata": {},
   "outputs": [],
   "source": [
    "def daughter_tree(event,start_ind):\n",
    "    '''\n",
    "    returns list of all daughters \n",
    "    '''\n",
    "    curr_ind = ak.Array([-1])\n",
    "    daugh_ind = ak.Array([start_ind])\n",
    "\n",
    "    ind_lst = []\n",
    "\n",
    "    flag = True\n",
    "\n",
    "    while flag:\n",
    "        curr_ind = daugh_ind\n",
    "\n",
    "        daugh_ind = np.unique(ak.flatten(daugh_inds[event][curr_ind],axis=-1))\n",
    "\n",
    "        ind_lst.append(list(curr_ind))\n",
    "\n",
    "        if len(daugh_ind) == 0:\n",
    "            flag = False \n",
    "\n",
    "    return ind_lst"
   ]
  },
  {
   "cell_type": "code",
   "execution_count": 19,
   "id": "466dfe4e",
   "metadata": {},
   "outputs": [],
   "source": [
    "pshape = (events.MCParticlesSkimmed.parents_end - events.MCParticlesSkimmed.parents_begin).compute()\n",
    "par_inds = ak.unflatten(uproot_parinds,ak.flatten(pshape),axis=1)\n",
    "\n",
    "dshape = (events.MCParticlesSkimmed.daughters_end - events.MCParticlesSkimmed.daughters_begin).compute()\n",
    "daugh_inds = ak.unflatten(uproot_daughinds,ak.flatten(dshape),axis=1)"
   ]
  },
  {
   "cell_type": "code",
   "execution_count": 20,
   "id": "10685899",
   "metadata": {},
   "outputs": [],
   "source": [
    "pdgids = events.MCParticlesSkimmed.pdgId.compute()"
   ]
  },
  {
   "cell_type": "code",
   "execution_count": 41,
   "id": "976d2d05",
   "metadata": {
    "scrolled": false
   },
   "outputs": [
    {
     "name": "stdout",
     "output_type": "stream",
     "text": [
      "CPU times: user 4.23 ms, sys: 160 ms, total: 164 ms\n",
      "Wall time: 290 ms\n"
     ]
    }
   ],
   "source": [
    "%%time\n",
    "full_run = False\n",
    "\n",
    "if full_run:\n",
    "    higgs_daughter_tree = []\n",
    "\n",
    "    for event in range(len(pdgids)):\n",
    "        start_ind = ak.local_index(pdgids[event])[pdgids[event] == 25][0]\n",
    "\n",
    "        higgs_daughter_tree.append(daughter_tree(event,start_ind))\n",
    "\n",
    "        if event % 1000 == 0:\n",
    "            print(event)\n",
    "\n",
    "    higgs_daughter_tree_arr = ak.Array(higgs_daughter_tree)\n",
    "\n",
    "    higgs_children = ak.flatten(higgs_daughter_tree_arr,axis=2)\n",
    "else:\n",
    "    higgs_children = pickle.load(open('higgs_children.pickle','rb'))\n",
    "    higgs_daughter_tree_arr = pickle.load(open('higgs_daughter_tree_arr.pickle','rb'))"
   ]
  },
  {
   "cell_type": "code",
   "execution_count": 40,
   "id": "a7c91013",
   "metadata": {},
   "outputs": [],
   "source": [
    "# pickle.dump(higgs_children,open('higgs_children.pickle','wb'))\n",
    "# pickle.dump(higgs_daughter_tree_arr,open('higgs_daughter_tree_arr.pickle','wb'))"
   ]
  },
  {
   "cell_type": "code",
   "execution_count": 22,
   "id": "a8a11585",
   "metadata": {},
   "outputs": [],
   "source": [
    "arr_reco = events.RecoMCTruthLink.reco_index.compute()\n",
    "arr_mc = events.RecoMCTruthLink.mc_index.compute()\n",
    "sort_reco = arr_reco[ak.argsort(arr_reco)]\n",
    "sort_mc = arr_mc[ak.argsort(arr_reco)]\n",
    "\n",
    "\n",
    "proper_indices = ak.unflatten(sort_mc,ak.flatten(ak.run_lengths(sort_reco),axis=1),axis=1)"
   ]
  },
  {
   "cell_type": "markdown",
   "id": "f1105966",
   "metadata": {},
   "source": [
    "#### Plots to make:\n",
    "- number of missing/extra particles (I think I can just look at lengths)\n",
    "- % of jet momentum coming from extra particles"
   ]
  },
  {
   "cell_type": "code",
   "execution_count": null,
   "id": "14250225",
   "metadata": {},
   "outputs": [],
   "source": [
    "pfos = events.PandoraPFOs.compute()\n",
    "mc = events.MCParticlesSkimmed.compute()\n",
    "muonsevent_c = muonsevent.compute()"
   ]
  },
  {
   "cell_type": "code",
   "execution_count": 47,
   "id": "a109c3c8",
   "metadata": {},
   "outputs": [
    {
     "name": "stdout",
     "output_type": "stream",
     "text": [
      "CPU times: user 24.3 s, sys: 3.36 s, total: 27.7 s\n",
      "Wall time: 33.2 s\n"
     ]
    }
   ],
   "source": [
    "%%time\n",
    "jet_con_in_higgs = jet_truehiggs(pfos[muonsevent_c][total_mask],\n",
    "                                 mc[muonsevent_c],\n",
    "                                 higgs_children[muonsevent_c],\n",
    "                                 proper_indices[muonsevent_c][total_mask],\n",
    "                                 ak.flatten(pfo_index,axis=2),\n",
    "                                 'p')\n"
   ]
  },
  {
   "cell_type": "code",
   "execution_count": 93,
   "id": "6ef2c552",
   "metadata": {},
   "outputs": [
    {
     "name": "stderr",
     "output_type": "stream",
     "text": [
      "function call on just metas failed; will try length zero array technique\n"
     ]
    },
    {
     "name": "stdout",
     "output_type": "stream",
     "text": [
      "CPU times: user 28.2 s, sys: 1min 11s, total: 1min 39s\n",
      "Wall time: 1min 36s\n"
     ]
    },
    {
     "data": {
      "text/html": [
       "<pre>[[True, True, True, True, True, True, ..., False, False, True, True, True],\n",
       " [False, False],\n",
       " [True, True, True, True, False, False, ..., True, True, True, True, True],\n",
       " [False, False, False, False, False, ..., False, False, False, False, False],\n",
       " [True, True, True, True, True, True, ..., False, False, True, True, True],\n",
       " [False, True, False, False, True, ..., True, False, False, False, False],\n",
       " [True, True, True, True, False, True, ..., True, True, True, True, True, True],\n",
       " [True, True, True, True, True, True, ..., True, True, True, True, True, True],\n",
       " [True, True, True, True, True, False, ..., False, True, False, False, True],\n",
       " [True, True, False, True, True, False, ..., True, True, True, True, True],\n",
       " ...,\n",
       " [True, False, False, False, False, True, ..., True, False, True, False, False],\n",
       " [True, False, False, True, True, True, ..., True, True, True, True, True],\n",
       " [False, False, False, False, False],\n",
       " [True, True, True, True, True, False, ..., True, True, True, True, True, True],\n",
       " [True, False, True, True, True, True, ..., True, True, True, True, True, True],\n",
       " [True, True, True, True, True, True, ..., True, True, True, True, True, True],\n",
       " [True, False, True, False, True, False, ..., False, False, True, True, True],\n",
       " [True, True, True, True, True, True, ..., False, False, False, True, True],\n",
       " [True, True, True, False, False, True, ..., True, True, True, True, True]]\n",
       "--------------------------------------------------------------------------------\n",
       "type: 24776 * var * bool</pre>"
      ],
      "text/plain": [
       "<Array [[True, True, True, ..., True, True], ...] type='24776 * var * bool'>"
      ]
     },
     "execution_count": 93,
     "metadata": {},
     "output_type": "execute_result"
    }
   ],
   "source": [
    "%%time\n",
    "da1 = dak.from_awkward(ak.flatten(proper_indices[muonsevent_c][total_mask],axis=2)[ak.flatten(pfo_index,axis=2)],npartitions=3)\n",
    "da2 = dak.from_awkward(higgs_children[muonsevent_c],npartitions=3)\n",
    "\n",
    "arg_cart = dak.from_awkward(ak.argcartesian({'a1':a1,'a2':a2},axis=-1),npartitions=3)\n",
    "\n",
    "cart_mask = da1[arg_cart['a1']] == da2[arg_cart['a2']]\n",
    "\n",
    "dak.any(dak.unflatten(cart_mask,dak.flatten(dak.run_lengths(arg_cart['a1'])),axis=-1),axis=-1).compute()"
   ]
  },
  {
   "cell_type": "markdown",
   "id": "452b1c61",
   "metadata": {},
   "source": [
    "matrix time: 1min 37s \\\n",
    "non-matrix time: 33.2 s"
   ]
  },
  {
   "cell_type": "code",
   "execution_count": 19,
   "id": "73182427",
   "metadata": {},
   "outputs": [
    {
     "data": {
      "text/plain": [
       "Text(0.5, 0, 'number of extra particles in jets divided by number of particles in jets')"
      ]
     },
     "execution_count": 19,
     "metadata": {},
     "output_type": "execute_result"
    },
    {
     "data": {
      "image/png": "[encoded data removed]",
      "text/plain": [
       "<Figure size 640x480 with 1 Axes>"
      ]
     },
     "metadata": {},
     "output_type": "display_data"
    }
   ],
   "source": [
    "ifig=1;plt.close(ifig);plt.figure(ifig)\n",
    "\n",
    "nbins = 250\n",
    "mini = 0 \n",
    "maxi = 300\n",
    "\n",
    "num = plt.hist((ak.num(jet_con_in_higgs)-ak.num(ak.local_index(jet_con_in_higgs)[jet_con_in_higgs]))/ak.num(jet_con_in_higgs),\n",
    "         bins=nbins,\n",
    "#          density=True\n",
    "        )\n",
    "\n",
    "plt.xlabel('number of extra particles in jets divided by number of particles in jets')"
   ]
  },
  {
   "cell_type": "code",
   "execution_count": 20,
   "id": "fd2301f7",
   "metadata": {},
   "outputs": [
    {
     "data": {
      "text/plain": [
       "Text(0.5, 0, 'momentum of extra particles [GeV]')"
      ]
     },
     "execution_count": 20,
     "metadata": {},
     "output_type": "execute_result"
    },
    {
     "data": {
      "image/png": "[encoded data removed]",
      "text/plain": [
       "<Figure size 640x480 with 1 Axes>"
      ]
     },
     "metadata": {},
     "output_type": "display_data"
    }
   ],
   "source": [
    "ifig=2;plt.close(ifig);plt.figure(ifig)\n",
    "\n",
    "nbins = 250\n",
    "mini = 0 \n",
    "maxi = 300\n",
    "\n",
    "plt.hist(ak.flatten(events.PandoraPFOs[muonsevent].p.compute()[total_mask][ak.flatten(pfo_index,axis=2)][jet_con_in_higgs != True]),\n",
    "         bins=nbins,\n",
    "        )\n",
    "\n",
    "\n",
    "plt.xlabel('momentum of extra particles [GeV]')"
   ]
  },
  {
   "cell_type": "code",
   "execution_count": 35,
   "id": "886909eb",
   "metadata": {},
   "outputs": [
    {
     "data": {
      "text/plain": [
       "<matplotlib.legend.Legend at 0x7fbe21bb3520>"
      ]
     },
     "execution_count": 35,
     "metadata": {},
     "output_type": "execute_result"
    },
    {
     "data": {
      "image/png": "[encoded data removed]",
      "text/plain": [
       "<Figure size 640x480 with 1 Axes>"
      ]
     },
     "metadata": {},
     "output_type": "display_data"
    }
   ],
   "source": [
    "frac_extra = (ak.num(jet_con_in_higgs)-ak.num(ak.local_index(jet_con_in_higgs)[jet_con_in_higgs]))/ak.num(jet_con_in_higgs)\n",
    "\n",
    "nbins = 250\n",
    "mini = 0 \n",
    "maxi = 300\n",
    "\n",
    "tol = 0.3\n",
    "\n",
    "# fig,axs = plt.subplots(1,2)\n",
    "plt.close(1);plt.figure(1)\n",
    "plt.hist(ak.flatten((jetpair.jet1 + jetpair.jet2).mass[frac_extra<=tol]),\n",
    "         bins=nbins,\n",
    "         range=(mini,maxi),\n",
    "         histtype='step',\n",
    "#          linewidth=1.5,\n",
    "         density = True,\n",
    "         label=f'jets with miscluster frac $\\leq {tol}$')\n",
    "\n",
    "plt.hist(ak.flatten((jetpair.jet1 + jetpair.jet2).mass[frac_extra>tol]),\n",
    "         bins=nbins,\n",
    "         range=(mini,maxi),\n",
    "         histtype='step',\n",
    "#          linewidth=1.5,\n",
    "         density = True,\n",
    "         label=f'jets with miscluster frac $> {tol}$')\n",
    "\n",
    "plt.plot([125,125],[0,0.027],'grey',alpha=0.5)\n",
    "\n",
    "plt.xlabel('Jet Invariant Mass [Jet]')\n",
    "\n",
    "plt.legend()"
   ]
  },
  {
   "cell_type": "markdown",
   "id": "43f76424",
   "metadata": {},
   "source": [
    "### Source for branching ratios\n",
    "https://twiki.cern.ch/twiki/bin/view/LHCPhysics/CERNYellowReportPageBR \\\n",
    "https://pdg.lbl.gov/2018/listings/rpp2018-list-z-boson.pdf"
   ]
  },
  {
   "cell_type": "markdown",
   "id": "3e95e77e",
   "metadata": {},
   "source": [
    "## Higgs -> bb exclusively\n"
   ]
  },
  {
   "cell_type": "markdown",
   "id": "02fed64b",
   "metadata": {},
   "source": [
    "Need to check if in events with bb, they definitely come from higgs. I'll just make a better mask at the top here later."
   ]
  },
  {
   "cell_type": "code",
   "execution_count": 37,
   "id": "45a583b4",
   "metadata": {},
   "outputs": [],
   "source": [
    "mcpdgids = events.MCParticlesSkimmed.pdgId.compute()"
   ]
  },
  {
   "cell_type": "code",
   "execution_count": 38,
   "id": "9f076a48",
   "metadata": {},
   "outputs": [],
   "source": [
    "pfos = events.PandoraPFOs.compute()"
   ]
  },
  {
   "cell_type": "code",
   "execution_count": 39,
   "id": "1799b7d5",
   "metadata": {},
   "outputs": [],
   "source": [
    "hdecaymask = ak.flatten(higgs_daughter_tree_arr[ak.local_index(ak.num(higgs_daughter_tree_arr,axis=2)) == 1],axis=1)\n",
    "\n",
    "bmask = ak.all((mcpdgids[hdecaymask] == 5) | (mcpdgids[hdecaymask] == -5),axis=1)"
   ]
  },
  {
   "cell_type": "code",
   "execution_count": 40,
   "id": "cabb30f2",
   "metadata": {},
   "outputs": [],
   "source": [
    "allbmask = ak.fill_none(ak.firsts(ak.local_index(mcpdgids)[mcpdgids == 5]) != None,False)\n",
    "\n",
    "bpfos = pfos[bmask]"
   ]
  },
  {
   "cell_type": "code",
   "execution_count": 41,
   "id": "818c51b6",
   "metadata": {},
   "outputs": [],
   "source": [
    "mupair = ak.combinations(bpfos[abs(bpfos.pdgId) == 13], 2, fields=[\"mu1\", \"mu2\"])\n",
    "pairmass = (mupair.mu1 + mupair.mu2).mass\n",
    "muonsevent = ak.any(\n",
    "    (pairmass > 80)\n",
    "    & (pairmass < 100)\n",
    "    & (mupair.mu1.charge == -mupair.mu2.charge),\n",
    "    axis=1,\n",
    ")\n",
    "\n",
    "jetdef = fastjet.JetDefinition(fastjet.kt_algorithm,1)\n",
    "\n",
    "pfopair = ak.argcombinations(bpfos, 2, fields=[\"p1\", \"p2\"])\n",
    "\n",
    "invmass = (bpfos[pfopair.p1][(abs(bpfos[pfopair.p1].pdgId) == 13) & (abs(bpfos[pfopair.p2].pdgId) == 13)] + bpfos[pfopair.p2][(abs(bpfos[pfopair.p1].pdgId) == 13) & (abs(bpfos[pfopair.p2].pdgId) == 13)]).mass\n",
    "\n",
    "inds = ak.singletons(ak.argmin(abs(invmass - 91.2), axis=1))\n",
    "\n",
    "# this could be a lot cleaner\n",
    "mu1ind = pfopair.p1[(abs(bpfos[pfopair.p1].pdgId) == 13) & (abs(bpfos[pfopair.p2].pdgId) == 13)][inds]\n",
    "mu2ind = pfopair.p2[(abs(bpfos[pfopair.p1].pdgId) == 13) & (abs(bpfos[pfopair.p2].pdgId) == 13)][inds]"
   ]
  },
  {
   "cell_type": "code",
   "execution_count": 42,
   "id": "68dbf0af",
   "metadata": {},
   "outputs": [],
   "source": [
    "m1 = mu1ind[muonsevent]\n",
    "m2 = mu2ind[muonsevent]\n",
    "\n",
    "p = bpfos[muonsevent]"
   ]
  },
  {
   "cell_type": "code",
   "execution_count": 11,
   "id": "91720e98",
   "metadata": {},
   "outputs": [
    {
     "name": "stdout",
     "output_type": "stream",
     "text": [
      "CPU times: user 52.6 s, sys: 638 ms, total: 53.2 s\n",
      "Wall time: 56.3 s\n"
     ]
    }
   ],
   "source": [
    "%%time\n",
    "x = []\n",
    "y = []\n",
    "z = []\n",
    "E = []\n",
    "\n",
    "local_inds = ak.local_index(p)\n",
    "total_mask = (ak_equals(local_inds, m1)) | (ak_equals(local_inds, m2))\n",
    "\n",
    "for n in range(len(p)):\n",
    "    x.append(np.array(p.x[n][total_mask[n]]))\n",
    "    y.append(np.array(p.y[n][total_mask[n]]))\n",
    "    z.append(np.array(p.z[n][total_mask[n]]))\n",
    "    E.append(np.array(p.E[n][total_mask[n]]))\n",
    "\n",
    "x = ak.Array(x)\n",
    "y = ak.Array(y)\n",
    "z = ak.Array(z)\n",
    "E = ak.Array(E)\n",
    "\n",
    "# time 56.3 s"
   ]
  },
  {
   "cell_type": "code",
   "execution_count": 44,
   "id": "ee113c7a",
   "metadata": {},
   "outputs": [],
   "source": [
    "select_pfos = ak.zip(\n",
    "    {\n",
    "        'px': x,\n",
    "        'py': y,\n",
    "        'pz': z,\n",
    "        'E': E,\n",
    "    },\n",
    "    with_name=\"LorentzVector\",\n",
    ")"
   ]
  },
  {
   "cell_type": "code",
   "execution_count": 45,
   "id": "f2be4907",
   "metadata": {},
   "outputs": [],
   "source": [
    "select_clst = fastjet.ClusterSequence(select_pfos, jetdef).exclusive_jets(n_jets=2)\n",
    "\n",
    "\n",
    "jets = ak.zip(\n",
    "    {\n",
    "        'x': select_clst[\"px\"],\n",
    "        'y': select_clst[\"py\"],\n",
    "        'z': select_clst[\"pz\"],\n",
    "        't': select_clst[\"E\"],\n",
    "    },\n",
    "    with_name=\"LorentzVector\",\n",
    "    behavior=events.PandoraPFOs.behavior,\n",
    ")"
   ]
  },
  {
   "cell_type": "code",
   "execution_count": 46,
   "id": "cea987dc",
   "metadata": {},
   "outputs": [
    {
     "data": {
      "text/plain": [
       "<matplotlib.legend.Legend at 0x7fb7d25e2d10>"
      ]
     },
     "execution_count": 46,
     "metadata": {},
     "output_type": "execute_result"
    },
    {
     "data": {
      "image/png": "[encoded data removed]",
      "text/plain": [
       "<Figure size 640x480 with 1 Axes>"
      ]
     },
     "metadata": {},
     "output_type": "display_data"
    }
   ],
   "source": [
    "jetpair = ak.combinations(jets, 2, fields=[\"jet1\", \"jet2\"],axis=1) # all jet pairs\n",
    "\n",
    "nbins = 250\n",
    "mini = 0 \n",
    "maxi = 300\n",
    "\n",
    "plt.close(1);plt.figure(1)\n",
    "plt.hist(ak.flatten((jetpair.jet1 + jetpair.jet2).mass),\n",
    "         bins=nbins,\n",
    "         range=(mini,maxi),\n",
    "         histtype='step',\n",
    "         linewidth=1.5,\n",
    "         label='Pre-Jet Slicing, Forced Copy')\n",
    "\n",
    "\n",
    "# hist_clusters_2 = (\n",
    "#     hda.Hist.new.Reg(250, 0, 300, name=\"energy\", label=\"Jet Invariant Mass [GeV]\") \n",
    "#     .Double()\n",
    "#     .fill(dak.flatten((jetpair.jet1 + jetpair.jet2).mass))\n",
    "# )\n",
    "\n",
    "# hist_clusters_2.compute().plot1d(label='Pre-Jet Slicing, Masking')\n",
    "# dak.necessary_columns(hist_clusters_2)\n",
    "\n",
    "plt.legend()"
   ]
  },
  {
   "cell_type": "code",
   "execution_count": 47,
   "id": "6354b57a",
   "metadata": {},
   "outputs": [],
   "source": [
    "pfo_index = fastjet.ClusterSequence(select_pfos, jetdef).exclusive_jets_constituent_index(njets=2)"
   ]
  },
  {
   "cell_type": "markdown",
   "id": "d4b593de",
   "metadata": {},
   "source": [
    "Function that gives the option of how you would like jet constituents to be counted"
   ]
  },
  {
   "cell_type": "code",
   "execution_count": 48,
   "id": "d641471c",
   "metadata": {},
   "outputs": [],
   "source": [
    "def jet_truehiggs(reco_particles,mc_particles,true_higgs,reco_mc_index,jet_constits_index,condition='pR',pcrit=(50,5)):\n",
    "    '''\n",
    "    compares jet constituents to true higgs products \n",
    "    \n",
    "    Parameters:\n",
    "    ----------\n",
    "    reco_particles :: array\n",
    "        array with all the reco particles\n",
    "    \n",
    "    mc_particles :: array\n",
    "        array with all the mc particles\n",
    "    \n",
    "    true_higgs :: array \n",
    "        array containing the mc indices of all the children of the higgs in each event \n",
    "    \n",
    "    reco_mc_index :: array \n",
    "        array containing a list of mc indices for each reco index\n",
    "    \n",
    "    jet_constits_index :: array \n",
    "        indices of the pfos contained in the jets in the reco particle array\n",
    "    \n",
    "    condition :: str (optional)\n",
    "        'pR' - the link with the closest momentum match is from the true higgs, to within 50% of the reco momentum \n",
    "               or 5 GeV, otherwise the closest \\Delta R between the two closest momentum matches\n",
    "               (criteria can be changed with pcrit)\n",
    "        'p' - the link with the closest momentum match is from the true higgs\n",
    "        'any' - any of one of the links from reco particles to mc particles is from the true higgs \n",
    "        'all' - all of the links from reco particles to mc particles is from the true higgs \n",
    "    \n",
    "    pcrit :: tuple (optional)\n",
    "        tuple defining the criteria for using momentum when condition = 'pR' as \n",
    "        (percent,absolute) FINISH DESCRIPTION\n",
    "        \n",
    "    Returns:\n",
    "    -------\n",
    "    \n",
    "    '''\n",
    "    # throw error if any of the things are not the right lengths\n",
    "    if not (len(reco_particles) == len(mc_particles) and len(mc_particles) == len(true_higgs) and len(true_higgs) == len(reco_mc_index) and len(reco_mc_index) == len(jet_constits_index)):\n",
    "        raise ValueError('first 5 arrays must have the same number of events')\n",
    "    \n",
    "    jet_mcindices = reco_mc_index[jet_constits_index]\n",
    "    jet_con_in_higgs = []\n",
    "    \n",
    "    if condition == 'pR':\n",
    "        # complete (right now this is the same as 'p')\n",
    "        matched_gen = ak.unflatten(mc_particles[ak.flatten(reco_mc_index,axis=2)],ak.flatten(ak.num(reco_mc_index,axis=2)),axis=1)\n",
    "        \n",
    "        mc_reco_cartesian = ak.argcartesian({'mc':matched_gen.p,'reco':ak.singletons(reco_particles.p,axis=1)},axis=2)\n",
    "        mc_p_argmin = ak.singletons(ak.argmin(abs(matched_gen.p[mc_reco_cartesian['mc']] - ak.singletons(reco_particles.p,axis=1)[mc_reco_cartesian['reco']]),axis=2),axis=1)\n",
    "        \n",
    "        all_jet_inds = ak.flatten(reco_mc_index[mc_p_argmin],axis=2)[jet_constits_index]\n",
    "        \n",
    "        for n in range(len(all_jet_inds)):\n",
    "            jet_con_in_higgs.append(np.isin(all_jet_inds[n],true_higgs[n]))\n",
    "\n",
    "        jet_con_in_higgs = ak.Array(jet_con_in_higgs)\n",
    "        \n",
    "    elif condition == 'any' or condition == 'all':\n",
    "        all_jet_inds = ak.flatten(jet_mcindices,axis=2)\n",
    "        \n",
    "        jet_con_in_higgs = []\n",
    "\n",
    "        for n in range(len(all_jet_inds)):\n",
    "            jet_con_in_higgs.append(np.isin(all_jet_inds[n],true_higgs[n]))\n",
    "\n",
    "        jet_con_in_higgs = ak.Array(jet_con_in_higgs)\n",
    "        \n",
    "        if condition == 'any':\n",
    "            jet_con_in_higgs = ak.any(ak.unflatten(jet_con_in_higgs,ak.flatten(ak.num(jet_mcindices,axis=2)),axis=1),axis=2)\n",
    "        else:\n",
    "            jet_con_in_higgs = ak.all(ak.unflatten(jet_con_in_higgs,ak.flatten(ak.num(jet_mcindices,axis=2)),axis=1),axis=2)\n",
    "        \n",
    "    elif condition == 'p':\n",
    "        matched_gen = ak.unflatten(mc_particles[ak.flatten(reco_mc_index,axis=2)],ak.flatten(ak.num(reco_mc_index,axis=2)),axis=1)\n",
    "        \n",
    "        mc_reco_cartesian = ak.argcartesian({'mc':matched_gen.p,'reco':ak.singletons(reco_particles.p,axis=1)},axis=2)\n",
    "        mc_p_argmin = ak.singletons(ak.argmin(abs(matched_gen.p[mc_reco_cartesian['mc']] - ak.singletons(reco_particles.p,axis=1)[mc_reco_cartesian['reco']]),axis=2),axis=1)\n",
    "        \n",
    "        all_jet_inds = ak.flatten(reco_mc_index[mc_p_argmin],axis=2)[jet_constits_index]\n",
    "        \n",
    "        for n in range(len(all_jet_inds)):\n",
    "            jet_con_in_higgs.append(np.isin(all_jet_inds[n],true_higgs[n]))\n",
    "\n",
    "        jet_con_in_higgs = ak.Array(jet_con_in_higgs)\n",
    "        \n",
    "    else:\n",
    "        raise ValueError('condition must be \\'p\\', \\'any\\', or \\'all\\'')\n",
    "    \n",
    "    \n",
    "    return jet_con_in_higgs"
   ]
  },
  {
   "cell_type": "code",
   "execution_count": 49,
   "id": "c5c9b6fa",
   "metadata": {},
   "outputs": [
    {
     "ename": "NameError",
     "evalue": "name 'reco_mc_index' is not defined",
     "output_type": "error",
     "traceback": [
      "\u001b[0;31m---------------------------------------------------------------------------\u001b[0m",
      "\u001b[0;31mNameError\u001b[0m                                 Traceback (most recent call last)",
      "File \u001b[0;32m<timed exec>:1\u001b[0m\n",
      "\u001b[0;31mNameError\u001b[0m: name 'reco_mc_index' is not defined"
     ]
    }
   ],
   "source": [
    "%%time\n",
    "all_jet_inds = ak.flatten(reco_mc_index[mc_p_argmin],axis=2)[jet_constits_index]\n",
    "jet_con_in_higgs2 = ak_tools.ak_equals(all_jet_inds,true_higgs)"
   ]
  },
  {
   "cell_type": "code",
   "execution_count": 50,
   "id": "e5618d7f",
   "metadata": {},
   "outputs": [
    {
     "ename": "AttributeError",
     "evalue": "no field named 'metric_table'",
     "output_type": "error",
     "traceback": [
      "\u001b[0;31m---------------------------------------------------------------------------\u001b[0m",
      "\u001b[0;31mAttributeError\u001b[0m                            Traceback (most recent call last)",
      "Cell \u001b[0;32mIn[50], line 17\u001b[0m\n\u001b[1;32m     14\u001b[0m mc_p_diff \u001b[38;5;241m=\u001b[39m ak\u001b[38;5;241m.\u001b[39msingletons(ak\u001b[38;5;241m.\u001b[39mmin(\u001b[38;5;28mabs\u001b[39m(matched_gen\u001b[38;5;241m.\u001b[39mp[mc_reco_cartesian[\u001b[38;5;124m'\u001b[39m\u001b[38;5;124mmc\u001b[39m\u001b[38;5;124m'\u001b[39m]] \u001b[38;5;241m-\u001b[39m ak\u001b[38;5;241m.\u001b[39msingletons(reco_particles\u001b[38;5;241m.\u001b[39mp,axis\u001b[38;5;241m=\u001b[39m\u001b[38;5;241m1\u001b[39m)[mc_reco_cartesian[\u001b[38;5;124m'\u001b[39m\u001b[38;5;124mreco\u001b[39m\u001b[38;5;124m'\u001b[39m]]),axis\u001b[38;5;241m=\u001b[39m\u001b[38;5;241m2\u001b[39m),axis\u001b[38;5;241m=\u001b[39m\u001b[38;5;241m1\u001b[39m)\n\u001b[1;32m     15\u001b[0m mc_p_argmin \u001b[38;5;241m=\u001b[39m ak\u001b[38;5;241m.\u001b[39msingletons(ak\u001b[38;5;241m.\u001b[39margmin(\u001b[38;5;28mabs\u001b[39m(matched_gen\u001b[38;5;241m.\u001b[39mp[mc_reco_cartesian[\u001b[38;5;124m'\u001b[39m\u001b[38;5;124mmc\u001b[39m\u001b[38;5;124m'\u001b[39m]] \u001b[38;5;241m-\u001b[39m ak\u001b[38;5;241m.\u001b[39msingletons(reco_particles\u001b[38;5;241m.\u001b[39mp,axis\u001b[38;5;241m=\u001b[39m\u001b[38;5;241m1\u001b[39m)[mc_reco_cartesian[\u001b[38;5;124m'\u001b[39m\u001b[38;5;124mreco\u001b[39m\u001b[38;5;124m'\u001b[39m]]),axis\u001b[38;5;241m=\u001b[39m\u001b[38;5;241m2\u001b[39m),axis\u001b[38;5;241m=\u001b[39m\u001b[38;5;241m1\u001b[39m)\n\u001b[0;32m---> 17\u001b[0m mc_R_argmin \u001b[38;5;241m=\u001b[39m ak\u001b[38;5;241m.\u001b[39msingletons(ak\u001b[38;5;241m.\u001b[39margmin(\u001b[38;5;28mabs\u001b[39m(\u001b[43mmatched_gen\u001b[49m\u001b[38;5;241;43m.\u001b[39;49m\u001b[43mp\u001b[49m\u001b[43m[\u001b[49m\u001b[43mmc_reco_cartesian\u001b[49m\u001b[43m[\u001b[49m\u001b[38;5;124;43m'\u001b[39;49m\u001b[38;5;124;43mmc\u001b[39;49m\u001b[38;5;124;43m'\u001b[39;49m\u001b[43m]\u001b[49m\u001b[43m]\u001b[49m\u001b[38;5;241;43m.\u001b[39;49m\u001b[43mmetric_table\u001b[49m(ak\u001b[38;5;241m.\u001b[39msingletons(reco_particles\u001b[38;5;241m.\u001b[39mp,axis\u001b[38;5;241m=\u001b[39m\u001b[38;5;241m1\u001b[39m)[mc_reco_cartesian[\u001b[38;5;124m'\u001b[39m\u001b[38;5;124mreco\u001b[39m\u001b[38;5;124m'\u001b[39m]])),axis\u001b[38;5;241m=\u001b[39m\u001b[38;5;241m2\u001b[39m),axis\u001b[38;5;241m=\u001b[39m\u001b[38;5;241m1\u001b[39m)\n\u001b[1;32m     21\u001b[0m \u001b[38;5;66;03m# (mc_p_diff < ak.singletons(reco_particles.p,axis=1)*pcrit[0]/100) | (abs(mc_p_diff - ak.singletons(reco_particles.p,axis=1)/2) < pcrit[1])\u001b[39;00m\n\u001b[1;32m     22\u001b[0m \n\u001b[1;32m     23\u001b[0m \n\u001b[1;32m     24\u001b[0m \u001b[38;5;66;03m# this seems off \u001b[39;00m\n\u001b[1;32m     25\u001b[0m \u001b[38;5;66;03m# not sure why it's making another dimension\u001b[39;00m\n\u001b[1;32m     26\u001b[0m ak\u001b[38;5;241m.\u001b[39mflatten(matched_gen[mc_reco_cartesian[\u001b[38;5;124m'\u001b[39m\u001b[38;5;124mmc\u001b[39m\u001b[38;5;124m'\u001b[39m]],axis\u001b[38;5;241m=\u001b[39m\u001b[38;5;241m2\u001b[39m)\u001b[38;5;241m.\u001b[39mmetric_table(ak\u001b[38;5;241m.\u001b[39mflatten(ak\u001b[38;5;241m.\u001b[39msingletons(reco_particles,axis\u001b[38;5;241m=\u001b[39m\u001b[38;5;241m1\u001b[39m)[mc_reco_cartesian[\u001b[38;5;124m'\u001b[39m\u001b[38;5;124mreco\u001b[39m\u001b[38;5;124m'\u001b[39m]],axis\u001b[38;5;241m=\u001b[39m\u001b[38;5;241m2\u001b[39m))\n",
      "File \u001b[0;32m~/anaconda3/lib/python3.10/site-packages/awkward/highlevel.py:1115\u001b[0m, in \u001b[0;36mArray.__getattr__\u001b[0;34m(self, where)\u001b[0m\n\u001b[1;32m   1110\u001b[0m         \u001b[38;5;28;01mraise\u001b[39;00m \u001b[38;5;167;01mAttributeError\u001b[39;00m(\n\u001b[1;32m   1111\u001b[0m             \u001b[38;5;124m\"\u001b[39m\u001b[38;5;124mwhile trying to get field \u001b[39m\u001b[38;5;132;01m{}\u001b[39;00m\u001b[38;5;124m, an exception \u001b[39m\u001b[38;5;124m\"\u001b[39m\n\u001b[1;32m   1112\u001b[0m             \u001b[38;5;124m\"\u001b[39m\u001b[38;5;124moccurred:\u001b[39m\u001b[38;5;130;01m\\n\u001b[39;00m\u001b[38;5;132;01m{}\u001b[39;00m\u001b[38;5;124m: \u001b[39m\u001b[38;5;132;01m{}\u001b[39;00m\u001b[38;5;124m\"\u001b[39m\u001b[38;5;241m.\u001b[39mformat(\u001b[38;5;28mrepr\u001b[39m(where), \u001b[38;5;28mtype\u001b[39m(err), \u001b[38;5;28mstr\u001b[39m(err))\n\u001b[1;32m   1113\u001b[0m         ) \u001b[38;5;28;01mfrom\u001b[39;00m \u001b[38;5;21;01merr\u001b[39;00m\n\u001b[1;32m   1114\u001b[0m \u001b[38;5;28;01melse\u001b[39;00m:\n\u001b[0;32m-> 1115\u001b[0m     \u001b[38;5;28;01mraise\u001b[39;00m \u001b[38;5;167;01mAttributeError\u001b[39;00m(\u001b[38;5;124mf\u001b[39m\u001b[38;5;124m\"\u001b[39m\u001b[38;5;124mno field named \u001b[39m\u001b[38;5;132;01m{\u001b[39;00mwhere\u001b[38;5;132;01m!r}\u001b[39;00m\u001b[38;5;124m\"\u001b[39m)\n",
      "\u001b[0;31mAttributeError\u001b[0m: no field named 'metric_table'"
     ]
    }
   ],
   "source": [
    "# boolean mask for all the ones that meet momentum criteria for 'pR'\n",
    "# tomorrow need to make the delta r array too and then find a way to \"put them together\" using this mask \n",
    "reco_particles=bpfos[muonsevent][total_mask]\n",
    "mc_particles=mc[bmask][muonsevent]\n",
    "true_higgs=higgs_children[bmask][muonsevent]\n",
    "reco_mc_index=proper_indices[bmask][muonsevent][total_mask]\n",
    "jet_constits_index=ak.flatten(pfo_index,axis=2)\n",
    "pcrit = (50,5)\n",
    "\n",
    "\n",
    "matched_gen = ak.unflatten(mc_particles[ak.flatten(reco_mc_index,axis=2)],ak.flatten(ak.num(reco_mc_index,axis=2)),axis=1)\n",
    "        \n",
    "mc_reco_cartesian = ak.argcartesian({'mc':matched_gen.p,'reco':ak.singletons(reco_particles.p,axis=1)},axis=2)\n",
    "mc_p_diff = ak.singletons(ak.min(abs(matched_gen.p[mc_reco_cartesian['mc']] - ak.singletons(reco_particles.p,axis=1)[mc_reco_cartesian['reco']]),axis=2),axis=1)\n",
    "mc_p_argmin = ak.singletons(ak.argmin(abs(matched_gen.p[mc_reco_cartesian['mc']] - ak.singletons(reco_particles.p,axis=1)[mc_reco_cartesian['reco']]),axis=2),axis=1)\n",
    "\n",
    "mc_R_argmin = ak.singletons(ak.argmin(abs(matched_gen.p[mc_reco_cartesian['mc']].metric_table(ak.singletons(reco_particles.p,axis=1)[mc_reco_cartesian['reco']])),axis=2),axis=1)\n",
    "\n",
    "\n",
    "\n",
    "# (mc_p_diff < ak.singletons(reco_particles.p,axis=1)*pcrit[0]/100) | (abs(mc_p_diff - ak.singletons(reco_particles.p,axis=1)/2) < pcrit[1])\n",
    "\n",
    "\n",
    "# this seems off \n",
    "# not sure why it's making another dimension\n",
    "ak.flatten(matched_gen[mc_reco_cartesian['mc']],axis=2).metric_table(ak.flatten(ak.singletons(reco_particles,axis=1)[mc_reco_cartesian['reco']],axis=2))\n",
    "\n"
   ]
  },
  {
   "cell_type": "code",
   "execution_count": 51,
   "id": "7afa1727",
   "metadata": {},
   "outputs": [],
   "source": [
    "pfos = events.PandoraPFOs.compute()\n",
    "mc = events.MCParticlesSkimmed.compute()"
   ]
  },
  {
   "cell_type": "code",
   "execution_count": 52,
   "id": "90a6ae04",
   "metadata": {},
   "outputs": [],
   "source": [
    "jet_con_in_higgs_p = jet_truehiggs(bpfos[muonsevent][total_mask],mc[bmask][muonsevent],higgs_children[bmask][muonsevent],proper_indices[bmask][muonsevent][total_mask],ak.flatten(pfo_index,axis=2),'p')\n",
    "# jet_con_in_higgs_pR = jet_truehiggs(bpfos[muonsevent][total_mask],mc[bmask][muonsevent],higgs_children[bmask][muonsevent],proper_indices[bmask][muonsevent][total_mask],ak.flatten(pfo_index,axis=2),'pR')\n",
    "jet_con_in_higgs_any = jet_truehiggs(bpfos[muonsevent][total_mask],mc[bmask][muonsevent],higgs_children[bmask][muonsevent],proper_indices[bmask][muonsevent][total_mask],ak.flatten(pfo_index,axis=2),'any')\n",
    "jet_con_in_higgs_all = jet_truehiggs(bpfos[muonsevent][total_mask],mc[bmask][muonsevent],higgs_children[bmask][muonsevent],proper_indices[bmask][muonsevent][total_mask],ak.flatten(pfo_index,axis=2),'all')"
   ]
  },
  {
   "cell_type": "code",
   "execution_count": 53,
   "id": "eb335b74",
   "metadata": {
    "scrolled": false
   },
   "outputs": [
    {
     "data": {
      "text/plain": [
       "Text(0.5, 0.01, 'Fraction of PFOs in jets linked to no MC particle from higgs')"
      ]
     },
     "execution_count": 53,
     "metadata": {},
     "output_type": "execute_result"
    },
    {
     "data": {
      "image/png": "[encoded data removed]",
      "text/plain": [
       "<Figure size 640x480 with 4 Axes>"
      ]
     },
     "metadata": {},
     "output_type": "display_data"
    }
   ],
   "source": [
    "fig,ax = plt.subplots(2,2,sharex=True,sharey=True)\n",
    "axs = ax.flatten()\n",
    "\n",
    "nbins = 250\n",
    "mini = 0 \n",
    "maxi = 300\n",
    "\n",
    "axs[0].hist((ak.num(jet_con_in_higgs_p)-ak.num(ak.local_index(jet_con_in_higgs_p)[jet_con_in_higgs_p]))/ak.num(jet_con_in_higgs_p),\n",
    "         bins=nbins,\n",
    "        )\n",
    "axs[1].hist((ak.num(jet_con_in_higgs_any)-ak.num(ak.local_index(jet_con_in_higgs_any)[jet_con_in_higgs_any]))/ak.num(jet_con_in_higgs_any),\n",
    "         bins=nbins,\n",
    "        )\n",
    "axs[2].hist((ak.num(jet_con_in_higgs_all)-ak.num(ak.local_index(jet_con_in_higgs_all)[jet_con_in_higgs_all]))/ak.num(jet_con_in_higgs_all),\n",
    "         bins=nbins,\n",
    "        )\n",
    "\n",
    "axs[0].set_title('Closest Momentum')\n",
    "axs[1].set_title('Any Linked Particle')\n",
    "axs[2].set_title('All Linked Particles')\n",
    "\n",
    "fig.supxlabel('Fraction of PFOs in jets linked to no MC particle from higgs')\n",
    "\n",
    "# plt.tight_layout()"
   ]
  },
  {
   "cell_type": "code",
   "execution_count": 54,
   "id": "625434f7",
   "metadata": {},
   "outputs": [
    {
     "data": {
      "text/plain": [
       "Text(0.5, 0, 'Fraction of particles that do not meet momentum criteria')"
      ]
     },
     "execution_count": 54,
     "metadata": {},
     "output_type": "execute_result"
    },
    {
     "data": {
      "image/png": "[encoded data removed]",
      "text/plain": [
       "<Figure size 640x480 with 1 Axes>"
      ]
     },
     "metadata": {},
     "output_type": "display_data"
    }
   ],
   "source": [
    "fig,ax = plt.subplots(1,1)\n",
    "\n",
    "nbins = 250\n",
    "mini = 0 \n",
    "maxi = 300\n",
    "\n",
    "test = ak.flatten((mc_p_diff < ak.singletons(reco_particles.p,axis=1)*0.5) | (abs(mc_p_diff - ak.singletons(reco_particles.p,axis=1)/2) < 5),axis=2)\n",
    "\n",
    "\n",
    "ax.hist((ak.num(test)-ak.num(ak.local_index(test)[test]))/ak.num(test),\n",
    "         bins=nbins,\n",
    "        )\n",
    "\n",
    "plt.xlabel('Fraction of particles that do not meet momentum criteria')"
   ]
  },
  {
   "cell_type": "code",
   "execution_count": 55,
   "id": "ca77710b",
   "metadata": {},
   "outputs": [
    {
     "data": {
      "text/plain": [
       "Text(0.5, 0, 'Momentum of PFOs in jets linked to no MC particle from higgs [GeV]')"
      ]
     },
     "execution_count": 55,
     "metadata": {},
     "output_type": "execute_result"
    },
    {
     "data": {
      "image/png": "[encoded data removed]",
      "text/plain": [
       "<Figure size 640x480 with 1 Axes>"
      ]
     },
     "metadata": {},
     "output_type": "display_data"
    }
   ],
   "source": [
    "ifig=2;plt.close(ifig);plt.figure(ifig)\n",
    "\n",
    "nbins = 250\n",
    "mini = 0 \n",
    "maxi = 300\n",
    "\n",
    "plt.hist(ak.flatten(bpfos[muonsevent].p[total_mask][ak.flatten(pfo_index,axis=2)][jet_con_in_higgs_p != True]),\n",
    "         bins=nbins,\n",
    "        )\n",
    "\n",
    "\n",
    "plt.xlabel('Momentum of PFOs in jets linked to no MC particle from higgs [GeV]')"
   ]
  },
  {
   "cell_type": "markdown",
   "id": "ebec9db7",
   "metadata": {},
   "source": [
    "### Higgs peak plots with different levels of allowed "
   ]
  },
  {
   "cell_type": "code",
   "execution_count": 58,
   "id": "4a521d44",
   "metadata": {},
   "outputs": [],
   "source": [
    "crit_type = 'p'\n",
    "\n",
    "jet_con_in_higgs = jet_truehiggs(bpfos[muonsevent][total_mask],mc[bmask][muonsevent],higgs_children[bmask][muonsevent],proper_indices[bmask][muonsevent][total_mask],ak.flatten(pfo_index,axis=2),crit_type)"
   ]
  },
  {
   "cell_type": "code",
   "execution_count": 62,
   "id": "a1119593",
   "metadata": {},
   "outputs": [
    {
     "data": {
      "text/plain": [
       "<matplotlib.legend.Legend at 0x7fb5ee413b80>"
      ]
     },
     "execution_count": 62,
     "metadata": {},
     "output_type": "execute_result"
    },
    {
     "data": {
      "image/png": "[encoded data removed]",
      "text/plain": [
       "<Figure size 640x480 with 1 Axes>"
      ]
     },
     "metadata": {},
     "output_type": "display_data"
    }
   ],
   "source": [
    "frac_extra = (ak.num(jet_con_in_higgs)-ak.num(ak.local_index(jet_con_in_higgs)[jet_con_in_higgs]))/ak.num(jet_con_in_higgs)\n",
    "\n",
    "nbins = 250\n",
    "mini = 0 \n",
    "maxi = 300\n",
    "\n",
    "tol = 0.2\n",
    "\n",
    "# fig,axs = plt.subplots(1,2)\n",
    "plt.close(1);plt.figure(1)\n",
    "plt.hist(ak.flatten((jetpair.jet1 + jetpair.jet2).mass[frac_extra<=tol]),\n",
    "         bins=nbins,\n",
    "         range=(mini,maxi),\n",
    "         histtype='step',\n",
    "#          linewidth=1.5,\n",
    "         density = True,\n",
    "         label=f'$\\leq {tol}$')\n",
    "\n",
    "plt.hist(ak.flatten((jetpair.jet1 + jetpair.jet2).mass[frac_extra>tol]),\n",
    "         bins=nbins,\n",
    "         range=(mini,maxi),\n",
    "         histtype='step',\n",
    "#          linewidth=1.5,\n",
    "         density = True,\n",
    "         label=f'$> {tol}$')\n",
    "\n",
    "plt.plot([125,125],[0,0.037],'grey',alpha=1)\n",
    "\n",
    "plt.legend()"
   ]
  },
  {
   "cell_type": "code",
   "execution_count": null,
   "id": "37768c50",
   "metadata": {},
   "outputs": [],
   "source": []
  }
 ],
 "metadata": {
  "kernelspec": {
   "display_name": "Python 3 (ipykernel)",
   "language": "python",
   "name": "python3"
  },
  "language_info": {
   "codemirror_mode": {
    "name": "ipython",
    "version": 3
   },
   "file_extension": ".py",
   "mimetype": "text/x-python",
   "name": "python",
   "nbconvert_exporter": "python",
   "pygments_lexer": "ipython3",
   "version": "3.10.9"
  }
 },
 "nbformat": 4,
 "nbformat_minor": 5
}
