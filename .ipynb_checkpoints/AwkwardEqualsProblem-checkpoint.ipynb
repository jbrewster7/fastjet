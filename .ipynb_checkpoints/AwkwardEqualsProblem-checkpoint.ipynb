{
 "cells": [
  {
   "cell_type": "code",
   "execution_count": 1,
   "id": "43f0c49e",
   "metadata": {},
   "outputs": [],
   "source": [
    "import awkward as ak \n",
    "import numpy as np\n",
    "import matplotlib.pyplot as plt\n",
    "import fastjet\n",
    "from coffea.nanoevents import NanoEventsFactory, EDM4HEPSchema\n",
    "import dask_awkward as dak\n",
    "import hist.dask as hda"
   ]
  },
  {
   "cell_type": "code",
   "execution_count": 2,
   "id": "15b730e5",
   "metadata": {},
   "outputs": [
    {
     "name": "stderr",
     "output_type": "stream",
     "text": [
      "/Users/josephinebrewster/TRIUMF-Summer-2023/coffea_dev/coffea/src/coffea/nanoevents/factory.py:63: UserWarning: Skipping PARAMETERS as it is it cannot be interpreted by Uproot\n",
      "  warnings.warn(\n",
      "/Users/josephinebrewster/TRIUMF-Summer-2023/coffea_dev/coffea/src/coffea/nanoevents/factory.py:45: UserWarning: Skipping _intMap as it is not interpretable by Uproot\n",
      "  warnings.warn(\n",
      "/Users/josephinebrewster/TRIUMF-Summer-2023/coffea_dev/coffea/src/coffea/nanoevents/factory.py:52: UserWarning: Skipping _intMap.first as it is not interpretable by Uproot\n",
      "  warnings.warn(f\"Skipping {branch.name} as it is not interpretable by Uproot\")\n",
      "/Users/josephinebrewster/TRIUMF-Summer-2023/coffea_dev/coffea/src/coffea/nanoevents/factory.py:52: UserWarning: Skipping _intMap.second as it is not interpretable by Uproot\n",
      "  warnings.warn(f\"Skipping {branch.name} as it is not interpretable by Uproot\")\n",
      "/Users/josephinebrewster/TRIUMF-Summer-2023/coffea_dev/coffea/src/coffea/nanoevents/factory.py:45: UserWarning: Skipping _floatMap as it is not interpretable by Uproot\n",
      "  warnings.warn(\n",
      "/Users/josephinebrewster/TRIUMF-Summer-2023/coffea_dev/coffea/src/coffea/nanoevents/factory.py:52: UserWarning: Skipping _floatMap.first as it is not interpretable by Uproot\n",
      "  warnings.warn(f\"Skipping {branch.name} as it is not interpretable by Uproot\")\n",
      "/Users/josephinebrewster/TRIUMF-Summer-2023/coffea_dev/coffea/src/coffea/nanoevents/factory.py:52: UserWarning: Skipping _floatMap.second as it is not interpretable by Uproot\n",
      "  warnings.warn(f\"Skipping {branch.name} as it is not interpretable by Uproot\")\n",
      "/Users/josephinebrewster/TRIUMF-Summer-2023/coffea_dev/coffea/src/coffea/nanoevents/factory.py:45: UserWarning: Skipping _stringMap as it is not interpretable by Uproot\n",
      "  warnings.warn(\n",
      "/Users/josephinebrewster/TRIUMF-Summer-2023/coffea_dev/coffea/src/coffea/nanoevents/factory.py:52: UserWarning: Skipping _stringMap.first as it is not interpretable by Uproot\n",
      "  warnings.warn(f\"Skipping {branch.name} as it is not interpretable by Uproot\")\n",
      "/Users/josephinebrewster/TRIUMF-Summer-2023/coffea_dev/coffea/src/coffea/nanoevents/factory.py:52: UserWarning: Skipping _stringMap.second as it is not interpretable by Uproot\n",
      "  warnings.warn(f\"Skipping {branch.name} as it is not interpretable by Uproot\")\n",
      "/Users/josephinebrewster/TRIUMF-Summer-2023/coffea_dev/coffea/src/coffea/nanoevents/factory.py:45: UserWarning: Skipping _doubleMap as it is not interpretable by Uproot\n",
      "  warnings.warn(\n",
      "/Users/josephinebrewster/TRIUMF-Summer-2023/coffea_dev/coffea/src/coffea/nanoevents/factory.py:52: UserWarning: Skipping _doubleMap.first as it is not interpretable by Uproot\n",
      "  warnings.warn(f\"Skipping {branch.name} as it is not interpretable by Uproot\")\n",
      "/Users/josephinebrewster/TRIUMF-Summer-2023/coffea_dev/coffea/src/coffea/nanoevents/factory.py:52: UserWarning: Skipping _doubleMap.second as it is not interpretable by Uproot\n",
      "  warnings.warn(f\"Skipping {branch.name} as it is not interpretable by Uproot\")\n"
     ]
    }
   ],
   "source": [
    "events = NanoEventsFactory.from_root( \n",
    "    {\"../../coffea_dev/root_files_may18/rv02-02.sv02-02.mILD_l5_o1_v02.E250-SetA.I402004\" \n",
    "    \".Pe2e2h.eR.pL.n000.d_dstm_15090_*.slcio.edm4hep.root\"\n",
    "    :\"events\"},\n",
    "    schemaclass=EDM4HEPSchema,\n",
    "    permit_dask=True,\n",
    "    metadata = {'b_field':5},\n",
    ").events()"
   ]
  },
  {
   "cell_type": "code",
   "execution_count": 72,
   "id": "6762c7fb",
   "metadata": {},
   "outputs": [],
   "source": [
    "def ak_equals(a1,a2,axis=-1):\n",
    "    '''\n",
    "    '''\n",
    "    arg_cart = ak.argcartesian({'a1':a1,'a2':a2},axis=axis)\n",
    "    cart_mask = a1[arg_cart['a1']] == a2[arg_cart['a2']]\n",
    "    return ak.any(ak.unflatten(cart_mask,ak.flatten(ak.run_lengths(arg_cart['a1'])),axis=axis),axis=axis)"
   ]
  },
  {
   "cell_type": "code",
   "execution_count": 89,
   "id": "eeb46e07",
   "metadata": {},
   "outputs": [
    {
     "data": {
      "text/html": [
       "<pre>[[True, True],\n",
       " [False, True]]\n",
       "--------------------\n",
       "type: 2 * var * bool</pre>"
      ],
      "text/plain": [
       "<Array [[True, True], [False, True]] type='2 * var * bool'>"
      ]
     },
     "execution_count": 89,
     "metadata": {},
     "output_type": "execute_result"
    }
   ],
   "source": [
    "l1 = ak.Array([[1],[2]])\n",
    "l2 = ak.Array([[1,2],[1,2]])\n",
    "\n",
    "ak_equals(l2,l1,axis=-1)\n",
    "\n",
    "# ak.flatten(l1) == l2"
   ]
  },
  {
   "cell_type": "code",
   "execution_count": 9,
   "id": "2f2de1e5",
   "metadata": {},
   "outputs": [],
   "source": [
    "pfos = events.PandoraPFOs.compute()\n",
    "mc = events.MCParticlesSkimmed.compute()"
   ]
  },
  {
   "cell_type": "code",
   "execution_count": 6,
   "id": "5d0144d1",
   "metadata": {},
   "outputs": [],
   "source": [
    "pfos_max = ak.max(pfos.p,axis=1)"
   ]
  },
  {
   "cell_type": "code",
   "execution_count": 8,
   "id": "a220c3e5",
   "metadata": {},
   "outputs": [
    {
     "data": {
      "text/html": [
       "<pre>[[False, False, False, False, False, ..., False, False, False, False, False],\n",
       " [False, False, False, False, False, False],\n",
       " [False, False, False, False, False, ..., False, False, False, False, False],\n",
       " [False, False, False, False, False, ..., False, False, False, False, False],\n",
       " [False, False, False, False, False, ..., False, False, False, False, False],\n",
       " [False, False, False, False, False, ..., False, False, False, False, False],\n",
       " [False, False, False, False, False, ..., False, False, False, False, False],\n",
       " [False, False, False, False, False, ..., False, False, False, False, False],\n",
       " [False, False, False, False, False, ..., False, False, False, False, False],\n",
       " [False, False, False, False, False, ..., False, False, False, False, False],\n",
       " ...,\n",
       " [False, False, False, False, False, ..., False, False, False, False, False],\n",
       " [False, False, False, False, False, ..., False, False, False, False, False],\n",
       " [False, False, False, False, False, ..., False, False, False, False, False],\n",
       " [False, False, False, False, False, ..., False, False, False, False, False],\n",
       " [False, False, False, False, False, ..., False, False, False, False, False],\n",
       " [False, False, False, False, False, ..., False, False, False, False, False],\n",
       " [False, False, False, False, False, ..., False, False, False, False, False],\n",
       " [False, False, False, False, False, ..., False, False, False, False, False],\n",
       " [False, False, False, False, False, ..., False, False, False, False, False]]\n",
       "-----------------------------------------------------------------------------\n",
       "type: 28200 * option[var * bool]</pre>"
      ],
      "text/plain": [
       "<Array [[False, False, ..., False, False], ...] type='28200 * option[var * ...'>"
      ]
     },
     "execution_count": 8,
     "metadata": {},
     "output_type": "execute_result"
    }
   ],
   "source": [
    "ak.local_index(pfos.p) == pfos_max"
   ]
  },
  {
   "cell_type": "code",
   "execution_count": 22,
   "id": "65f58305",
   "metadata": {},
   "outputs": [
    {
     "data": {
      "text/html": [
       "<pre>[[True, True, True, True, True, True, ..., True, True, True, True, True, True],\n",
       " [True, True, True, True, True, True, ..., True, True, True, True, True, True],\n",
       " [True, True, True, True, True, True, ..., True, True, True, True, True, True],\n",
       " [True, True, True, True, True, True, ..., True, True, True, True, True, True],\n",
       " [True, True, True, True, True, True, ..., True, True, True, True, True, True],\n",
       " [True, True, True, True, True, True, ..., True, True, True, True, True, True],\n",
       " [True, True, True, True, True, True, ..., True, True, True, True, True, True],\n",
       " [True, True, True, True, True, True, ..., True, True, True, True, True, True],\n",
       " [True, True, True, True, True, True, ..., True, True, True, True, True, True],\n",
       " [True, True, True, True, True, True, ..., True, True, True, True, True, True],\n",
       " ...,\n",
       " [True, True, True, True, True, True, ..., True, True, True, True, True, True],\n",
       " [True, True, True, True, True, True, ..., True, True, True, True, True, True],\n",
       " [True, True, True, True, True, True, ..., True, True, True, True, True, True],\n",
       " [True, True, True, True, True, True, ..., True, True, True, True, True, True],\n",
       " [True, True, True, True, True, True, ..., True, True, True, True, True, True],\n",
       " [True, True, True, True, True, True, ..., True, True, True, True, True, True],\n",
       " [True, True, True, True, True, True, ..., True, True, True, True, True, True],\n",
       " [True, True, True, True, True, True, ..., True, True, True, True, True, True],\n",
       " [True, True, True, True, True, True, ..., True, True, True, True, True, True]]\n",
       "-------------------------------------------------------------------------------\n",
       "type: 28200 * var * bool</pre>"
      ],
      "text/plain": [
       "<Array [[True, True, True, ..., True, True], ...] type='28200 * var * bool'>"
      ]
     },
     "execution_count": 22,
     "metadata": {},
     "output_type": "execute_result"
    }
   ],
   "source": [
    "(ak.local_index(mc.pdgId) == ak.flatten(ak.local_index(mc.pdgId)[mc.pdgId == 25])) != True"
   ]
  }
 ],
 "metadata": {
  "kernelspec": {
   "display_name": "Python 3 (ipykernel)",
   "language": "python",
   "name": "python3"
  },
  "language_info": {
   "codemirror_mode": {
    "name": "ipython",
    "version": 3
   },
   "file_extension": ".py",
   "mimetype": "text/x-python",
   "name": "python",
   "nbconvert_exporter": "python",
   "pygments_lexer": "ipython3",
   "version": "3.10.9"
  }
 },
 "nbformat": 4,
 "nbformat_minor": 5
}
