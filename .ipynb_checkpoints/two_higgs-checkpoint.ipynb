{
 "cells": [
  {
   "cell_type": "code",
   "execution_count": 1,
   "id": "fb48f5e5",
   "metadata": {},
   "outputs": [],
   "source": [
    "import awkward as ak \n",
    "import numpy as np\n",
    "import matplotlib.pyplot as plt\n",
    "import fastjet\n",
    "from coffea.nanoevents import NanoEventsFactory, EDM4HEPSchema\n",
    "import dask_awkward as dak\n",
    "import hist.dask as hda\n",
    "import uproot\n",
    "from ak_tools import ak_equals\n",
    "import pickle\n",
    "import matplotlib as mpl"
   ]
  },
  {
   "cell_type": "code",
   "execution_count": 2,
   "id": "663f6138",
   "metadata": {},
   "outputs": [],
   "source": [
    "# %matplotlib ipympl"
   ]
  },
  {
   "cell_type": "code",
   "execution_count": 3,
   "id": "abf973f6",
   "metadata": {},
   "outputs": [
    {
     "name": "stderr",
     "output_type": "stream",
     "text": [
      "/Users/josephinebrewster/TRIUMF-Summer-2023/coffea_dev/coffea/src/coffea/nanoevents/factory.py:63: UserWarning: Skipping PARAMETERS as it is it cannot be interpreted by Uproot\n",
      "  warnings.warn(\n",
      "/Users/josephinebrewster/TRIUMF-Summer-2023/coffea_dev/coffea/src/coffea/nanoevents/factory.py:45: UserWarning: Skipping _intMap as it is not interpretable by Uproot\n",
      "  warnings.warn(\n",
      "/Users/josephinebrewster/TRIUMF-Summer-2023/coffea_dev/coffea/src/coffea/nanoevents/factory.py:52: UserWarning: Skipping _intMap.first as it is not interpretable by Uproot\n",
      "  warnings.warn(f\"Skipping {branch.name} as it is not interpretable by Uproot\")\n",
      "/Users/josephinebrewster/TRIUMF-Summer-2023/coffea_dev/coffea/src/coffea/nanoevents/factory.py:52: UserWarning: Skipping _intMap.second as it is not interpretable by Uproot\n",
      "  warnings.warn(f\"Skipping {branch.name} as it is not interpretable by Uproot\")\n",
      "/Users/josephinebrewster/TRIUMF-Summer-2023/coffea_dev/coffea/src/coffea/nanoevents/factory.py:45: UserWarning: Skipping _floatMap as it is not interpretable by Uproot\n",
      "  warnings.warn(\n",
      "/Users/josephinebrewster/TRIUMF-Summer-2023/coffea_dev/coffea/src/coffea/nanoevents/factory.py:52: UserWarning: Skipping _floatMap.first as it is not interpretable by Uproot\n",
      "  warnings.warn(f\"Skipping {branch.name} as it is not interpretable by Uproot\")\n",
      "/Users/josephinebrewster/TRIUMF-Summer-2023/coffea_dev/coffea/src/coffea/nanoevents/factory.py:52: UserWarning: Skipping _floatMap.second as it is not interpretable by Uproot\n",
      "  warnings.warn(f\"Skipping {branch.name} as it is not interpretable by Uproot\")\n",
      "/Users/josephinebrewster/TRIUMF-Summer-2023/coffea_dev/coffea/src/coffea/nanoevents/factory.py:45: UserWarning: Skipping _stringMap as it is not interpretable by Uproot\n",
      "  warnings.warn(\n",
      "/Users/josephinebrewster/TRIUMF-Summer-2023/coffea_dev/coffea/src/coffea/nanoevents/factory.py:52: UserWarning: Skipping _stringMap.first as it is not interpretable by Uproot\n",
      "  warnings.warn(f\"Skipping {branch.name} as it is not interpretable by Uproot\")\n",
      "/Users/josephinebrewster/TRIUMF-Summer-2023/coffea_dev/coffea/src/coffea/nanoevents/factory.py:52: UserWarning: Skipping _stringMap.second as it is not interpretable by Uproot\n",
      "  warnings.warn(f\"Skipping {branch.name} as it is not interpretable by Uproot\")\n",
      "/Users/josephinebrewster/TRIUMF-Summer-2023/coffea_dev/coffea/src/coffea/nanoevents/factory.py:45: UserWarning: Skipping _doubleMap as it is not interpretable by Uproot\n",
      "  warnings.warn(\n",
      "/Users/josephinebrewster/TRIUMF-Summer-2023/coffea_dev/coffea/src/coffea/nanoevents/factory.py:52: UserWarning: Skipping _doubleMap.first as it is not interpretable by Uproot\n",
      "  warnings.warn(f\"Skipping {branch.name} as it is not interpretable by Uproot\")\n",
      "/Users/josephinebrewster/TRIUMF-Summer-2023/coffea_dev/coffea/src/coffea/nanoevents/factory.py:52: UserWarning: Skipping _doubleMap.second as it is not interpretable by Uproot\n",
      "  warnings.warn(f\"Skipping {branch.name} as it is not interpretable by Uproot\")\n"
     ]
    }
   ],
   "source": [
    "events = NanoEventsFactory.from_root( \n",
    "    {\"rv02-02-03.sv02-02-03.mILD_l5_o1_v02_nobg.E500-TDR_ws.I403001.Pe2e2hh\"\n",
    "     \".eL.pR.n000.d_dstm_15806_0_patched_collections_edm4hep.root\"\n",
    "    :\"events\"},\n",
    "    schemaclass=EDM4HEPSchema,\n",
    "    permit_dask=True,\n",
    "    metadata = {'b_field':5},\n",
    ").events()"
   ]
  },
  {
   "cell_type": "code",
   "execution_count": 4,
   "id": "a1e2d59a",
   "metadata": {},
   "outputs": [],
   "source": [
    "# set up needed arrays\n",
    "file = uproot.open(\"rv02-02-03.sv02-02-03.mILD_l5_o1_v02_nobg.E500-TDR_ws.I403001.Pe2e2hh\"\n",
    "     \".eL.pR.n000.d_dstm_15806_0_patched_collections_edm4hep.root\")\n",
    "\n",
    "evs = file['events']\n",
    "uproot_parinds = (evs[f'_MCParticlesSkimmed_parents/_MCParticlesSkimmed_parents.index']).array()\n",
    "uproot_daughinds = (evs[f'_MCParticlesSkimmed_daughters/_MCParticlesSkimmed_daughters.index']).array() \n",
    "\n",
    "pshape = (events.MCParticlesSkimmed.parents_end - events.MCParticlesSkimmed.parents_begin).compute()\n",
    "par_inds = ak.unflatten(uproot_parinds,ak.flatten(pshape),axis=1)\n",
    "\n",
    "dshape = (events.MCParticlesSkimmed.daughters_end - events.MCParticlesSkimmed.daughters_begin).compute()\n",
    "daugh_inds = ak.unflatten(uproot_daughinds,ak.flatten(dshape),axis=1)\n",
    "\n",
    "pdgids = events.MCParticlesSkimmed.pdgId.compute()\n",
    "\n",
    "\n",
    "arr_reco = events.RecoMCTruthLink.reco_index.compute()\n",
    "arr_mc = events.RecoMCTruthLink.mc_index.compute()\n",
    "sort_reco = arr_reco[ak.argsort(arr_reco)]\n",
    "sort_mc = arr_mc[ak.argsort(arr_reco)]\n",
    "\n",
    "proper_indices = ak.unflatten(sort_mc,ak.flatten(ak.run_lengths(sort_reco),axis=1),axis=1)\n",
    "\n",
    "pfos = events.PandoraPFOs.compute()\n",
    "mc = events.MCParticlesSkimmed.compute()"
   ]
  },
  {
   "cell_type": "code",
   "execution_count": 5,
   "id": "ac0f9d30",
   "metadata": {},
   "outputs": [],
   "source": [
    "def jet_truehiggs(reco_particles,mc_particles,true_higgs,reco_mc_index,jet_constits_index,condition='pR',pcrit=(50,5)):\n",
    "    '''\n",
    "    compares jet constituents to true higgs products \n",
    "    \n",
    "    Parameters:\n",
    "    ----------\n",
    "    reco_particles :: array\n",
    "        array with all the reco particles\n",
    "    \n",
    "    mc_particles :: array\n",
    "        array with all the mc particles\n",
    "    \n",
    "    true_higgs :: array \n",
    "        array containing the mc indices of all the children of the higgs in each event \n",
    "    \n",
    "    reco_mc_index :: array \n",
    "        array containing a list of mc indices for each reco index\n",
    "    \n",
    "    jet_constits_index :: array \n",
    "        indices of the pfos contained in the jets in the reco particle array\n",
    "    \n",
    "    condition :: str (optional)\n",
    "        'pR' - the link with the closest momentum match is from the true higgs, to within 50% of the reco momentum \n",
    "               or 5 GeV, otherwise the closest \\Delta R between the two closest momentum matches\n",
    "               (criteria can be changed with pcrit)\n",
    "        'p' - the link with the closest momentum match is from the true higgs\n",
    "        'any' - any of one of the links from reco particles to mc particles is from the true higgs \n",
    "        'all' - all of the links from reco particles to mc particles is from the true higgs \n",
    "    \n",
    "    pcrit :: tuple (optional)\n",
    "        tuple defining the criteria for using momentum when condition = 'pR' as \n",
    "        (percent,absolute) FINISH DESCRIPTION\n",
    "        \n",
    "    Returns:\n",
    "    -------\n",
    "    \n",
    "    '''\n",
    "    matrix = False\n",
    "    \n",
    "    # throw error if any of the things are not the right lengths\n",
    "    if not (len(reco_particles) == len(mc_particles) and len(mc_particles) == len(true_higgs) and len(true_higgs) == len(reco_mc_index) and len(reco_mc_index) == len(jet_constits_index)):\n",
    "        raise ValueError('first 5 arrays must have the same number of events')\n",
    "    \n",
    "    jet_mcindices = reco_mc_index[jet_constits_index]\n",
    "    jet_con_in_higgs = []\n",
    "    \n",
    "    if condition == 'pR':\n",
    "        # complete (right now this is the same as 'p')\n",
    "        matched_gen = ak.unflatten(mc_particles[ak.flatten(reco_mc_index,axis=2)],ak.flatten(ak.num(reco_mc_index,axis=2)),axis=1)\n",
    "        \n",
    "        mc_reco_cartesian = ak.argcartesian({'mc':matched_gen.p,'reco':ak.singletons(reco_particles.p,axis=1)},axis=2)\n",
    "        mc_p_argmin = ak.singletons(ak.argmin(abs(matched_gen.p[mc_reco_cartesian['mc']] - ak.singletons(reco_particles.p,axis=1)[mc_reco_cartesian['reco']]),axis=2),axis=1)\n",
    "        \n",
    "        all_jet_inds = ak.flatten(reco_mc_index[mc_p_argmin],axis=2)[jet_constits_index]\n",
    "        \n",
    "        for n in range(len(all_jet_inds)):\n",
    "            jet_con_in_higgs.append(np.isin(all_jet_inds[n],true_higgs[n]))\n",
    "\n",
    "        jet_con_in_higgs = ak.Array(jet_con_in_higgs)\n",
    "        \n",
    "    elif condition == 'any' or condition == 'all':\n",
    "        all_jet_inds = ak.flatten(jet_mcindices,axis=2)\n",
    "        \n",
    "        jet_con_in_higgs = []\n",
    "\n",
    "        for n in range(len(all_jet_inds)):\n",
    "            jet_con_in_higgs.append(np.isin(all_jet_inds[n],true_higgs[n]))\n",
    "\n",
    "        jet_con_in_higgs = ak.Array(jet_con_in_higgs)\n",
    "        \n",
    "        if condition == 'any':\n",
    "            jet_con_in_higgs = ak.any(ak.unflatten(jet_con_in_higgs,ak.flatten(ak.num(jet_mcindices,axis=2)),axis=1),axis=2)\n",
    "        else:\n",
    "            jet_con_in_higgs = ak.all(ak.unflatten(jet_con_in_higgs,ak.flatten(ak.num(jet_mcindices,axis=2)),axis=1),axis=2)\n",
    "        \n",
    "    elif condition == 'p':\n",
    "        matched_gen = ak.unflatten(mc_particles[ak.flatten(reco_mc_index,axis=2)],ak.flatten(ak.num(reco_mc_index,axis=2)),axis=1)\n",
    "        \n",
    "        mc_reco_cartesian = ak.argcartesian({'mc':matched_gen.p,'reco':ak.singletons(reco_particles.p,axis=1)},axis=2)\n",
    "        mc_p_argmin = ak.singletons(ak.argmin(abs(matched_gen.p[mc_reco_cartesian['mc']] - ak.singletons(reco_particles.p,axis=1)[mc_reco_cartesian['reco']]),axis=2),axis=1)\n",
    "        \n",
    "        all_jet_inds = ak.flatten(reco_mc_index[mc_p_argmin],axis=2)[jet_constits_index]\n",
    "                \n",
    "        if matrix:\n",
    "            jet_con_in_higgs = ak_equals(all_jet_inds,true_higgs)\n",
    "        else:\n",
    "            for n in range(len(all_jet_inds)):\n",
    "                jet_con_in_higgs.append(np.isin(all_jet_inds[n],true_higgs[n]))\n",
    "\n",
    "            jet_con_in_higgs = ak.Array(jet_con_in_higgs)\n",
    "        \n",
    "    else:\n",
    "        raise ValueError('condition must be \\'p\\', \\'any\\', or \\'all\\'')\n",
    "    \n",
    "    \n",
    "    return jet_con_in_higgs"
   ]
  },
  {
   "cell_type": "code",
   "execution_count": 6,
   "id": "7ce3cf6b",
   "metadata": {},
   "outputs": [],
   "source": [
    "def daughter_tree(event,start_ind):\n",
    "    '''\n",
    "    returns list of all daughters \n",
    "    '''\n",
    "    curr_ind = ak.Array([-1])\n",
    "    daugh_ind = ak.Array([start_ind])\n",
    "\n",
    "    ind_lst = []\n",
    "\n",
    "    flag = True\n",
    "\n",
    "    while flag:\n",
    "        curr_ind = daugh_ind\n",
    "\n",
    "        daugh_ind = np.unique(ak.flatten(daugh_inds[event][curr_ind],axis=-1))\n",
    "\n",
    "        ind_lst.append(list(curr_ind))\n",
    "\n",
    "        if len(daugh_ind) == 0:\n",
    "            flag = False \n",
    "\n",
    "    return ind_lst"
   ]
  },
  {
   "cell_type": "code",
   "execution_count": 7,
   "id": "6d051364",
   "metadata": {},
   "outputs": [
    {
     "name": "stdout",
     "output_type": "stream",
     "text": [
      "CPU times: user 5.51 ms, sys: 126 ms, total: 132 ms\n",
      "Wall time: 234 ms\n"
     ]
    }
   ],
   "source": [
    "%%time\n",
    "full_run = False\n",
    "\n",
    "if full_run:\n",
    "    higgs_daughter_tree_0 = []\n",
    "    higgs_daughter_tree_1 = []\n",
    "    start_inds = ak.local_index(pdgids)[pdgids == 25]\n",
    "\n",
    "    for event in range(len(pdgids)):\n",
    "\n",
    "        higgs_daughter_tree_0.append(daughter_tree(event,start_inds[event][0]))\n",
    "        higgs_daughter_tree_1.append(daughter_tree(event,start_inds[event][1]))\n",
    "\n",
    "        if event % 1000 == 0:\n",
    "            print(event)\n",
    "\n",
    "    higgs_daughter_tree_arr_0 = ak.Array(higgs_daughter_tree_0)\n",
    "    higgs_daughter_tree_arr_1 = ak.Array(higgs_daughter_tree_1)\n",
    "\n",
    "    higgs_children_0 = ak.flatten(higgs_daughter_tree_arr_0,axis=2)\n",
    "    higgs_children_1 = ak.flatten(higgs_daughter_tree_arr_1,axis=2)\n",
    "else:\n",
    "    higgs_children_0 = pickle.load(open('higgs_children_0.pickle','rb'))\n",
    "    higgs_children_1 = pickle.load(open('higgs_children_1.pickle','rb'))\n",
    "    higgs_daughter_tree_arr_0 = pickle.load(open('higgs_daughter_tree_arr_0.pickle','rb'))\n",
    "    higgs_daughter_tree_arr_1 = pickle.load(open('higgs_daughter_tree_arr_1.pickle','rb'))"
   ]
  },
  {
   "cell_type": "code",
   "execution_count": 8,
   "id": "c63a570a",
   "metadata": {},
   "outputs": [],
   "source": [
    "mupair = dak.combinations(events.PandoraPFOs[abs(events.PandoraPFOs.pdgId) == 13], 2, fields=[\"mu1\", \"mu2\"])\n",
    "pairmass = (mupair.mu1 + mupair.mu2).mass\n",
    "muonsevent = dak.any(\n",
    "    (pairmass > 80)\n",
    "    & (pairmass < 100)\n",
    "    & (mupair.mu1.charge == -mupair.mu2.charge),\n",
    "    axis=1,\n",
    ")\n",
    "muonsevent_c = muonsevent.compute()\n",
    "\n",
    "jetdef = fastjet.JetDefinition(fastjet.kt_algorithm,1)\n",
    "\n",
    "pfopair = dak.argcombinations(events.PandoraPFOs, 2, fields=[\"p1\", \"p2\"])\n",
    "\n",
    "all_muons_mask = (abs(events.PandoraPFOs[pfopair.p1].pdgId) == 13) & (abs(events.PandoraPFOs[pfopair.p2].pdgId) == 13)\n",
    "\n",
    "invmass = (events.PandoraPFOs[pfopair.p1][all_muons_mask] + events.PandoraPFOs[pfopair.p2][all_muons_mask]).mass\n",
    "\n",
    "inds = dak.singletons(dak.argmin(abs(invmass - 91.2), axis=1))\n",
    "\n",
    "\n",
    "mu1ind = pfopair.p1[all_muons_mask][inds]\n",
    "mu2ind = pfopair.p2[all_muons_mask][inds]"
   ]
  },
  {
   "cell_type": "code",
   "execution_count": 9,
   "id": "ee69c47e",
   "metadata": {},
   "outputs": [],
   "source": [
    "m1 = mu1ind[muonsevent].compute()\n",
    "m2 = mu2ind[muonsevent].compute()\n",
    "\n",
    "p = events.PandoraPFOs[muonsevent].compute()"
   ]
  },
  {
   "cell_type": "code",
   "execution_count": 10,
   "id": "ad3086e3",
   "metadata": {},
   "outputs": [
    {
     "name": "stdout",
     "output_type": "stream",
     "text": [
      "CPU times: user 32.9 s, sys: 285 ms, total: 33.2 s\n",
      "Wall time: 34.7 s\n"
     ]
    }
   ],
   "source": [
    "%%time\n",
    "x = []\n",
    "y = []\n",
    "z = []\n",
    "E = []\n",
    "\n",
    "local_inds = ak.local_index(p)\n",
    "total_mask = ((ak_equals(local_inds, m1)) | (ak_equals(local_inds, m2))) != True\n",
    "\n",
    "for n in range(len(p)):\n",
    "    x.append(np.array(p.x[n][total_mask[n]]))\n",
    "    y.append(np.array(p.y[n][total_mask[n]]))\n",
    "    z.append(np.array(p.z[n][total_mask[n]]))\n",
    "    E.append(np.array(p.E[n][total_mask[n]]))\n",
    "\n",
    "x = ak.Array(x)\n",
    "y = ak.Array(y)\n",
    "z = ak.Array(z)\n",
    "E = ak.Array(E)\n",
    "\n",
    "# total time: 45.2 s"
   ]
  },
  {
   "cell_type": "code",
   "execution_count": 11,
   "id": "3c23077b",
   "metadata": {},
   "outputs": [
    {
     "name": "stdout",
     "output_type": "stream",
     "text": [
      "#--------------------------------------------------------------------------\n",
      "#                         FastJet release 3.4.1\n",
      "#                 M. Cacciari, G.P. Salam and G. Soyez                  \n",
      "#     A software package for jet finding and analysis at colliders      \n",
      "#                           http://fastjet.fr                           \n",
      "#\t                                                                      \n",
      "# Please cite EPJC72(2012)1896 [arXiv:1111.6097] if you use this package\n",
      "# for scientific work and optionally PLB641(2006)57 [hep-ph/0512210].   \n",
      "#                                                                       \n",
      "# FastJet is provided without warranty under the GNU GPL v2 or higher.  \n",
      "# It uses T. Chan's closest pair algorithm, S. Fortune's Voronoi code,\n",
      "# CGAL and 3rd party plugin jet algorithms. See COPYING file for details.\n",
      "#--------------------------------------------------------------------------\n"
     ]
    },
    {
     "name": "stderr",
     "output_type": "stream",
     "text": [
      "UserWarning: dcut and exclusive jets for jet-finders other than kt, C/A or genkt with p>=0 should be interpreted with care.\n"
     ]
    }
   ],
   "source": [
    "select_pfos = ak.zip(\n",
    "    {\n",
    "        'px': x,\n",
    "        'py': y,\n",
    "        'pz': z,\n",
    "        'E': E,\n",
    "    },\n",
    "    with_name=\"LorentzVector\",\n",
    ")\n",
    "\n",
    "select_clst = fastjet.ClusterSequence(select_pfos, jetdef).exclusive_jets(n_jets=4)\n",
    "\n",
    "jets = ak.zip(\n",
    "    {\n",
    "        'x': select_clst[\"px\"],\n",
    "        'y': select_clst[\"py\"],\n",
    "        'z': select_clst[\"pz\"],\n",
    "        't': select_clst[\"E\"],\n",
    "    },\n",
    "    with_name=\"LorentzVector\",\n",
    "    behavior=events.PandoraPFOs.behavior,\n",
    ")"
   ]
  },
  {
   "cell_type": "code",
   "execution_count": 12,
   "id": "7fc844f4",
   "metadata": {},
   "outputs": [],
   "source": [
    "pfo_index = fastjet.ClusterSequence(select_pfos, jetdef).exclusive_jets_constituent_index(njets=4)"
   ]
  },
  {
   "cell_type": "code",
   "execution_count": 13,
   "id": "9b1ec16f",
   "metadata": {},
   "outputs": [],
   "source": [
    "def reshape(arr):\n",
    "    '''\n",
    "    reshapes stuff after combinations to be sorted correctly \n",
    "    '''\n",
    "    slicing = ak.Array(len(jets)*[[[0,5],[1,4],[2,3]]])\n",
    "    return ak.unflatten(arr[ak.flatten(slicing,axis=2)],ak.flatten(ak.num(slicing,axis=2)),axis=1)"
   ]
  },
  {
   "cell_type": "code",
   "execution_count": 14,
   "id": "6c276a03",
   "metadata": {},
   "outputs": [],
   "source": [
    "def best_jet_pairs(jets,jetpair,reco_particles=None,mc_particles=None,true_higgs=None,reco_mc_index=None,pfo_index=None,metric='justmass'):\n",
    "    '''\n",
    "    '''\n",
    "    if metric == 'justmass':\n",
    "        invmass = (jets[jetpair.jet1] + jets[jetpair.jet2]).mass\n",
    "        higgs_mass = 125*ak.ones_like(reshape(invmass))\n",
    "        best_jets = ak.argmin(ak.sum((higgs_mass - reshape(invmass))**2,axis=2),axis=1)\n",
    "\n",
    "        jet_inds = ak.firsts(reshape(ak.concatenate([ak.singletons(jetpair.jet1,axis=-1),\n",
    "                                             ak.singletons(jetpair.jet2,axis=-1)],\n",
    "                                    axis=2))[ak.singletons(best_jets)])\n",
    "        \n",
    "    elif metric == 'toline':\n",
    "        invmass = (jets[jetpair.jet1] + jets[jetpair.jet2]).mass\n",
    "\n",
    "        line = ak.Array(len(invmass)*[3*[[-1,1]]]) * (np.sqrt(2)/2)\n",
    "        best_jets = ak.argmin(ak.sum(line*reshape(invmass),axis=2),axis=1)\n",
    "\n",
    "        jet_inds = ak.firsts(reshape(ak.concatenate([ak.singletons(jetpair.jet1,axis=-1),\n",
    "                                             ak.singletons(jetpair.jet2,axis=-1)],\n",
    "                                    axis=2))[ak.singletons(best_jets)])\n",
    "        \n",
    "    elif metric == 'mclink':\n",
    "#         if reco_particles==None or mc_particles==None or true_higgs==None or reco_mc_index==None or pfo_index==None:\n",
    "#             raise ValueError('if metric = \\'mclink\\', need value for reco_particles,mc_particles,true_higgs,reco_mc_index,pfo_index')\n",
    "        \n",
    "        from_higgs_0 = []\n",
    "        for n in range(4):\n",
    "            pfo_index_jet_n = ak.firsts(pfo_index[ak.local_index(pfo_index,axis=1) == n])\n",
    "\n",
    "            four_jet_con = jet_truehiggs(reco_particles,\n",
    "                                         mc_particles,\n",
    "                                         true_higgs,\n",
    "                                         reco_mc_index,\n",
    "                                         pfo_index_jet_n,\n",
    "                                         'p')\n",
    "\n",
    "            from_higgs_0.append(ak.num(four_jet_con[four_jet_con],axis=1)/ak.num(four_jet_con,axis=1))\n",
    "#             print((ak.num(four_jet_con[four_jet_con],axis=1)/ak.num(four_jet_con,axis=1))[-5])\n",
    "\n",
    "\n",
    "        link_weights = ak.concatenate(ak.singletons(from_higgs_0,axis=-1),axis=1)\n",
    "\n",
    "        jet_higgs_0_max0 = ak.argmax(link_weights,axis=1)\n",
    "        jet_weights_max = (ak.local_index(link_weights) == jet_higgs_0_max0)\n",
    "        jet_higgs_0_max1 = ak.firsts(ak.local_index(link_weights)[jet_weights_max != True][ak.singletons(ak.argmax(link_weights[jet_weights_max != True],axis=1),axis=-1)],axis=-1)\n",
    "\n",
    "        jet_higgs_0_min0 = ak.argmin(link_weights,axis=1)\n",
    "        jet_weights_min = (ak.local_index(link_weights) == jet_higgs_0_min0)\n",
    "        jet_higgs_0_min1 = ak.firsts(ak.local_index(link_weights)[jet_weights_min != True][ak.singletons(ak.argmin(link_weights[jet_weights_min != True],axis=1),axis=-1)],axis=-1)\n",
    "\n",
    "\n",
    "        jet_inds = ak.concatenate([ak.singletons(ak.concatenate([ak.singletons(jet_higgs_0_max0,axis=-1),\n",
    "                                                                 ak.singletons(jet_higgs_0_max1,axis=-1)],axis=1),axis=0),\n",
    "                                   ak.singletons(ak.concatenate([ak.singletons(jet_higgs_0_min0,axis=-1),\n",
    "                                                                 ak.singletons(jet_higgs_0_min1,axis=-1)],axis=1),axis=0)],axis=1)\n",
    "\n",
    "    return jet_inds\n"
   ]
  },
  {
   "cell_type": "code",
   "execution_count": 35,
   "id": "2a513e19",
   "metadata": {},
   "outputs": [],
   "source": [
    "# using linking to do pairing \n",
    "# jetpair = ak.argcombinations(jets, 2, fields=[\"jet1\", \"jet2\"],axis=1) # all jet pairs\n",
    "# jet_inds = best_jet_pairs(jets,\n",
    "#                           jetpair,\n",
    "#                           pfos[muonsevent_c][total_mask],\n",
    "#                           mc[muonsevent_c],\n",
    "#                           higgs_children_0[muonsevent_c],\n",
    "#                           proper_indices[muonsevent_c][total_mask],\n",
    "#                           pfo_index,\n",
    "#                           metric='mclink')"
   ]
  },
  {
   "cell_type": "code",
   "execution_count": 87,
   "id": "65e47982",
   "metadata": {},
   "outputs": [],
   "source": [
    "# pairing by an analytic method\n",
    "jetpair = ak.argcombinations(jets, 2, fields=[\"jet1\", \"jet2\"],axis=1) # all jet pairs\n",
    "jet_inds = best_jet_pairs(jets,jetpair,metric='justmass')\n",
    "# jet_inds = best_jet_pairs(jets,jetpair,metric='toline')\n"
   ]
  },
  {
   "cell_type": "code",
   "execution_count": 88,
   "id": "6550991e",
   "metadata": {},
   "outputs": [],
   "source": [
    "grouped_pfo_index = ak.flatten(ak.unflatten(pfo_index[ak.flatten(jet_inds,axis=2)],ak.flatten(ak.num(jet_inds,axis=2)),axis=1),axis=3)"
   ]
  },
  {
   "cell_type": "code",
   "execution_count": 89,
   "id": "41cec931",
   "metadata": {},
   "outputs": [],
   "source": [
    "even_jet_mask = ak.local_index(grouped_pfo_index,axis=1) % 2 == 0\n",
    "odd_jet_mask = ak.local_index(grouped_pfo_index,axis=1) % 2 == 1"
   ]
  },
  {
   "cell_type": "code",
   "execution_count": 90,
   "id": "4d05f8c9",
   "metadata": {},
   "outputs": [],
   "source": [
    "best_invmasses_j0 = (jets[ak.firsts(jet_inds[even_jet_mask],axis=1)[even_jet_mask]] + jets[ak.firsts(jet_inds[even_jet_mask],axis=1)[odd_jet_mask]]).mass\n",
    "best_invmasses_j1 = (jets[ak.firsts(jet_inds[odd_jet_mask],axis=1)[even_jet_mask]] + jets[ak.firsts(jet_inds[odd_jet_mask],axis=1)[odd_jet_mask]]).mass\n",
    "\n",
    "best_invmasses = ak.concatenate([best_invmasses_j0,best_invmasses_j1],axis=1)\n"
   ]
  },
  {
   "cell_type": "code",
   "execution_count": 91,
   "id": "1ddee80e",
   "metadata": {},
   "outputs": [
    {
     "name": "stderr",
     "output_type": "stream",
     "text": [
      "No artists with labels found to put in legend.  Note that artists whose label start with an underscore are ignored when legend() is called with no argument.\n"
     ]
    },
    {
     "data": {
      "text/plain": [
       "<matplotlib.legend.Legend at 0x7f9327a28a30>"
      ]
     },
     "execution_count": 91,
     "metadata": {},
     "output_type": "execute_result"
    },
    {
     "data": {
      "image/png": "[encoded data removed]",
      "text/plain": [
       "<Figure size 640x480 with 1 Axes>"
      ]
     },
     "metadata": {},
     "output_type": "display_data"
    }
   ],
   "source": [
    "nbins = 250\n",
    "mini = 0 \n",
    "maxi = 300\n",
    "\n",
    "plt.close(1);plt.figure(1)\n",
    "plt.hist(ak.flatten(best_invmasses),\n",
    "         #ak.sum(ak.firsts(best_invmasses),axis=1),\n",
    "         bins=nbins,\n",
    "         range=(mini,maxi),\n",
    "         histtype='step',\n",
    "         linewidth=1.5,\n",
    "         label='')\n",
    "\n",
    "plt.legend()"
   ]
  },
  {
   "cell_type": "code",
   "execution_count": 92,
   "id": "3a1948b0",
   "metadata": {},
   "outputs": [],
   "source": [
    "# pickle.dump(higgs_children_0,open('higgs_children_0.pickle','wb'))\n",
    "# pickle.dump(higgs_children_1,open('higgs_children_1.pickle','wb'))\n",
    "# pickle.dump(higgs_daughter_tree_arr_0,open('higgs_daughter_tree_arr_0.pickle','wb'))\n",
    "# pickle.dump(higgs_daughter_tree_arr_1,open('higgs_daughter_tree_arr_1.pickle','wb'))"
   ]
  },
  {
   "cell_type": "code",
   "execution_count": 93,
   "id": "876812a8",
   "metadata": {},
   "outputs": [],
   "source": [
    "jet_con_in_higgs = ak.Array([{'pfo_higgs_0':jet_truehiggs(pfos[muonsevent_c][total_mask],\n",
    "                                 mc[muonsevent_c],\n",
    "                                 higgs_children_0[muonsevent_c],\n",
    "                                 proper_indices[muonsevent_c][total_mask],\n",
    "                                 ak.firsts(grouped_pfo_index[even_jet_mask]),\n",
    "                                 'p'),\n",
    "                      'pfo_higgs_1':jet_truehiggs(pfos[muonsevent_c][total_mask],\n",
    "                                 mc[muonsevent_c],\n",
    "                                 higgs_children_0[muonsevent_c],\n",
    "                                 proper_indices[muonsevent_c][total_mask],\n",
    "                                 ak.firsts(grouped_pfo_index[odd_jet_mask]),\n",
    "                                 'p')},\n",
    "                      {'pfo_higgs_0':jet_truehiggs(pfos[muonsevent_c][total_mask],\n",
    "                                 mc[muonsevent_c],\n",
    "                                 higgs_children_1[muonsevent_c],\n",
    "                                 proper_indices[muonsevent_c][total_mask],\n",
    "                                 ak.firsts(grouped_pfo_index[even_jet_mask]),\n",
    "                                 'p'),\n",
    "                      'pfo_higgs_1':jet_truehiggs(pfos[muonsevent_c][total_mask],\n",
    "                                 mc[muonsevent_c],\n",
    "                                 higgs_children_1[muonsevent_c],\n",
    "                                 proper_indices[muonsevent_c][total_mask],\n",
    "                                 ak.firsts(grouped_pfo_index[odd_jet_mask]),\n",
    "                                 'p')}])"
   ]
  },
  {
   "cell_type": "code",
   "execution_count": 94,
   "id": "c4ea0c1a",
   "metadata": {},
   "outputs": [],
   "source": [
    "frac_p0_t0 = ak.num(jet_con_in_higgs['pfo_higgs_0'][0][jet_con_in_higgs['pfo_higgs_0'][0]])/ak.num(jet_con_in_higgs['pfo_higgs_0'][0])\n",
    "frac_p0_t1 = ak.num(jet_con_in_higgs['pfo_higgs_0'][1][jet_con_in_higgs['pfo_higgs_0'][1]])/ak.num(jet_con_in_higgs['pfo_higgs_0'][1])\n",
    "\n",
    "frac_p1_t0 = ak.num(jet_con_in_higgs['pfo_higgs_1'][0][jet_con_in_higgs['pfo_higgs_1'][0]])/ak.num(jet_con_in_higgs['pfo_higgs_1'][0])\n",
    "frac_p1_t1 = ak.num(jet_con_in_higgs['pfo_higgs_1'][1][jet_con_in_higgs['pfo_higgs_1'][1]])/ak.num(jet_con_in_higgs['pfo_higgs_1'][1])\n",
    "\n",
    "\n",
    "total_j0_E = ak.sum(pfos[muonsevent_c][total_mask][ak.firsts(grouped_pfo_index[even_jet_mask])].E,axis=1)\n",
    "Efrac_p0_t0 = ak.sum(pfos[muonsevent_c][total_mask][ak.firsts(grouped_pfo_index[even_jet_mask])].E[jet_con_in_higgs['pfo_higgs_0'][0]],axis=1)/total_j0_E\n",
    "Efrac_p0_t1 = ak.sum(pfos[muonsevent_c][total_mask][ak.firsts(grouped_pfo_index[even_jet_mask])].E[jet_con_in_higgs['pfo_higgs_0'][1]],axis=1)/total_j0_E\n",
    "\n",
    "total_j1_E = ak.sum(pfos[muonsevent_c][total_mask][ak.firsts(grouped_pfo_index[odd_jet_mask])].E,axis=1)\n",
    "Efrac_p1_t0 = ak.sum(pfos[muonsevent_c][total_mask][ak.firsts(grouped_pfo_index[odd_jet_mask])].E[jet_con_in_higgs['pfo_higgs_1'][0]],axis=1)/total_j1_E\n",
    "Efrac_p1_t1 = ak.sum(pfos[muonsevent_c][total_mask][ak.firsts(grouped_pfo_index[odd_jet_mask])].E[jet_con_in_higgs['pfo_higgs_1'][1]],axis=1)/total_j1_E\n"
   ]
  },
  {
   "cell_type": "code",
   "execution_count": 95,
   "id": "52c17680",
   "metadata": {},
   "outputs": [],
   "source": [
    "large_portion = ak.argmax(ak.concatenate([ak.singletons(Efrac_p0_t0),ak.singletons(Efrac_p1_t0)],axis=1),axis=1)"
   ]
  },
  {
   "cell_type": "code",
   "execution_count": 96,
   "id": "e28275d9",
   "metadata": {},
   "outputs": [],
   "source": [
    "# tells pfo_higgs_0 weather to choose 0 or 1 (i.e. true higgs 0 or 1)\n",
    "large_portion_mask = ak.local_index(ak.concatenate([ak.singletons(jet_con_in_higgs['pfo_higgs_0'][0]),ak.singletons(jet_con_in_higgs['pfo_higgs_0'][1])],axis=1),axis=1) == large_portion\n"
   ]
  },
  {
   "cell_type": "code",
   "execution_count": 97,
   "id": "4845508e",
   "metadata": {},
   "outputs": [],
   "source": [
    "jet_con_in_higgs_best_mask_0 = ak.firsts(ak.concatenate([ak.singletons(jet_con_in_higgs['pfo_higgs_0'][0]),ak.singletons(jet_con_in_higgs['pfo_higgs_0'][1])],axis=1)[large_portion_mask],axis=1)\n",
    "jet_con_in_higgs_best_mask_1 = ak.firsts(ak.concatenate([ak.singletons(jet_con_in_higgs['pfo_higgs_1'][0]),ak.singletons(jet_con_in_higgs['pfo_higgs_1'][1])],axis=1)[large_portion_mask != True],axis=1)\n"
   ]
  },
  {
   "cell_type": "code",
   "execution_count": 98,
   "id": "a7a4611e",
   "metadata": {},
   "outputs": [],
   "source": [
    "energy_frac_pfo_0 = ak.sum(pfos[muonsevent_c][total_mask][ak.firsts(grouped_pfo_index[even_jet_mask])].E[jet_con_in_higgs_best_mask_0],axis=1)/total_j0_E\n",
    "energy_frac_pfo_1 = ak.sum(pfos[muonsevent_c][total_mask][ak.firsts(grouped_pfo_index[odd_jet_mask])].E[jet_con_in_higgs_best_mask_1],axis=1)/total_j1_E\n"
   ]
  },
  {
   "cell_type": "code",
   "execution_count": 99,
   "id": "f9535556",
   "metadata": {},
   "outputs": [],
   "source": [
    "energy_frac_true_h0 = ak.concatenate([ak.singletons(energy_frac_pfo_0),ak.singletons(energy_frac_pfo_1)],axis=1)[large_portion_mask]\n",
    "energy_frac_true_h1 = ak.concatenate([ak.singletons(energy_frac_pfo_0),ak.singletons(energy_frac_pfo_1)],axis=1)[large_portion_mask != True]\n"
   ]
  },
  {
   "cell_type": "code",
   "execution_count": 100,
   "id": "36778cb7",
   "metadata": {},
   "outputs": [
    {
     "data": {
      "text/plain": [
       "Text(0.5, 1.0, 'Clustering Efficiency with Jet Pairs Selected by Invariant Mass')"
      ]
     },
     "execution_count": 100,
     "metadata": {},
     "output_type": "execute_result"
    },
    {
     "data": {
      "image/png": "[encoded data removed]",
      "text/plain": [
       "<Figure size 640x480 with 1 Axes>"
      ]
     },
     "metadata": {},
     "output_type": "display_data"
    }
   ],
   "source": [
    "plt.close(1);plt.figure(1)\n",
    "plt.hist(energy_frac_true_h0,bins=250,alpha=1)\n",
    "plt.hist(energy_frac_true_h1,bins=250,alpha=0.75)\n",
    "plt.title('Clustering Efficiency with Jet Pairs Selected by Invariant Mass')"
   ]
  },
  {
   "cell_type": "code",
   "execution_count": 102,
   "id": "e5f3e0af",
   "metadata": {
    "scrolled": false
   },
   "outputs": [
    {
     "data": {
      "text/plain": [
       "<matplotlib.colorbar.Colorbar at 0x7f932f2ae0e0>"
      ]
     },
     "execution_count": 102,
     "metadata": {},
     "output_type": "execute_result"
    },
    {
     "data": {
      "image/png": "[encoded data removed]",
      "text/plain": [
       "<Figure size 640x480 with 2 Axes>"
      ]
     },
     "metadata": {},
     "output_type": "display_data"
    }
   ],
   "source": [
    "fig = plt.figure()\n",
    "ax = fig.add_subplot()\n",
    "nbins = 10\n",
    "\n",
    "nums = plt.hist2d(np.array(ak.firsts(energy_frac_true_h0)),\n",
    "                  np.array(ak.firsts(energy_frac_true_h1)),\n",
    "                  norm=mpl.colors.LogNorm(clip=True),\n",
    "                  cmap = 'plasma',\n",
    "                  bins=nbins)\n",
    "\n",
    "plt.plot([0.9,0.9],[0,1],'black')\n",
    "plt.plot([0,1],[0.9,0.9],'black')\n",
    "\n",
    "plt.xlabel('Fraction of First Dijet Energy from First Higgs')\n",
    "plt.ylabel('Fraction of Second Dijet Energy from Second Higgs')\n",
    "plt.title('Jet Clustering Efficiency with Dijets Paired by MC Linking')\n",
    "plt.text(0.95,0.95,'1',fontfamily='fantasy',size='x-large',ha='center',va='center')\n",
    "plt.text(0.45,0.95,'2',fontfamily='fantasy',size='x-large',ha='center',va='center')\n",
    "plt.text(0.95,0.45,'3',fontfamily='fantasy',size='x-large',ha='center',va='center')\n",
    "plt.text(0.45,0.45,'4',fontfamily='fantasy',size='x-large',ha='center',va='center')\n",
    "plt.colorbar(label='Counts')\n",
    "# plt.tight_layout()\n",
    "# plt.savefig('2dhistcheatlink')"
   ]
  },
  {
   "cell_type": "code",
   "execution_count": 103,
   "id": "8509cbf8",
   "metadata": {},
   "outputs": [],
   "source": [
    "thres = 1-1/nbins\n",
    "r1 = (ak.firsts(energy_frac_true_h0) >= thres) & (ak.firsts(energy_frac_true_h1) >= thres)\n",
    "r2 = (ak.firsts(energy_frac_true_h0) >= thres) & (ak.firsts(energy_frac_true_h1) < thres)\n",
    "r3 = (ak.firsts(energy_frac_true_h0) < thres) & (ak.firsts(energy_frac_true_h1) >= thres)\n",
    "r4 = (ak.firsts(energy_frac_true_h0) < thres) & (ak.firsts(energy_frac_true_h1) < thres)"
   ]
  },
  {
   "cell_type": "code",
   "execution_count": 104,
   "id": "f3320409",
   "metadata": {},
   "outputs": [
    {
     "name": "stdout",
     "output_type": "stream",
     "text": [
      "r1: 0.259 r2: 0.102 r3: 0.098 r4: 0.54\n"
     ]
    }
   ],
   "source": [
    "print('r1:',round(len(r1[r1])/len(r1),3),'r2:',round(len(r2[r2])/len(r2),3),'r3:',round(len(r3[r3])/len(r3),3),'r4:',round(len(r4[r4])/len(r4),3))"
   ]
  },
  {
   "cell_type": "code",
   "execution_count": 105,
   "id": "8ab066e2",
   "metadata": {},
   "outputs": [
    {
     "data": {
      "text/plain": [
       "<matplotlib.legend.Legend at 0x7f9473cb4d00>"
      ]
     },
     "execution_count": 105,
     "metadata": {},
     "output_type": "execute_result"
    },
    {
     "data": {
      "image/png": "[encoded data removed]",
      "text/plain": [
       "<Figure size 640x480 with 1 Axes>"
      ]
     },
     "metadata": {},
     "output_type": "display_data"
    }
   ],
   "source": [
    "cmap = mpl.colormaps['Dark2']\n",
    "cmap2 = mpl.colormaps['plasma']\n",
    "\n",
    "nbins = 50 # 75 for poster plot\n",
    "mini = 0 \n",
    "maxi = 250\n",
    "density = False\n",
    "sep_r2_r3 = False\n",
    "linewidth = 1.75 # 1.5 for poster\n",
    "\n",
    "plt.close(1);plt.figure(1)\n",
    "\n",
    "plt.hist(ak.flatten(best_invmasses[r1],axis=1),\n",
    "         bins=nbins,\n",
    "         range=(mini,maxi),\n",
    "         histtype='step',\n",
    "         linewidth=linewidth,\n",
    "         density=density,\n",
    "         color=cmap(0.4),\n",
    "         label='Region 1')\n",
    "\n",
    "if sep_r2_r3:\n",
    "    plt.hist(best_invmasses[large_portion_mask][r2],\n",
    "             bins=nbins,\n",
    "             range=(mini,maxi),\n",
    "             histtype='step',\n",
    "             linewidth=1.5,\n",
    "             density=density,\n",
    "             label='good r2')\n",
    "\n",
    "    plt.hist(best_invmasses[large_portion_mask!=True][r3],\n",
    "             bins=nbins,\n",
    "             range=(mini,maxi),\n",
    "             histtype='step',\n",
    "             linewidth=1.5,\n",
    "             density=density,\n",
    "             label='good r3')\n",
    "\n",
    "    plt.hist(best_invmasses[large_portion_mask!=True][r2],\n",
    "             bins=nbins,\n",
    "             range=(mini,maxi),\n",
    "             histtype='step',\n",
    "             linewidth=1.5,\n",
    "             density=density,\n",
    "             label='bad r2')\n",
    "\n",
    "    plt.hist(best_invmasses[large_portion_mask][r3],\n",
    "             bins=nbins,\n",
    "             range=(mini,maxi),\n",
    "             histtype='step',\n",
    "             linewidth=1.5,\n",
    "             density=density,\n",
    "             label='bad r3')\n",
    "else:\n",
    "    plt.hist(ak.flatten(best_invmasses[r2],axis=1),\n",
    "             bins=nbins,\n",
    "             range=(mini,maxi),\n",
    "             histtype='step',\n",
    "             linewidth=linewidth,\n",
    "             density=density,\n",
    "             color=cmap(0.3),\n",
    "             label='Region 2')\n",
    "\n",
    "    plt.hist(ak.flatten(best_invmasses[r3],axis=1),\n",
    "             bins=nbins,\n",
    "             range=(mini,maxi),\n",
    "             histtype='step',\n",
    "             linewidth=linewidth,\n",
    "             density=density,\n",
    "             color=cmap(0.2),\n",
    "             label='Region 3')\n",
    "\n",
    "plt.hist(ak.flatten(best_invmasses[r4],axis=1),\n",
    "         bins=nbins,\n",
    "         range=(mini,maxi),\n",
    "         histtype='step',\n",
    "         linewidth=linewidth,\n",
    "         density=density,\n",
    "         color=cmap(0.1),\n",
    "         label='Region 4')\n",
    "\n",
    "plt.xlabel('Invariant Masses of Dijets [GeV]')\n",
    "if density:\n",
    "    plt.ylabel('Counts Normalized by Area Under Curve')\n",
    "else:\n",
    "    plt.ylabel('Counts')\n",
    "\n",
    "plt.title('Invariant Mass of Dijet Pairs from Four Regions of Above Plot')\n",
    "plt.legend()\n",
    "\n",
    "# plt.savefig('higgsmass4_unnorm')"
   ]
  },
  {
   "cell_type": "code",
   "execution_count": 35,
   "id": "b8c538df",
   "metadata": {},
   "outputs": [
    {
     "data": {
      "text/plain": [
       "''"
      ]
     },
     "execution_count": 35,
     "metadata": {},
     "output_type": "execute_result"
    },
    {
     "data": {
      "image/png": "[encoded data removed]",
      "text/plain": [
       "<Figure size 640x480 with 1 Axes>"
      ]
     },
     "metadata": {},
     "output_type": "display_data"
    }
   ],
   "source": [
    "plt.close(1);plt.figure(1)\n",
    "plt_arr_pdgids = ak.flatten(pdgids[(ak.local_index(pdgids)==12) | (ak.local_index(pdgids)==13)])\n",
    "\n",
    "# mini = -7\n",
    "# maxi = 7\n",
    "\n",
    "maxi = np.max(plt_arr_pdgids)\n",
    "mini = np.min(plt_arr_pdgids)\n",
    "nbins = 2*(maxi - mini)\n",
    "\n",
    "plt.hist(ak.flatten(pdgids[(ak.local_index(pdgids)==12) | (ak.local_index(pdgids)==13)]),bins=nbins,range=(mini,maxi))\n",
    "''"
   ]
  },
  {
   "cell_type": "code",
   "execution_count": 36,
   "id": "d9274c1b",
   "metadata": {},
   "outputs": [
    {
     "data": {
      "text/plain": [
       "<matplotlib.legend.Legend at 0x7fb007ebf3d0>"
      ]
     },
     "execution_count": 36,
     "metadata": {},
     "output_type": "execute_result"
    },
    {
     "data": {
      "image/png": "[encoded data removed]",
      "text/plain": [
       "<Figure size 640x480 with 1 Axes>"
      ]
     },
     "metadata": {},
     "output_type": "display_data"
    }
   ],
   "source": [
    "cmap = mpl.colormaps['Dark2']\n",
    "\n",
    "plt.close(1);plt.figure(1)\n",
    "\n",
    "nbins = 250\n",
    "\n",
    "plt.hist(ak.flatten((p[m1]+p[m2]).mass),bins=nbins,density=True,color=cmap(0.2))\n",
    "plt.plot([91.2,91.2],[0,0.3],label='Mass of Z boson',color=cmap(0.1),linewidth=2)\n",
    "\n",
    "plt.title('Muon Pairs Removed from Selected Events')\n",
    "plt.xlabel('Invariant Mass of Muon Pairs [GeV]')\n",
    "plt.ylabel('Normalized Counts')\n",
    "plt.legend()\n",
    "# plt.savefig('remmuons.pdf')"
   ]
  },
  {
   "cell_type": "code",
   "execution_count": null,
   "id": "05f20a83",
   "metadata": {},
   "outputs": [],
   "source": [
    "event = 436 # good events: 5,8,2385,436\n",
    "# MAKE SURE THESE MASKS ARE RIGHT\n",
    "# maybe put on log scale for size, also polar?\n",
    "jet_nojet_pfos = []\n",
    "for n in range(4):\n",
    "    jet_nojet_pfos.append(pfos[muonsevent_c][total_mask][ak.firsts(pfo_index[ak.local_index(pfo_index,axis=1) == n])][event])\n",
    "\n",
    "jet_nojet_pfos.append(pfos[muonsevent_c][total_mask][ak.local_index(pfos[muonsevent_c][total_mask])[ak_equals(ak.local_index(pfos[muonsevent_c][total_mask]),ak.flatten(pfo_index,axis=2)) != True]][event])\n",
    "\n",
    "cmap = mpl.colormaps['tab20b']\n",
    "cmap_sel = [0.04,0.2,0.6,0.85,0.9]\n",
    "\n",
    "fig = plt.figure()\n",
    "ax = fig.add_subplot(projection='polar')\n",
    "# ax = fig.add_subplot()\n",
    "for n in range(5):\n",
    "    if n != 4:\n",
    "        color = cmap(cmap_sel[n])\n",
    "    else:\n",
    "        color = mpl.colormaps['Set2'](cmap_sel[n])\n",
    "    \n",
    "    ax.scatter(jet_nojet_pfos[n].phi,\n",
    "               jet_nojet_pfos[n].eta,\n",
    "               s=500*jet_nojet_pfos[n].E/np.max(pfos[muonsevent_c][total_mask][event].E),\n",
    "               label='Jet' + str(n+1),\n",
    "               color = color,\n",
    "               alpha=0.5)\n",
    "#     ax.scatter(jet_nojet_pfos[n].phi,jet_nojet_pfos[n].eta,s=500*np.log(jet_nojet_pfos[n].E)/np.max(jet_nojet_pfos[n].E),label=str(n))\n",
    "    \n",
    "# plt.legend()\n",
    "# ax.set_xlabel('r')\n",
    "\n",
    "ax.grid(False)\n",
    "ax.set_rticks([])\n",
    "ax.set_xticks([])\n",
    "ax.set_title('Visualization of Jet Clustering')\n",
    "plt.axis('off')\n",
    "\n",
    "# plt.savefig('jetpic.pdf')"
   ]
  },
  {
   "cell_type": "markdown",
   "id": "7408989a",
   "metadata": {},
   "source": [
    "below here is mostly junk I think"
   ]
  },
  {
   "cell_type": "markdown",
   "id": "8e2c8ae9",
   "metadata": {},
   "source": [
    "There seems to be a problem here... sometimes both of the pfo higgs favour the same truth one. I'm not sure if that's allowed or makes sense at all?? It doesn't seem to always happen so maybe it's okay but I need to check in the ambiguous cases. "
   ]
  },
  {
   "cell_type": "code",
   "execution_count": 374,
   "id": "c35abb4e",
   "metadata": {},
   "outputs": [],
   "source": [
    "a1 = ak.flatten(proper_indices[muonsevent_c][total_mask][ak.firsts(grouped_pfo_index[odd_jet_mask])],axis=2)\n",
    "a2 = ak.flatten(proper_indices[muonsevent_c][total_mask][ak.firsts(grouped_pfo_index[even_jet_mask])],axis=2)\n",
    "\n",
    "# ak_equals(a1,a2)"
   ]
  },
  {
   "cell_type": "code",
   "execution_count": 393,
   "id": "4fb234cb",
   "metadata": {},
   "outputs": [
    {
     "data": {
      "text/plain": [
       "(array([4248.,    0., 1631.,    0.,  546.,    0.,  150.,    0.,   50.,\n",
       "           6.]),\n",
       " array([0. , 0.5, 1. , 1.5, 2. , 2.5, 3. , 3.5, 4. , 4.5, 5. ]),\n",
       " <BarContainer object of 10 artists>)"
      ]
     },
     "execution_count": 393,
     "metadata": {},
     "output_type": "execute_result"
    },
    {
     "data": {
      "image/png": "[encoded data removed]",
      "text/plain": [
       "<Figure size 640x480 with 1 Axes>"
      ]
     },
     "metadata": {},
     "output_type": "display_data"
    }
   ],
   "source": [
    "same_mc = ak_equals(jet_con_in_higgs['pfo_higgs_0'][0],jet_con_in_higgs['pfo_higgs_1'][0])\n",
    "plt.close(1);plt.figure(1)\n",
    "plt.hist(ak.num(same_mc[same_mc]))"
   ]
  },
  {
   "cell_type": "code",
   "execution_count": 409,
   "id": "788bcaff",
   "metadata": {},
   "outputs": [],
   "source": [
    "total_j0_E = ak.sum(pfos[muonsevent_c][total_mask][ak.firsts(grouped_pfo_index[even_jet_mask])].E,axis=1)\n",
    "Efrac_p0_t0 = ak.sum(pfos[muonsevent_c][total_mask][ak.firsts(grouped_pfo_index[even_jet_mask])].E[jet_con_in_higgs['pfo_higgs_0'][0]],axis=1)/total_j0_E\n",
    "\n",
    "\n",
    "total_j1_E = ak.sum(pfos[muonsevent_c][total_mask][ak.firsts(grouped_pfo_index[odd_jet_mask])].E,axis=1)\n",
    "Efrac_p1_t0 = ak.sum(pfos[muonsevent_c][total_mask][ak.firsts(grouped_pfo_index[odd_jet_mask])].E[jet_con_in_higgs['pfo_higgs_1'][0]],axis=1)/total_j1_E\n"
   ]
  },
  {
   "cell_type": "code",
   "execution_count": 410,
   "id": "cef5b844",
   "metadata": {},
   "outputs": [
    {
     "data": {
      "text/html": [
       "<pre>[[1, 0.0202],\n",
       " [0.00998, 0.859],\n",
       " [0.47, 0.404],\n",
       " [0.427, 0.738],\n",
       " [0.455, 0.465],\n",
       " [0.00129, 0.938],\n",
       " [0.317, 0.443],\n",
       " [0.00354, 0.936],\n",
       " [0.417, 0.616],\n",
       " [0.0102, 0.886],\n",
       " ...,\n",
       " [0.986, 0.0266],\n",
       " [0.856, 0.342],\n",
       " [0.288, 0.985],\n",
       " [0.0196, 0.988],\n",
       " [0, 0.349],\n",
       " [0.997, 0.0089],\n",
       " [0.349, 0.511],\n",
       " [0.259, 0.881],\n",
       " [0.0715, 0.361]]\n",
       "--------------------------\n",
       "type: 6631 * var * float32</pre>"
      ],
      "text/plain": [
       "<Array [[1, 0.0202], [...], ..., [0.0715, 0.361]] type='6631 * var * float32'>"
      ]
     },
     "execution_count": 410,
     "metadata": {},
     "output_type": "execute_result"
    }
   ],
   "source": [
    "ak.concatenate([ak.singletons(Efrac_p0_t0),ak.singletons(Efrac_p1_t0)],axis=1)"
   ]
  },
  {
   "cell_type": "code",
   "execution_count": 411,
   "id": "2ff0e2e0",
   "metadata": {
    "scrolled": false
   },
   "outputs": [
    {
     "data": {
      "text/plain": [
       "(array([ 11.,   1.,   0.,   0.,   1.,   1.,   0.,   0.,   1.,   1.,   0.,\n",
       "          0.,   0.,   1.,   1.,   3.,   0.,   3.,   2.,   1.,   1.,   0.,\n",
       "          1.,   2.,   1.,   4.,   3.,   2.,   4.,   3.,   2.,   3.,   1.,\n",
       "          3.,   4.,   0.,   6.,   3.,   3.,   9.,   3.,   2.,   2.,   5.,\n",
       "          2.,   8.,   5.,   7.,   3.,   6.,   8.,   2.,   8.,   1.,   9.,\n",
       "          5.,   4.,   4.,   5.,   5.,   9.,   5.,   8.,  12.,   9.,   6.,\n",
       "          8.,  11.,  12.,  10.,  18.,  12.,  11.,   9.,  16.,  26.,  15.,\n",
       "         11.,  12.,  19.,  17.,   9.,  24.,  24.,  20.,  14.,  21.,  33.,\n",
       "         18.,  26.,  23.,  28.,  38.,  42.,  44.,  41.,  32.,  41.,  42.,\n",
       "         47.,  45.,  39.,  43.,  40.,  45.,  52.,  65.,  55.,  50.,  55.,\n",
       "         46.,  52.,  66.,  62.,  65.,  78.,  67.,  81.,  98.,  79., 101.,\n",
       "        150., 188., 289., 523., 592., 245., 166., 132., 113.,  86.,  87.,\n",
       "         85.,  82.,  71.,  64.,  68.,  69.,  62.,  47.,  47.,  50.,  48.,\n",
       "         59.,  46.,  44.,  51.,  39.,  39.,  30.,  38.,  28.,  23.,  28.,\n",
       "         21.,  20.,  28.,  22.,  22.,  18.,  26.,  18.,  18.,  21.,  22.,\n",
       "         21.,  19.,  16.,  22.,  22.,  19.,   9.,  13.,   6.,  15.,  12.,\n",
       "         11.,  11.,  13.,   8.,  10.,  10.,  10.,   7.,  10.,  12.,   5.,\n",
       "          8.,   5.,   8.,   4.,   5.,   5.,   4.,   3.,   3.,   3.,   5.,\n",
       "          2.,   4.,   2.,   2.,   7.,   6.,   6.,   4.,   4.,   3.,   3.,\n",
       "          3.,   1.,   4.,   2.,   0.,   3.,   3.,   3.,   1.,   2.,   1.,\n",
       "          0.,   1.,   1.,   2.,   2.,   0.,   2.,   1.,   0.,   0.,   1.,\n",
       "          0.,   0.,   1.,   1.,   0.,   0.,   0.,   0.,   1.,   1.,   0.,\n",
       "          0.,   0.,   0.,   1.,   0.,   0.,   0.,   8.]),\n",
       " array([0.        , 0.008     , 0.016     , 0.024     , 0.032     ,\n",
       "        0.04      , 0.048     , 0.056     , 0.064     , 0.072     ,\n",
       "        0.08      , 0.088     , 0.096     , 0.104     , 0.112     ,\n",
       "        0.12      , 0.12800001, 0.13600001, 0.14399999, 0.152     ,\n",
       "        0.16      , 0.168     , 0.176     , 0.184     , 0.192     ,\n",
       "        0.2       , 0.208     , 0.21600001, 0.22400001, 0.23199999,\n",
       "        0.23999999, 0.248     , 0.25600001, 0.264     , 0.27200001,\n",
       "        0.28      , 0.28799999, 0.296     , 0.30399999, 0.31200001,\n",
       "        0.31999999, 0.32800001, 0.336     , 0.34400001, 0.352     ,\n",
       "        0.36000001, 0.368     , 0.37599999, 0.384     , 0.39199999,\n",
       "        0.40000001, 0.40799999, 0.41600001, 0.42399999, 0.43200001,\n",
       "        0.44      , 0.44800001, 0.456     , 0.46399999, 0.472     ,\n",
       "        0.47999999, 0.48800001, 0.49599999, 0.50400001, 0.51200002,\n",
       "        0.51999998, 0.528     , 0.53600001, 0.54400003, 0.55199999,\n",
       "        0.56      , 0.56800002, 0.57599998, 0.58399999, 0.59200001,\n",
       "        0.60000002, 0.60799998, 0.616     , 0.62400001, 0.63200003,\n",
       "        0.63999999, 0.648     , 0.65600002, 0.66399997, 0.67199999,\n",
       "        0.68000001, 0.68800002, 0.69599998, 0.704     , 0.71200001,\n",
       "        0.72000003, 0.72799999, 0.736     , 0.74400002, 0.75199997,\n",
       "        0.75999999, 0.76800001, 0.77600002, 0.78399998, 0.792     ,\n",
       "        0.80000001, 0.80800003, 0.81599998, 0.824     , 0.83200002,\n",
       "        0.83999997, 0.84799999, 0.85600001, 0.86400002, 0.87199998,\n",
       "        0.88      , 0.88800001, 0.89600003, 0.90399998, 0.912     ,\n",
       "        0.92000002, 0.92799997, 0.93599999, 0.94400001, 0.95200002,\n",
       "        0.95999998, 0.96799999, 0.97600001, 0.98400003, 0.99199998,\n",
       "        1.        , 1.00800002, 1.01600003, 1.02400005, 1.03199995,\n",
       "        1.03999996, 1.04799998, 1.05599999, 1.06400001, 1.07200003,\n",
       "        1.08000004, 1.08800006, 1.09599996, 1.10399997, 1.11199999,\n",
       "        1.12      , 1.12800002, 1.13600004, 1.14400005, 1.15199995,\n",
       "        1.15999997, 1.16799998, 1.176     , 1.18400002, 1.19200003,\n",
       "        1.20000005, 1.20799994, 1.21599996, 1.22399998, 1.23199999,\n",
       "        1.24000001, 1.24800003, 1.25600004, 1.26400006, 1.27199996,\n",
       "        1.27999997, 1.28799999, 1.296     , 1.30400002, 1.31200004,\n",
       "        1.32000005, 1.32799995, 1.33599997, 1.34399998, 1.352     ,\n",
       "        1.36000001, 1.36800003, 1.37600005, 1.38399994, 1.39199996,\n",
       "        1.39999998, 1.40799999, 1.41600001, 1.42400002, 1.43200004,\n",
       "        1.44000006, 1.44799995, 1.45599997, 1.46399999, 1.472     ,\n",
       "        1.48000002, 1.48800004, 1.49600005, 1.50399995, 1.51199996,\n",
       "        1.51999998, 1.528     , 1.53600001, 1.54400003, 1.55200005,\n",
       "        1.55999994, 1.56799996, 1.57599998, 1.58399999, 1.59200001,\n",
       "        1.60000002, 1.60800004, 1.61600006, 1.62399995, 1.63199997,\n",
       "        1.63999999, 1.648     , 1.65600002, 1.66400003, 1.67200005,\n",
       "        1.67999995, 1.68799996, 1.69599998, 1.704     , 1.71200001,\n",
       "        1.72000003, 1.72800004, 1.73599994, 1.74399996, 1.75199997,\n",
       "        1.75999999, 1.76800001, 1.77600002, 1.78400004, 1.79200006,\n",
       "        1.79999995, 1.80799997, 1.81599998, 1.824     , 1.83200002,\n",
       "        1.84000003, 1.84800005, 1.85599995, 1.86399996, 1.87199998,\n",
       "        1.88      , 1.88800001, 1.89600003, 1.90400004, 1.91199994,\n",
       "        1.91999996, 1.92799997, 1.93599999, 1.94400001, 1.95200002,\n",
       "        1.96000004, 1.96800005, 1.97599995, 1.98399997, 1.99199998,\n",
       "        2.        ]),\n",
       " <BarContainer object of 250 artists>)"
      ]
     },
     "execution_count": 411,
     "metadata": {},
     "output_type": "execute_result"
    },
    {
     "data": {
      "image/png": "[encoded data removed]",
      "text/plain": [
       "<Figure size 640x480 with 1 Axes>"
      ]
     },
     "metadata": {},
     "output_type": "display_data"
    }
   ],
   "source": [
    "plt.close(1);plt.figure(1)\n",
    "plt.hist(Efrac_p0_t0 + Efrac_p1_t0,bins=250)\n",
    "\n",
    "# plt.xlabel()"
   ]
  },
  {
   "cell_type": "code",
   "execution_count": 412,
   "id": "241e373a",
   "metadata": {
    "scrolled": false
   },
   "outputs": [
    {
     "data": {
      "text/plain": [
       "''"
      ]
     },
     "execution_count": 412,
     "metadata": {},
     "output_type": "execute_result"
    },
    {
     "data": {
      "image/png": "[encoded data removed]",
      "text/plain": [
       "<Figure size 640x480 with 1 Axes>"
      ]
     },
     "metadata": {},
     "output_type": "display_data"
    }
   ],
   "source": [
    "plt.close(1);plt.figure(1)\n",
    "plt.hist(frac_p0_t0 + frac_p1_t0,bins=250)\n",
    "''"
   ]
  },
  {
   "cell_type": "code",
   "execution_count": null,
   "id": "c5824523",
   "metadata": {},
   "outputs": [],
   "source": []
  }
 ],
 "metadata": {
  "kernelspec": {
   "display_name": "Python 3 (ipykernel)",
   "language": "python",
   "name": "python3"
  },
  "language_info": {
   "codemirror_mode": {
    "name": "ipython",
    "version": 3
   },
   "file_extension": ".py",
   "mimetype": "text/x-python",
   "name": "python",
   "nbconvert_exporter": "python",
   "pygments_lexer": "ipython3",
   "version": "3.10.9"
  }
 },
 "nbformat": 4,
 "nbformat_minor": 5
}
