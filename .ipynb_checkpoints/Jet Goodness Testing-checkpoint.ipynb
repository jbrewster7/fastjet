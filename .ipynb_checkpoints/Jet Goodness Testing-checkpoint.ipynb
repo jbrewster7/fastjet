{
 "cells": [
  {
   "cell_type": "code",
   "execution_count": 1,
   "id": "d6b712e3",
   "metadata": {},
   "outputs": [],
   "source": [
    "import awkward as ak \n",
    "import numpy as np\n",
    "import matplotlib.pyplot as plt\n",
    "import fastjet\n",
    "from coffea.nanoevents import NanoEventsFactory, EDM4HEPSchema\n",
    "import dask_awkward as dak\n",
    "import hist.dask as hda\n",
    "import uproot"
   ]
  },
  {
   "cell_type": "code",
   "execution_count": 2,
   "id": "e57089ca",
   "metadata": {},
   "outputs": [
    {
     "name": "stderr",
     "output_type": "stream",
     "text": [
      "/Users/josephinebrewster/TRIUMF-Summer-2023/coffea_dev/coffea/src/coffea/nanoevents/factory.py:63: UserWarning: Skipping PARAMETERS as it is it cannot be interpreted by Uproot\n",
      "  warnings.warn(\n",
      "/Users/josephinebrewster/TRIUMF-Summer-2023/coffea_dev/coffea/src/coffea/nanoevents/factory.py:45: UserWarning: Skipping _intMap as it is not interpretable by Uproot\n",
      "  warnings.warn(\n",
      "/Users/josephinebrewster/TRIUMF-Summer-2023/coffea_dev/coffea/src/coffea/nanoevents/factory.py:52: UserWarning: Skipping _intMap.first as it is not interpretable by Uproot\n",
      "  warnings.warn(f\"Skipping {branch.name} as it is not interpretable by Uproot\")\n",
      "/Users/josephinebrewster/TRIUMF-Summer-2023/coffea_dev/coffea/src/coffea/nanoevents/factory.py:52: UserWarning: Skipping _intMap.second as it is not interpretable by Uproot\n",
      "  warnings.warn(f\"Skipping {branch.name} as it is not interpretable by Uproot\")\n",
      "/Users/josephinebrewster/TRIUMF-Summer-2023/coffea_dev/coffea/src/coffea/nanoevents/factory.py:45: UserWarning: Skipping _floatMap as it is not interpretable by Uproot\n",
      "  warnings.warn(\n",
      "/Users/josephinebrewster/TRIUMF-Summer-2023/coffea_dev/coffea/src/coffea/nanoevents/factory.py:52: UserWarning: Skipping _floatMap.first as it is not interpretable by Uproot\n",
      "  warnings.warn(f\"Skipping {branch.name} as it is not interpretable by Uproot\")\n",
      "/Users/josephinebrewster/TRIUMF-Summer-2023/coffea_dev/coffea/src/coffea/nanoevents/factory.py:52: UserWarning: Skipping _floatMap.second as it is not interpretable by Uproot\n",
      "  warnings.warn(f\"Skipping {branch.name} as it is not interpretable by Uproot\")\n",
      "/Users/josephinebrewster/TRIUMF-Summer-2023/coffea_dev/coffea/src/coffea/nanoevents/factory.py:45: UserWarning: Skipping _stringMap as it is not interpretable by Uproot\n",
      "  warnings.warn(\n",
      "/Users/josephinebrewster/TRIUMF-Summer-2023/coffea_dev/coffea/src/coffea/nanoevents/factory.py:52: UserWarning: Skipping _stringMap.first as it is not interpretable by Uproot\n",
      "  warnings.warn(f\"Skipping {branch.name} as it is not interpretable by Uproot\")\n",
      "/Users/josephinebrewster/TRIUMF-Summer-2023/coffea_dev/coffea/src/coffea/nanoevents/factory.py:52: UserWarning: Skipping _stringMap.second as it is not interpretable by Uproot\n",
      "  warnings.warn(f\"Skipping {branch.name} as it is not interpretable by Uproot\")\n",
      "/Users/josephinebrewster/TRIUMF-Summer-2023/coffea_dev/coffea/src/coffea/nanoevents/factory.py:45: UserWarning: Skipping _doubleMap as it is not interpretable by Uproot\n",
      "  warnings.warn(\n",
      "/Users/josephinebrewster/TRIUMF-Summer-2023/coffea_dev/coffea/src/coffea/nanoevents/factory.py:52: UserWarning: Skipping _doubleMap.first as it is not interpretable by Uproot\n",
      "  warnings.warn(f\"Skipping {branch.name} as it is not interpretable by Uproot\")\n",
      "/Users/josephinebrewster/TRIUMF-Summer-2023/coffea_dev/coffea/src/coffea/nanoevents/factory.py:52: UserWarning: Skipping _doubleMap.second as it is not interpretable by Uproot\n",
      "  warnings.warn(f\"Skipping {branch.name} as it is not interpretable by Uproot\")\n"
     ]
    }
   ],
   "source": [
    "events = NanoEventsFactory.from_root( \n",
    "    {\"../../coffea_dev/root_files_may18/rv02-02.sv02-02.mILD_l5_o1_v02.E250-SetA.I402004\" \n",
    "    \".Pe2e2h.eR.pL.n000.d_dstm_15090_*.slcio.edm4hep.root\"\n",
    "#      \".Pe2e2h.eR.pL.n000.d_dstm_15090_2.slcio.edm4hep.root\"\n",
    "    :\"events\"},\n",
    "    schemaclass=EDM4HEPSchema,\n",
    "    permit_dask=True,\n",
    "    metadata = {'b_field':5},\n",
    ").events()"
   ]
  },
  {
   "cell_type": "markdown",
   "id": "70ef04e2",
   "metadata": {},
   "source": [
    "## Normal Slicing"
   ]
  },
  {
   "cell_type": "code",
   "execution_count": 87,
   "id": "64fa04f6",
   "metadata": {},
   "outputs": [
    {
     "name": "stderr",
     "output_type": "stream",
     "text": [
      "UserWarning: dcut and exclusive jets for jet-finders other than kt, C/A or genkt with p>=0 should be interpreted with care.\n"
     ]
    }
   ],
   "source": [
    "jetdef = fastjet.JetDefinition(fastjet.kt_algorithm,1)\n",
    "# cluster = fastjet.ClusterSequence(events.PandoraPFOs, jetdef).exclusive_jets(n_jets=2)\n",
    "\n",
    "mupair = dak.combinations(events.PandoraPFOs[abs(events.PandoraPFOs.pdgId) == 13], 2, fields=[\"mu1\", \"mu2\"])\n",
    "pairmass = (mupair.mu1 + mupair.mu2).mass\n",
    "muonsevent = dak.any(\n",
    "    (pairmass > 80)\n",
    "    & (pairmass < 100)\n",
    "    & (mupair.mu1.charge == -mupair.mu2.charge),\n",
    "    axis=1,\n",
    ")\n",
    "\n",
    "select_clst = fastjet.ClusterSequence(events.PandoraPFOs[muonsevent], jetdef).exclusive_jets(n_jets=2)\n",
    "\n",
    "# select_clst = cluster[muonsevent]\n",
    "\n",
    "jets = dak.zip(\n",
    "    {\n",
    "        'x': select_clst[\"px\"],\n",
    "        'y': select_clst[\"py\"],\n",
    "        'z': select_clst[\"pz\"],\n",
    "        't': select_clst[\"E\"],\n",
    "    },\n",
    "    with_name=\"LorentzVector\",\n",
    "    behavior=events.PandoraPFOs.behavior,\n",
    ")"
   ]
  },
  {
   "cell_type": "code",
   "execution_count": 88,
   "id": "1b1a8664",
   "metadata": {},
   "outputs": [
    {
     "name": "stdout",
     "output_type": "stream",
     "text": [
      "#--------------------------------------------------------------------------\n",
      "#                         FastJet release 3.4.1\n",
      "#                 M. Cacciari, G.P. Salam and G. Soyez                  \n",
      "#     A software package for jet finding and analysis at colliders      \n",
      "#                           http://fastjet.fr                           \n",
      "#\t                                                                      \n",
      "# Please cite EPJC72(2012)1896 [arXiv:1111.6097] if you use this package\n",
      "# for scientific work and optionally PLB641(2006)57 [hep-ph/0512210].   \n",
      "#                                                                       \n",
      "# FastJet is provided without warranty under the GNU GPL v2 or higher.  \n",
      "# It uses T. Chan's closest pair algorithm, S. Fortune's Voronoi code,\n",
      "# CGAL and 3rd party plugin jet algorithms. See COPYING file for details.\n",
      "#--------------------------------------------------------------------------\n"
     ]
    },
    {
     "name": "stderr",
     "output_type": "stream",
     "text": [
      "UserWarning: dcut and exclusive jets for jet-finders other than kt, C/A or genkt with p>=0 should be interpreted with care.\n"
     ]
    },
    {
     "data": {
      "text/plain": [
       "{'from-uproot-c8373dc3d13bfd9ed187580b396f8534': ['PandoraPFOs.t',\n",
       "  'PandoraPFOs.charge',\n",
       "  'PandoraPFOs.pdgId',\n",
       "  'PandoraPFOs.x',\n",
       "  'PandoraPFOs.y',\n",
       "  'PandoraPFOs.z']}"
      ]
     },
     "execution_count": 88,
     "metadata": {},
     "output_type": "execute_result"
    },
    {
     "data": {
      "image/png": "[encoded data removed]",
      "text/plain": [
       "<Figure size 640x480 with 1 Axes>"
      ]
     },
     "metadata": {},
     "output_type": "display_data"
    }
   ],
   "source": [
    "jetpair = dak.combinations(jets, 2, fields=[\"jet1\", \"jet2\"],axis=1) \n",
    "\n",
    "\n",
    "hist_jets = (\n",
    "    hda.Hist.new.Reg(250, 0, 300, name=\"jet mass\", label=\"Jet Invariant Mass [GeV]\") \n",
    "    .Double()\n",
    "    .fill(dak.flatten((jetpair.jet1 + jetpair.jet2).mass))\n",
    ")\n",
    "\n",
    "hist_jets.compute().plot1d(label='Jets')\n",
    "dak.necessary_columns(hist_jets)"
   ]
  },
  {
   "cell_type": "markdown",
   "id": "4f9a9c4e",
   "metadata": {},
   "source": [
    "Post-Jet Slicing:"
   ]
  },
  {
   "cell_type": "code",
   "execution_count": 89,
   "id": "9530e3ae",
   "metadata": {},
   "outputs": [],
   "source": [
    "jetdef = fastjet.JetDefinition(fastjet.kt_algorithm,1)\n",
    "cluster = fastjet.ClusterSequence(events.PandoraPFOs, jetdef).exclusive_jets(n_jets=2)\n",
    "\n",
    "mupair = dak.combinations(events.PandoraPFOs[abs(events.PandoraPFOs.pdgId) == 13], 2, fields=[\"mu1\", \"mu2\"])\n",
    "pairmass = (mupair.mu1 + mupair.mu2).mass\n",
    "muonsevent = dak.any(\n",
    "    (pairmass > 80)\n",
    "    & (pairmass < 100)\n",
    "    & (mupair.mu1.charge == -mupair.mu2.charge),\n",
    "    axis=1,\n",
    ")\n",
    "\n",
    "select_clst = cluster[muonsevent]\n",
    "\n",
    "jets = dak.zip(\n",
    "    {\n",
    "        'x': select_clst[\"px\"],\n",
    "        'y': select_clst[\"py\"],\n",
    "        'z': select_clst[\"pz\"],\n",
    "        't': select_clst[\"E\"],\n",
    "    },\n",
    "    with_name=\"LorentzVector\",\n",
    "    behavior=events.PandoraPFOs.behavior,\n",
    ")"
   ]
  },
  {
   "cell_type": "code",
   "execution_count": 90,
   "id": "20c70c71",
   "metadata": {},
   "outputs": [
    {
     "name": "stderr",
     "output_type": "stream",
     "text": [
      "UserWarning: dcut and exclusive jets for jet-finders other than kt, C/A or genkt with p>=0 should be interpreted with care.\n"
     ]
    },
    {
     "data": {
      "text/plain": [
       "{'from-uproot-c8373dc3d13bfd9ed187580b396f8534': ['PandoraPFOs.t',\n",
       "  'PandoraPFOs.charge',\n",
       "  'PandoraPFOs.pdgId',\n",
       "  'PandoraPFOs.x',\n",
       "  'PandoraPFOs.y',\n",
       "  'PandoraPFOs.z']}"
      ]
     },
     "execution_count": 90,
     "metadata": {},
     "output_type": "execute_result"
    },
    {
     "data": {
      "image/png": "[encoded data removed]",
      "text/plain": [
       "<Figure size 640x480 with 1 Axes>"
      ]
     },
     "metadata": {},
     "output_type": "display_data"
    }
   ],
   "source": [
    "jetpair = dak.combinations(jets, 2, fields=[\"jet1\", \"jet2\"],axis=1) \n",
    "\n",
    "\n",
    "hist_jets_POST = (\n",
    "    hda.Hist.new.Reg(250, 0, 300, name=\"jet mass\", label=\"Jet Invariant Mass [GeV]\") \n",
    "    .Double()\n",
    "    .fill(dak.flatten((jetpair.jet1 + jetpair.jet2).mass))\n",
    ")\n",
    "\n",
    "hist_jets_POST.compute().plot1d(label='Jets')\n",
    "dak.necessary_columns(hist_jets)"
   ]
  },
  {
   "cell_type": "code",
   "execution_count": 91,
   "id": "82310369",
   "metadata": {},
   "outputs": [],
   "source": [
    "# pfo_index = fastjet.ClusterSequence(events.PandoraPFOs[muonsevent], jetdef).exclusive_jets_constituent_index(njets=2)\n",
    "\n",
    "# # linked_gen = events.PandoraPFOs.matched_gen \n",
    "# # linked_pdg = linked_gen.pdgId[dak.flatten(pfo_index,axis=2)][muonsevent]\n",
    "\n",
    "# linked_gen = events.PandoraPFOs[muonsevent].matched_gen\n",
    "# linked_pdg = linked_gen.pdgId[dak.flatten(pfo_index,axis=2)]\n",
    "\n",
    "# linked_pdg.compute()"
   ]
  },
  {
   "cell_type": "markdown",
   "id": "2a9d263c",
   "metadata": {},
   "source": [
    "Trying to write to disk to get around masking problem. Going to try comparing a basic case to make sure numbers and stuff are working."
   ]
  },
  {
   "cell_type": "code",
   "execution_count": 92,
   "id": "1c39606f",
   "metadata": {},
   "outputs": [
    {
     "name": "stdout",
     "output_type": "stream",
     "text": [
      "CPU times: user 28.1 s, sys: 1.37 s, total: 29.5 s\n",
      "Wall time: 32.5 s\n"
     ]
    }
   ],
   "source": [
    "%%time\n",
    "xcom = events.PandoraPFOs[muonsevent].x.compute()\n",
    "ycom = events.PandoraPFOs[muonsevent].y.compute()\n",
    "zcom = events.PandoraPFOs[muonsevent].z.compute()\n",
    "Ecom = events.PandoraPFOs[muonsevent].energy.compute()"
   ]
  },
  {
   "cell_type": "code",
   "execution_count": 93,
   "id": "776054f0",
   "metadata": {},
   "outputs": [
    {
     "name": "stdout",
     "output_type": "stream",
     "text": [
      "CPU times: user 1min 17s, sys: 1.67 s, total: 1min 19s\n",
      "Wall time: 1min 31s\n"
     ]
    }
   ],
   "source": [
    "%%time\n",
    "x = []\n",
    "y = []\n",
    "z = []\n",
    "E = []\n",
    "\n",
    "for n in range(len(xcom)):\n",
    "    x.append(np.array(xcom[n]))\n",
    "    y.append(np.array(ycom[n]))\n",
    "    z.append(np.array(zcom[n]))\n",
    "    E.append(np.array(Ecom[n]))\n",
    "\n",
    "x = ak.Array(x)\n",
    "y = ak.Array(y)\n",
    "z = ak.Array(z)\n",
    "E = ak.Array(E)"
   ]
  },
  {
   "cell_type": "code",
   "execution_count": 94,
   "id": "9a296744",
   "metadata": {},
   "outputs": [],
   "source": [
    "select_pfos = ak.zip(\n",
    "    {\n",
    "        'px': x,\n",
    "        'py': y,\n",
    "        'pz': z,\n",
    "        'E': E,\n",
    "    },\n",
    "    with_name=\"LorentzVector\",\n",
    ")"
   ]
  },
  {
   "cell_type": "code",
   "execution_count": 95,
   "id": "651b0e0f",
   "metadata": {},
   "outputs": [],
   "source": [
    "pfo_index = fastjet.ClusterSequence(select_pfos, jetdef).exclusive_jets_constituent_index(njets=2)"
   ]
  },
  {
   "cell_type": "code",
   "execution_count": 96,
   "id": "0065b6d4",
   "metadata": {},
   "outputs": [],
   "source": [
    "linked_gen = events.PandoraPFOs.matched_gen\n",
    "linked_pdg = linked_gen.pdgId[muonsevent].compute()[ak.flatten(pfo_index,axis=2)]"
   ]
  },
  {
   "cell_type": "code",
   "execution_count": 97,
   "id": "f24c84f7",
   "metadata": {},
   "outputs": [],
   "source": [
    "select_clst = fastjet.ClusterSequence(select_pfos, jetdef).exclusive_jets(n_jets=2)\n",
    "\n",
    "\n",
    "jets = ak.zip(\n",
    "    {\n",
    "        'x': select_clst[\"px\"],\n",
    "        'y': select_clst[\"py\"],\n",
    "        'z': select_clst[\"pz\"],\n",
    "        't': select_clst[\"E\"],\n",
    "    },\n",
    "    with_name=\"LorentzVector\",\n",
    "    behavior=events.PandoraPFOs.behavior,\n",
    ")"
   ]
  },
  {
   "cell_type": "markdown",
   "id": "16059f43",
   "metadata": {},
   "source": [
    "#### Plot comparing different slicing stuff "
   ]
  },
  {
   "cell_type": "code",
   "execution_count": 98,
   "id": "1f3e1b7b",
   "metadata": {
    "scrolled": false
   },
   "outputs": [
    {
     "name": "stderr",
     "output_type": "stream",
     "text": [
      "UserWarning: dcut and exclusive jets for jet-finders other than kt, C/A or genkt with p>=0 should be interpreted with care.\n",
      "UserWarning: dcut and exclusive jets for jet-finders other than kt, C/A or genkt with p>=0 should be interpreted with care.\n"
     ]
    },
    {
     "data": {
      "text/plain": [
       "<matplotlib.legend.Legend at 0x7fc9358e4640>"
      ]
     },
     "execution_count": 98,
     "metadata": {},
     "output_type": "execute_result"
    },
    {
     "data": {
      "image/png": "[encoded data removed]",
      "text/plain": [
       "<Figure size 640x480 with 1 Axes>"
      ]
     },
     "metadata": {},
     "output_type": "display_data"
    }
   ],
   "source": [
    "jetpair = ak.combinations(jets, 2, fields=[\"jet1\", \"jet2\"],axis=1) \n",
    "\n",
    "nbins = 250\n",
    "mini = 0 \n",
    "maxi = 300\n",
    "\n",
    "plt.close(1);plt.figure(1)\n",
    "plt.hist(ak.flatten((jetpair.jet1 + jetpair.jet2).mass),\n",
    "         bins=nbins,\n",
    "         range=(mini,maxi),\n",
    "         histtype='step',\n",
    "         linewidth=1.5,\n",
    "         label='Pre-Jet Slicing, Using Forced Copy')\n",
    "\n",
    "# hist_jets = (\n",
    "#     hda.Hist.new.Reg(250, 0, 300, name=\"jet mass\", label=\"Jet Invariant Mass [GeV]\") \n",
    "#     .Double()\n",
    "#     .fill(dak.flatten((jetpair.jet1 + jetpair.jet2).mass))\n",
    "# )\n",
    "\n",
    "hist_jets.compute().plot1d(label='Pre-Jet Slicing, With Masking')\n",
    "dak.necessary_columns(hist_jets)\n",
    "\n",
    "hist_jets_POST.compute().plot1d(label='Post-Jet Slicing')\n",
    "dak.necessary_columns(hist_jets)\n",
    "\n",
    "plt.legend()"
   ]
  },
  {
   "cell_type": "markdown",
   "id": "61228b10",
   "metadata": {},
   "source": [
    "## Trying this technique for inner-event slicing\n",
    "events with a z boson decaying to mu mu with the two mus removed"
   ]
  },
  {
   "cell_type": "code",
   "execution_count": 5,
   "id": "a807ef69",
   "metadata": {},
   "outputs": [],
   "source": [
    "mupair = dak.combinations(events.PandoraPFOs[abs(events.PandoraPFOs.pdgId) == 13], 2, fields=[\"mu1\", \"mu2\"])\n",
    "pairmass = (mupair.mu1 + mupair.mu2).mass\n",
    "muonsevent = dak.any(\n",
    "    (pairmass > 80)\n",
    "    & (pairmass < 100)\n",
    "    & (mupair.mu1.charge == -mupair.mu2.charge),\n",
    "    axis=1,\n",
    ")\n",
    "\n",
    "jetdef = fastjet.JetDefinition(fastjet.kt_algorithm,1)\n",
    "\n",
    "pfopair = dak.argcombinations(events.PandoraPFOs, 2, fields=[\"p1\", \"p2\"])\n",
    "\n",
    "invmass = (events.PandoraPFOs[pfopair.p1][(abs(events.PandoraPFOs[pfopair.p1].pdgId) == 13) & (abs(events.PandoraPFOs[pfopair.p2].pdgId) == 13)] + events.PandoraPFOs[pfopair.p2][(abs(events.PandoraPFOs[pfopair.p1].pdgId) == 13) & (abs(events.PandoraPFOs[pfopair.p2].pdgId) == 13)]).mass\n",
    "\n",
    "inds = dak.singletons(dak.argmin(abs(invmass - 91.2), axis=1))\n",
    "\n",
    "\n",
    "mu1ind = pfopair.p1[(abs(events.PandoraPFOs[pfopair.p1].pdgId) == 13) & (abs(events.PandoraPFOs[pfopair.p2].pdgId) == 13)][inds]\n",
    "mu2ind = pfopair.p2[(abs(events.PandoraPFOs[pfopair.p1].pdgId) == 13) & (abs(events.PandoraPFOs[pfopair.p2].pdgId) == 13)][inds]"
   ]
  },
  {
   "cell_type": "code",
   "execution_count": 6,
   "id": "0910293c",
   "metadata": {},
   "outputs": [],
   "source": [
    "m1 = mu1ind[muonsevent].compute()\n",
    "m2 = mu2ind[muonsevent].compute()\n",
    "\n",
    "p = events.PandoraPFOs[muonsevent].compute()"
   ]
  },
  {
   "cell_type": "code",
   "execution_count": 7,
   "id": "bc4f6352",
   "metadata": {},
   "outputs": [
    {
     "name": "stdout",
     "output_type": "stream",
     "text": [
      "CPU times: user 3min 35s, sys: 4.53 s, total: 3min 39s\n",
      "Wall time: 18min 42s\n"
     ]
    }
   ],
   "source": [
    "%%time\n",
    "x = []\n",
    "y = []\n",
    "z = []\n",
    "E = []\n",
    "\n",
    "total_mask = []\n",
    "\n",
    "local_inds = ak.local_index(p)\n",
    "\n",
    "for n in range(len(p)):\n",
    "    mask = (local_inds[n] != m1[n]) & (local_inds[n] != m2[n])\n",
    "    total_mask.append(mask)\n",
    "    \n",
    "    x.append(np.array(p.x[n][mask]))\n",
    "    y.append(np.array(p.y[n][mask]))\n",
    "    z.append(np.array(p.z[n][mask]))\n",
    "    E.append(np.array(p.E[n][mask]))\n",
    "\n",
    "x = ak.Array(x)\n",
    "y = ak.Array(y)\n",
    "z = ak.Array(z)\n",
    "E = ak.Array(E)\n",
    "\n",
    "total_mask = ak.Array(total_mask)\n",
    "\n",
    "# time 2min 50s"
   ]
  },
  {
   "cell_type": "code",
   "execution_count": 8,
   "id": "62511ced",
   "metadata": {},
   "outputs": [],
   "source": [
    "select_pfos = ak.zip(\n",
    "    {\n",
    "        'px': x,\n",
    "        'py': y,\n",
    "        'pz': z,\n",
    "        'E': E,\n",
    "    },\n",
    "    with_name=\"LorentzVector\",\n",
    ")"
   ]
  },
  {
   "cell_type": "code",
   "execution_count": 9,
   "id": "8d5326b7",
   "metadata": {},
   "outputs": [
    {
     "name": "stderr",
     "output_type": "stream",
     "text": [
      "UserWarning: dcut and exclusive jets for jet-finders other than kt, C/A or genkt with p>=0 should be interpreted with care.\n"
     ]
    },
    {
     "name": "stdout",
     "output_type": "stream",
     "text": [
      "#--------------------------------------------------------------------------\n",
      "#                         FastJet release 3.4.1\n",
      "#                 M. Cacciari, G.P. Salam and G. Soyez                  \n",
      "#     A software package for jet finding and analysis at colliders      \n",
      "#                           http://fastjet.fr                           \n",
      "#\t                                                                      \n",
      "# Please cite EPJC72(2012)1896 [arXiv:1111.6097] if you use this package\n",
      "# for scientific work and optionally PLB641(2006)57 [hep-ph/0512210].   \n",
      "#                                                                       \n",
      "# FastJet is provided without warranty under the GNU GPL v2 or higher.  \n",
      "# It uses T. Chan's closest pair algorithm, S. Fortune's Voronoi code,\n",
      "# CGAL and 3rd party plugin jet algorithms. See COPYING file for details.\n",
      "#--------------------------------------------------------------------------\n"
     ]
    }
   ],
   "source": [
    "select_clst = fastjet.ClusterSequence(select_pfos, jetdef).exclusive_jets(n_jets=2)\n",
    "\n",
    "\n",
    "jets = ak.zip(\n",
    "    {\n",
    "        'x': select_clst[\"px\"],\n",
    "        'y': select_clst[\"py\"],\n",
    "        'z': select_clst[\"pz\"],\n",
    "        't': select_clst[\"E\"],\n",
    "    },\n",
    "    with_name=\"LorentzVector\",\n",
    "    behavior=events.PandoraPFOs.behavior,\n",
    ")"
   ]
  },
  {
   "cell_type": "code",
   "execution_count": 10,
   "id": "5707af97",
   "metadata": {},
   "outputs": [
    {
     "data": {
      "text/plain": [
       "<matplotlib.legend.Legend at 0x7f9c10247eb0>"
      ]
     },
     "execution_count": 10,
     "metadata": {},
     "output_type": "execute_result"
    },
    {
     "data": {
      "image/png": "[encoded data removed]",
      "text/plain": [
       "<Figure size 640x480 with 1 Axes>"
      ]
     },
     "metadata": {},
     "output_type": "display_data"
    }
   ],
   "source": [
    "jetpair = ak.combinations(jets, 2, fields=[\"jet1\", \"jet2\"],axis=1) # all jet pairs\n",
    "\n",
    "nbins = 250\n",
    "mini = 0 \n",
    "maxi = 300\n",
    "\n",
    "plt.close(1);plt.figure(1)\n",
    "plt.hist(ak.flatten((jetpair.jet1 + jetpair.jet2).mass),\n",
    "         bins=nbins,\n",
    "         range=(mini,maxi),\n",
    "         histtype='step',\n",
    "         linewidth=1.5,\n",
    "         label='Pre-Jet Slicing, Forced Copy')\n",
    "\n",
    "\n",
    "# hist_clusters_2 = (\n",
    "#     hda.Hist.new.Reg(250, 0, 300, name=\"energy\", label=\"Jet Invariant Mass [GeV]\") \n",
    "#     .Double()\n",
    "#     .fill(dak.flatten((jetpair.jet1 + jetpair.jet2).mass))\n",
    "# )\n",
    "\n",
    "# hist_clusters_2.compute().plot1d(label='Pre-Jet Slicing, Masking')\n",
    "# dak.necessary_columns(hist_clusters_2)\n",
    "\n",
    "plt.legend()"
   ]
  },
  {
   "cell_type": "code",
   "execution_count": 11,
   "id": "f77d590c",
   "metadata": {},
   "outputs": [],
   "source": [
    "pfo_index = fastjet.ClusterSequence(select_pfos, jetdef).exclusive_jets_constituent_index(njets=2)"
   ]
  },
  {
   "cell_type": "code",
   "execution_count": 12,
   "id": "99e5c3c2",
   "metadata": {},
   "outputs": [],
   "source": [
    "linked_gen = events.PandoraPFOs.matched_gen\n",
    "linked_pdg = linked_gen.pdgId[muonsevent].compute()[total_mask][ak.flatten(pfo_index,axis=2)]"
   ]
  },
  {
   "cell_type": "markdown",
   "id": "3f3295ca",
   "metadata": {},
   "source": [
    "## Comparing Jets to True Higgs"
   ]
  },
  {
   "cell_type": "code",
   "execution_count": 3,
   "id": "6c357cf8",
   "metadata": {},
   "outputs": [],
   "source": [
    "file = [uproot.open(\"../../coffea_dev/root_files_may18/rv02-02.sv02-02.mILD_l5_o1_v02.E250-SetA.I402004.Pe2e2h.eR.pL.n000.d_dstm_15090_0.slcio.edm4hep.root\"),\n",
    "        uproot.open(\"../../coffea_dev/root_files_may18/rv02-02.sv02-02.mILD_l5_o1_v02.E250-SetA.I402004.Pe2e2h.eR.pL.n000.d_dstm_15090_1.slcio.edm4hep.root\"),\n",
    "        uproot.open(\"../../coffea_dev/root_files_may18/rv02-02.sv02-02.mILD_l5_o1_v02.E250-SetA.I402004.Pe2e2h.eR.pL.n000.d_dstm_15090_2.slcio.edm4hep.root\")]\n",
    "\n",
    "evs = [file[n]['events'] for n in range(3)]\n",
    "\n",
    "uproot_parinds_lst = [(evs[n][f'MCParticlesSkimmed#{0}/MCParticlesSkimmed#{0}.index']).array() for n in range(2,-1,-1)]\n",
    "uproot_parinds = ak.concatenate(uproot_parinds_lst,axis=0)\n",
    "\n",
    "uproot_daughinds_lst = [(evs[n][f'MCParticlesSkimmed#{1}/MCParticlesSkimmed#{1}.index']).array() for n in range(2,-1,-1)]\n",
    "uproot_daughinds = ak.concatenate(uproot_daughinds_lst,axis=0)\n",
    "\n",
    "uproot_mcstatus_lst = [(evs[n][f'MCParticlesSkimmed/MCParticlesSkimmed.generatorStatus']).array() for n in range(2,-1,-1)]\n",
    "uproot_mcstatus = ak.concatenate(uproot_mcstatus_lst,axis=0)\n"
   ]
  },
  {
   "cell_type": "code",
   "execution_count": 4,
   "id": "ed8d6ef2",
   "metadata": {},
   "outputs": [],
   "source": [
    "def daughter_tree(event,start_ind):\n",
    "    '''\n",
    "    returns list of all daughters \n",
    "    '''\n",
    "    curr_ind = ak.Array([-1])\n",
    "    daugh_ind = ak.Array([start_ind])\n",
    "\n",
    "    ind_lst = []\n",
    "\n",
    "    flag = True\n",
    "\n",
    "    while flag:\n",
    "        curr_ind = daugh_ind\n",
    "\n",
    "        daugh_ind = np.unique(ak.flatten(daugh_inds[event][curr_ind],axis=-1))\n",
    "\n",
    "        ind_lst.append(list(curr_ind))\n",
    "\n",
    "        if len(daugh_ind) == 0:\n",
    "            flag = False \n",
    "\n",
    "    return ind_lst"
   ]
  },
  {
   "cell_type": "code",
   "execution_count": 5,
   "id": "466dfe4e",
   "metadata": {},
   "outputs": [],
   "source": [
    "pshape = (events.MCParticlesSkimmed.parents_end - events.MCParticlesSkimmed.parents_begin).compute()\n",
    "par_inds = ak.unflatten(uproot_parinds,ak.flatten(pshape),axis=1)\n",
    "\n",
    "dshape = (events.MCParticlesSkimmed.daughters_end - events.MCParticlesSkimmed.daughters_begin).compute()\n",
    "daugh_inds = ak.unflatten(uproot_daughinds,ak.flatten(dshape),axis=1)"
   ]
  },
  {
   "cell_type": "code",
   "execution_count": 6,
   "id": "10685899",
   "metadata": {},
   "outputs": [],
   "source": [
    "pdgids = events.MCParticlesSkimmed.pdgId.compute()"
   ]
  },
  {
   "cell_type": "code",
   "execution_count": 7,
   "id": "976d2d05",
   "metadata": {
    "scrolled": false
   },
   "outputs": [
    {
     "name": "stdout",
     "output_type": "stream",
     "text": [
      "0\n",
      "1000\n",
      "2000\n",
      "3000\n",
      "4000\n",
      "5000\n",
      "6000\n",
      "7000\n",
      "8000\n",
      "9000\n",
      "10000\n",
      "11000\n",
      "12000\n",
      "13000\n",
      "14000\n",
      "15000\n",
      "16000\n",
      "17000\n",
      "18000\n",
      "19000\n",
      "20000\n",
      "21000\n",
      "22000\n",
      "23000\n",
      "24000\n",
      "25000\n",
      "26000\n",
      "27000\n",
      "28000\n",
      "CPU times: user 10min 19s, sys: 10.7 s, total: 10min 29s\n",
      "Wall time: 32min 16s\n"
     ]
    }
   ],
   "source": [
    "%%time\n",
    "higgs_daughter_tree = []\n",
    "\n",
    "for event in range(len(pdgids)):\n",
    "    start_ind = ak.local_index(pdgids[event])[pdgids[event] == 25][0]\n",
    "    \n",
    "    higgs_daughter_tree.append(daughter_tree(event,start_ind))\n",
    "    \n",
    "    if event % 1000 == 0:\n",
    "        print(event)\n",
    "\n",
    "higgs_daughter_tree_arr = ak.Array(higgs_daughter_tree)\n",
    "\n",
    "higgs_children = ak.flatten(higgs_daughter_tree_arr,axis=2)"
   ]
  },
  {
   "cell_type": "code",
   "execution_count": 8,
   "id": "a8a11585",
   "metadata": {},
   "outputs": [],
   "source": [
    "arr_reco = events.RecoMCTruthLink.reco_index.compute()\n",
    "arr_mc = events.RecoMCTruthLink.mc_index.compute()\n",
    "sort_reco = arr_reco[ak.argsort(arr_reco)]\n",
    "sort_mc = arr_mc[ak.argsort(arr_reco)]\n",
    "\n",
    "\n",
    "proper_indices = ak.unflatten(sort_mc,ak.flatten(ak.run_lengths(sort_reco),axis=1),axis=1)"
   ]
  },
  {
   "cell_type": "markdown",
   "id": "f1105966",
   "metadata": {},
   "source": [
    "#### Plots to make:\n",
    "- number of missing/extra particles (I think I can just look at lengths)\n",
    "- % of jet momentum coming from extra particles"
   ]
  },
  {
   "cell_type": "code",
   "execution_count": 19,
   "id": "aecdd25f",
   "metadata": {},
   "outputs": [],
   "source": [
    "jet_mcindices = proper_indices[muonsevent.compute()][total_mask][ak.flatten(pfo_index,axis=2)]\n",
    "\n",
    "# this just gets all the unique indices of mc inds\n",
    "unique_jet_inds = ak.firsts(ak.unflatten(ak.sort(ak.flatten(jet_mcindices,axis=2)),ak.flatten(ak.run_lengths(ak.sort(ak.flatten(jet_mcindices,axis=2)))),axis=1),axis=2)\n",
    "\n",
    "first_jet_inds = ak.firsts(jet_mcindices,axis=2)\n",
    "\n",
    "all_jet_inds = ak.flatten(jet_mcindices,axis=2)\n"
   ]
  },
  {
   "cell_type": "code",
   "execution_count": 20,
   "id": "89e1f6db",
   "metadata": {},
   "outputs": [
    {
     "name": "stdout",
     "output_type": "stream",
     "text": [
      "CPU times: user 39.1 s, sys: 963 ms, total: 40 s\n",
      "Wall time: 48.2 s\n"
     ]
    }
   ],
   "source": [
    "%%time\n",
    "jet_con_in_higgs = []\n",
    "\n",
    "for n in range(len(unique_jet_inds)):\n",
    "    jet_con_in_higgs.append(np.isin(unique_jet_inds[n],higgs_children[n]))\n",
    "\n",
    "jet_con_in_higgs = ak.Array(jet_con_in_higgs)"
   ]
  },
  {
   "cell_type": "code",
   "execution_count": 21,
   "id": "d98d6961",
   "metadata": {},
   "outputs": [
    {
     "name": "stdout",
     "output_type": "stream",
     "text": [
      "CPU times: user 35.7 s, sys: 1.15 s, total: 36.8 s\n",
      "Wall time: 42.5 s\n"
     ]
    }
   ],
   "source": [
    "%%time\n",
    "jet_con_in_higgs = []\n",
    "\n",
    "for n in range(len(unique_jet_inds)):\n",
    "    jet_con_in_higgs.append(np.isin(first_jet_inds[n],higgs_children[n]))\n",
    "\n",
    "jet_con_in_higgs = ak.Array(jet_con_in_higgs)"
   ]
  },
  {
   "cell_type": "code",
   "execution_count": 26,
   "id": "05e229c2",
   "metadata": {},
   "outputs": [
    {
     "name": "stdout",
     "output_type": "stream",
     "text": [
      "CPU times: user 58.5 s, sys: 1.92 s, total: 1min\n",
      "Wall time: 1min 13s\n"
     ]
    }
   ],
   "source": [
    "%%time\n",
    "jet_con_in_higgs = []\n",
    "mus = muonsevent.compute()\n",
    "\n",
    "for n in range(len(unique_jet_inds)):\n",
    "    jet_con_in_higgs.append(np.isin(all_jet_inds[n],higgs_children[mus][n]))\n",
    "\n",
    "jet_con_in_higgs = ak.Array(jet_con_in_higgs)\n",
    "\n",
    "jet_con_in_higgs = ak.any(ak.unflatten(jet_con_in_higgs,ak.flatten(ak.num(jet_mcindices,axis=2)),axis=1),axis=2)"
   ]
  },
  {
   "cell_type": "markdown",
   "id": "fd1da6cc",
   "metadata": {},
   "source": [
    "**how are you comparing?**"
   ]
  },
  {
   "cell_type": "code",
   "execution_count": null,
   "id": "c0ae59d5",
   "metadata": {},
   "outputs": [],
   "source": [
    "def jet_in_higgs(weight_thres=0.5,):\n",
    "    '''\n",
    "    make a function to compare in different ways, possibly using a weight threshold, \n",
    "    or choosing the particle with the closest momentum\n",
    "    '''\n",
    "    "
   ]
  },
  {
   "cell_type": "code",
   "execution_count": 27,
   "id": "73182427",
   "metadata": {},
   "outputs": [
    {
     "data": {
      "text/plain": [
       "Text(0.5, 0, 'number of extra particles in jets divided by number of particles in jets')"
      ]
     },
     "execution_count": 27,
     "metadata": {},
     "output_type": "execute_result"
    },
    {
     "data": {
      "image/png": "[encoded data removed]",
      "text/plain": [
       "<Figure size 640x480 with 1 Axes>"
      ]
     },
     "metadata": {},
     "output_type": "display_data"
    }
   ],
   "source": [
    "ifig=1;plt.close(ifig);plt.figure(ifig)\n",
    "\n",
    "nbins = 250\n",
    "mini = 0 \n",
    "maxi = 300\n",
    "\n",
    "num = plt.hist((ak.num(jet_con_in_higgs)-ak.num(ak.local_index(jet_con_in_higgs)[jet_con_in_higgs]))/ak.num(jet_con_in_higgs),\n",
    "         bins=nbins,\n",
    "#          density=True\n",
    "        )\n",
    "\n",
    "plt.xlabel('number of extra particles in jets divided by number of particles in jets')"
   ]
  },
  {
   "cell_type": "code",
   "execution_count": 28,
   "id": "69d8c8f4",
   "metadata": {},
   "outputs": [
    {
     "data": {
      "text/plain": [
       "0.0010090410074265418"
      ]
     },
     "execution_count": 28,
     "metadata": {},
     "output_type": "execute_result"
    }
   ],
   "source": [
    "num[0][-1]/np.sum(num[0])"
   ]
  },
  {
   "cell_type": "code",
   "execution_count": 29,
   "id": "fd2301f7",
   "metadata": {},
   "outputs": [
    {
     "data": {
      "text/plain": [
       "Text(0.5, 0, 'momentum of extra particles [GeV]')"
      ]
     },
     "execution_count": 29,
     "metadata": {},
     "output_type": "execute_result"
    },
    {
     "data": {
      "image/png": "[encoded data removed]",
      "text/plain": [
       "<Figure size 640x480 with 1 Axes>"
      ]
     },
     "metadata": {},
     "output_type": "display_data"
    }
   ],
   "source": [
    "ifig=2;plt.close(ifig);plt.figure(ifig)\n",
    "\n",
    "nbins = 250\n",
    "mini = 0 \n",
    "maxi = 300\n",
    "\n",
    "plt.hist(ak.flatten(events.PandoraPFOs[muonsevent].p.compute()[total_mask][ak.flatten(pfo_index,axis=2)][jet_con_in_higgs != True]),\n",
    "         bins=nbins,\n",
    "        )\n",
    "\n",
    "\n",
    "plt.xlabel('momentum of extra particles [GeV]')"
   ]
  },
  {
   "cell_type": "markdown",
   "id": "43f76424",
   "metadata": {},
   "source": [
    "### Source for branching ratios\n",
    "https://twiki.cern.ch/twiki/bin/view/LHCPhysics/CERNYellowReportPageBR \\\n",
    "https://pdg.lbl.gov/2018/listings/rpp2018-list-z-boson.pdf"
   ]
  },
  {
   "cell_type": "markdown",
   "id": "3e95e77e",
   "metadata": {},
   "source": [
    "## Higgs -> bb exclusively\n"
   ]
  },
  {
   "cell_type": "markdown",
   "id": "02fed64b",
   "metadata": {},
   "source": [
    "Need to check if in events with bb, they definitely come from higgs. I'll just make a better mask at the top here later."
   ]
  },
  {
   "cell_type": "code",
   "execution_count": 9,
   "id": "45a583b4",
   "metadata": {},
   "outputs": [],
   "source": [
    "mcpdgids = events.MCParticlesSkimmed.pdgId.compute()"
   ]
  },
  {
   "cell_type": "code",
   "execution_count": 10,
   "id": "9f076a48",
   "metadata": {},
   "outputs": [],
   "source": [
    "pfos = events.PandoraPFOs.compute()"
   ]
  },
  {
   "cell_type": "code",
   "execution_count": 11,
   "id": "1799b7d5",
   "metadata": {},
   "outputs": [],
   "source": [
    "hdecaymask = ak.flatten(higgs_daughter_tree_arr[ak.local_index(ak.num(higgs_daughter_tree_arr,axis=2)) == 1],axis=1)\n",
    "\n",
    "bmask = ak.all((mcpdgids[hdecaymask] == 5) | (mcpdgids[hdecaymask] == -5),axis=1)"
   ]
  },
  {
   "cell_type": "code",
   "execution_count": 12,
   "id": "cabb30f2",
   "metadata": {},
   "outputs": [],
   "source": [
    "allbmask = ak.fill_none(ak.firsts(ak.local_index(mcpdgids)[mcpdgids == 5]) != None,False)\n",
    "\n",
    "bpfos = pfos[bmask]"
   ]
  },
  {
   "cell_type": "code",
   "execution_count": 13,
   "id": "818c51b6",
   "metadata": {},
   "outputs": [],
   "source": [
    "mupair = ak.combinations(bpfos[abs(bpfos.pdgId) == 13], 2, fields=[\"mu1\", \"mu2\"])\n",
    "pairmass = (mupair.mu1 + mupair.mu2).mass\n",
    "muonsevent = ak.any(\n",
    "    (pairmass > 80)\n",
    "    & (pairmass < 100)\n",
    "    & (mupair.mu1.charge == -mupair.mu2.charge),\n",
    "    axis=1,\n",
    ")\n",
    "\n",
    "jetdef = fastjet.JetDefinition(fastjet.kt_algorithm,1)\n",
    "\n",
    "pfopair = ak.argcombinations(bpfos, 2, fields=[\"p1\", \"p2\"])\n",
    "\n",
    "invmass = (bpfos[pfopair.p1][(abs(bpfos[pfopair.p1].pdgId) == 13) & (abs(bpfos[pfopair.p2].pdgId) == 13)] + bpfos[pfopair.p2][(abs(bpfos[pfopair.p1].pdgId) == 13) & (abs(bpfos[pfopair.p2].pdgId) == 13)]).mass\n",
    "\n",
    "inds = ak.singletons(ak.argmin(abs(invmass - 91.2), axis=1))\n",
    "\n",
    "# this could be a lot cleaner\n",
    "mu1ind = pfopair.p1[(abs(bpfos[pfopair.p1].pdgId) == 13) & (abs(bpfos[pfopair.p2].pdgId) == 13)][inds]\n",
    "mu2ind = pfopair.p2[(abs(bpfos[pfopair.p1].pdgId) == 13) & (abs(bpfos[pfopair.p2].pdgId) == 13)][inds]"
   ]
  },
  {
   "cell_type": "code",
   "execution_count": 14,
   "id": "68dbf0af",
   "metadata": {},
   "outputs": [],
   "source": [
    "m1 = mu1ind[muonsevent]\n",
    "m2 = mu2ind[muonsevent]\n",
    "\n",
    "p = bpfos[muonsevent]"
   ]
  },
  {
   "cell_type": "code",
   "execution_count": 15,
   "id": "a4cf6bf4",
   "metadata": {},
   "outputs": [
    {
     "name": "stdout",
     "output_type": "stream",
     "text": [
      "CPU times: user 1min 48s, sys: 1.17 s, total: 1min 50s\n",
      "Wall time: 1min 54s\n"
     ]
    }
   ],
   "source": [
    "%%time\n",
    "x = []\n",
    "y = []\n",
    "z = []\n",
    "E = []\n",
    "\n",
    "total_mask = []\n",
    "\n",
    "local_inds = ak.local_index(p)\n",
    "\n",
    "for n in range(len(p)):\n",
    "    mask = (local_inds[n] != m1[n]) & (local_inds[n] != m2[n])\n",
    "    total_mask.append(mask)\n",
    "    \n",
    "    x.append(np.array(p.x[n][mask]))\n",
    "    y.append(np.array(p.y[n][mask]))\n",
    "    z.append(np.array(p.z[n][mask]))\n",
    "    E.append(np.array(p.E[n][mask]))\n",
    "\n",
    "x = ak.Array(x)\n",
    "y = ak.Array(y)\n",
    "z = ak.Array(z)\n",
    "E = ak.Array(E)\n",
    "\n",
    "total_mask = ak.Array(total_mask)\n",
    "\n",
    "# time 2min 50s"
   ]
  },
  {
   "cell_type": "code",
   "execution_count": 16,
   "id": "ee113c7a",
   "metadata": {},
   "outputs": [],
   "source": [
    "select_pfos = ak.zip(\n",
    "    {\n",
    "        'px': x,\n",
    "        'py': y,\n",
    "        'pz': z,\n",
    "        'E': E,\n",
    "    },\n",
    "    with_name=\"LorentzVector\",\n",
    ")"
   ]
  },
  {
   "cell_type": "code",
   "execution_count": 17,
   "id": "f2be4907",
   "metadata": {},
   "outputs": [
    {
     "name": "stdout",
     "output_type": "stream",
     "text": [
      "#--------------------------------------------------------------------------\n",
      "#                         FastJet release 3.4.1\n",
      "#                 M. Cacciari, G.P. Salam and G. Soyez                  \n",
      "#     A software package for jet finding and analysis at colliders      \n",
      "#                           http://fastjet.fr                           \n",
      "#\t                                                                      \n",
      "# Please cite EPJC72(2012)1896 [arXiv:1111.6097] if you use this package\n",
      "# for scientific work and optionally PLB641(2006)57 [hep-ph/0512210].   \n",
      "#                                                                       \n",
      "# FastJet is provided without warranty under the GNU GPL v2 or higher.  \n",
      "# It uses T. Chan's closest pair algorithm, S. Fortune's Voronoi code,\n",
      "# CGAL and 3rd party plugin jet algorithms. See COPYING file for details.\n",
      "#--------------------------------------------------------------------------\n"
     ]
    },
    {
     "name": "stderr",
     "output_type": "stream",
     "text": [
      "UserWarning: dcut and exclusive jets for jet-finders other than kt, C/A or genkt with p>=0 should be interpreted with care.\n"
     ]
    }
   ],
   "source": [
    "select_clst = fastjet.ClusterSequence(select_pfos, jetdef).exclusive_jets(n_jets=2)\n",
    "\n",
    "\n",
    "jets = ak.zip(\n",
    "    {\n",
    "        'x': select_clst[\"px\"],\n",
    "        'y': select_clst[\"py\"],\n",
    "        'z': select_clst[\"pz\"],\n",
    "        't': select_clst[\"E\"],\n",
    "    },\n",
    "    with_name=\"LorentzVector\",\n",
    "    behavior=events.PandoraPFOs.behavior,\n",
    ")"
   ]
  },
  {
   "cell_type": "code",
   "execution_count": 18,
   "id": "cea987dc",
   "metadata": {},
   "outputs": [
    {
     "data": {
      "text/plain": [
       "<matplotlib.legend.Legend at 0x7f86d76ed120>"
      ]
     },
     "execution_count": 18,
     "metadata": {},
     "output_type": "execute_result"
    },
    {
     "data": {
      "image/png": "[encoded data removed]",
      "text/plain": [
       "<Figure size 640x480 with 1 Axes>"
      ]
     },
     "metadata": {},
     "output_type": "display_data"
    }
   ],
   "source": [
    "jetpair = ak.combinations(jets, 2, fields=[\"jet1\", \"jet2\"],axis=1) # all jet pairs\n",
    "\n",
    "nbins = 250\n",
    "mini = 0 \n",
    "maxi = 300\n",
    "\n",
    "plt.close(1);plt.figure(1)\n",
    "plt.hist(ak.flatten((jetpair.jet1 + jetpair.jet2).mass),\n",
    "         bins=nbins,\n",
    "         range=(mini,maxi),\n",
    "         histtype='step',\n",
    "         linewidth=1.5,\n",
    "         label='Pre-Jet Slicing, Forced Copy')\n",
    "\n",
    "\n",
    "# hist_clusters_2 = (\n",
    "#     hda.Hist.new.Reg(250, 0, 300, name=\"energy\", label=\"Jet Invariant Mass [GeV]\") \n",
    "#     .Double()\n",
    "#     .fill(dak.flatten((jetpair.jet1 + jetpair.jet2).mass))\n",
    "# )\n",
    "\n",
    "# hist_clusters_2.compute().plot1d(label='Pre-Jet Slicing, Masking')\n",
    "# dak.necessary_columns(hist_clusters_2)\n",
    "\n",
    "plt.legend()"
   ]
  },
  {
   "cell_type": "code",
   "execution_count": 19,
   "id": "6354b57a",
   "metadata": {},
   "outputs": [],
   "source": [
    "pfo_index = fastjet.ClusterSequence(select_pfos, jetdef).exclusive_jets_constituent_index(njets=2)"
   ]
  },
  {
   "cell_type": "markdown",
   "id": "d4b593de",
   "metadata": {},
   "source": [
    "Function that gives the option of how you would like jet constituents to be counted"
   ]
  },
  {
   "cell_type": "code",
   "execution_count": 105,
   "id": "d641471c",
   "metadata": {},
   "outputs": [],
   "source": [
    "jet_mcindices = proper_indices[bmask][muonsevent][total_mask][ak.flatten(pfo_index,axis=2)]\n",
    "\n",
    "def jet_truehiggs(reco_particles,mc_particles,true_higgs,reco_mc_index,jet_constits_index,condition='pR'):\n",
    "    '''\n",
    "    compares jet constituents to true higgs products \n",
    "    \n",
    "    Parameters:\n",
    "    ----------\n",
    "    reco_particles :: array\n",
    "        array with all the reco particles\n",
    "    \n",
    "    mc_particles :: array\n",
    "        array with all the mc particles\n",
    "    \n",
    "    true_higgs :: array \n",
    "        array containing the mc indices of all the children of the higgs in each event \n",
    "    \n",
    "    reco_mc_index :: array \n",
    "        array containing a list of mc indices for each reco index\n",
    "    \n",
    "    jet_constits_index :: array \n",
    "        indices of the pfos contained in the jets in the reco particle array\n",
    "    \n",
    "    condition :: str (optional)\n",
    "        'pR' - the link with the closest momentum match is from the true higgs, to within 50% of the reco momentum \n",
    "               or 5 GeV, otherwise the closest \\Delta R between the two closest momentum matches\n",
    "        'p' - the link with the closest momentum match is from the true higgs\n",
    "        'any' - any of one of the links from reco particles to mc particles is from the true higgs \n",
    "        'all' - all of the links from reco particles to mc particles is from the true higgs \n",
    "        \n",
    "    Returns:\n",
    "    -------\n",
    "    \n",
    "    '''\n",
    "    # throw error if any of the things are not the right lengths\n",
    "    if not (len(reco_particles) == len(mc_particles) and len(mc_particles) == len(true_higgs) and len(true_higgs) == len(reco_mc_index) and len(reco_mc_index) == len(jet_constits_index)):\n",
    "        raise ValueError('first 5 arrays must have the same number of events')\n",
    "    \n",
    "    jet_mcindices = reco_mc_index[jet_constits_index]\n",
    "    jet_con_in_higgs = []\n",
    "    \n",
    "    if condition == 'pR':\n",
    "        # complete (right now this is the same as 'p')\n",
    "        matched_gen = ak.unflatten(mc_particles[ak.flatten(reco_mc_index,axis=2)],ak.flatten(ak.num(reco_mc_index,axis=2)),axis=1)\n",
    "        \n",
    "        mc_reco_cartesian = ak.argcartesian({'mc':matched_gen.p,'reco':ak.singletons(reco_particles.p,axis=1)},axis=2)\n",
    "        mc_p_argmin = ak.singletons(ak.argmin(abs(matched_gen.p[mc_reco_cartesian['mc']] - ak.singletons(reco_particles.p,axis=1)[mc_reco_cartesian['reco']]),axis=2),axis=1)\n",
    "        \n",
    "        all_jet_inds = ak.flatten(reco_mc_index[mc_p_argmin],axis=2)[jet_constits_index]\n",
    "        \n",
    "        for n in range(len(all_jet_inds)):\n",
    "            jet_con_in_higgs.append(np.isin(all_jet_inds[n],true_higgs[n]))\n",
    "\n",
    "        jet_con_in_higgs = ak.Array(jet_con_in_higgs)\n",
    "        \n",
    "    elif condition == 'any' or condition == 'all':\n",
    "        all_jet_inds = ak.flatten(jet_mcindices,axis=2)\n",
    "        \n",
    "        jet_con_in_higgs = []\n",
    "\n",
    "        for n in range(len(all_jet_inds)):\n",
    "            jet_con_in_higgs.append(np.isin(all_jet_inds[n],true_higgs[n]))\n",
    "\n",
    "        jet_con_in_higgs = ak.Array(jet_con_in_higgs)\n",
    "        \n",
    "        if condition == 'any':\n",
    "            jet_con_in_higgs = ak.any(ak.unflatten(jet_con_in_higgs,ak.flatten(ak.num(jet_mcindices,axis=2)),axis=1),axis=2)\n",
    "        else:\n",
    "            jet_con_in_higgs = ak.all(ak.unflatten(jet_con_in_higgs,ak.flatten(ak.num(jet_mcindices,axis=2)),axis=1),axis=2)\n",
    "        \n",
    "    elif condition == 'p':\n",
    "        matched_gen = ak.unflatten(mc_particles[ak.flatten(reco_mc_index,axis=2)],ak.flatten(ak.num(reco_mc_index,axis=2)),axis=1)\n",
    "        \n",
    "        mc_reco_cartesian = ak.argcartesian({'mc':matched_gen.p,'reco':ak.singletons(reco_particles.p,axis=1)},axis=2)\n",
    "        mc_p_argmin = ak.singletons(ak.argmin(abs(matched_gen.p[mc_reco_cartesian['mc']] - ak.singletons(reco_particles.p,axis=1)[mc_reco_cartesian['reco']]),axis=2),axis=1)\n",
    "        \n",
    "        all_jet_inds = ak.flatten(reco_mc_index[mc_p_argmin],axis=2)[jet_constits_index]\n",
    "        \n",
    "        for n in range(len(all_jet_inds)):\n",
    "            jet_con_in_higgs.append(np.isin(all_jet_inds[n],true_higgs[n]))\n",
    "\n",
    "        jet_con_in_higgs = ak.Array(jet_con_in_higgs)\n",
    "        \n",
    "    else:\n",
    "        raise ValueError('condition must be \\'p\\', \\'any\\', or \\'all\\'')\n",
    "    \n",
    "    \n",
    "    return jet_con_in_higgs"
   ]
  },
  {
   "cell_type": "code",
   "execution_count": 142,
   "id": "5a93e426",
   "metadata": {},
   "outputs": [
    {
     "data": {
      "text/html": [
       "<pre>[[[True], [True], [True], [True], [True], ..., [True], [True], [True], [True]],\n",
       " [[True], [True], [True], [True], [True], ..., [True], [True], [True], [True]],\n",
       " [[True], [True], [True], [True], [True], ..., [True], [True], [True], [True]],\n",
       " [[True], [True], [True], [True], [True], ..., [True], [True], [True], [True]],\n",
       " [[True], [True], [True], [True], [True], ..., [True], [True], [True], [True]],\n",
       " [[True], [True], [True], [True], [True], ..., [False], [True], [True], [True]],\n",
       " [[True], [True], [True], [True], [True], ..., [True], [True], [True], [True]],\n",
       " [[True], [True], [True], [True], [True], ..., [True], [True], [True], [True]],\n",
       " [[True], [True], [True], [True], [True], ..., [True], [True], [True], [True]],\n",
       " [[True], [True], [True], [True], [True], ..., [True], [True], [False], [True]],\n",
       " ...,\n",
       " [[True], [True], [True], [True], [True], ..., [True], [True], [True], [True]],\n",
       " [[True], [True], [True], [True], [True], ..., [True], [True], [True], [True]],\n",
       " [[True], [True], [True], [True], [True], ..., [True], [True], [True], [True]],\n",
       " [[True], [True], [True], [True], [True], ..., [True], [True], [True], [True]],\n",
       " [[True], [True], [True], [True], [True], ..., [True], [True], [True], [True]],\n",
       " [[True], [True], [True], [True], [True], ..., [True], [True], [True], [True]],\n",
       " [[True], [True], [True], [True], [True], ..., [True], [True], [True], [True]],\n",
       " [[True], [True], [True], [True], [True], ..., [True], [True], [True], [True]],\n",
       " [[True], [True], [True], [True], [True], ..., [True], [True], [True], [True]]]\n",
       "--------------------------------------------------------------------------------\n",
       "type: 14369 * var * var * bool</pre>"
      ],
      "text/plain": [
       "<Array [[[True], [True], ..., [True]], ...] type='14369 * var * var * bool'>"
      ]
     },
     "execution_count": 142,
     "metadata": {},
     "output_type": "execute_result"
    }
   ],
   "source": [
    "# boolean mask for all the ones that meet momentum criteria for 'pR'\n",
    "# tomorrow need to \n",
    "\n",
    "matched_gen = ak.unflatten(mc_particles[ak.flatten(reco_mc_index,axis=2)],ak.flatten(ak.num(reco_mc_index,axis=2)),axis=1)\n",
    "        \n",
    "mc_reco_cartesian = ak.argcartesian({'mc':matched_gen.p,'reco':ak.singletons(reco_particles.p,axis=1)},axis=2)\n",
    "mc_p_diff = ak.singletons(ak.min(abs(matched_gen.p[mc_reco_cartesian['mc']] - ak.singletons(reco_particles.p,axis=1)[mc_reco_cartesian['reco']]),axis=2),axis=1)\n",
    "\n",
    "(mc_p_diff < ak.singletons(reco_particles.p,axis=1)/2) | (abs(mc_p_diff - ak.singletons(reco_particles.p,axis=1)/2) < 5)\n"
   ]
  },
  {
   "cell_type": "code",
   "execution_count": null,
   "id": "3d80786b",
   "metadata": {},
   "outputs": [],
   "source": [
    "all_jet_inds = ak.flatten(reco_mc_index[mc_p_argmin],axis=2)[jet_constits_index]\n",
    "\n",
    "for n in range(len(all_jet_inds)):\n",
    "    jet_con_in_higgs.append(np.isin(all_jet_inds[n],true_higgs[n]))\n",
    "\n",
    "jet_con_in_higgs = ak.Array(jet_con_in_higgs)"
   ]
  },
  {
   "cell_type": "code",
   "execution_count": 115,
   "id": "55e0a034",
   "metadata": {},
   "outputs": [],
   "source": [
    "pfos = events.PandoraPFOs.compute()\n",
    "mc = events.MCParticlesSkimmed.compute()"
   ]
  },
  {
   "cell_type": "code",
   "execution_count": null,
   "id": "8f1962a8",
   "metadata": {},
   "outputs": [],
   "source": [
    "jet_con_in_higgs_p = jet_truehiggs(bpfos[muonsevent][total_mask],mc[bmask][muonsevent],higgs_children[bmask][muonsevent],proper_indices[bmask][muonsevent][total_mask],ak.flatten(pfo_index,axis=2),'p')\n",
    "# jet_con_in_higgs_pR = jet_truehiggs(bpfos[muonsevent][total_mask],mc[bmask][muonsevent],higgs_children[bmask][muonsevent],proper_indices[bmask][muonsevent][total_mask],ak.flatten(pfo_index,axis=2),'pR')\n",
    "jet_con_in_higgs_any = jet_truehiggs(bpfos[muonsevent][total_mask],mc[bmask][muonsevent],higgs_children[bmask][muonsevent],proper_indices[bmask][muonsevent][total_mask],ak.flatten(pfo_index,axis=2),'any')\n",
    "jet_con_in_higgs_all = jet_truehiggs(bpfos[muonsevent][total_mask],mc[bmask][muonsevent],higgs_children[bmask][muonsevent],proper_indices[bmask][muonsevent][total_mask],ak.flatten(pfo_index,axis=2),'all')"
   ]
  },
  {
   "cell_type": "code",
   "execution_count": 138,
   "id": "eb335b74",
   "metadata": {
    "scrolled": false
   },
   "outputs": [
    {
     "data": {
      "text/plain": [
       "Text(0.5, 0.01, 'Fraction of PFOs in jets linked to no MC particle from higgs')"
      ]
     },
     "execution_count": 138,
     "metadata": {},
     "output_type": "execute_result"
    },
    {
     "data": {
      "image/png": "[encoded data removed]",
      "text/plain": [
       "<Figure size 640x480 with 4 Axes>"
      ]
     },
     "metadata": {},
     "output_type": "display_data"
    }
   ],
   "source": [
    "fig,ax = plt.subplots(2,2,sharex=True,sharey=True)\n",
    "axs = ax.flatten()\n",
    "\n",
    "nbins = 250\n",
    "mini = 0 \n",
    "maxi = 300\n",
    "\n",
    "axs[0].hist((ak.num(jet_con_in_higgs_p)-ak.num(ak.local_index(jet_con_in_higgs_p)[jet_con_in_higgs_p]))/ak.num(jet_con_in_higgs_p),\n",
    "         bins=nbins,\n",
    "        )\n",
    "axs[1].hist((ak.num(jet_con_in_higgs_any)-ak.num(ak.local_index(jet_con_in_higgs_any)[jet_con_in_higgs_any]))/ak.num(jet_con_in_higgs_any),\n",
    "         bins=nbins,\n",
    "        )\n",
    "axs[2].hist((ak.num(jet_con_in_higgs_all)-ak.num(ak.local_index(jet_con_in_higgs_all)[jet_con_in_higgs_all]))/ak.num(jet_con_in_higgs_all),\n",
    "         bins=nbins,\n",
    "        )\n",
    "\n",
    "axs[0].set_title('Closest Momentum')\n",
    "axs[1].set_title('Any Linked Particle')\n",
    "axs[2].set_title('All Linked Particles')\n",
    "\n",
    "fig.supxlabel('Fraction of PFOs in jets linked to no MC particle from higgs')\n",
    "\n",
    "# plt.tight_layout()"
   ]
  },
  {
   "cell_type": "code",
   "execution_count": 146,
   "id": "08a07d8d",
   "metadata": {},
   "outputs": [
    {
     "data": {
      "text/plain": [
       "Text(0.5, 1.0, 'what percent do not meet momentum criteria')"
      ]
     },
     "execution_count": 146,
     "metadata": {},
     "output_type": "execute_result"
    },
    {
     "data": {
      "image/png": "[encoded data removed]",
      "text/plain": [
       "<Figure size 640x480 with 1 Axes>"
      ]
     },
     "metadata": {},
     "output_type": "display_data"
    }
   ],
   "source": [
    "fig,ax = plt.subplots(1,1)\n",
    "\n",
    "nbins = 250\n",
    "mini = 0 \n",
    "maxi = 300\n",
    "\n",
    "test = ak.flatten((mc_p_diff < ak.singletons(reco_particles.p,axis=1)/2) | (abs(mc_p_diff - ak.singletons(reco_particles.p,axis=1)/2) < 5),axis=2)\n",
    "\n",
    "\n",
    "ax.hist((ak.num(test)-ak.num(ak.local_index(test)[test]))/ak.num(test),\n",
    "         bins=nbins,\n",
    "        )\n",
    "\n",
    "plt.title('what percent do not meet momentum criteria')"
   ]
  },
  {
   "cell_type": "code",
   "execution_count": 117,
   "id": "ca77710b",
   "metadata": {},
   "outputs": [
    {
     "data": {
      "text/plain": [
       "Text(0.5, 0, 'Momentum of PFOs in jets linked to no MC particle from higgs [GeV]')"
      ]
     },
     "execution_count": 117,
     "metadata": {},
     "output_type": "execute_result"
    },
    {
     "data": {
      "image/png": "[encoded data removed]",
      "text/plain": [
       "<Figure size 640x480 with 1 Axes>"
      ]
     },
     "metadata": {},
     "output_type": "display_data"
    }
   ],
   "source": [
    "# this is looking at stuff particle by particle \n",
    "ifig=2;plt.close(ifig);plt.figure(ifig)\n",
    "\n",
    "nbins = 250\n",
    "mini = 0 \n",
    "maxi = 300\n",
    "\n",
    "plt.hist(ak.flatten(bpfos[muonsevent].p[total_mask][ak.flatten(pfo_index,axis=2)][jet_con_in_higgs != True]),\n",
    "         bins=nbins,\n",
    "        )\n",
    "\n",
    "\n",
    "plt.xlabel('Momentum of PFOs in jets linked to no MC particle from higgs [GeV]')"
   ]
  },
  {
   "cell_type": "markdown",
   "id": "ebec9db7",
   "metadata": {},
   "source": [
    "### Higgs peak plots with different levels of allowed "
   ]
  }
 ],
 "metadata": {
  "kernelspec": {
   "display_name": "Python 3 (ipykernel)",
   "language": "python",
   "name": "python3"
  },
  "language_info": {
   "codemirror_mode": {
    "name": "ipython",
    "version": 3
   },
   "file_extension": ".py",
   "mimetype": "text/x-python",
   "name": "python",
   "nbconvert_exporter": "python",
   "pygments_lexer": "ipython3",
   "version": "3.10.9"
  }
 },
 "nbformat": 4,
 "nbformat_minor": 5
}
