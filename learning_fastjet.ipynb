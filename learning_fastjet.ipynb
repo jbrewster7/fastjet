{
 "cells": [
  {
   "cell_type": "markdown",
   "id": "b06c7da4",
   "metadata": {},
   "source": [
    "### Learning How to Use fastjet\n",
    "Resources:\n",
    "- https://fastjet.readthedocs.io/en/latest/Awkward.html#\n",
    "- https://github.com/scikit-hep/fastjet/blob/main/README.md\n",
    "- https://github.com/SUEPPhysics/SUEPCoffea_dask"
   ]
  },
  {
   "cell_type": "code",
   "execution_count": 1,
   "id": "6f98da7e",
   "metadata": {},
   "outputs": [],
   "source": [
    "import awkward as ak \n",
    "import numpy as np\n",
    "import fastjet\n",
    "from coffea.nanoevents import NanoEventsFactory, EDM4HEPSchema\n",
    "from coffea.nanoevents.schemas.base import zip_forms\n",
    "import dask_awkward as dak\n",
    "import hist.dask as hda"
   ]
  },
  {
   "cell_type": "code",
   "execution_count": 3,
   "id": "59b78801",
   "metadata": {},
   "outputs": [
    {
     "name": "stderr",
     "output_type": "stream",
     "text": [
      "/Users/josephinebrewster/TRIUMF-Summer-2023/coffea_dev/coffea/src/coffea/nanoevents/factory.py:63: UserWarning: Skipping PARAMETERS as it is it cannot be interpreted by Uproot\n",
      "  warnings.warn(\n",
      "/Users/josephinebrewster/TRIUMF-Summer-2023/coffea_dev/coffea/src/coffea/nanoevents/factory.py:45: UserWarning: Skipping _intMap as it is not interpretable by Uproot\n",
      "  warnings.warn(\n",
      "/Users/josephinebrewster/TRIUMF-Summer-2023/coffea_dev/coffea/src/coffea/nanoevents/factory.py:52: UserWarning: Skipping _intMap.first as it is not interpretable by Uproot\n",
      "  warnings.warn(f\"Skipping {branch.name} as it is not interpretable by Uproot\")\n",
      "/Users/josephinebrewster/TRIUMF-Summer-2023/coffea_dev/coffea/src/coffea/nanoevents/factory.py:52: UserWarning: Skipping _intMap.second as it is not interpretable by Uproot\n",
      "  warnings.warn(f\"Skipping {branch.name} as it is not interpretable by Uproot\")\n",
      "/Users/josephinebrewster/TRIUMF-Summer-2023/coffea_dev/coffea/src/coffea/nanoevents/factory.py:45: UserWarning: Skipping _floatMap as it is not interpretable by Uproot\n",
      "  warnings.warn(\n",
      "/Users/josephinebrewster/TRIUMF-Summer-2023/coffea_dev/coffea/src/coffea/nanoevents/factory.py:52: UserWarning: Skipping _floatMap.first as it is not interpretable by Uproot\n",
      "  warnings.warn(f\"Skipping {branch.name} as it is not interpretable by Uproot\")\n",
      "/Users/josephinebrewster/TRIUMF-Summer-2023/coffea_dev/coffea/src/coffea/nanoevents/factory.py:52: UserWarning: Skipping _floatMap.second as it is not interpretable by Uproot\n",
      "  warnings.warn(f\"Skipping {branch.name} as it is not interpretable by Uproot\")\n",
      "/Users/josephinebrewster/TRIUMF-Summer-2023/coffea_dev/coffea/src/coffea/nanoevents/factory.py:45: UserWarning: Skipping _stringMap as it is not interpretable by Uproot\n",
      "  warnings.warn(\n",
      "/Users/josephinebrewster/TRIUMF-Summer-2023/coffea_dev/coffea/src/coffea/nanoevents/factory.py:52: UserWarning: Skipping _stringMap.first as it is not interpretable by Uproot\n",
      "  warnings.warn(f\"Skipping {branch.name} as it is not interpretable by Uproot\")\n",
      "/Users/josephinebrewster/TRIUMF-Summer-2023/coffea_dev/coffea/src/coffea/nanoevents/factory.py:52: UserWarning: Skipping _stringMap.second as it is not interpretable by Uproot\n",
      "  warnings.warn(f\"Skipping {branch.name} as it is not interpretable by Uproot\")\n",
      "/Users/josephinebrewster/TRIUMF-Summer-2023/coffea_dev/coffea/src/coffea/nanoevents/factory.py:45: UserWarning: Skipping _doubleMap as it is not interpretable by Uproot\n",
      "  warnings.warn(\n",
      "/Users/josephinebrewster/TRIUMF-Summer-2023/coffea_dev/coffea/src/coffea/nanoevents/factory.py:52: UserWarning: Skipping _doubleMap.first as it is not interpretable by Uproot\n",
      "  warnings.warn(f\"Skipping {branch.name} as it is not interpretable by Uproot\")\n",
      "/Users/josephinebrewster/TRIUMF-Summer-2023/coffea_dev/coffea/src/coffea/nanoevents/factory.py:52: UserWarning: Skipping _doubleMap.second as it is not interpretable by Uproot\n",
      "  warnings.warn(f\"Skipping {branch.name} as it is not interpretable by Uproot\")\n"
     ]
    }
   ],
   "source": [
    "events = NanoEventsFactory.from_root( \n",
    "    \"../../coffea_dev/root_files_may18/rv02-02.sv02-02.mILD_l5_o1_v02.E250-SetA.I402004\" # make sure you update this path later\n",
    "    \".Pe2e2h.eR.pL.n000.d_dstm_15090_*.slcio.edm4hep.root\",\n",
    "    treepath=\"events\",\n",
    "    schemaclass=EDM4HEPSchema,\n",
    "    permit_dask=True,\n",
    "    metadata = {'b_field':5},\n",
    ").events()"
   ]
  },
  {
   "cell_type": "markdown",
   "id": "30bd6f0a",
   "metadata": {},
   "source": [
    "There is a specfic e+e- kt algorithm however it doesn't seem to work when called. Call is `fastjet.JetDefinition(ee_fastjet.kt_algorithm,0.4)`. There is also `ee_genkt_algorithm` which for $R>2$ and $p=1$ gives ee_kt apparantly. These are probably what we're going to use, I just need to work with them more to figure out what they actually want when called."
   ]
  },
  {
   "cell_type": "code",
   "execution_count": 5,
   "id": "aa8ab0d4",
   "metadata": {},
   "outputs": [],
   "source": [
    "jetdef = fastjet.JetDefinition(fastjet.kt_algorithm,0.4) # right now defined with R = 0.4"
   ]
  },
  {
   "cell_type": "code",
   "execution_count": 6,
   "id": "8c849fcf",
   "metadata": {},
   "outputs": [],
   "source": [
    "cluster = fastjet.ClusterSequence(events.PandoraPFOs, jetdef)"
   ]
  },
  {
   "cell_type": "code",
   "execution_count": 8,
   "id": "a9f72305",
   "metadata": {},
   "outputs": [],
   "source": [
    "# this sets up the jets using Coffea\n",
    "\n",
    "jets = dak.zip(\n",
    "    {\n",
    "        'x': cluster.inclusive_jets()[\"px\"],\n",
    "        'y': cluster.inclusive_jets()[\"py\"],\n",
    "        'z': cluster.inclusive_jets()[\"pz\"],\n",
    "        't': cluster.inclusive_jets()[\"E\"],\n",
    "    },\n",
    "    with_name=\"LorentzVector\",\n",
    "    behavior=events.PandoraPFOs.behavior,\n",
    ")"
   ]
  },
  {
   "cell_type": "code",
   "execution_count": 9,
   "id": "30c32e7a",
   "metadata": {},
   "outputs": [
    {
     "name": "stdout",
     "output_type": "stream",
     "text": [
      "#--------------------------------------------------------------------------\n",
      "#                         FastJet release 3.4.1\n",
      "#                 M. Cacciari, G.P. Salam and G. Soyez                  \n",
      "#     A software package for jet finding and analysis at colliders      \n",
      "#                           http://fastjet.fr                           \n",
      "#\t                                                                      \n",
      "# Please cite EPJC72(2012)1896 [arXiv:1111.6097] if you use this package\n",
      "# for scientific work and optionally PLB641(2006)57 [hep-ph/0512210].   \n",
      "#                                                                       \n",
      "# FastJet is provided without warranty under the GNU GPL v2 or higher.  \n",
      "# It uses T. Chan's closest pair algorithm, S. Fortune's Voronoi code,\n",
      "# CGAL and 3rd party plugin jet algorithms. See COPYING file for details.\n",
      "#--------------------------------------------------------------------------\n"
     ]
    },
    {
     "data": {
      "text/plain": [
       "{'from-uproot-4f4439f2df4a4d8dca2ab86fc89242f2': ['PandoraPFOs.z',\n",
       "  'PandoraPFOs.x',\n",
       "  'PandoraPFOs.y',\n",
       "  'PandoraPFOs.t']}"
      ]
     },
     "execution_count": 9,
     "metadata": {},
     "output_type": "execute_result"
    },
    {
     "data": {
      "image/png": "[encoded data removed]",
      "text/plain": [
       "<Figure size 640x480 with 1 Axes>"
      ]
     },
     "metadata": {},
     "output_type": "display_data"
    }
   ],
   "source": [
    "# basic plot\n",
    "\n",
    "energy_hist_clusters = (\n",
    "    hda.Hist.new.Reg(250, 0, 300, name=\"energy\", label=\"Cluster Energy [GeV]\") \n",
    "    .Double()\n",
    "    .fill(dak.flatten(jets.energy))\n",
    ")\n",
    "\n",
    "energy_hist_clusters.compute().plot1d(label='Jet Clusters')\n",
    "dak.necessary_columns(energy_hist_clusters)"
   ]
  }
 ],
 "metadata": {
  "kernelspec": {
   "display_name": "Python 3 (ipykernel)",
   "language": "python",
   "name": "python3"
  },
  "language_info": {
   "codemirror_mode": {
    "name": "ipython",
    "version": 3
   },
   "file_extension": ".py",
   "mimetype": "text/x-python",
   "name": "python",
   "nbconvert_exporter": "python",
   "pygments_lexer": "ipython3",
   "version": "3.10.9"
  }
 },
 "nbformat": 4,
 "nbformat_minor": 5
}
