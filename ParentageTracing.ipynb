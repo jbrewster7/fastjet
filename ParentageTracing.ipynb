{
 "cells": [
  {
   "cell_type": "code",
   "execution_count": 1,
   "id": "c6be05fe",
   "metadata": {},
   "outputs": [],
   "source": [
    "import uproot \n",
    "import awkward as ak\n",
    "import numpy as np\n",
    "file = [uproot.open(\"../../coffea_dev/root_files_may18/rv02-02.sv02-02.mILD_l5_o1_v02.E250-SetA.I402004.Pe2e2h.eR.pL.n000.d_dstm_15090_0.slcio.edm4hep.root\"),\n",
    "        uproot.open(\"../../coffea_dev/root_files_may18/rv02-02.sv02-02.mILD_l5_o1_v02.E250-SetA.I402004.Pe2e2h.eR.pL.n000.d_dstm_15090_1.slcio.edm4hep.root\"),\n",
    "        uproot.open(\"../../coffea_dev/root_files_may18/rv02-02.sv02-02.mILD_l5_o1_v02.E250-SetA.I402004.Pe2e2h.eR.pL.n000.d_dstm_15090_2.slcio.edm4hep.root\")]\n",
    "\n",
    "events = [file[n]['events'] for n in range(3)]\n",
    "\n",
    "import matplotlib.pyplot as plt\n",
    "import numpy as np"
   ]
  },
  {
   "cell_type": "markdown",
   "id": "970dfb6e",
   "metadata": {},
   "source": [
    "### Array Set-Up\n",
    "Run the below cells to set up needed arrays for everything else."
   ]
  },
  {
   "cell_type": "code",
   "execution_count": 2,
   "id": "e7a839b6",
   "metadata": {},
   "outputs": [],
   "source": [
    "pdgids = (events[2][f'MCParticlesSkimmed/MCParticlesSkimmed.PDG']).array()\n",
    "status = (events[2][f'MCParticlesSkimmed/MCParticlesSkimmed.generatorStatus']).array()\n",
    "momentum = np.sqrt((events[2][f'MCParticlesSkimmed/MCParticlesSkimmed.momentum.x']).array()**2 + (events[2][f'MCParticlesSkimmed/MCParticlesSkimmed.momentum.y']).array()**2 + (events[2][f'MCParticlesSkimmed/MCParticlesSkimmed.momentum.z']).array()**2)"
   ]
  },
  {
   "cell_type": "code",
   "execution_count": 3,
   "id": "378cfb46",
   "metadata": {},
   "outputs": [],
   "source": [
    "# parents\n",
    "shape = (events[2][f'MCParticlesSkimmed/MCParticlesSkimmed.parents_end']).array() - (events[2][f'MCParticlesSkimmed/MCParticlesSkimmed.parents_begin']).array() \n",
    "\n",
    "par_inds = ak.unflatten((events[2][f'MCParticlesSkimmed#{0}/MCParticlesSkimmed#{0}.index']).array(),ak.flatten(shape),axis=1)\n",
    "\n"
   ]
  },
  {
   "cell_type": "code",
   "execution_count": 4,
   "id": "b87a2834",
   "metadata": {},
   "outputs": [],
   "source": [
    "# daughters\n",
    "shape = (events[2][f'MCParticlesSkimmed/MCParticlesSkimmed.daughters_end']).array() - (events[2][f'MCParticlesSkimmed/MCParticlesSkimmed.daughters_begin']).array()\n",
    "\n",
    "daugh_inds = ak.unflatten((events[2][f'MCParticlesSkimmed#{1}/MCParticlesSkimmed#{1}.index']).array(),ak.flatten(shape),axis=1)\n"
   ]
  },
  {
   "cell_type": "markdown",
   "id": "0b715ad6",
   "metadata": {},
   "source": [
    "### Looking at parentage"
   ]
  },
  {
   "cell_type": "markdown",
   "id": "97e7ebdd",
   "metadata": {},
   "source": [
    "location of z bosons:"
   ]
  },
  {
   "cell_type": "code",
   "execution_count": 226,
   "id": "2844099e",
   "metadata": {},
   "outputs": [
    {
     "data": {
      "text/html": [
       "<pre>[1,\n",
       " 15,\n",
       " 41,\n",
       " 43,\n",
       " 52,\n",
       " 131,\n",
       " 159,\n",
       " 193,\n",
       " 225,\n",
       " 252,\n",
       " ...,\n",
       " 9221,\n",
       " 9230,\n",
       " 9236,\n",
       " 9253,\n",
       " 9286,\n",
       " 9342,\n",
       " 9352,\n",
       " 9360,\n",
       " 9382]\n",
       "-----------------\n",
       "type: 271 * int64</pre>"
      ],
      "text/plain": [
       "<Array [1, 15, 41, 43, 52, ..., 9342, 9352, 9360, 9382] type='271 * int64'>"
      ]
     },
     "execution_count": 226,
     "metadata": {},
     "output_type": "execute_result"
    }
   ],
   "source": [
    "ak.local_index(ak.num(ak.local_index(pdgids)[pdgids == 23]))[ak.num(ak.local_index(pdgids)[pdgids == 23]) != 0]"
   ]
  },
  {
   "cell_type": "code",
   "execution_count": 243,
   "id": "5fecee8a",
   "metadata": {},
   "outputs": [
    {
     "data": {
      "text/html": [
       "<pre>[15,\n",
       " 16]\n",
       "---------------\n",
       "type: 2 * int32</pre>"
      ],
      "text/plain": [
       "<Array [15, 16] type='2 * int32'>"
      ]
     },
     "execution_count": 243,
     "metadata": {},
     "output_type": "execute_result"
    }
   ],
   "source": [
    "daugh_inds[1][12]"
   ]
  },
  {
   "cell_type": "code",
   "execution_count": 245,
   "id": "db64a43e",
   "metadata": {},
   "outputs": [
    {
     "data": {
      "text/plain": [
       "-12"
      ]
     },
     "execution_count": 245,
     "metadata": {},
     "output_type": "execute_result"
    }
   ],
   "source": [
    "pdgids[1][16]"
   ]
  },
  {
   "cell_type": "markdown",
   "id": "ee83ce07",
   "metadata": {},
   "source": [
    "check which particles have no parents and look at status"
   ]
  },
  {
   "cell_type": "code",
   "execution_count": 228,
   "id": "848a85e3",
   "metadata": {},
   "outputs": [
    {
     "data": {
      "text/html": [
       "<pre>[0,\n",
       " 1,\n",
       " 171,\n",
       " 172,\n",
       " 179,\n",
       " 180,\n",
       " 186,\n",
       " 187,\n",
       " 188,\n",
       " 189,\n",
       " ...,\n",
       " 227,\n",
       " 228,\n",
       " 229,\n",
       " 230,\n",
       " 231,\n",
       " 232,\n",
       " 233,\n",
       " 234,\n",
       " 235]\n",
       "----------------\n",
       "type: 56 * int64</pre>"
      ],
      "text/plain": [
       "<Array [0, 1, 171, 172, 179, ..., 231, 232, 233, 234, 235] type='56 * int64'>"
      ]
     },
     "execution_count": 228,
     "metadata": {},
     "output_type": "execute_result"
    }
   ],
   "source": [
    "# no parents\n",
    "ak.local_index(ak.firsts(ak.pad_none(par_inds[0],1,axis=1)))[ak.fill_none(ak.firsts(ak.pad_none(par_inds[0],1,axis=1)),-1) == -1]\n"
   ]
  },
  {
   "cell_type": "code",
   "execution_count": 276,
   "id": "f03d05b7",
   "metadata": {},
   "outputs": [
    {
     "data": {
      "text/html": [
       "<pre>[6,\n",
       " 7,\n",
       " 14,\n",
       " 17,\n",
       " 19,\n",
       " 20,\n",
       " 21,\n",
       " 41,\n",
       " 54,\n",
       " 55,\n",
       " ...,\n",
       " 224,\n",
       " 226,\n",
       " 227,\n",
       " 228,\n",
       " 229,\n",
       " 230,\n",
       " 231,\n",
       " 232,\n",
       " 233]\n",
       "-----------------\n",
       "type: 138 * int64</pre>"
      ],
      "text/plain": [
       "<Array [6, 7, 14, 17, 19, 20, ..., 229, 230, 231, 232, 233] type='138 * int64'>"
      ]
     },
     "execution_count": 276,
     "metadata": {},
     "output_type": "execute_result"
    }
   ],
   "source": [
    "# no children\n",
    "ak.local_index(ak.firsts(ak.pad_none(daugh_inds[0],1,axis=1)))[ak.fill_none(ak.firsts(ak.pad_none(daugh_inds[0],1,axis=1)),-1) == -1]\n"
   ]
  },
  {
   "cell_type": "code",
   "execution_count": 231,
   "id": "0693a807",
   "metadata": {},
   "outputs": [
    {
     "data": {
      "text/html": [
       "<pre>[1,\n",
       " 1,\n",
       " 1,\n",
       " 1,\n",
       " 1,\n",
       " 1,\n",
       " 1,\n",
       " 1,\n",
       " 1,\n",
       " 1,\n",
       " ...,\n",
       " 1,\n",
       " 1,\n",
       " 1,\n",
       " 1,\n",
       " 1,\n",
       " 1,\n",
       " 1,\n",
       " 1,\n",
       " 1]\n",
       "-----------------\n",
       "type: 138 * int32</pre>"
      ],
      "text/plain": [
       "<Array [1, 1, 1, 1, 1, 1, 1, 1, ..., 1, 1, 1, 1, 1, 1, 1, 1] type='138 * int32'>"
      ]
     },
     "execution_count": 231,
     "metadata": {},
     "output_type": "execute_result"
    }
   ],
   "source": [
    "status[0][no_child]"
   ]
  },
  {
   "cell_type": "code",
   "execution_count": 204,
   "id": "2148e6f9",
   "metadata": {},
   "outputs": [],
   "source": [
    "# ak.local_index(status[0])[status[0]==1]"
   ]
  },
  {
   "cell_type": "markdown",
   "id": "cbbe7504",
   "metadata": {},
   "source": [
    "## Trace Up Loop"
   ]
  },
  {
   "cell_type": "code",
   "execution_count": 5,
   "id": "ffdb422c",
   "metadata": {},
   "outputs": [],
   "source": [
    "def trace_par(event,start_ind,output=True,print_inds=False,all_inds=False,all_pdgs=False):\n",
    "    '''\n",
    "    Parameters:\n",
    "    ----------\n",
    "    \n",
    "    event :: int \n",
    "        integer slice to determine event \n",
    "    \n",
    "    start_ind :: int\n",
    "        index of particle to start tracing from \n",
    "    \n",
    "    output :: bool (optional)\n",
    "        print the pdg business\n",
    "    \n",
    "    print_inds :: bool (optional)\n",
    "        print indices of particles at every stage \n",
    "    \n",
    "    all_inds :: bool (optional)\n",
    "        return all indices in an awkward array \n",
    "    \n",
    "    all_pdgs :: bool (optional)\n",
    "        return all pdgids in an awkward array \n",
    "    \n",
    "    Returns:\n",
    "    -------\n",
    "    \n",
    "    inds :: array (optional)\n",
    "        list of all indices returned if all_inds is set to True \n",
    "    \n",
    "    '''\n",
    "    flag = True\n",
    "\n",
    "    curr_ind = ak.Array([-1])\n",
    "    par_ind = ak.Array([start_ind])\n",
    "    \n",
    "    if all_inds:\n",
    "        ind_lst = []\n",
    "    if all_pdgs:\n",
    "        pdglst = []\n",
    "    \n",
    "    while flag:\n",
    "        curr_ind = par_ind\n",
    "        if output:\n",
    "            if print_inds:\n",
    "                print('PDG IDs:',pdgids[event][curr_ind],'\\t indices:',curr_ind)\n",
    "            else:\n",
    "                print('PDG IDs:',pdgids[event][curr_ind])\n",
    "\n",
    "        par_ind = np.unique(ak.flatten(par_inds[event][curr_ind],axis=-1))\n",
    "        \n",
    "        if all_inds:\n",
    "            ind_lst.append(list(curr_ind))\n",
    "        if all_pdgs:\n",
    "            pdglst.append(pdgids[event][curr_ind])\n",
    "\n",
    "        if len(curr_ind) == len(par_ind) and ak.any(ak.to_regular(curr_ind,axis=0) == ak.to_regular(par_ind,axis=0)):\n",
    "            flag = False\n",
    "#             print('weird out')\n",
    "        elif len(par_ind) == 0:\n",
    "            flag = False\n",
    "            if output:\n",
    "                print('final indices:', curr_ind)\n",
    "\n",
    "    if all_inds and all_pdgs:\n",
    "        return (ind_lst,pdglst)\n",
    "    elif all_inds:\n",
    "        return ind_lst\n",
    "    elif all_pdgs:\n",
    "        return pdglst"
   ]
  },
  {
   "cell_type": "code",
   "execution_count": 221,
   "id": "f147f74f",
   "metadata": {},
   "outputs": [
    {
     "name": "stdout",
     "output_type": "stream",
     "text": [
      "status of original particle: 1\n",
      "PDG IDs: [211]\n",
      "PDG IDs: [223]\n",
      "PDG IDs: [92]\n",
      "PDG IDs: [5, 21, 21, 21, -5]\n",
      "PDG IDs: [5, 21, 21, -5, 21]\n",
      "PDG IDs: [5, -5, -5]\n",
      "PDG IDs: [94, -5]\n",
      "PDG IDs: [5, -5, 94]\n",
      "PDG IDs: [5, -5, 5, -5]\n",
      "PDG IDs: [25, 5, -5]\n",
      "PDG IDs: [11, -11, 25]\n",
      "PDG IDs: [11, -11, 11, -11]\n",
      "PDG IDs: [11, -11, 11, -11]\n",
      "PDG IDs: [11, -11]\n",
      "final indices: [0, 1]\n",
      "\n",
      "\n",
      "\n",
      "status of original particle: 1\n",
      "PDG IDs: [211]\n",
      "PDG IDs: [213]\n",
      "PDG IDs: [92]\n",
      "PDG IDs: [5, 21, 21, 21, -5]\n",
      "PDG IDs: [5, 21, 21, -5, 21]\n",
      "PDG IDs: [5, -5, -5]\n",
      "PDG IDs: [94, -5]\n",
      "PDG IDs: [5, -5, 94]\n",
      "PDG IDs: [5, -5, 5, -5]\n",
      "PDG IDs: [25, 5, -5]\n",
      "PDG IDs: [11, -11, 25]\n",
      "PDG IDs: [11, -11, 11, -11]\n",
      "PDG IDs: [11, -11, 11, -11]\n",
      "PDG IDs: [11, -11]\n",
      "final indices: [0, 1]\n",
      "\n",
      "\n",
      "\n",
      "status of original particle: 1\n",
      "PDG IDs: [211]\n",
      "PDG IDs: [213]\n",
      "PDG IDs: [92]\n",
      "PDG IDs: [5, 21, 21, 21, -5]\n",
      "PDG IDs: [5, 21, 21, -5, 21]\n",
      "PDG IDs: [5, -5, -5]\n",
      "PDG IDs: [94, -5]\n",
      "PDG IDs: [5, -5, 94]\n",
      "PDG IDs: [5, -5, 5, -5]\n",
      "PDG IDs: [25, 5, -5]\n",
      "PDG IDs: [11, -11, 25]\n",
      "PDG IDs: [11, -11, 11, -11]\n",
      "PDG IDs: [11, -11, 11, -11]\n",
      "PDG IDs: [11, -11]\n",
      "final indices: [0, 1]\n",
      "\n",
      "\n",
      "\n",
      "status of original particle: 1\n",
      "PDG IDs: [211]\n",
      "PDG IDs: [413]\n",
      "PDG IDs: [-511]\n",
      "PDG IDs: [92]\n",
      "PDG IDs: [5, 21, 21, 21, -5]\n",
      "PDG IDs: [5, 21, 21, -5, 21]\n",
      "PDG IDs: [5, -5, -5]\n",
      "PDG IDs: [94, -5]\n",
      "PDG IDs: [5, -5, 94]\n",
      "PDG IDs: [5, -5, 5, -5]\n",
      "PDG IDs: [25, 5, -5]\n",
      "PDG IDs: [11, -11, 25]\n",
      "PDG IDs: [11, -11, 11, -11]\n",
      "PDG IDs: [11, -11, 11, -11]\n",
      "PDG IDs: [11, -11]\n",
      "final indices: [0, 1]\n",
      "\n",
      "\n",
      "\n",
      "status of original particle: 1\n",
      "PDG IDs: [211]\n",
      "PDG IDs: [-3122]\n",
      "PDG IDs: [-3224]\n",
      "PDG IDs: [92]\n",
      "PDG IDs: [5, 21, 21, 21, -5]\n",
      "PDG IDs: [5, 21, 21, -5, 21]\n",
      "PDG IDs: [5, -5, -5]\n",
      "PDG IDs: [94, -5]\n",
      "PDG IDs: [5, -5, 94]\n",
      "PDG IDs: [5, -5, 5, -5]\n",
      "PDG IDs: [25, 5, -5]\n",
      "PDG IDs: [11, -11, 25]\n",
      "PDG IDs: [11, -11, 11, -11]\n",
      "PDG IDs: [11, -11, 11, -11]\n",
      "PDG IDs: [11, -11]\n",
      "final indices: [0, 1]\n",
      "\n",
      "\n",
      "\n",
      "status of original particle: 1\n",
      "PDG IDs: [211]\n",
      "PDG IDs: [213]\n",
      "PDG IDs: [115]\n",
      "PDG IDs: [92]\n",
      "PDG IDs: [5, 21, 21, 21, -5]\n",
      "PDG IDs: [5, 21, 21, -5, 21]\n",
      "PDG IDs: [5, -5, -5]\n",
      "PDG IDs: [94, -5]\n",
      "PDG IDs: [5, -5, 94]\n",
      "PDG IDs: [5, -5, 5, -5]\n",
      "PDG IDs: [25, 5, -5]\n",
      "PDG IDs: [11, -11, 25]\n",
      "PDG IDs: [11, -11, 11, -11]\n",
      "PDG IDs: [11, -11, 11, -11]\n",
      "PDG IDs: [11, -11]\n",
      "final indices: [0, 1]\n",
      "\n",
      "\n",
      "\n",
      "status of original particle: 1\n",
      "PDG IDs: [211]\n",
      "PDG IDs: [521]\n",
      "PDG IDs: [523]\n",
      "PDG IDs: [92]\n",
      "PDG IDs: [5, 21, 21, 21, -5]\n",
      "PDG IDs: [5, 21, 21, -5, 21]\n",
      "PDG IDs: [5, -5, -5]\n",
      "PDG IDs: [94, -5]\n",
      "PDG IDs: [5, -5, 94]\n",
      "PDG IDs: [5, -5, 5, -5]\n",
      "PDG IDs: [25, 5, -5]\n",
      "PDG IDs: [11, -11, 25]\n",
      "PDG IDs: [11, -11, 11, -11]\n",
      "PDG IDs: [11, -11, 11, -11]\n",
      "PDG IDs: [11, -11]\n",
      "final indices: [0, 1]\n",
      "\n",
      "\n",
      "\n",
      "status of original particle: 1\n",
      "PDG IDs: [211]\n",
      "PDG IDs: [310]\n",
      "PDG IDs: [311]\n",
      "PDG IDs: [-511]\n",
      "PDG IDs: [92]\n",
      "PDG IDs: [5, 21, 21, 21, -5]\n",
      "PDG IDs: [5, 21, 21, -5, 21]\n",
      "PDG IDs: [5, -5, -5]\n",
      "PDG IDs: [94, -5]\n",
      "PDG IDs: [5, -5, 94]\n",
      "PDG IDs: [5, -5, 5, -5]\n",
      "PDG IDs: [25, 5, -5]\n",
      "PDG IDs: [11, -11, 25]\n",
      "PDG IDs: [11, -11, 11, -11]\n",
      "PDG IDs: [11, -11, 11, -11]\n",
      "PDG IDs: [11, -11]\n",
      "final indices: [0, 1]\n",
      "\n",
      "\n",
      "\n",
      "status of original particle: 1\n",
      "PDG IDs: [211]\n",
      "PDG IDs: [213]\n",
      "PDG IDs: [421]\n",
      "PDG IDs: [413]\n",
      "PDG IDs: [-511]\n",
      "PDG IDs: [92]\n",
      "PDG IDs: [5, 21, 21, 21, -5]\n",
      "PDG IDs: [5, 21, 21, -5, 21]\n",
      "PDG IDs: [5, -5, -5]\n",
      "PDG IDs: [94, -5]\n",
      "PDG IDs: [5, -5, 94]\n",
      "PDG IDs: [5, -5, 5, -5]\n",
      "PDG IDs: [25, 5, -5]\n",
      "PDG IDs: [11, -11, 25]\n",
      "PDG IDs: [11, -11, 11, -11]\n",
      "PDG IDs: [11, -11, 11, -11]\n",
      "PDG IDs: [11, -11]\n",
      "final indices: [0, 1]\n",
      "\n",
      "\n",
      "\n",
      "status of original particle: 1\n",
      "PDG IDs: [211]\n",
      "PDG IDs: [223]\n",
      "PDG IDs: [-421]\n",
      "PDG IDs: [-423]\n",
      "PDG IDs: [521]\n",
      "PDG IDs: [523]\n",
      "PDG IDs: [92]\n",
      "PDG IDs: [5, 21, 21, 21, -5]\n",
      "PDG IDs: [5, 21, 21, -5, 21]\n",
      "PDG IDs: [5, -5, -5]\n",
      "PDG IDs: [94, -5]\n",
      "PDG IDs: [5, -5, 94]\n",
      "PDG IDs: [5, -5, 5, -5]\n",
      "PDG IDs: [25, 5, -5]\n",
      "PDG IDs: [11, -11, 25]\n",
      "PDG IDs: [11, -11, 11, -11]\n",
      "PDG IDs: [11, -11, 11, -11]\n",
      "PDG IDs: [11, -11]\n",
      "final indices: [0, 1]\n",
      "\n",
      "\n",
      "\n",
      "status of original particle: 1\n",
      "PDG IDs: [211]\n",
      "PDG IDs: [-11, 22]\n",
      "PDG IDs: [-11, 22]\n",
      "final indices: [171, 172]\n",
      "\n",
      "\n",
      "\n",
      "status of original particle: 1\n",
      "PDG IDs: [211]\n",
      "PDG IDs: [22, 22]\n",
      "PDG IDs: [22, 22]\n",
      "final indices: [179, 180]\n",
      "\n",
      "\n",
      "\n"
     ]
    }
   ],
   "source": [
    "# trees of all charged pions\n",
    "event = 0 \n",
    "start_inds = ak.local_index(pdgids[event])[pdgids[event] == 211]\n",
    "\n",
    "for n in range(len(start_inds)):\n",
    "    print('status of original particle:',status[event][start_inds[n]])\n",
    "    trace_par(event,start_inds[n])\n",
    "    print('\\n\\n')"
   ]
  },
  {
   "cell_type": "code",
   "execution_count": 294,
   "id": "994f3451",
   "metadata": {},
   "outputs": [
    {
     "data": {
      "text/html": [
       "<pre>[-3224,\n",
       " -3122,\n",
       " -2212,\n",
       " -511,\n",
       " -423,\n",
       " -421,\n",
       " -323,\n",
       " -321,\n",
       " -311,\n",
       " -215,\n",
       " ...,\n",
       " 413,\n",
       " 421,\n",
       " 521,\n",
       " 523,\n",
       " 2112,\n",
       " 2212,\n",
       " 1000010020,\n",
       " 1000060110,\n",
       " 1000100220]\n",
       "----------------\n",
       "type: 42 * int32</pre>"
      ],
      "text/plain": [
       "<Array [-3224, -3122, -2212, ..., 1000060110, 1000100220] type='42 * int32'>"
      ]
     },
     "execution_count": 294,
     "metadata": {},
     "output_type": "execute_result"
    }
   ],
   "source": [
    "np.unique(pdgids[event])"
   ]
  },
  {
   "cell_type": "code",
   "execution_count": 18,
   "id": "68dc89b8",
   "metadata": {
    "scrolled": true
   },
   "outputs": [
    {
     "name": "stdout",
     "output_type": "stream",
     "text": [
      "status of original particle: 2\n",
      "PDG IDs: [-3122]\n",
      "PDG IDs: [-3224]\n",
      "PDG IDs: [92]\n",
      "PDG IDs: [5, 21, 21, 21, -5]\n",
      "PDG IDs: [5, 21, 21, -5, 21]\n",
      "PDG IDs: [5, -5, -5]\n",
      "PDG IDs: [94, -5]\n",
      "PDG IDs: [5, -5, 94]\n",
      "PDG IDs: [5, -5, 5, -5]\n",
      "PDG IDs: [25, 5, -5]\n",
      "PDG IDs: [11, -11, 25]\n",
      "PDG IDs: [11, -11, 11, -11]\n",
      "PDG IDs: [11, -11, 11, -11]\n",
      "PDG IDs: [11, -11]\n",
      "final indices: [0, 1]\n",
      "[<Array [-3122] type='1 * int32'>, <Array [-3224] type='1 * int32'>, <Array [92] type='1 * int32'>, <Array [5, 21, 21, 21, -5] type='5 * int32'>, <Array [5, 21, 21, -5, 21] type='5 * int32'>, <Array [5, -5, -5] type='3 * int32'>, <Array [94, -5] type='2 * int32'>, <Array [5, -5, 94] type='3 * int32'>, <Array [5, -5, 5, -5] type='4 * int32'>, <Array [25, 5, -5] type='3 * int32'>, <Array [11, -11, 25] type='3 * int32'>, <Array [11, -11, 11, -11] type='4 * int32'>, <Array [11, -11, 11, -11] type='4 * int32'>, <Array [11, -11] type='2 * int32'>]\n",
      "\n",
      "\n",
      "\n"
     ]
    }
   ],
   "source": [
    "event = 0\n",
    "start_inds = ak.local_index(pdgids[event])[pdgids[event] == -3122]\n",
    "\n",
    "for n in range(len(start_inds)):\n",
    "    print('status of original particle:',status[event][start_inds[n]])\n",
    "    print(trace_par(event,start_inds[n],all_pdgs=True))\n",
    "    print('\\n\\n')"
   ]
  },
  {
   "cell_type": "code",
   "execution_count": 295,
   "id": "189e00dc",
   "metadata": {
    "scrolled": true
   },
   "outputs": [
    {
     "name": "stdout",
     "output_type": "stream",
     "text": [
      "status of original particle: 2\n",
      "PDG IDs: [-3122]\n",
      "PDG IDs: [-3224]\n",
      "PDG IDs: [92]\n",
      "PDG IDs: [5, 21, 21, 21, -5]\n",
      "PDG IDs: [5, 21, 21, -5, 21]\n",
      "PDG IDs: [5, -5, -5]\n",
      "PDG IDs: [94, -5]\n",
      "PDG IDs: [5, -5, 94]\n",
      "PDG IDs: [5, -5, 5, -5]\n",
      "PDG IDs: [25, 5, -5]\n",
      "PDG IDs: [11, -11, 25]\n",
      "PDG IDs: [11, -11, 11, -11]\n",
      "PDG IDs: [11, -11, 11, -11]\n",
      "PDG IDs: [11, -11]\n",
      "final indices: [0, 1]\n",
      "\n",
      "\n",
      "\n"
     ]
    }
   ],
   "source": [
    "event = 0\n",
    "start_inds = ak.local_index(pdgids[event])[pdgids[event] == -3122]\n",
    "\n",
    "for n in range(len(start_inds)):\n",
    "    print('status of original particle:',status[event][start_inds[n]])\n",
    "    trace_par(event,start_inds[n])\n",
    "    print('\\n\\n')"
   ]
  },
  {
   "cell_type": "code",
   "execution_count": 305,
   "id": "2f96f0bb",
   "metadata": {},
   "outputs": [
    {
     "name": "stdout",
     "output_type": "stream",
     "text": [
      "Λ⁰\r\n"
     ]
    }
   ],
   "source": [
    "! pdgid 3122"
   ]
  },
  {
   "cell_type": "markdown",
   "id": "a04494ad",
   "metadata": {},
   "source": [
    "## Best PDGID Place\n",
    "https://twiki.cern.ch/twiki/pub/Main/ZhuDataProduction/PDG.py.txt"
   ]
  },
  {
   "cell_type": "markdown",
   "id": "0da03d61",
   "metadata": {},
   "source": [
    "## Status Stuff"
   ]
  },
  {
   "cell_type": "markdown",
   "id": "1ee05e52",
   "metadata": {},
   "source": [
    "0 empty line \\\n",
    "1 undecayed particle, stable in the generator \\\n",
    "2 particle decayed in the generator \\\n",
    "3 documentation line \\\n",
    "4 original particles?"
   ]
  },
  {
   "cell_type": "code",
   "execution_count": 5,
   "id": "f252e704",
   "metadata": {},
   "outputs": [
    {
     "data": {
      "text/plain": [
       "(array([ 459385.,       0., 1124226.,       0.,  732607.,       0.,\n",
       "          63848.,       0.,   18800.,       0.]),\n",
       " array([0. , 0.5, 1. , 1.5, 2. , 2.5, 3. , 3.5, 4. , 4.5, 5. ]),\n",
       " <BarContainer object of 10 artists>)"
      ]
     },
     "execution_count": 5,
     "metadata": {},
     "output_type": "execute_result"
    },
    {
     "data": {
      "image/png": "[encoded data removed]",
      "text/plain": [
       "<Figure size 640x480 with 1 Axes>"
      ]
     },
     "metadata": {},
     "output_type": "display_data"
    }
   ],
   "source": [
    "plt.close(1);plt.figure(1)\n",
    "plt.hist(ak.flatten(status),range=(0,5),bins=10,histtype='barstacked')"
   ]
  },
  {
   "cell_type": "markdown",
   "id": "7196fff3",
   "metadata": {},
   "source": [
    "## Tracing Which Particles Come from Higgs"
   ]
  },
  {
   "cell_type": "code",
   "execution_count": 9,
   "id": "a4196f15",
   "metadata": {},
   "outputs": [],
   "source": [
    "def daughter_tree(event,start_ind):\n",
    "    '''\n",
    "    returns list of all daughters \n",
    "    '''\n",
    "    curr_ind = ak.Array([-1])\n",
    "    daugh_ind = ak.Array([start_ind])\n",
    "\n",
    "    ind_lst = []\n",
    "\n",
    "    flag = True\n",
    "\n",
    "    while flag:\n",
    "        curr_ind = daugh_ind\n",
    "\n",
    "        daugh_ind = np.unique(ak.flatten(daugh_inds[event][curr_ind],axis=-1))\n",
    "\n",
    "        ind_lst.append(list(curr_ind))\n",
    "\n",
    "        if len(daugh_ind) == 0:\n",
    "            flag = False \n",
    "\n",
    "    return ind_lst"
   ]
  },
  {
   "cell_type": "code",
   "execution_count": 10,
   "id": "c103f313",
   "metadata": {},
   "outputs": [],
   "source": [
    "def higgs_child(event,start_ind,child_inds):\n",
    "    '''\n",
    "    returns true if higgs in parentage line\n",
    "    '''\n",
    "    inds = ak.flatten(ak.Array(daughter_tree(event,start_ind)))\n",
    "    \n",
    "    return np.isin(child_inds,inds) "
   ]
  },
  {
   "cell_type": "code",
   "execution_count": 11,
   "id": "ab8358e9",
   "metadata": {},
   "outputs": [
    {
     "name": "stdout",
     "output_type": "stream",
     "text": [
      "0\n",
      "1000\n",
      "2000\n",
      "3000\n",
      "4000\n",
      "5000\n",
      "6000\n",
      "7000\n",
      "8000\n",
      "9000\n",
      "CPU times: user 2min 18s, sys: 1.17 s, total: 2min 19s\n",
      "Wall time: 2min 22s\n"
     ]
    }
   ],
   "source": [
    "%%time\n",
    "higgs_daughter_tree = []\n",
    "\n",
    "for event in range(9400):\n",
    "    start_ind = ak.local_index(pdgids[event])[pdgids[event] == 25][0]\n",
    "    \n",
    "    higgs_daughter_tree.append(daughter_tree(event,start_ind))\n",
    "    \n",
    "    if event % 1000 == 0:\n",
    "        print(event)"
   ]
  },
  {
   "cell_type": "code",
   "execution_count": 8,
   "id": "55a0f3b3",
   "metadata": {},
   "outputs": [
    {
     "name": "stdout",
     "output_type": "stream",
     "text": [
      "0\n",
      "1000\n",
      "2000\n",
      "3000\n",
      "4000\n",
      "5000\n",
      "6000\n",
      "7000\n",
      "8000\n",
      "9000\n",
      "CPU times: user 5min 32s, sys: 5.05 s, total: 5min 37s\n",
      "Wall time: 9min 57s\n"
     ]
    }
   ],
   "source": [
    "%%time\n",
    "is_higgs_child = []\n",
    "\n",
    "for event in range(9400):\n",
    "    start_ind = ak.local_index(pdgids[event])[pdgids[event] == 25][0]\n",
    "    child_inds = ak.local_index(status[event])[status[event] == 1]\n",
    "\n",
    "    is_higgs_child.append(higgs_child(event,start_ind,child_inds))\n",
    "    \n",
    "    if event % 1000 == 0:\n",
    "        print(event)"
   ]
  },
  {
   "cell_type": "code",
   "execution_count": 12,
   "id": "476e5fee",
   "metadata": {},
   "outputs": [],
   "source": [
    "higgs_child_arr = ak.Array(is_higgs_child)"
   ]
  },
  {
   "cell_type": "code",
   "execution_count": 19,
   "id": "faf8eea8",
   "metadata": {},
   "outputs": [
    {
     "data": {
      "text/plain": [
       "0.4480656024678312"
      ]
     },
     "execution_count": 19,
     "metadata": {},
     "output_type": "execute_result"
    }
   ],
   "source": [
    "ak.count(ak.local_index(ak.flatten(higgs_child_arr))[ak.flatten(higgs_child_arr)])/ak.count(ak.flatten(higgs_child_arr))\n"
   ]
  },
  {
   "cell_type": "code",
   "execution_count": 12,
   "id": "724639a5",
   "metadata": {},
   "outputs": [],
   "source": [
    "higgs_daughter_tree_arr = ak.Array(higgs_daughter_tree)"
   ]
  },
  {
   "cell_type": "markdown",
   "id": "a0ca1738",
   "metadata": {},
   "source": [
    "## Pions that come from higgs"
   ]
  },
  {
   "cell_type": "code",
   "execution_count": 83,
   "id": "6909d49c",
   "metadata": {},
   "outputs": [
    {
     "name": "stdout",
     "output_type": "stream",
     "text": [
      "0\n",
      "1000\n",
      "2000\n",
      "3000\n",
      "4000\n",
      "5000\n",
      "6000\n",
      "7000\n",
      "8000\n",
      "9000\n",
      "CPU times: user 8.51 s, sys: 265 ms, total: 8.78 s\n",
      "Wall time: 10 s\n"
     ]
    }
   ],
   "source": [
    "%%time\n",
    "pions = ak.local_index(pdgids)[(pdgids == 211) | (pdgids == -211)]\n",
    "pion_true = []\n",
    "\n",
    "for event in range(len(higgs_daughter_tree_arr)):\n",
    "    pion_true.append(np.isin(pions[event],ak.flatten(higgs_daughter_tree_arr[event])))\n",
    "    \n",
    "    if event % 1000 == 0:\n",
    "        print(event)"
   ]
  },
  {
   "cell_type": "code",
   "execution_count": 84,
   "id": "0dab7870",
   "metadata": {},
   "outputs": [],
   "source": [
    "pion_truea = ak.Array(pion_true)"
   ]
  },
  {
   "cell_type": "code",
   "execution_count": 85,
   "id": "8082a2fc",
   "metadata": {},
   "outputs": [
    {
     "data": {
      "text/plain": [
       "0.8161616383894843"
      ]
     },
     "execution_count": 85,
     "metadata": {},
     "output_type": "execute_result"
    }
   ],
   "source": [
    "ak.count(ak.local_index(ak.flatten(pion_truea))[ak.flatten(pion_truea)])/ak.count(ak.flatten(pion_truea))\n"
   ]
  },
  {
   "cell_type": "markdown",
   "id": "7d62adf1",
   "metadata": {},
   "source": [
    "## Particles that come from higgs"
   ]
  },
  {
   "cell_type": "code",
   "execution_count": 88,
   "id": "4f3eb4d2",
   "metadata": {},
   "outputs": [
    {
     "name": "stdout",
     "output_type": "stream",
     "text": [
      "0\n",
      "1000\n",
      "2000\n",
      "3000\n",
      "4000\n",
      "5000\n",
      "6000\n",
      "7000\n",
      "8000\n",
      "9000\n",
      "CPU times: user 9.45 s, sys: 950 ms, total: 10.4 s\n",
      "Wall time: 12 s\n"
     ]
    }
   ],
   "source": [
    "%%time\n",
    "particles = ak.local_index(pdgids)[((pdgids == 11) | (pdgids == -11)) & (status == 1)]\n",
    "particle_true = []\n",
    "\n",
    "for event in range(len(higgs_daughter_tree_arr)):\n",
    "    particle_true.append(np.isin(particles[event],ak.flatten(higgs_daughter_tree_arr[event])))\n",
    "    \n",
    "    if event % 1000 == 0:\n",
    "        print(event)"
   ]
  },
  {
   "cell_type": "code",
   "execution_count": 91,
   "id": "f6b79d82",
   "metadata": {},
   "outputs": [],
   "source": [
    "particle_truea = ak.Array(particle_true)"
   ]
  },
  {
   "cell_type": "code",
   "execution_count": 142,
   "id": "8575ebc0",
   "metadata": {},
   "outputs": [
    {
     "data": {
      "text/plain": [
       "125.630196"
      ]
     },
     "execution_count": 142,
     "metadata": {},
     "output_type": "execute_result"
    }
   ],
   "source": [
    "elec_p[7021][3]"
   ]
  },
  {
   "cell_type": "code",
   "execution_count": 150,
   "id": "a882a020",
   "metadata": {},
   "outputs": [
    {
     "data": {
      "text/plain": [
       "11"
      ]
     },
     "execution_count": 150,
     "metadata": {},
     "output_type": "execute_result"
    }
   ],
   "source": [
    "pdgids[7021][216]"
   ]
  },
  {
   "cell_type": "code",
   "execution_count": 153,
   "id": "cd4fb77f",
   "metadata": {},
   "outputs": [
    {
     "name": "stdout",
     "output_type": "stream",
     "text": [
      "PDG IDs: [11]\n",
      "PDG IDs: [22, 11]\n",
      "PDG IDs: [-11, -11]\n",
      "final indices: [234, 241]\n"
     ]
    }
   ],
   "source": [
    "trace_par(7021,216)"
   ]
  },
  {
   "cell_type": "code",
   "execution_count": 119,
   "id": "a19fdea6",
   "metadata": {},
   "outputs": [
    {
     "data": {
      "text/html": [
       "<pre>[2,\n",
       " 5,\n",
       " 11,\n",
       " 13,\n",
       " 16,\n",
       " 19,\n",
       " 21,\n",
       " 25,\n",
       " 26,\n",
       " 27,\n",
       " ...,\n",
       " 9387,\n",
       " 9388,\n",
       " 9390,\n",
       " 9391,\n",
       " 9392,\n",
       " 9394,\n",
       " 9395,\n",
       " 9396,\n",
       " 9399]\n",
       "-------------------\n",
       "type: 3926 * ?int64</pre>"
      ],
      "text/plain": [
       "<Array [2, 5, 11, 13, 16, ..., 9394, 9395, 9396, 9399] type='3926 * ?int64'>"
      ]
     },
     "execution_count": 119,
     "metadata": {},
     "output_type": "execute_result"
    }
   ],
   "source": [
    "ak.local_index(ak.local_index(particle_truea)[particle_truea],axis=0)[ak.firsts(ak.fill_none(ak.pad_none(ak.local_index(particle_truea)[particle_truea],1),-1)) != -1]\n"
   ]
  },
  {
   "cell_type": "code",
   "execution_count": 92,
   "id": "3fb4fbcb",
   "metadata": {},
   "outputs": [
    {
     "data": {
      "text/plain": [
       "0.012663475059131438"
      ]
     },
     "execution_count": 92,
     "metadata": {},
     "output_type": "execute_result"
    }
   ],
   "source": [
    "ak.count(ak.local_index(ak.flatten(particle_truea))[ak.flatten(particle_truea)])/ak.count(ak.flatten(particle_truea))\n"
   ]
  },
  {
   "cell_type": "markdown",
   "id": "f30a1b3d",
   "metadata": {},
   "source": [
    "80% of pions come from higgs \\\n",
    "67% of photons \\\n",
    "10% of electons \\\n",
    "78% of status 1 particles that are not electrons or positrons"
   ]
  },
  {
   "cell_type": "markdown",
   "id": "c5438a46",
   "metadata": {},
   "source": [
    "#### What's the momentum of the particles that don't come from higgs?"
   ]
  },
  {
   "cell_type": "code",
   "execution_count": 86,
   "id": "ec697df1",
   "metadata": {},
   "outputs": [],
   "source": [
    "pion_p = momentum[(pdgids == 211) | (pdgids == -211)]"
   ]
  },
  {
   "cell_type": "code",
   "execution_count": 155,
   "id": "410b594c",
   "metadata": {},
   "outputs": [
    {
     "data": {
      "text/plain": [
       "<matplotlib.legend.Legend at 0x7fd3997879a0>"
      ]
     },
     "execution_count": 155,
     "metadata": {},
     "output_type": "execute_result"
    },
    {
     "data": {
      "image/png": "[encoded data removed]",
      "text/plain": [
       "<Figure size 640x480 with 1 Axes>"
      ]
     },
     "metadata": {},
     "output_type": "display_data"
    }
   ],
   "source": [
    "pi_higgs = pion_p[pion_truea]\n",
    "pi_nohiggs = pion_p[pion_truea != True]\n",
    "\n",
    "nbins = 300\n",
    "mini = 0\n",
    "maxi = 20\n",
    "# maxi = np.max([np.max(pi_higgs),np.max(pi_nohiggs)])\n",
    "\n",
    "ifig=1;plt.close(ifig);plt.figure(ifig)\n",
    "plt.hist(ak.flatten(pi_higgs),bins=nbins,histtype='step',range=(mini,maxi),density=True,label='$\\pi^+$ from higgs')\n",
    "plt.hist(ak.flatten(pi_nohiggs),bins=nbins,histtype='step',range=(mini,maxi),density=True,label='$\\pi^+$ not from higgs')\n",
    "\n",
    "plt.xlabel('$p$ [GeV]')\n",
    "plt.ylabel('normalized counts')\n",
    "plt.legend()"
   ]
  },
  {
   "cell_type": "code",
   "execution_count": 93,
   "id": "06d17ec2",
   "metadata": {},
   "outputs": [],
   "source": [
    "elec_p = momentum[((pdgids == 11) | (pdgids == -11)) & (status == 1)]"
   ]
  },
  {
   "cell_type": "code",
   "execution_count": 156,
   "id": "a4ab9f1f",
   "metadata": {},
   "outputs": [
    {
     "data": {
      "text/plain": [
       "<matplotlib.legend.Legend at 0x7fd3b6a646d0>"
      ]
     },
     "execution_count": 156,
     "metadata": {},
     "output_type": "execute_result"
    },
    {
     "data": {
      "image/png": "[encoded data removed]",
      "text/plain": [
       "<Figure size 640x480 with 1 Axes>"
      ]
     },
     "metadata": {},
     "output_type": "display_data"
    }
   ],
   "source": [
    "e_higgs = elec_p[particle_truea]\n",
    "e_nohiggs = elec_p[particle_truea != True]\n",
    "\n",
    "nbins = 300\n",
    "mini = 0\n",
    "# maxi = 20\n",
    "maxi = np.max([np.max(e_higgs),np.max(e_nohiggs)])\n",
    "\n",
    "ifig=1;plt.close(ifig);plt.figure(ifig)\n",
    "plt.hist(ak.flatten(e_higgs),bins=nbins,histtype='step',range=(mini,maxi),density=True,label='$e^+$ and $e^-$ from higgs')\n",
    "plt.hist(ak.flatten(e_nohiggs),bins=nbins,histtype='step',range=(mini,maxi),density=True,label='$e^+$ and $e^-$ not from higgs')\n",
    "\n",
    "plt.xlabel('$p$ [GeV]')\n",
    "plt.ylabel('normalized counts')\n",
    "plt.legend()"
   ]
  },
  {
   "cell_type": "markdown",
   "id": "3a232dbe",
   "metadata": {},
   "source": [
    "What if I look at the invariant mass of pion pairs?"
   ]
  }
 ],
 "metadata": {
  "kernelspec": {
   "display_name": "Python 3 (ipykernel)",
   "language": "python",
   "name": "python3"
  },
  "language_info": {
   "codemirror_mode": {
    "name": "ipython",
    "version": 3
   },
   "file_extension": ".py",
   "mimetype": "text/x-python",
   "name": "python",
   "nbconvert_exporter": "python",
   "pygments_lexer": "ipython3",
   "version": "3.10.9"
  }
 },
 "nbformat": 4,
 "nbformat_minor": 5
}
